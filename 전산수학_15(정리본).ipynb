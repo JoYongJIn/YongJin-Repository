{
  "nbformat": 4,
  "nbformat_minor": 0,
  "metadata": {
    "colab": {
      "provenance": [],
      "authorship_tag": "ABX9TyMCTpNvNmZaNj23aD3Yv2op",
      "include_colab_link": true
    },
    "kernelspec": {
      "name": "python3",
      "display_name": "Python 3"
    },
    "language_info": {
      "name": "python"
    }
  },
  "cells": [
    {
      "cell_type": "markdown",
      "metadata": {
        "id": "view-in-github",
        "colab_type": "text"
      },
      "source": [
        "<a href=\"https://colab.research.google.com/github/JoYongJIn/YongJin-Repository/blob/main/%EC%A0%84%EC%82%B0%EC%88%98%ED%95%99_15(%EC%A0%95%EB%A6%AC%EB%B3%B8).ipynb\" target=\"_parent\"><img src=\"https://colab.research.google.com/assets/colab-badge.svg\" alt=\"Open In Colab\"/></a>"
      ]
    },
    {
      "cell_type": "code",
      "source": [
        "'''\n",
        "=============================\n",
        "class\n",
        "=============================\n",
        "## 용어정리\n",
        "# 객체(object) 속성을 가질 수 있는 모든 것\n",
        "# 클래스(class) 객체를 쉽고 편리하게 생성하기 위해 만들어진 구문\n",
        "# 인스턴스 (instance) 클래스를 기반으로 생성한 객체\n",
        "# 생성자(constructor) 클래스 이름과 같은 인스턴스를 생성할 때 사용하는 함수\n",
        "# 메소드(method) 클래스가 가진 함수\n",
        "'''"
      ],
      "metadata": {
        "id": "DNeKf4-SBxWB"
      },
      "execution_count": null,
      "outputs": []
    },
    {
      "cell_type": "code",
      "source": [
        "'''\n",
        "#이런 용어들은 객체 지향 프로그래밍(Object-Oriented Programming, OOP)에서 중요한 개념들입니다.\n",
        "\n",
        "#객체(Object): 객체는 속성(변수)과 행동(메소드)을 갖는 데이터 구조입니다.\n",
        "Python에서는 모든 것이 객체로 간주됩니다. 예를 들어, 리스트, 문자열, 숫자, 함수 등도 모두 객체입니다.\n",
        "\n",
        "#클래스(Class): 클래스는 객체를 만드는 템플릿 또는 설계도입니다.\n",
        "클래스는 객체가 가져야 할 상태(변수)와 행동(메소드)을 정의합니다. 예를 들어, '자동차'라는 클래스가 있을 때,\n",
        "'색상', '브랜드', '속도' 등의 상태와 '주행', '가속', '정지' 등의 행동을 정의할 수 있습니다.\n",
        "\n",
        "#인스턴스(Instance): 인스턴스는 특정 클래스를 바탕으로 생성된 객체를 의미합니다.\n",
        "예를 들어, '자동차' 클래스를 바탕으로 만들어진 '제임스의 빨간색 페라리' 객체는 '자동차' 클래스의 인스턴스입니다.\n",
        "\n",
        "#생성자(Constructor): 생성자는 클래스의 인스턴스를 생성할 때 호출되는 특별한 메소드입니다.\n",
        "Python에서는 __init__ 메소드가 생성자 역할을 합니다. 이 메소드는 인스턴스가 생성될 때 자동으로 호출되며,\n",
        "인스턴스의 초기 상태를 설정하는데 주로 사용됩니다.\n",
        "\n",
        "#메소드(Method): 메소드는 클래스 내에 정의된 함수를 의미합니다.\n",
        "이는 해당 클래스의 인스턴스가 수행할 수 있는 행동을 정의합니다.\n",
        "메소드는 클래스나 인스턴스의 상태를 읽거나 변경하는데 사용될 수 있습니다.\n",
        "이런 개념들을 사용하면, 데이터와 함수를 하나의 '객체'로 묶어서 관리할 수 있습니다.\n",
        "이는 코드의 재사용성과 유지 보수성을 높이며, 더 복잡한 프로그램을 만드는데 도움을 줍니다."
      ],
      "metadata": {
        "id": "f3xvYcYDMxD4"
      },
      "execution_count": null,
      "outputs": []
    },
    {
      "cell_type": "code",
      "execution_count": null,
      "metadata": {
        "id": "YuOfbm8VblSm"
      },
      "outputs": [],
      "source": [
        "# 하나의 계산기\n",
        "result = 0\n",
        "def add(num):\n",
        "  global result\n",
        "  result +=num\n",
        "  return result\n",
        "print(add(3)) # 3\n",
        "print(add(4)) # 7 (앞의 영향을 받음)"
      ]
    },
    {
      "cell_type": "code",
      "source": [
        "# 두 개의 계산기\n",
        "result1 = 0\n",
        "def add1(num):\n",
        "  global result\n",
        "  result1 +=num\n",
        "  return result1\n",
        "\n",
        "result2 = 0\n",
        "def add2(num):\n",
        "  global result\n",
        "  result2 +=num\n",
        "  return result2\n",
        "\n",
        "print(add1(3)) # 3\n",
        "print(add1(4)) # 7\n",
        "print(add2(3)) # 3\n",
        "print(add2(7)) # 10\n",
        "print()"
      ],
      "metadata": {
        "id": "hOTa3PHsb7As"
      },
      "execution_count": null,
      "outputs": []
    },
    {
      "cell_type": "code",
      "source": [
        "'''\n",
        "#self는 클래스의 메소드에서 사용되는 첫 번째 매개변수이며, 현재 메소드가 호출되는 객체 인스턴스를 참조하는 데\n",
        "사용됩니다. 다시 말해, self는 객체 자신을 가리킵니다.\n",
        "\n",
        "클래스의 메소드 내에서 self는 인스턴스의 속성(attribute)이나 다른 메소드에 접근할 수 있게 합니다.\n",
        "이는 클래스 내부에서 이 인스턴스에 대한 참조를 유지하려는 목적으로 사용됩니다.\n"
      ],
      "metadata": {
        "id": "6wRn-RFJjxiF"
      },
      "execution_count": null,
      "outputs": []
    },
    {
      "cell_type": "code",
      "source": [
        "# class:과자틀, object(객체): 과자\n",
        "# class => 두개의 계산기 생성 가능\n",
        "#===================================\n",
        "class Calculator:\n",
        "\n",
        "  def __init__(self): #class를 만들어내는 생성자라고한다.\n",
        "    self.result = 0\n",
        "\n",
        "  def add(self, num):#self가 중요하다\n",
        "    self.result += num\n",
        "    return self.result\n",
        "\n",
        "a = Calculator() #객체 or 인스턴스라고한다\n",
        "print(a.add(2)) # a=self, 2=num이된다.\n",
        "print(a.add(3))\n",
        "print()\n",
        "\n",
        "b = Calculator() #객체 or 인스턴스라고한다\n",
        "print(b.add(3)) # b=self, 3=num이된다.\n",
        "print(b.add(4))\n",
        "print()"
      ],
      "metadata": {
        "id": "PeA28CfrhdUw"
      },
      "execution_count": null,
      "outputs": []
    },
    {
      "cell_type": "code",
      "source": [
        "#==================================\n",
        "## class 구조 만들기\n",
        "#===================================\n",
        "# 객체 생산\n",
        "class FourCal:\n",
        "  def setdata(self, first, second):\n",
        "    self.first = first\n",
        "    self.second = second\n",
        "  def add(self):\n",
        "    result = self.first + self.second\n",
        "    return result\n",
        "  def mul(self):\n",
        "    result = self.first * self.second\n",
        "    return result\n",
        "  def div(self):\n",
        "    result = self.first / self.second\n",
        "    return result\n",
        "  def sub(self):\n",
        "    result = self.first - self.second\n",
        "    return result\n",
        "a = FourCal()\n",
        "a.setdata(1,2) #a.first =1, a.second =2\n",
        "print(a.add())\n",
        "print(a.mul())\n",
        "print(a.div())\n",
        "print(a.sub())\n",
        "\n",
        "b = FourCal()\n",
        "b.setdata(3,4) #b.first = 3, b.second =4\n",
        "print(b.add())\n",
        "print(b.mul())\n",
        "print(b.div())\n",
        "print(b.sub())\n",
        "print()"
      ],
      "metadata": {
        "id": "OQBylfPWb7GT"
      },
      "execution_count": null,
      "outputs": []
    },
    {
      "cell_type": "code",
      "source": [
        "#==============================\n",
        "## 생성자(constructor) 만들기\n",
        "#==============================\n",
        "# setdata 메서드를 수행하지 않으면 error 발생\n",
        "# b=FourCal()\n",
        "# b.add()\n",
        "\n",
        "# 생성자: 객체가 생성될 때 자동으로 호출되는 메서드 (초깃값 설정)\n",
        "class FourCal:\n",
        "  def __init__(self, first, second): #setdata 만 init으로 이름만 바꾸면된다.\n",
        "    self.first = first\n",
        "    self.second = second\n",
        "  def add(self):\n",
        "    result = self.first + self.second\n",
        "    return result\n",
        "  def mul(self):\n",
        "    result = self.first * self.second\n",
        "    return result\n",
        "  def div(self):\n",
        "    result = self.first / self.second\n",
        "    return result\n",
        "  def sub(self):\n",
        "    result = self.first - self.second\n",
        "    return result\n",
        "\n",
        "a = FourCal(4,2) # a.first=4, a.second=2 #위에는 실행이 번거로웠지만 이닛으로 바꾸고 간편해짐\n",
        "print(a.add())\n",
        "print(a.mul())\n",
        "print(a.div())\n",
        "print(a.sub())\n",
        "\n",
        "\n",
        "#a= FourCal() # error 발생, first, second의 초깃값이 없으므로"
      ],
      "metadata": {
        "id": "U4gTEG-ql-KL"
      },
      "execution_count": null,
      "outputs": []
    },
    {
      "cell_type": "code",
      "source": [
        "# Exercise===========================\n",
        "class Person:\n",
        "  def __init__(self, name, gender, age):\n",
        "    self.name = name\n",
        "    self.gender = gender\n",
        "    self.age = age\n",
        "  def introduce(self):\n",
        "    result1 = f'{self.name}은 {self.gender}이고 {self.age}살입니다'\n",
        "    result2 = '{}은 {}이고 {}살입니다'.format(self.name,self.gender,self.age)\n",
        "    return result1, result2\n",
        "\n",
        "a = Person('홍길동', '남성', 21)\n",
        "print(a.introduce()) # '홍길동은 남자이고 21살입니다'"
      ],
      "metadata": {
        "id": "8I9nAqeYb7Lu"
      },
      "execution_count": null,
      "outputs": []
    },
    {
      "cell_type": "code",
      "source": [
        "##변수가 여러개일떄\n",
        "class Person:\n",
        "  def __init__(self, *args):\n",
        "    self.name = args[0]\n",
        "    self.gender = args[1]\n",
        "    self.age = args[2]\n",
        "  def introduce(self):\n",
        "    print(f'{self.name}은 {self.gender}이고 {self.age}살입니다')\n",
        "\n",
        "a = Person(*['홍길동', '남성', 21])\n",
        "a.introduce()\n",
        "a = Person('홍길동', '남성', 21)\n",
        "a.introduce()"
      ],
      "metadata": {
        "id": "OGkSe6w5ko35"
      },
      "execution_count": null,
      "outputs": []
    },
    {
      "cell_type": "code",
      "source": [
        "#특정 인스턴스(객체)에만 속성 추가\n",
        "class Person:\n",
        "  def __init__(self, *args):\n",
        "    self.name = args[0]\n",
        "    self.gender = args[1]\n",
        "    self.age = args[2]\n",
        "  def introduce(self):\n",
        "    print(f'{self.name}은 {self.gender}이고 {self.age}살입니다')\n",
        "\n",
        "a = Person(*['홍길동', '남성', 21]) #객체(인스턴스)\n",
        "b = Person(*['홍길순', '여자', 20]) #객체(인스턴스)\n",
        "\n",
        "a.job ='가수'\n",
        "print(a.job) #어떤개체에만 속성을 추가하는법\n",
        "# print(b.job) Error발생 b에는 job이라는 속성이 없기때문에\n",
        "\n",
        "a.age += 1\n",
        "print(a.job)"
      ],
      "metadata": {
        "colab": {
          "base_uri": "https://localhost:8080/"
        },
        "id": "ASH6OBQglXWh",
        "outputId": "6bb61650-3f06-468a-8c3d-2566cf359e29"
      },
      "execution_count": null,
      "outputs": [
        {
          "output_type": "stream",
          "name": "stdout",
          "text": [
            "가수\n",
            "가수\n"
          ]
        }
      ]
    },
    {
      "cell_type": "code",
      "source": [
        "# 비공개 속성, 메서드 (private attribute)\n",
        "class Person:\n",
        "  def __init__(self, name, gender, age, height):\n",
        "    self.name = name\n",
        "    self.gender = gender\n",
        "    self.age = age\n",
        "    self.__height = height #바꾸고 싶지않은 변수나함수는 이렇게 언더바하면된다.\n",
        "  def introduce(self):\n",
        "    print(f'{self.name}은 {self.gender}이고 {self.age}살이고 키는 {self.__height}입니다')\n",
        "\n",
        "a = Person('홍길동', '남자', 21, 180)\n",
        "a.age += 1\n",
        "print(a.age)\n",
        "a.introduce()\n",
        "\n",
        "a.__height = 170\n",
        "print(a.__height)\n",
        "a.introduce()"
      ],
      "metadata": {
        "colab": {
          "base_uri": "https://localhost:8080/"
        },
        "id": "GfMT3h8iouM0",
        "outputId": "6723509d-1ee2-4377-ddd4-e160513eff0d"
      },
      "execution_count": null,
      "outputs": [
        {
          "output_type": "stream",
          "name": "stdout",
          "text": [
            "22\n",
            "홍길동은 남자이고 22살이고 키는 180입니다\n",
            "170\n",
            "홍길동은 남자이고 22살이고 키는 180입니다\n"
          ]
        }
      ]
    },
    {
      "cell_type": "code",
      "source": [
        "class Person:\n",
        "  def __init__(self, name, gender, age, height):\n",
        "    self.name = name\n",
        "    self.gender = gender\n",
        "    self.age = age\n",
        "    self.__height = height\n",
        "\n",
        "  def __hi(self): #비공개 매서드(클래스 안에있는 함수) 만들기\n",
        "    print('say hi')\n",
        "\n",
        "  def hello(self): #비공개함수 바깥에서 실해안되어서 안에서함\n",
        "    self.__hi()\n",
        "\n",
        "a = Person('홍길동', '남자', 21, 180)\n",
        "a.hello()\n",
        "\n",
        "#a.__hi() #Error 발생!!"
      ],
      "metadata": {
        "colab": {
          "base_uri": "https://localhost:8080/"
        },
        "id": "ln_Fmv_9qzN6",
        "outputId": "19632bbe-85aa-4082-c91e-11dac48791c0"
      },
      "execution_count": null,
      "outputs": [
        {
          "output_type": "stream",
          "name": "stdout",
          "text": [
            "say hi\n"
          ]
        }
      ]
    },
    {
      "cell_type": "code",
      "source": [
        "# 클래스 변수(객체와는 상관없이 똑같다) vs  객체(인스턴스) 변수\n",
        "class Person:\n",
        "  school = '가나고등학교' #클래스변수는 두개가 똑같아서 똑같이 출력되었다 인스턴스 변수는 서로다르다.\n",
        "  def __init__(self, name, gender, age, height):\n",
        "    self.name = name\n",
        "    self.gender = gender\n",
        "    self.age = age\n",
        "    self.__height = height #바꾸고 싶지않은 변수나함수는 이렇게 언더바하면된다.\n",
        "  def introduce(self):\n",
        "    print(f'{self.name}은 {self.gender}이고 {self.age}살이고 키는 {self.__height}입니다')\n",
        "\n",
        "a = Person('홍길동', '남자', 18, 180) # ()안은 객체변수 객체가 변할떄마다 변한다.\n",
        "print(a.school)#클래스변수\n",
        "\n",
        "b = Person('홍길동', '여자', 18, 160)\n",
        "print(b.school)\n",
        "\n",
        "#클래스변수 변경================\n",
        "Person.school = '다라고등학교' #클래스변수바꾸기\n",
        "print(a.school)\n",
        "print(b.school)"
      ],
      "metadata": {
        "colab": {
          "base_uri": "https://localhost:8080/"
        },
        "id": "eJhC9QVsqrei",
        "outputId": "eb16194a-18f7-400b-a0a4-c1d462aa8e18"
      },
      "execution_count": null,
      "outputs": [
        {
          "output_type": "stream",
          "name": "stdout",
          "text": [
            "가나고등학교\n",
            "가나고등학교\n",
            "다라고등학교\n",
            "다라고등학교\n"
          ]
        }
      ]
    },
    {
      "cell_type": "code",
      "source": [
        "#================================\n",
        "## 클래스의 상속:\n",
        "## 기존 클래스를 변경하지 않고 기능을 추가하거나 기존 기능을 변경하고자 할때 사용\n",
        "# 상속을 해주는 클래스 : 기반클래스(base class) or 부모클래스\n",
        "# 상속을 받는 클래스 : 파생클래스(derived class) or 자식클래스\n",
        "#================================"
      ],
      "metadata": {
        "id": "tzgdK7PVmVHK"
      },
      "execution_count": null,
      "outputs": []
    },
    {
      "cell_type": "code",
      "source": [
        "# 클래스의 상속\n",
        "class FourCal:\n",
        "  def __init__(self, first, second):\n",
        "    self.first = first\n",
        "    self.second = second\n",
        "  def add(self):\n",
        "    result = self.first + self.second\n",
        "    return result\n",
        "  def mul(self):\n",
        "    result = self.first * self.second\n",
        "    return result\n",
        "  def div(self):\n",
        "    result = self.first / self.second\n",
        "    return result\n",
        "  def sub(self):\n",
        "    result = self.first - self.second\n",
        "    return result\n",
        "\n",
        "class MoreFourCal(FourCal): #자식클래스 (상속받음)\n",
        "  pass\n",
        "\n",
        "a = MoreFourCal(4,2)\n",
        "print(a.add())\n",
        "print(a.mul()) #안에있는 함수실행"
      ],
      "metadata": {
        "id": "PYICI1JDtKok"
      },
      "execution_count": null,
      "outputs": []
    },
    {
      "cell_type": "code",
      "source": [
        "# 기능 추가\n",
        "class MoreFourCal(FourCal): #자식클래스\n",
        "  def pow(self):\n",
        "    result = self.first ** self.second\n",
        "    return result\n",
        "\n",
        "a = MoreFourCal(4,2)\n",
        "print(a.pow())\n",
        "\n",
        "#b = FourCal(4,2)\n",
        "#print(b.pow()) #Error발생(부모클래스에는 pow 함수가 없기떄문)"
      ],
      "metadata": {
        "id": "q3JKxRGWuSKP"
      },
      "execution_count": null,
      "outputs": []
    },
    {
      "cell_type": "code",
      "source": [
        "# 기존기능 변경\n",
        "class SafeFourCal(FourCal): #자식클래스는 여러개 있어도 된다\n",
        "  def div(self):\n",
        "    if self.second ==0:\n",
        "      return 0\n",
        "    else:\n",
        "      result = self.first / self.second\n",
        "      return result\n",
        "\n",
        "a = SafeFourCal(4,0)\n",
        "print(a.div())\n",
        "\n",
        "#b = FourCal(4,0) #기능이 변경되지않은 부모클래스 실행했기떄문에 오류뜬다 (0으로 나누어서)\n",
        "#print(b.div()) #division by zero"
      ],
      "metadata": {
        "id": "1QuY4oZvuSMM"
      },
      "execution_count": null,
      "outputs": []
    },
    {
      "cell_type": "code",
      "source": [
        "#예제===================================\n",
        "class Family: # 부모클래스\n",
        "  def __init__(self):\n",
        "    self.lastname = '홍'\n",
        "\n",
        "  def lname(self):\n",
        "    print(f'성은 {self.lastname}입니다.')\n",
        "\n",
        "class Person(Family): # 자식클래스 이름 만들고 부모클래스꺼 다가져옴\n",
        "  def __init__(self):\n",
        "    self.firstname = '길동'\n",
        "    super().__init__() #를 해주어야 부모클래스의 init함수를 가져온다는 것이고 그래야 lastname을 못받았는다는 오류가 안생긴다.\n",
        "  def fname(self):\n",
        "    print(f'이름은 {self.firstname}입니다.')\n",
        "\n",
        "a = Family() #부모꺼는 자식꺼안되어서 이름은 안나옴\n",
        "b = Person()\n",
        "b.lname()\n",
        "b.fname()\n",
        "\n"
      ],
      "metadata": {
        "id": "cyGl52PFv98H"
      },
      "execution_count": null,
      "outputs": []
    },
    {
      "cell_type": "code",
      "source": [
        "#예제===================================\n",
        "class Family: # 부모클래스\n",
        "  def __init__(self):\n",
        "    self.lastname = '홍'\n",
        "\n",
        "  def lname(self):\n",
        "    print(f'성은 {self.lastname}입니다.')\n",
        "\n",
        "class Person(Family): # 자식클래스 이름 만들고 부모클래스꺼 다가져옴\n",
        "\n",
        "  firstname = '길동' # 위와 다르게 이렇게해도 되는 이유 생각해보기\n",
        "\n",
        "  def fname(self):\n",
        "    print(f'이름은 {self.firstname}입니다.')\n",
        "\n",
        "a = Family() #부모꺼는 자식꺼안되어서 이름은 안나옴\n",
        "b = Person() #b=self, b.firstname='길동'\n",
        "b.lname()\n",
        "b.fname()\n"
      ],
      "metadata": {
        "id": "0KnCwpr4v-Hm"
      },
      "execution_count": null,
      "outputs": []
    },
    {
      "cell_type": "code",
      "source": [
        "class Family:\n",
        "  def introduce(self):\n",
        "    print('저희는 가족입니다')\n",
        "# 자식 클래스\n",
        "class Person(Family):\n",
        "  pass\n",
        "\n",
        "a = Family()\n",
        "a.introduce() # 저희는 가족입니다.\n",
        "b = Person()\n",
        "b.introduce() # 저희는 가족입니다."
      ],
      "metadata": {
        "colab": {
          "base_uri": "https://localhost:8080/"
        },
        "id": "UyUNsBP6tKrA",
        "outputId": "67130511-c67b-466b-b1f3-13b091a9ee64"
      },
      "execution_count": null,
      "outputs": [
        {
          "output_type": "stream",
          "name": "stdout",
          "text": [
            "저희는 가족입니다\n",
            "저희는 가족입니다\n"
          ]
        }
      ]
    },
    {
      "cell_type": "code",
      "source": [
        "#이게 메서드 오버라이딩이다 자식클라스가 부모클라스 덮어버리는것\n",
        "# 부모 클래스\n",
        "class Family:\n",
        "  def introduce(self):\n",
        "    print('저희는 가족입니다')\n",
        "\n",
        "# 자식 클래스\n",
        "class Person(Family):\n",
        "  def introduce(self):\n",
        "    print('저는 가족 구성원입니다')\n",
        "\n",
        "a = Family()\n",
        "a.introduce() # 저희는 가족입니다.\n",
        "b = Person()\n",
        "b.introduce()"
      ],
      "metadata": {
        "colab": {
          "base_uri": "https://localhost:8080/"
        },
        "id": "uJhwFAIkm-vG",
        "outputId": "d1aa738a-255f-47df-f464-e9c6a7f725e5"
      },
      "execution_count": null,
      "outputs": [
        {
          "output_type": "stream",
          "name": "stdout",
          "text": [
            "저희는 가족입니다\n",
            "저는 가족 구성원입니다\n"
          ]
        }
      ]
    },
    {
      "cell_type": "code",
      "source": [
        "#해결방법=========================\n",
        "# 부모 클래스\n",
        "class Family:\n",
        "  def introduce(self):\n",
        "    print('저희는 가족입니다')\n",
        "\n",
        "# 자식 클래스\n",
        "class Person(Family):\n",
        "  def introduce(self):\n",
        "    super().introduce() #부모클래스의 introduce 메서드 호출\n",
        "    print('저는 가족 구성원입니다')\n",
        "\n",
        "a = Family() #Family의 객체 = 인스턴스\n",
        "a.introduce() # 저희는 가족입니다.\n",
        "\n",
        "b = Person() #Person의 객체 = 인스턴스\n",
        "b.introduce()"
      ],
      "metadata": {
        "id": "CXvvJBR9n1ts"
      },
      "execution_count": null,
      "outputs": []
    }
  ]
}