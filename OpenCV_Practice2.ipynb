{
 "cells": [
  {
   "cell_type": "code",
   "execution_count": 2,
   "id": "a1e0f76d",
   "metadata": {},
   "outputs": [
    {
     "name": "stdout",
     "output_type": "stream",
     "text": [
      "Collecting PyQt5\n",
      "  Downloading PyQt5-5.15.10-cp37-abi3-macosx_11_0_arm64.whl (6.6 MB)\n",
      "\u001b[2K     \u001b[90m━━━━━━━━━━━━━━━━━━━━━━━━━━━━━━━━━━━━━━━━\u001b[0m \u001b[32m6.6/6.6 MB\u001b[0m \u001b[31m13.6 MB/s\u001b[0m eta \u001b[36m0:00:00\u001b[0m00:01\u001b[0m00:01\u001b[0m\n",
      "\u001b[?25hCollecting PyQt5-sip<13,>=12.13\n",
      "  Downloading PyQt5_sip-12.13.0-cp310-cp310-macosx_10_9_universal2.whl (144 kB)\n",
      "\u001b[2K     \u001b[90m━━━━━━━━━━━━━━━━━━━━━━━━━━━━━━━━━━━━━━━\u001b[0m \u001b[32m144.4/144.4 kB\u001b[0m \u001b[31m1.3 MB/s\u001b[0m eta \u001b[36m0:00:00\u001b[0ma \u001b[36m0:00:01\u001b[0m\n",
      "\u001b[?25hCollecting PyQt5-Qt5>=5.15.2\n",
      "  Downloading PyQt5_Qt5-5.15.12-py3-none-macosx_11_0_arm64.whl (36.7 MB)\n",
      "\u001b[2K     \u001b[90m━━━━━━━━━━━━━━━━━━━━━━━━━━━━━━━━━━━━━━━━\u001b[0m \u001b[32m36.7/36.7 MB\u001b[0m \u001b[31m3.6 MB/s\u001b[0m eta \u001b[36m0:00:00\u001b[0m00:01\u001b[0m00:01\u001b[0m\n",
      "\u001b[?25hInstalling collected packages: PyQt5-Qt5, PyQt5-sip, PyQt5\n",
      "  Attempting uninstall: PyQt5-sip\n",
      "    Found existing installation: PyQt5-sip 12.11.0\n",
      "    Uninstalling PyQt5-sip-12.11.0:\n",
      "\u001b[33m      WARNING: Cannot remove entries from nonexistent file /Users/pc/anaconda3/lib/python3.10/site-packages/easy-install.pth\u001b[0m\u001b[33m\n",
      "\u001b[0m      Successfully uninstalled PyQt5-sip-12.11.0\n",
      "\u001b[31mERROR: pip's dependency resolver does not currently take into account all the packages that are installed. This behaviour is the source of the following dependency conflicts.\n",
      "spyder 5.4.1 requires pyqtwebengine<5.16, which is not installed.\u001b[0m\u001b[31m\n",
      "\u001b[0mSuccessfully installed PyQt5-5.15.10 PyQt5-Qt5-5.15.12 PyQt5-sip-12.13.0\n",
      "Collecting pygame\n",
      "  Downloading pygame-2.5.2-cp310-cp310-macosx_11_0_arm64.whl (12.2 MB)\n",
      "\u001b[2K     \u001b[90m━━━━━━━━━━━━━━━━━━━━━━━━━━━━━━━━━━━━━━━━\u001b[0m \u001b[32m12.2/12.2 MB\u001b[0m \u001b[31m4.1 MB/s\u001b[0m eta \u001b[36m0:00:00\u001b[0m00:01\u001b[0m00:01\u001b[0m\n",
      "\u001b[?25hInstalling collected packages: pygame\n",
      "Successfully installed pygame-2.5.2\n"
     ]
    }
   ],
   "source": [
    "!pip install PyQt5\n",
    "!pip install pygame"
   ]
  },
  {
   "cell_type": "code",
   "execution_count": 1,
   "id": "54f62419",
   "metadata": {},
   "outputs": [
    {
     "name": "stdout",
     "output_type": "stream",
     "text": [
      "pygame 2.5.2 (SDL 2.28.3, Python 3.10.9)\n",
      "Hello from the pygame community. https://www.pygame.org/contribute.html\n"
     ]
    },
    {
     "data": {
      "text/plain": [
       "0"
      ]
     },
     "execution_count": 1,
     "metadata": {},
     "output_type": "execute_result"
    }
   ],
   "source": [
    "from PyQt5.QtWidgets import *\n",
    "import sys\n",
    "import pygame\n",
    "\n",
    "class BeepSound(QMainWindow):\n",
    "    def __init__(self):\n",
    "        super().__init__()\n",
    "        self.setWindowTitle('삑 소리 내기')\n",
    "        self.setGeometry(200, 200, 500, 100)\n",
    "\n",
    "        shortBeepButton = QPushButton('짧게 삑', self)\n",
    "        longBeepButton = QPushButton('길게 삑', self)\n",
    "        quitButton = QPushButton('나가기', self)\n",
    "        self.label = QLabel('환영합니다!', self)\n",
    "\n",
    "        shortBeepButton.setGeometry(10, 10, 100, 30)\n",
    "        longBeepButton.setGeometry(110, 10, 100, 30)\n",
    "        quitButton.setGeometry(210, 10, 100, 30)\n",
    "        self.label.setGeometry(10, 40, 480, 50)\n",
    "\n",
    "        shortBeepButton.clicked.connect(self.shortBeepFunction)\n",
    "        longBeepButton.clicked.connect(self.longBeepFunction)\n",
    "        quitButton.clicked.connect(self.quitFunction)\n",
    "\n",
    "    def shortBeepFunction(self):\n",
    "        self.label.setText('0.5초 동안 삑 소리를 냅니다.')\n",
    "        self.playSound(500)  # 0.5초 동안 소리 재생\n",
    "\n",
    "    def longBeepFunction(self):\n",
    "        self.label.setText('3초 동안 삑 소리를 냅니다.')\n",
    "        self.playSound(3000)  # 3초 동안 소리 재생\n",
    "\n",
    "    def quitFunction(self):\n",
    "        self.close()\n",
    "\n",
    "    def playSound(self, duration):\n",
    "        pygame.init()\n",
    "        pygame.mixer.init()\n",
    "        sound = pygame.mixer.Sound('beep-08.wav')  # 사운드 파일 경로\n",
    "        sound.play()\n",
    "        pygame.time.wait(duration)\n",
    "        pygame.quit()\n",
    "\n",
    "app = QApplication(sys.argv)\n",
    "win = BeepSound()\n",
    "win.show()\n",
    "app.exec_()\n",
    "\n",
    "# colab환경에서는 작동하지않고 로컬컴퓨터환경(주피터노트북)에서 작동합니다."
   ]
  },
  {
   "cell_type": "code",
   "execution_count": 2,
   "id": "60f6c566",
   "metadata": {},
   "outputs": [
    {
     "name": "stdout",
     "output_type": "stream",
     "text": [
      "파일이 존재하지 않습니다: beep-07.wav\n"
     ]
    }
   ],
   "source": [
    "import os\n",
    "\n",
    "file_path = 'beep-07.wav'\n",
    "if os.path.isfile(file_path):\n",
    "    print(f\"파일이 존재합니다: {file_path}\")\n",
    "else:\n",
    "    print(f\"파일이 존재하지 않습니다: {file_path}\")\n",
    "    \n",
    "# 파일이 없다면 freesound에서 다운로드받아서 같은 작업환경에 파일을 업로드해서 이용합니다."
   ]
  },
  {
   "cell_type": "code",
   "execution_count": null,
   "id": "8f110647",
   "metadata": {},
   "outputs": [],
   "source": []
  }
 ],
 "metadata": {
  "kernelspec": {
   "display_name": "Python 3 (ipykernel)",
   "language": "python",
   "name": "python3"
  },
  "language_info": {
   "codemirror_mode": {
    "name": "ipython",
    "version": 3
   },
   "file_extension": ".py",
   "mimetype": "text/x-python",
   "name": "python",
   "nbconvert_exporter": "python",
   "pygments_lexer": "ipython3",
   "version": "3.10.9"
  }
 },
 "nbformat": 4,
 "nbformat_minor": 5
}
