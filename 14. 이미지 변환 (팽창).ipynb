{
 "cells": [
  {
   "cell_type": "markdown",
   "id": "3cf937ca",
   "metadata": {},
   "source": [
    "# 14. 이미지 변환 (팽창)"
   ]
  },
  {
   "cell_type": "markdown",
   "id": "bc3bfbb2",
   "metadata": {},
   "source": [
    "## 이미지를 확장하여 작은 구멍을 채움\n",
    "- 흰색 영역의 외곽 픽셀 주변에 흰색을 추가\n",
    "- 실행시켜 보니까 글자가 정말 점점 팽창하며 구멍이 막힌다 글자도 점점 커진다(부푼다)"
   ]
  },
  {
   "cell_type": "code",
   "execution_count": 4,
   "id": "37ed5bd7",
   "metadata": {},
   "outputs": [],
   "source": [
    "import cv2\n",
    "import numpy as np\n",
    "\n",
    "kernel = np.ones((3, 3), dtype=np.uint8) # ones여서 1로 채운 3x3행렬을 만든다\n",
    "#kernel\n",
    "\n",
    "img = cv2.imread('dilate.png', cv2.IMREAD_GRAYSCALE)\n",
    "dilate1 = cv2.dilate(img, kernel, iterations=1) # 반복 횟수\n",
    "dilate2 = cv2.dilate(img, kernel, iterations=2) # 반복 횟수\n",
    "dilate3 = cv2.dilate(img, kernel, iterations=3) # 반복 횟수\n",
    "\n",
    "cv2.imshow('gray', img)\n",
    "cv2.imshow('dilate1', dilate1)\n",
    "cv2.imshow('dilate2', dilate2)\n",
    "cv2.imshow('dilate3', dilate3)\n",
    "cv2.waitKey(0)\n",
    "cv2.destroyAllWindows()"
   ]
  },
  {
   "cell_type": "markdown",
   "id": "ae6537bb",
   "metadata": {},
   "source": [
    "\"커널\"과 \"행렬(matrix)\"은 같은 개념이 아닙니다. 하지만 커널은 특정 연산을 수행하는 데 사용되는 행렬의 한 형태라고 볼 수 있습니다.\n",
    "\n",
    "> 행렬(matrix)은 수학적으로 정의된 표현입니다. 행과 열로 이루어진 2차원의 숫자 배열로, 여러 분야에서 넓게 적용되는 개념입니다.\n",
    "\n",
    "> 반면에 커널(kernel)은 주로 신호처리, 이미지처리, 머신러닝 등의 분야에서 사용되며, 특정 연산을 수행하는 데 사용되는 작은 행렬입니다. 커널은 종종 이미지나 신호에 컨볼루션(합성곱) 연산을 적용하는 데 사용되며, 이 때 커널의 각 원소는 해당 연산에서의 가중치를 나타냅니다.\n",
    "\n",
    "따라서 커널은 특정 컨텍스트에서 사용되는 작은 행렬이라고 할 수 있습니다. __<u>커널은 행렬이지만</u>__, 모든 행렬이 커널은 아닙니다."
   ]
  }
 ],
 "metadata": {
  "kernelspec": {
   "display_name": "Python 3 (ipykernel)",
   "language": "python",
   "name": "python3"
  },
  "language_info": {
   "codemirror_mode": {
    "name": "ipython",
    "version": 3
   },
   "file_extension": ".py",
   "mimetype": "text/x-python",
   "name": "python",
   "nbconvert_exporter": "python",
   "pygments_lexer": "ipython3",
   "version": "3.10.9"
  }
 },
 "nbformat": 4,
 "nbformat_minor": 5
}
