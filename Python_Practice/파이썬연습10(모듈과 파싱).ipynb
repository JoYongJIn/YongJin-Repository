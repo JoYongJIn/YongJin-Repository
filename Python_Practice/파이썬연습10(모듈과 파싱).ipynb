{
  "nbformat": 4,
  "nbformat_minor": 0,
  "metadata": {
    "colab": {
      "provenance": [],
      "authorship_tag": "ABX9TyOO0mgeQOipppc9LnLMUCT1",
      "include_colab_link": true
    },
    "kernelspec": {
      "name": "python3",
      "display_name": "Python 3"
    },
    "language_info": {
      "name": "python"
    }
  },
  "cells": [
    {
      "cell_type": "markdown",
      "metadata": {
        "id": "view-in-github",
        "colab_type": "text"
      },
      "source": [
        "<a href=\"https://colab.research.google.com/github/JoYongJIn/YongJin-Repository/blob/main/%EC%A0%84%EC%82%B0%EC%88%98%ED%95%99_13_(%EC%A0%95%EB%A6%AC%EB%B3%B8).ipynb\" target=\"_parent\"><img src=\"https://colab.research.google.com/assets/colab-badge.svg\" alt=\"Open In Colab\"/></a>"
      ]
    },
    {
      "cell_type": "code",
      "source": [
        "'''\n",
        "=====================================================\n",
        "Module (모듈): 함수, 변수, 클래스를 모아 놓은 파일\n",
        "====================================================\n",
        "'''"
      ],
      "metadata": {
        "id": "T60z-IJE7ekN"
      },
      "execution_count": null,
      "outputs": []
    },
    {
      "cell_type": "code",
      "execution_count": null,
      "metadata": {
        "id": "eKBplGdxQ2hz"
      },
      "outputs": [],
      "source": [
        "# module: math =====================================================\n",
        "import math\n",
        "\n",
        "print(math.sin(1))\n",
        "print(math.cos(1))\n",
        "print(math.ceil(1.5)) #올림\n",
        "print(math.floor(1.5)) #내림\n",
        "\n",
        "# round는 정수가 홀수일때 올리고, 정수부분이 짝수일때 내림.\n",
        "# round는 반올림함수가 아님=> 사용할 일이 거의 없음\n",
        "print(round(1.5))\n",
        "print(round(2.5))"
      ]
    },
    {
      "cell_type": "code",
      "source": [
        "# from 모듈이름 import 가져오고 싶은 함수 또는 변수\n",
        "from math import sin, cos, tan, floor, ceil\n",
        "print(sin(1))\n",
        "print(cos(1))\n",
        "print(ceil(1.5))\n",
        "print(floor(1.5))"
      ],
      "metadata": {
        "id": "tm7vbOLIRmLR"
      },
      "execution_count": null,
      "outputs": []
    },
    {
      "cell_type": "code",
      "source": [
        "# from 모듈이름import * (모듈 내부의 모든 것을 가져옴)\n",
        "#=> 식별자 이름에서 충돌 발생할 수 있음(변수인지 함수가져온것인지 충돌이일어나서 원인 찾기 어려워질수있음)\n",
        "#=> 최대한 필요한 것만 가져와서 사용하는 것이 좋음\n",
        "\n",
        "# import 모듈이름 as 사용하고 싶은 식별자\n",
        "import math as m\n",
        "print(m.sin(1))\n",
        "print(m.cos(1))\n",
        "print(m.ceil(1.5)) #올림\n",
        "print(m.floor(1.5)) #내림"
      ],
      "metadata": {
        "id": "KRTYEiWi7-9R"
      },
      "execution_count": null,
      "outputs": []
    },
    {
      "cell_type": "code",
      "source": [
        "# module: random ======================================================\n",
        "import random as rn\n",
        "\n",
        "# random(): 0<=x<1 사이의 float을 리턴\n",
        "print(rn.random())\n",
        "# uniform(min, max): 지정한 범위 사이의 float을 리턴\n",
        "print(rn.uniform(0,10))#uniform(균등한)것중 랜덤하게 고르는것이다.\n",
        "# randrange(): 지정한 범위의 int를 리턴\n",
        "print(rn.randrange(0,10))\n",
        "# choice(list): 리스트 내부 요소를 랜덤하게 선택\n",
        "print(rn.choice([1,2,3,4,5]))\n",
        "# shuffle(list): 리스트 내부 요소를 랜덤하게 섞음 #딥러닝할때 많이쓴다.\n",
        "list_a=[1,2,3,4,5]\n",
        "rn.shuffle(list_a)\n",
        "print(list_a)#리스트를 그대로 넣으면 안된다.\n",
        "# sample(list, k=숫자): 리스트 요소 중에서 k개를 뽑음\n",
        "print(rn.sample([1,2,3,4,5],2))\n",
        "\n",
        "from random import random, uniform, randrange, choice, shuffle, sample #필요한 것만 가져오기 이렇게도 가능"
      ],
      "metadata": {
        "id": "b_Hsb7-ISBpb"
      },
      "execution_count": null,
      "outputs": []
    },
    {
      "cell_type": "code",
      "source": [
        "# module: os(Operating System) ============================================================\n",
        "#파이썬에서 운영체제와 상호 작용하기 위한 기능을 제공하는 모듈입니다.\n",
        "#이 모듈을 사용하면 파일 및 디렉토리 작업, 환경 변수 액세스, 프로세스 관리 등과 같은 다양한 시스템 관련 작업을 수행할 수 있습니다.\n",
        "# colab에서 google drive와 연결\n",
        "from google.colab import drive\n",
        "drive.mount('/content/drive')#mount=연결\n",
        "\n",
        "import os\n",
        "os.chdir(\"/content/drive/MyDrive/Colab_Notebooks/\") #디렉토리 위치 변경\n",
        "\n",
        "print(os.name)#현재 운영제체 (포직스, 이식형 운영체계 인터페이스)\n",
        "print(os.getcwd())#현재 폴더\n",
        "print(os.listdir())#현재 폴더 내부요소/ listdir(path)\n",
        "\n",
        "# 폴더 제거하고 만들기\n",
        "os.mkdir('New_folder')#생성"
      ],
      "metadata": {
        "id": "K_G_sDW8fL0v"
      },
      "execution_count": null,
      "outputs": []
    },
    {
      "cell_type": "code",
      "source": [
        "os.rmdir('New_folder')#지우기"
      ],
      "metadata": {
        "id": "Ul-1QqzMfL1m"
      },
      "execution_count": null,
      "outputs": []
    },
    {
      "cell_type": "code",
      "source": [
        "# 파일을 생성하고 파일 이름을 변경\n",
        "with open('test10.txt','w') as f:\n",
        "  f.write('테스트중')\n",
        "os.rename('test10.txt','new.txt')"
      ],
      "metadata": {
        "id": "-wzxq165h5LY"
      },
      "execution_count": null,
      "outputs": []
    },
    {
      "cell_type": "code",
      "source": [
        "# 파일 제거하기\n",
        "os.remove('new.txt')\n",
        "os.unlink('new.txt')#어느 것을 사용해도 무방함"
      ],
      "metadata": {
        "id": "t8xz3HzZ8xnM"
      },
      "execution_count": null,
      "outputs": []
    },
    {
      "cell_type": "code",
      "source": [
        "# 현재 디렉터리를 읽어들이고 파일인지 디렉터리(폴더)인지 구분하기\n",
        "output = os.listdir()\n",
        "for item in output:\n",
        "  if os.path.isdir(item):\n",
        "    print('폴더:', item)\n",
        "  else:\n",
        "    print('파일:', item)"
      ],
      "metadata": {
        "id": "ayqz_zPTiRZi"
      },
      "execution_count": null,
      "outputs": []
    },
    {
      "cell_type": "code",
      "source": [
        "#폴더의 요소읽어들이기(재귀함수 원리로 폴더안에 있는 파일을 꺼내서 알려주는기능이다.)\n",
        "def reader_folder(path):\n",
        "  output = os.listdir(path)\n",
        "  for item in output:\n",
        "    if os.path.isdir(item):\n",
        "      reader_folder(item)\n",
        "    else:\n",
        "      print('파일:', item)\n",
        "\n",
        "reader_folder('.')#'.'=현재 디렉토리(폴더로)"
      ],
      "metadata": {
        "id": "6FMTKsc_i6UR"
      },
      "execution_count": null,
      "outputs": []
    },
    {
      "cell_type": "code",
      "source": [
        "# module: urllib 모듈 =======================================================\n",
        "from urllib import request #URL을 통해 웹 페이지에 접근하고 데이터를 가져오는 기능\n",
        "\n",
        "# urlopen()함수로 링크 열기\n",
        "target = request.urlopen('https://google.com')\n",
        "output = target.read()\n",
        "print(output)"
      ],
      "metadata": {
        "id": "7JciHuz2nAk5"
      },
      "execution_count": null,
      "outputs": []
    },
    {
      "cell_type": "code",
      "source": [
        "# BeautifluSoup ==========================================\n",
        "## Beautiful Soup is a Python library for pulling data\n",
        "## out of HTML and XML files.\n",
        "\n",
        "#Beautiful Soup은 파이썬의 외부 라이브러리로, HTML 또는 XML 문서를 파싱하고 데이터를 추출하기 위한 도구입니다.\n",
        "#Beautiful Soup을 사용하면 웹 스크래핑(web scraping)이나 데이터 마이닝(data mining)과 같은 작업을 쉽게 수행할 수 있습니다.\n",
        "from urllib import request\n",
        "from bs4 import BeautifulSoup #BeautifulSoup4의 약자\n",
        "\n",
        "# urlopen() 함수로 기상청의 전국날씨 읽기\n",
        "target = request.urlopen('https://www.kma.go.kr/weather/forecast/mid-term-rss3.jsp?stnId=108')\n",
        "# BeautifulSoup을 사용해 웹 페이지를 분석 (parser: 문장의 구조 분석·오류 점검 프로그램)\n",
        "soup = BeautifulSoup(target, 'html.parser')\n",
        "#'html.parser'는 파서(parser)의 종류를 지정합니다.\n",
        "#'html.parser'는 BeautifulSoup 라이브러리에 내장된 HTML 파서를 사용한다는 것을 의미합니다.\n",
        "#이 파서는 일반적인 HTML 문서를 처리하는 데 적합한 파서입니다.\n",
        "\n",
        "#파서(Parser)는 특정 형식의 문서를 분석하고 해석하는 소프트웨어 또는 라이브러리입니다.\n",
        "#문서 파싱은 문서의 구조와 내용을 이해하고 원하는 정보를 추출하기 위해 필요한 과정입니다.\n",
        "\n",
        "#print(target)\n",
        "#print(soup)#굉장히 많이 출력된다."
      ],
      "metadata": {
        "id": "VJGnQIaeo4jx",
        "colab": {
          "base_uri": "https://localhost:8080/"
        },
        "outputId": "b0809e54-08c8-4802-a381-62f035c0552e"
      },
      "execution_count": null,
      "outputs": [
        {
          "output_type": "stream",
          "name": "stderr",
          "text": [
            "/usr/local/lib/python3.10/dist-packages/bs4/builder/__init__.py:545: XMLParsedAsHTMLWarning: It looks like you're parsing an XML document using an HTML parser. If this really is an HTML document (maybe it's XHTML?), you can ignore or filter this warning. If it's XML, you should know that using an XML parser will be more reliable. To parse this document as XML, make sure you have the lxml package installed, and pass the keyword argument `features=\"xml\"` into the BeautifulSoup constructor.\n",
            "  warnings.warn(\n"
          ]
        }
      ]
    },
    {
      "cell_type": "code",
      "source": [
        "#파싱했다 라는 말의 뜻은 문서를 읽어들였다는것과 같다고 볼수있어?\n",
        "\n",
        "#네, \"파싱(parsing)\"이란 용어는 일반적으로 문서나 데이터를 읽어들이고\n",
        "#해당 구조를 분석하여 필요한 정보를 추출하는 과정을 의미합니다."
      ],
      "metadata": {
        "id": "FrKcMWC57Ry5"
      },
      "execution_count": null,
      "outputs": []
    },
    {
      "cell_type": "code",
      "source": [
        "#location.select_one() 메서드는 Beautiful Soup 라이브러리에서 제공하는 메서드로,\n",
        "#CSS 선택자를 사용하여 특정 요소를 선택하는 역할을 합니다. 이 메서드는 선택한 요소 중에서 첫 번째 요소를 반환합니다.\n",
        "\n",
        "#soup.select() 메서드는 Beautiful Soup 라이브러리에서 제공하는 메서드로,\n",
        "#CSS 선택자를 사용하여 여러 개의 요소를 선택하는 역할을 합니다. 이 메서드는 선택한 요소들을 리스트 형태로 반환합니다.\n",
        "\n",
        "#CSS는 \"Cascading Style Sheets\"의 약어로, 웹 문서의 스타일과 레이아웃을 정의하는 스타일 시트 언어입니다.\n",
        "\n",
        "# location 태그를 찾음/ select() 함수는 여러개를 선택/ select_one() 함수는 원하는 값을 추출\n",
        "for location in soup.select('location'):\n",
        "  print('도시:', location.select_one('city').string)\n",
        "  #print('시간:', location.select_one('tmEf').string)\n",
        "  print('날씨:', location.select_one('wf').string)\n",
        "  print('최저기온:', location.select_one('tmn').string)\n",
        "  print('최고기온:', location.select_one('tmx').string)\n",
        "  print()"
      ],
      "metadata": {
        "id": "Cm7_h0WI28Ww",
        "colab": {
          "base_uri": "https://localhost:8080/"
        },
        "outputId": "2c922228-9595-4415-d90c-3243a556e855"
      },
      "execution_count": null,
      "outputs": [
        {
          "output_type": "stream",
          "name": "stdout",
          "text": [
            "도시: 서울\n",
            "날씨: 구름많음\n",
            "최저기온: 24\n",
            "최고기온: 32\n",
            "\n",
            "도시: 인천\n",
            "날씨: 구름많음\n",
            "최저기온: 22\n",
            "최고기온: 30\n",
            "\n",
            "도시: 수원\n",
            "날씨: 구름많음\n",
            "최저기온: 23\n",
            "최고기온: 32\n",
            "\n",
            "도시: 파주\n",
            "날씨: 구름많음\n",
            "최저기온: 21\n",
            "최고기온: 31\n",
            "\n",
            "도시: 이천\n",
            "날씨: 구름많음\n",
            "최저기온: 22\n",
            "최고기온: 32\n",
            "\n",
            "도시: 평택\n",
            "날씨: 구름많음\n",
            "최저기온: 23\n",
            "최고기온: 33\n",
            "\n",
            "도시: 춘천\n",
            "날씨: 구름많음\n",
            "최저기온: 22\n",
            "최고기온: 32\n",
            "\n",
            "도시: 원주\n",
            "날씨: 구름많음\n",
            "최저기온: 23\n",
            "최고기온: 32\n",
            "\n",
            "도시: 강릉\n",
            "날씨: 구름많음\n",
            "최저기온: 23\n",
            "최고기온: 31\n",
            "\n",
            "도시: 대전\n",
            "날씨: 구름많음\n",
            "최저기온: 24\n",
            "최고기온: 33\n",
            "\n",
            "도시: 세종\n",
            "날씨: 구름많음\n",
            "최저기온: 22\n",
            "최고기온: 32\n",
            "\n",
            "도시: 홍성\n",
            "날씨: 구름많음\n",
            "최저기온: 22\n",
            "최고기온: 33\n",
            "\n",
            "도시: 청주\n",
            "날씨: 구름많음\n",
            "최저기온: 24\n",
            "최고기온: 33\n",
            "\n",
            "도시: 충주\n",
            "날씨: 구름많음\n",
            "최저기온: 22\n",
            "최고기온: 33\n",
            "\n",
            "도시: 영동\n",
            "날씨: 구름많음\n",
            "최저기온: 21\n",
            "최고기온: 33\n",
            "\n",
            "도시: 광주\n",
            "날씨: 구름많음\n",
            "최저기온: 24\n",
            "최고기온: 32\n",
            "\n",
            "도시: 목포\n",
            "날씨: 구름많음\n",
            "최저기온: 23\n",
            "최고기온: 30\n",
            "\n",
            "도시: 여수\n",
            "날씨: 구름많음\n",
            "최저기온: 23\n",
            "최고기온: 27\n",
            "\n",
            "도시: 순천\n",
            "날씨: 구름많음\n",
            "최저기온: 23\n",
            "최고기온: 29\n",
            "\n",
            "도시: 광양\n",
            "날씨: 구름많음\n",
            "최저기온: 22\n",
            "최고기온: 31\n",
            "\n",
            "도시: 나주\n",
            "날씨: 구름많음\n",
            "최저기온: 22\n",
            "최고기온: 30\n",
            "\n",
            "도시: 전주\n",
            "날씨: 구름많음\n",
            "최저기온: 23\n",
            "최고기온: 32\n",
            "\n",
            "도시: 군산\n",
            "날씨: 구름많음\n",
            "최저기온: 23\n",
            "최고기온: 31\n",
            "\n",
            "도시: 정읍\n",
            "날씨: 구름많음\n",
            "최저기온: 23\n",
            "최고기온: 32\n",
            "\n",
            "도시: 남원\n",
            "날씨: 구름많음\n",
            "최저기온: 22\n",
            "최고기온: 32\n",
            "\n",
            "도시: 고창\n",
            "날씨: 구름많음\n",
            "최저기온: 22\n",
            "최고기온: 31\n",
            "\n",
            "도시: 무주\n",
            "날씨: 구름많음\n",
            "최저기온: 21\n",
            "최고기온: 32\n",
            "\n",
            "도시: 부산\n",
            "날씨: 구름많음\n",
            "최저기온: 23\n",
            "최고기온: 28\n",
            "\n",
            "도시: 울산\n",
            "날씨: 구름많음\n",
            "최저기온: 21\n",
            "최고기온: 31\n",
            "\n",
            "도시: 창원\n",
            "날씨: 구름많음\n",
            "최저기온: 22\n",
            "최고기온: 30\n",
            "\n",
            "도시: 진주\n",
            "날씨: 구름많음\n",
            "최저기온: 22\n",
            "최고기온: 31\n",
            "\n",
            "도시: 거창\n",
            "날씨: 구름많음\n",
            "최저기온: 20\n",
            "최고기온: 31\n",
            "\n",
            "도시: 통영\n",
            "날씨: 구름많음\n",
            "최저기온: 22\n",
            "최고기온: 27\n",
            "\n",
            "도시: 대구\n",
            "날씨: 구름많음\n",
            "최저기온: 23\n",
            "최고기온: 33\n",
            "\n",
            "도시: 안동\n",
            "날씨: 구름많음\n",
            "최저기온: 21\n",
            "최고기온: 33\n",
            "\n",
            "도시: 포항\n",
            "날씨: 구름많음\n",
            "최저기온: 23\n",
            "최고기온: 32\n",
            "\n",
            "도시: 경주\n",
            "날씨: 구름많음\n",
            "최저기온: 20\n",
            "최고기온: 33\n",
            "\n",
            "도시: 울진\n",
            "날씨: 구름많음\n",
            "최저기온: 21\n",
            "최고기온: 28\n",
            "\n",
            "도시: 울릉도\n",
            "날씨: 구름많음\n",
            "최저기온: 23\n",
            "최고기온: 28\n",
            "\n",
            "도시: 제주\n",
            "날씨: 흐리고 비\n",
            "최저기온: 23\n",
            "최고기온: 29\n",
            "\n",
            "도시: 서귀포\n",
            "날씨: 흐리고 비\n",
            "최저기온: 23\n",
            "최고기온: 27\n",
            "\n"
          ]
        }
      ]
    },
    {
      "cell_type": "code",
      "source": [
        "# Exercise:파싱한 데이터를 csv 파일로 저정해보기\n",
        "data = []\n",
        "keys = ['도시','날씨','최저기온','최고기온']\n",
        "data.append(keys)\n",
        "\n",
        "for location in soup.select('location'):\n",
        "  row = []\n",
        "  row.append(location.select_one('city').string)\n",
        "  row.append(location.select_one('wf').string)\n",
        "  row.append(location.select_one('tmn').string)\n",
        "  row.append(location.select_one('tmx').string)\n",
        "  data.append(row)\n",
        "\n",
        "print(data)"
      ],
      "metadata": {
        "id": "DNzyqOs46pG0"
      },
      "execution_count": null,
      "outputs": []
    },
    {
      "cell_type": "code",
      "source": [
        "#A_ij=i+j\n",
        "A=[]#행렬만들기\n",
        "for i in range(3):\n",
        "  row = []\n",
        "  for j in range(3):\n",
        "    row.append(i+j)\n",
        "  A.append(row)\n",
        "\n",
        "print(A)"
      ],
      "metadata": {
        "id": "wvaMFsYN1mVj"
      },
      "execution_count": null,
      "outputs": []
    },
    {
      "cell_type": "code",
      "source": [
        "from google.colab import drive\n",
        "drive.mount('/content/drive')\n",
        "\n",
        "data = []\n",
        "keys = ['도시','날씨','최저기온','최고기온']\n",
        "data.append(keys)\n",
        "\n",
        "for location in soup.select('location'):\n",
        "  row = []\n",
        "  row.append(location.select_one('city').string)\n",
        "  row.append(location.select_one('wf').string)\n",
        "  row.append(location.select_one('tmn').string)\n",
        "  row.append(location.select_one('tmx').string)\n",
        "  data.append(row)\n",
        "\n",
        "print(data)\n",
        "\n",
        "import csv\n",
        "\n",
        "with open(\"data4.csv\", \"w\") as f:\n",
        "  g = csv.DictWriter(f)\n",
        "  g.writerows(data)"
      ],
      "metadata": {
        "id": "7j6tu6mKiZL5",
        "colab": {
          "base_uri": "https://localhost:8080/",
          "height": 279
        },
        "outputId": "45d75a8a-ff7c-4ca0-eb32-f3d370b878af"
      },
      "execution_count": null,
      "outputs": [
        {
          "output_type": "stream",
          "name": "stdout",
          "text": [
            "Drive already mounted at /content/drive; to attempt to forcibly remount, call drive.mount(\"/content/drive\", force_remount=True).\n",
            "[['도시', '날씨', '최저기온', '최고기온'], ['서울', '맑음', '23', '33'], ['인천', '맑음', '22', '30'], ['수원', '맑음', '21', '32'], ['파주', '맑음', '19', '33'], ['이천', '맑음', '20', '33'], ['평택', '맑음', '21', '34'], ['춘천', '맑음', '19', '33'], ['원주', '맑음', '21', '32'], ['강릉', '맑음', '21', '27'], ['대전', '맑음', '21', '33'], ['세종', '맑음', '20', '33'], ['홍성', '맑음', '19', '33'], ['청주', '맑음', '23', '33'], ['충주', '맑음', '20', '33'], ['영동', '맑음', '18', '32'], ['광주', '맑음', '21', '33'], ['목포', '맑음', '21', '30'], ['여수', '맑음', '21', '28'], ['순천', '맑음', '20', '32'], ['광양', '맑음', '21', '30'], ['나주', '맑음', '19', '33'], ['전주', '맑음', '21', '33'], ['군산', '맑음', '20', '32'], ['정읍', '맑음', '20', '33'], ['남원', '맑음', '19', '33'], ['고창', '맑음', '19', '32'], ['무주', '맑음', '17', '32'], ['부산', '맑음', '21', '28'], ['울산', '맑음', '20', '27'], ['창원', '맑음', '20', '30'], ['진주', '맑음', '18', '32'], ['거창', '맑음', '17', '31'], ['통영', '맑음', '20', '28'], ['대구', '맑음', '21', '31'], ['안동', '맑음', '19', '31'], ['포항', '맑음', '21', '25'], ['경주', '맑음', '19', '27'], ['울진', '맑음', '19', '23'], ['울릉도', '맑음', '21', '25'], ['제주', '구름많음', '21', '28'], ['서귀포', '구름많음', '22', '27']]\n"
          ]
        },
        {
          "output_type": "error",
          "ename": "TypeError",
          "evalue": "ignored",
          "traceback": [
            "\u001b[0;31m---------------------------------------------------------------------------\u001b[0m",
            "\u001b[0;31mTypeError\u001b[0m                                 Traceback (most recent call last)",
            "\u001b[0;32m<ipython-input-7-88ecd2f79b96>\u001b[0m in \u001b[0;36m<cell line: 20>\u001b[0;34m()\u001b[0m\n\u001b[1;32m     19\u001b[0m \u001b[0;34m\u001b[0m\u001b[0m\n\u001b[1;32m     20\u001b[0m \u001b[0;32mwith\u001b[0m \u001b[0mopen\u001b[0m\u001b[0;34m(\u001b[0m\u001b[0;34m\"data4.csv\"\u001b[0m\u001b[0;34m,\u001b[0m \u001b[0;34m\"w\"\u001b[0m\u001b[0;34m)\u001b[0m \u001b[0;32mas\u001b[0m \u001b[0mf\u001b[0m\u001b[0;34m:\u001b[0m\u001b[0;34m\u001b[0m\u001b[0;34m\u001b[0m\u001b[0m\n\u001b[0;32m---> 21\u001b[0;31m   \u001b[0mg\u001b[0m \u001b[0;34m=\u001b[0m \u001b[0mcsv\u001b[0m\u001b[0;34m.\u001b[0m\u001b[0mDictWriter\u001b[0m\u001b[0;34m(\u001b[0m\u001b[0mf\u001b[0m\u001b[0;34m)\u001b[0m\u001b[0;34m\u001b[0m\u001b[0;34m\u001b[0m\u001b[0m\n\u001b[0m\u001b[1;32m     22\u001b[0m   \u001b[0mg\u001b[0m\u001b[0;34m.\u001b[0m\u001b[0mwriterows\u001b[0m\u001b[0;34m(\u001b[0m\u001b[0mdata\u001b[0m\u001b[0;34m)\u001b[0m\u001b[0;34m\u001b[0m\u001b[0;34m\u001b[0m\u001b[0m\n",
            "\u001b[0;31mTypeError\u001b[0m: DictWriter.__init__() missing 1 required positional argument: 'fieldnames'"
          ]
        }
      ]
    }
  ]
}
