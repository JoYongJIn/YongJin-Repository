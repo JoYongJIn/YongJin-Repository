{
  "cells": [
    {
      "cell_type": "markdown",
      "metadata": {
        "id": "view-in-github",
        "colab_type": "text"
      },
      "source": [
        "<a href=\"https://colab.research.google.com/github/JoYongJIn/YongJin-Repository/blob/main/%EC%A0%84%EC%82%B0%EC%88%98%ED%95%99_class3.ipynb\" target=\"_parent\"><img src=\"https://colab.research.google.com/assets/colab-badge.svg\" alt=\"Open In Colab\"/></a>"
      ]
    },
    {
      "cell_type": "code",
      "execution_count": null,
      "metadata": {
        "colab": {
          "base_uri": "https://localhost:8080/",
          "height": 351
        },
        "id": "ON54zPHLy4co",
        "outputId": "f8bd8bfd-0844-42ee-b5b3-15138bd7c282"
      },
      "outputs": [
        {
          "name": "stdout",
          "output_type": "stream",
          "text": [
            "1\n",
            "b\n",
            "(2, 'a', 'b')\n",
            "(1, 2, 'a', 'b', 3, 4)\n",
            "(3, 4, 3, 4, 3, 4)\n",
            "4\n",
            "hi\n",
            "2\n"
          ]
        },
        {
          "ename": "TypeError",
          "evalue": "ignored",
          "output_type": "error",
          "traceback": [
            "\u001b[0;31m---------------------------------------------------------------------------\u001b[0m",
            "\u001b[0;31mTypeError\u001b[0m                                 Traceback (most recent call last)",
            "\u001b[0;32m<ipython-input-6-f63e2a332dfa>\u001b[0m in \u001b[0;36m<module>\u001b[0;34m\u001b[0m\n\u001b[1;32m     30\u001b[0m \u001b[0ma\u001b[0m\u001b[0;34m=\u001b[0m\u001b[0;34m(\u001b[0m\u001b[0;36m1\u001b[0m\u001b[0;34m,\u001b[0m\u001b[0;36m2\u001b[0m\u001b[0;34m,\u001b[0m\u001b[0;36m3\u001b[0m\u001b[0;34m)\u001b[0m\u001b[0;34m\u001b[0m\u001b[0;34m\u001b[0m\u001b[0m\n\u001b[1;32m     31\u001b[0m \u001b[0mb\u001b[0m\u001b[0;34m=\u001b[0m\u001b[0;34m(\u001b[0m\u001b[0;36m4\u001b[0m\u001b[0;34m)\u001b[0m\u001b[0;34m\u001b[0m\u001b[0;34m\u001b[0m\u001b[0m\n\u001b[0;32m---> 32\u001b[0;31m \u001b[0mc\u001b[0m\u001b[0;34m=\u001b[0m\u001b[0;34m(\u001b[0m\u001b[0ma\u001b[0m\u001b[0;34m+\u001b[0m\u001b[0mb\u001b[0m\u001b[0;34m)\u001b[0m\u001b[0;34m\u001b[0m\u001b[0;34m\u001b[0m\u001b[0m\n\u001b[0m\u001b[1;32m     33\u001b[0m \u001b[0mprint\u001b[0m\u001b[0;34m(\u001b[0m\u001b[0mc\u001b[0m\u001b[0;34m)\u001b[0m\u001b[0;34m\u001b[0m\u001b[0;34m\u001b[0m\u001b[0m\n",
            "\u001b[0;31mTypeError\u001b[0m: can only concatenate tuple (not \"int\") to tuple"
          ]
        }
      ],
      "source": [
        "#=========================\n",
        "#자료형:튜플(변경/삭제 불가능)\n",
        "#=========================\n",
        "\n",
        "a = ()\n",
        "a1 = (1,)\n",
        "a2 = (1,2,3)\n",
        "a3 =1,2,3, #()생략가능\n",
        "a4 =('a','b',('ab','cd'))\n",
        "\n",
        "#인덱싱\n",
        "a=(1,2,'a','b')\n",
        "print(a[0])\n",
        "print(a[3])\n",
        "print(a[1:])\n",
        "\n",
        "#더하기, 반복, 길이\n",
        "b=(3,4)\n",
        "print(a+b)\n",
        "print(b*3)\n",
        "print(len(a))\n",
        "\n",
        "#\n",
        "a, b = 'hi',2\n",
        "print(a)\n",
        "print(b)\n",
        "\n",
        "##Exercise==============\n",
        "#(1,2,3)튜플에 4를 추가하여 (1,2,3,4)를 만들기\n",
        "a=(1,2,3)\n",
        "b=(4)\n",
        "c=(a+b)\n",
        "print(c)\n",
        "\n",
        "#까지가 시험\n",
        "####################################################################################################\n",
        "\n"
      ]
    },
    {
      "cell_type": "code",
      "execution_count": null,
      "metadata": {
        "id": "Qc2huLhRFhhY"
      },
      "outputs": [],
      "source": [
        "'''\n",
        "==============\n",
        "딕셔너리 자료형:key:value형식\n",
        "===========\n",
        "'''\n",
        "\n",
        "#딕셔너리 구성 key: value\n",
        "dic = {'name':'pay', 'phone':'01012341234', 'birth':'1212'}\n",
        "print(dic['name']) #pay 이와같이 결과값다 적어놓기\n",
        "print(dic['birth'])\n",
        "print(dic.keys())\n",
        "print(list(dic.keys()))\n",
        "print(list(dic.values()))\n",
        "print(dic.items())\n",
        "dic.clear #모두 삭제\n",
        "print(dic)\n",
        "\n",
        "#dic.get(),key in dic\n",
        "dic = {'name':'pay', 'phone':'01012341234', 'birth':'1212'}\n",
        "#print(dic['nokey']) #error\n",
        "print(dic.get('nokey')) #None\n",
        "print(dic.get('')) #None\n",
        "print('name' in dic) #True\n"
      ]
    },
    {
      "cell_type": "code",
      "execution_count": null,
      "metadata": {
        "colab": {
          "base_uri": "https://localhost:8080/"
        },
        "id": "sk-iq89QHgf6",
        "outputId": "e73184f7-54f6-4b02-e423-3a3512f7b0eb"
      },
      "outputs": [
        {
          "name": "stdout",
          "output_type": "stream",
          "text": [
            "{1: 'a'}\n",
            "{1: 'a', 2: 'b'}\n",
            "{1: 'a', 2: 'b', 'name': 'jane'}\n",
            "{1: 'a', 2: 'b', 'name': 'jane', 3: [1, 2, 3]}\n",
            "[1, 2, 3]\n",
            "2\n"
          ]
        }
      ],
      "source": [
        "#추가/삭제\n",
        "dic = {1:'a'}\n",
        "print(dic)\n",
        "#dic[key]=value\n",
        "dic[2] = 'b'\n",
        "print(dic) #{1: 'a', 2: 'b'}\n",
        "dic['name']='jane'\n",
        "print(dic) #{1: 'a', 2: 'b', 'name': 'jane'}\n",
        "dic[3] = [1,2,3]\n",
        "print(dic) #{1: 'a', 2: 'b', 'name': 'jane', 3: [1, 2, 3]}\n",
        "print(dic[3]) #[1, 2, 3]\n",
        "print(dic[3][1]) #2\n",
        "\n",
        "#주의사항\n",
        "a={1:'a', 1:'b'} #key가 2개인 경우: 앞에 것 무시\n",
        "print(a[1]) #b\n",
        "a={[1,2]:'h'} #key값에는 리스트는 불가능\n",
        "a={(1,2) : 'h'} #튜플은 된다.\n",
        "print(a)\n",
        "\n",
        "dic = {'name':'pey','phone':'0102341234'}\n",
        "print('name' in dic)\n",
        "#다음중 오류가 발생하는 경우는?\n",
        "a=['name']='python';\n",
        "a[('a',)]='python';\n",
        "a[[1]]='python'; #정답 key에 리스트 못들어간다고했다\n",
        "a[250]='python';\n",
        "\n",
        "#\n",
        "dic = {'홍길동':[100,80,90,88], '문동이':[100,99,97,100]}\n",
        "#(1) 김철수 학생의 국영수과 성적이 98,87,97,100을 딕셔너리에 넣고,\n",
        "#(2) 학생이름을 input을 받고,그 학생의 수학성적과 네 과목의 평균을 구하여라\n",
        "name= input('학생이름을 적으시오:')\n",
        "\n",
        "#출력결과:***학생의 수학성적은 **점이고, 네 과목의 평균은 **.**이다."
      ]
    },
    {
      "cell_type": "code",
      "source": [
        "dic = {'홍길동':[100,80,90,88], '문동이':[100,99,97,100]}\n",
        "dic['김철수']=[98,87,97,100]\n",
        "name = input('학생이름을 입력하시오')\n",
        "total = dic[name]\n",
        "math = total[2]\n",
        "average = sum(total)/len(total)\n",
        "print(f'{name}학생의 수학성적은 {math}점이고, 네 과목의 평균은 {average:4.2f}이다.')"
      ],
      "metadata": {
        "id": "zvi9iOrCfw4f"
      },
      "execution_count": null,
      "outputs": []
    },
    {
      "cell_type": "markdown",
      "source": [],
      "metadata": {
        "id": "2KP23hFTtkKq"
      }
    },
    {
      "cell_type": "code",
      "execution_count": null,
      "metadata": {
        "colab": {
          "base_uri": "https://localhost:8080/"
        },
        "id": "Ul4dfDixKe46",
        "outputId": "d271da42-3310-4dbd-f870-3050481a272d"
      },
      "outputs": [
        {
          "output_type": "stream",
          "name": "stdout",
          "text": [
            "학생이름을 적으시오:홍길동\n",
            "홍길동학생의 수학성적은 90점이고, 네 과목의 평균은 89.50이다.\n"
          ]
        }
      ],
      "source": [
        "dic = {'홍길동':[100,80,90,88], '문동이':[100,99,97,100]}\n",
        "dic['김철수'] = [98,87,97,100]\n",
        "name = input('학생이름을 적으시오:')\n",
        "total = dic[name]\n",
        "math = total[2]\n",
        "average = sum(total)/len(total)\n",
        "print('%s학생의 수학성적은 %d점이고, 네 과목의 평균은 %.2f이다.' %(name,math,average))"
      ]
    }
  ],
  "metadata": {
    "colab": {
      "provenance": [],
      "authorship_tag": "ABX9TyN9Rs7a6DZ6W/3qv4ICR4M4",
      "include_colab_link": true
    },
    "kernelspec": {
      "display_name": "Python 3",
      "name": "python3"
    },
    "language_info": {
      "name": "python"
    }
  },
  "nbformat": 4,
  "nbformat_minor": 0
}
