{
  "nbformat": 4,
  "nbformat_minor": 0,
  "metadata": {
    "colab": {
      "provenance": [],
      "authorship_tag": "ABX9TyPQT0l6VdgpI3qOxMQa8zCB",
      "include_colab_link": true
    },
    "kernelspec": {
      "name": "python3",
      "display_name": "Python 3"
    },
    "language_info": {
      "name": "python"
    }
  },
  "cells": [
    {
      "cell_type": "markdown",
      "metadata": {
        "id": "view-in-github",
        "colab_type": "text"
      },
      "source": [
        "<a href=\"https://colab.research.google.com/github/JoYongJIn/YongJin-Repository/blob/main/%EC%A0%84%EC%82%B0%EC%88%98%ED%95%99_Class1.ipynb\" target=\"_parent\"><img src=\"https://colab.research.google.com/assets/colab-badge.svg\" alt=\"Open In Colab\"/></a>"
      ]
    },
    {
      "cell_type": "code",
      "source": [
        "''''\n",
        "=======================================\n",
        "자료형:숫자,문자열 등 자료 형태로 나타내는 모든 것\n",
        "=======================================\n",
        "''''\n",
        "''''\n",
        "===================\n",
        "(1)숫자형 자료형\n",
        "===================\n",
        "''''\n",
        "\n",
        "#숫자형\n",
        "a=4.24e-4 #0.000424\n",
        "b=4.24E4 #42400.0\n",
        "\n",
        "a=1.234\n",
        "b=12\n",
        "print(type(a))\n",
        "print(type(b))\n",
        "\n",
        "#덧셈\n",
        "a=50\n",
        "b=100\n",
        "c=a+b\n",
        "print(a,'+',b,'=',c)\n",
        "print('a','+','b','=',c)\n",
        "print()\n",
        "\n",
        "#input(문자로 인식)\n",
        "a=input('첫번째 숫자를 입력하세요:')\n",
        "b=input('두번째 숫자를 입력하세요:')\n",
        "c=a+b\n",
        "print(a,'+',b,'=',c)\n",
        "print()\n",
        "\n",
        "#int(input())사용\n",
        "a1=int(input('첫번째 숫자를 입력하세요:'))\n",
        "b1=int(input('두번째 숫자를 입력하세요:'))\n",
        "c1=a1+b1\n",
        "print(a1,'+'b1,'=',c1). #print('a1*b1=',a1*b1) error\n",
        "print()\n",
        "\n",
        "\n",
        "#곱셈, 제곱\n",
        "a=4; b=3;\n",
        "c=a*b\n",
        "d=a**b\n",
        "print('a=',a,'b=',b)\n",
        "print('a*b','=',c)\n",
        "print('a**b','=',d)\n",
        "print()\n",
        "\n",
        "#나눗셈\n",
        "print('b/a=',b/a)\n",
        "print('a/b=',a/b)\n",
        "#나눗셈 후 몫 반환\n",
        "print('b//a',b//a)\n",
        "print('a//b',a//b)\n",
        "#나눗셈 후 나머지 반환\n",
        "print('b%a=',b%a)\n",
        "print('b%a=',a%b)\n",
        "print()\n",
        "\n",
        "#복합 연산\n",
        "a=10\n",
        "a+=5;print(a)\n",
        "a-=5;print(a)\n",
        "a*=5;print(a)\n",
        "a/=5;print(a)\n",
        "a//=5;print(a)\n",
        "a%=5;print(a)\n",
        "a**=5;print(a)\n",
        "print()\n",
        "\n",
        "#print()함수 사용:%d, %f, %s(문자열), .format 이용\n",
        "print('100')\n",
        "print(100)\n",
        "print('100+100')\n",
        "#print('%d'%(100+100)) error\n",
        "#print('%d%d'%(100)) error\n",
        "print('%d%d'%(100,200))\n",
        "print('%d%d=%d'%(100,200,50))\n",
        "print('%d%d=%f'%(100,200,0.5)) #소수 여섯자리까지 (default:고정값)\n",
        "print('%d'%123)\n",
        "print('%5d'%123)\n",
        "print('%05d'%123)\n",
        "print('%f'%123.45)\n",
        "print('%7.1f'%123.45) #소숫점둘째자리에서 반올림하여 소수첫째자리까지표현 '  123.5'\n",
        "print('%7.3f'%123.45)\n",
        "print('%s'%'python')\n",
        "print('%10s'%'python')#'    python'\n",
        "print('{0:d}{1:5d}{2:05d}'.format(123,123,123))#123  12300123\n",
        "print('%d%5d%05d'%(123,123,123)) #123  12300123\n",
        "print('Error is %d%%'%98) #Error is 98% (%%넣으면 %출력가능)"
      ],
      "metadata": {
        "id": "nve0OgZarp8F"
      },
      "execution_count": null,
      "outputs": []
    },
    {
      "cell_type": "code",
      "source": [
        "''''\n",
        "==========================\n",
        "(2) 문자열 자료형\n",
        "==========================\n",
        "''''\n",
        "print('hello world')\n",
        "print('Python is fun')\n",
        "print('''life is short, you need python''') #life is short, you need python\n",
        "print(\"\"\"life is short, you need python\"\"\") #life is short, you need python\n",
        "print()\n",
        "\n",
        "#이스케이프 문자: 역슬래쉬(\\)를 사용해 문자열내부에 특정한 문자를 포함시킴\n",
        "#참고:\\t(문자열 사이에 탭간격),\\\\(문자\\를 그래도 표현하고 싶을때)\n",
        "#\\n(줄바꿈),w'('출력)\\\"(\"출력)\\\\(\\출력)\n",
        "\n",
        "#문자열 안에 작은따옴표/큰따옴표 있는 경우\n",
        "A=\"Python's favorit food is perl\" #Python's favorit food is perl\n",
        "print(A) #print함수를 같은줄에 쓰면 안된다.\n",
        "B='\"Python is very easy.\" he says.' #\"Python is very easy.\" he says.\n",
        "print(B)\n",
        "#백슬러쉬 사용\\'('출력하는법)\n",
        "A2='Python\\'s favorite food is perl' #Python's favorite food is perl\n",
        "print(A2)\n",
        "#\\\"(\"출력)\n",
        "B2=\"\\\"Python is very easy.\\\"he says.\" #\"Python is very easy.\"he says.\n",
        "print(B2)\n",
        "\n",
        "#여러 줄인 문자열:\\n(줄바꿈)\n",
        "A='life is too short \\nyou need python' #life is too short\n",
        "print(A)                                 #you need python\n",
        "B='''\n",
        "life is too short.\n",
        "you need python\n",
        "'''\n",
        "print(B) #결과 위와같음\n",
        "\n",
        "#\\t(문자열 사이에 탭 간격), \\\\(문자\\를 그대로 표현하고 싶을떄) 슬래쉬로 열고 닫는다. 끝날때는 슬래쉬 두개이다.\n",
        "print('\\n줄바꿈\\n연습')\n",
        "print('\\t탭키\\t연습')\n",
        "print('\\\\\\\\\\\\ 역슬래쉬 세개 출력') #\\\\\\ 역슬래쉬 세개 출력\n",
        "print('\\n\\t\\'\\\\를 그대로 출력') #\t'\\를 그대로 출력\n",
        "print(r'\\n\\t\\'\\\\를 그대로 출력') #print(r''):이스케이프 문자를 그대로 출력해줌 \\n\\t\\'\\\\를 그대로 출력\n",
        "print('\\n\\t\\'\\\\를 그대로 출력') #\n",
        "\t                          #            '\\를 그대로 출력(tab에의해)\n",
        "print('\\n\\n\\'\\\\를 그대로 출력') #여기서 구분시켜주는 역할하는 \\쓰였다.\n",
        "print('\\n\\'\\\\를 그대로 출력')\n",
        "print('\\t\\'\\\\를 그대로 출력')"
      ],
      "metadata": {
        "id": "_5ejmEATfQyD"
      },
      "execution_count": null,
      "outputs": []
    },
    {
      "cell_type": "code",
      "source": [
        "#문자열 연산\n",
        "a='python';b='is fun'\n",
        "print(a+b) #pythonis fun\n",
        "print(a*2) #pythonpython\n",
        "print('='*50) #==================================================\n",
        "print('my program') #my program\n",
        "print('='*50) #==================================================\n",
        "\n",
        "#print()함수\n",
        "num=3\n",
        "text='I eat %d apples.'%num\n",
        "print(text) #I eat 3 apples.\n",
        "\n",
        "day='three'\n",
        "text2='I ate %d apples, so I was sick for %s days.' %(num,day)\n",
        "print(text2) #I ate 3 apples, so I was sick for three days.\n",
        "\n",
        "text3='I ate {0} apples, so I was sick for {1} days.'.format(num,day) #format함수이용\n",
        "print(text3) #I ate 3 apples, so I was sick for three days.\n",
        "\n",
        "text4='I ate {0} apples, so I was sick for {day} days.'.format(num,day=3) #day를 바꾸는 방법\n",
        "print(text4) #I ate 3 apples, so I was sick for 3 days.\n",
        "\n",
        "print('%10s'%'hi') #        hi\n",
        "print('%-10sjane'%'hi') #hi        jane\n",
        "\n",
        "#문자 정렬\n",
        "print('{0:<10}'.format('hi')) #왼쪽정렬'hi        '\n",
        "print('{0:>10}'.format('hi')) #오른쪽정렬'        hi'\n",
        "print('{0:^10}'.format('hi')) #가운데정렬'    hi    '\n",
        "print('{0:=^10}'.format('hi')) #가운데정렬&공백=로 채우기 '====hi===='\n",
        "print('{0:!<10}'.format('hi')) #왼쪽정렬&공백!로채우기 'hi!!!!!!!!'\n",
        "print('{0:!>10}'.format('hi')) #왼쪽정렬&공백!로채우기 '!!!!!!!!hi'\n",
        "\n",
        "#Exercise\n",
        "\n",
        "#f'문자열' 문자열 포맷팅(따옴표 사용 주의!!!)\n",
        "f'hi' #hi\n",
        "f'{\"hi\"}' #hi 똑같은 따옴표를 쓰면 안된다.\n",
        "#f'{'hi'}' #error(따옴표 혼용해서 쓰면 안됨)//text='hi';f'{text}'는 오케이\n",
        "f'{\"hi\":<10}' #'hi        '\n",
        "f'{\"hi\":>10}' #'        hi'\n",
        "f'{\"hi\":^10}' #'    hi    '\n",
        "f'{\"hi\":=^10}' #'====hi===='\n",
        "f'{\"hi\":!<10}' #'hi!!!!!!!!'\n",
        "print()\n",
        "y=3.42134234;\n",
        "f'{y:0.f}' #'3.4213'\n",
        "f'{y:10.4f}' #'    3.4213'"
      ],
      "metadata": {
        "colab": {
          "base_uri": "https://localhost:8080/",
          "height": 130
        },
        "id": "eQOX-1CZzg68",
        "outputId": "cb7b1ed5-caa0-46de-a698-9b1bb67bacc3"
      },
      "execution_count": null,
      "outputs": [
        {
          "output_type": "error",
          "ename": "SyntaxError",
          "evalue": "ignored",
          "traceback": [
            "\u001b[0;36m  File \u001b[0;32m\"<ipython-input-1-a322e7e4278a>\"\u001b[0;36m, line \u001b[0;32m41\u001b[0m\n\u001b[0;31m    f'{'hi':<10}'\u001b[0m\n\u001b[0m        ^\u001b[0m\n\u001b[0;31mSyntaxError\u001b[0m\u001b[0;31m:\u001b[0m f-string: expecting '}'\n"
          ]
        }
      ]
    },
    {
      "cell_type": "code",
      "source": [
        "name='홍길동'; age='24';\n",
        "f'나의 이름은 {name}입니다. 나이는 {age}입니다.'"
      ],
      "metadata": {
        "colab": {
          "base_uri": "https://localhost:8080/",
          "height": 35
        },
        "id": "T7P0cmZNYGNe",
        "outputId": "faf10198-9a87-4e06-ccbf-4a271d698ea5"
      },
      "execution_count": null,
      "outputs": [
        {
          "output_type": "execute_result",
          "data": {
            "text/plain": [
              "'나의 이름은 홍길동입니다. 나이는 24입니다.'"
            ],
            "application/vnd.google.colaboratory.intrinsic+json": {
              "type": "string"
            }
          },
          "metadata": {},
          "execution_count": 2
        }
      ]
    },
    {
      "cell_type": "code",
      "source": [
        "text = 'I ate {0:!<4} apples, so I was sick for {1:=^10} days.'.format(5,'two')\n",
        "print(text)"
      ],
      "metadata": {
        "colab": {
          "base_uri": "https://localhost:8080/"
        },
        "id": "41EiIMYg020w",
        "outputId": "adb54204-0c16-482b-a6bb-279b2822a681"
      },
      "execution_count": null,
      "outputs": [
        {
          "output_type": "stream",
          "name": "stdout",
          "text": [
            "I ate 5!!! apples, so I was sick for ===two==== days.\n"
          ]
        }
      ]
    },
    {
      "cell_type": "code",
      "source": [
        "# 문자열 크기\n",
        "a='life is beautiful, enjoy it'\n",
        "print(len(a))\n",
        "\n",
        "#문자열 인덱스:0,1,2\n",
        "a[0] #첫번쨰 자리의 문자\n",
        "a[2]\n",
        "a[-1] # 마지막 문자\n",
        "b = a[0]+a[1]+a[3]+a[5]\n",
        "print(b)\n",
        "print(a[0:4]) # 마지막 인덱스는 포함되지 않음 'life'\n",
        "print(a[19:]) # 첫번째 인덱스는 포함 'enjoy it'\n",
        "print(a[:19]) # 마지막 인덱스는 포함되지 않음 'life is beautiful, '\n",
        "print(a[:17]) #'life is beautiful'\n",
        "print(a[:]) #'life is beautiful, enjoy it'\n",
        "print(a[19:-3]) #'enjoy'"
      ],
      "metadata": {
        "colab": {
          "base_uri": "https://localhost:8080/"
        },
        "id": "BrXq5PKQ4QrF",
        "outputId": "4a8421e5-e504-4daf-c9ae-5fd4862b3374"
      },
      "execution_count": null,
      "outputs": [
        {
          "output_type": "stream",
          "name": "stdout",
          "text": [
            "27\n",
            "liei\n",
            "life\n",
            "enjoy it\n",
            "life is beautiful, \n",
            "life is beautiful\n",
            "life is beautiful, enjoy it\n",
            "enjoy\n"
          ]
        }
      ]
    },
    {
      "cell_type": "code",
      "source": [
        "# 문자열 바꾸기\n",
        "a=\"pithon\"\n",
        "# a[1] = 'y' -> error\n",
        "a= a[0]+'y'+a[2:]\n",
        "print(a)\n",
        "\n",
        "# 문자열 관련 함수\n",
        "a =\"Python is the best choice\"\n",
        "print(a.count('t')) #갯수\n",
        "print(a.find('b')) # index\n",
        "print(a.find('k')) #-1 (error는 아님 k가 없다는 뜻=-1)\n",
        "print(a.index('t')) #제일 처음 나오는 t의 idex를 출력\n",
        "print(a.upper())\n",
        "print(a.lower())\n",
        "print(a.replace('Python', 'c++'))\n",
        "print (a.split()) #['Python', 'is', 'the', 'best', 'choice']\n",
        "\n",
        "b = 'a:b:c:d'\n",
        "print(b.split(':'))\n",
        "\n",
        "#문자열 삽입(join): 따옴표 상관없음\n",
        "print(\",\".join('abcd')) #a,b,c,d\n",
        "print(\" \".join('abcd')) #a,b,c,d\n",
        "print(\",\".join(['a','b','c','d'])) #a,b,c,d\n",
        "print(\":\".join(['a','b','c','d'])) #a:b:c:d\n",
        "\n",
        "text=['Python', 'is', 'the', 'best', 'choice']\n",
        "print(\":\".join(text)) #Python:is:the:best:choice\n",
        "\n",
        "# 문자열 공백 없애기\n",
        "a = \" hi \"\n",
        "b = a.lstrip() #왼쪽공백없애기\n",
        "print(b)\n",
        "b = a.rstrip() #오를쪽~\n",
        "print(b)\n",
        "b = a.strip() #양쪽공백없애기\n",
        "print(b)\n"
      ],
      "metadata": {
        "colab": {
          "base_uri": "https://localhost:8080/"
        },
        "id": "XRFdIk_l6Sfn",
        "outputId": "f3354729-2f40-49eb-8d9e-dfcd38dac450"
      },
      "execution_count": null,
      "outputs": [
        {
          "output_type": "stream",
          "name": "stdout",
          "text": [
            "python\n",
            "3\n",
            "14\n",
            "-1\n",
            "2\n",
            "PYTHON IS THE BEST CHOICE\n",
            "python is the best choice\n",
            "c++ is the best choice\n",
            "['Python', 'is', 'the', 'best', 'choice']\n",
            "['a', 'b', 'c', 'd']\n",
            "a,b,c,d\n",
            "a b c d\n",
            "a,b,c,d\n",
            "a:b:c:d\n",
            "Python:is:the:best:choice\n",
            "hi \n",
            " hi\n",
            "hi\n"
          ]
        }
      ]
    },
    {
      "cell_type": "code",
      "source": [
        "text=f'I ate {5:!<4} apples, so I was sick for {\"two\":=^10} days.'\n",
        "print(text)\n",
        "\n",
        "name='홍길동' ; age = 24\n",
        "print(f'나의 이름은 {name}이고 나이는 {age}이다.')\n",
        "\n",
        "name='홍길동' ; weight = 46.778\n",
        "print(f'나의 이름은 {name}이고 몸무게는 {weight:.1f}이다.')"
      ],
      "metadata": {
        "colab": {
          "base_uri": "https://localhost:8080/"
        },
        "id": "gaZLSn6d2y9X",
        "outputId": "d504b0b7-5222-4e97-b42a-a860a8a85f5a"
      },
      "execution_count": null,
      "outputs": [
        {
          "output_type": "stream",
          "name": "stdout",
          "text": [
            "I ate 5!!! apples, so I was sick for ===two==== days.\n",
            "나의 이름은 홍길동이고 나이는 24이다.\n",
            "나의 이름은 홍길동이고 몸무게는 46.8이다.\n"
          ]
        }
      ]
    },
    {
      "cell_type": "code",
      "source": [
        "# 강의 1주차 Exercise\n",
        "#1.\n",
        "a = int(input(\"국어 점수는?: \"))\n",
        "b = int(input(\"수학 점수는?: \"))\n",
        "c = int(input(\"수학 점수는?: \"))\n",
        "d = (a+b+c)/3\n",
        "print('A의 점수는 %4.2f 이다' %d)\n",
        "\n",
        "#2.\n",
        "a = 137%2\n",
        "print(a)\n",
        "print('137%%2= %d 이므로 홀수이다' %a) #결과: 137%2= 1 이므로 홀수이다"
      ],
      "metadata": {
        "id": "zdtYtGLhdTug"
      },
      "execution_count": null,
      "outputs": []
    },
    {
      "cell_type": "code",
      "source": [
        "# 강의 2주차 Exercise\n",
        "#1.  홍길동씨의 주민등록번호는 881212-1068234이다.\n",
        "a='881212-1068234'\n",
        "b='홍길동'\n",
        "text = '%s씨는 %s년 %s월 %s일 생이다' %(b, a[0:2], a[2:4], a[4:6])\n",
        "print(text)#방법1\n",
        "\n",
        "text = '%s씨는 %d년 %d월 %d일 생이다' %(b, int(a[0:2]),\n",
        " int(a[2:4]), int(a[4:6]))\n",
        "print(text)#방법2\n",
        "\n",
        "a1 = a[0:2]; a2=a[2:4]; a3=a[4:6]\n",
        "text = '{0}씨는 {1}년 {2}월 {3}일 생이다'.format(b, a1, a2, a3)\n",
        "print(text)#방법3\n",
        "\n",
        "text = f'{b}씨는 {a[0:2]}년 {a[2:4]}월 {a[4:6]}일 생이다'\n",
        "print(text)#방법4\n",
        "\n",
        "# 2.\n",
        "a='python:is:the:best'\n",
        "# 를 이용하여 다음을 출력하시오.\n",
        "# 출력: C++ is the BEST\n",
        "a=a.replace('python', 'C++')\n",
        "a=a.replace('best', 'BEST') # a.upper사용해서 + 리스트 #C++:is:the:BEST\n",
        "print(a)\n",
        "b = a.split(':') #['C++', 'is', 'the', 'BEST']\n",
        "print(b)\n",
        "c = ' '.join(b)\n",
        "print(c)\n"
      ],
      "metadata": {
        "id": "2ZrkgdISeT3k"
      },
      "execution_count": null,
      "outputs": []
    },
    {
      "cell_type": "code",
      "source": [
        "#2.\n",
        "a='python:is:the:best'\n",
        "# 를 이용하여 다음을 출력하시오.\n",
        "# 출력: C++ is the BEST\n",
        "\n",
        "b=a.split(\":\")\n",
        "print(b)\n",
        "b[0] = 'C++';\n",
        "print(b)\n",
        "b[3] = b[3].upper();\n",
        "print(b)\n",
        "c=' '.join(b)\n",
        "print(c)"
      ],
      "metadata": {
        "colab": {
          "base_uri": "https://localhost:8080/"
        },
        "id": "Y1Mzl4-LM6Xr",
        "outputId": "fd99ec2a-5486-48eb-b559-b87e9c78aa68"
      },
      "execution_count": null,
      "outputs": [
        {
          "output_type": "stream",
          "name": "stdout",
          "text": [
            "['python', 'is', 'the', 'best']\n",
            "['C++', 'is', 'the', 'best']\n",
            "['C++', 'is', 'the', 'BEST']\n",
            "C++ is the BEST\n"
          ]
        }
      ]
    }
  ]
}
