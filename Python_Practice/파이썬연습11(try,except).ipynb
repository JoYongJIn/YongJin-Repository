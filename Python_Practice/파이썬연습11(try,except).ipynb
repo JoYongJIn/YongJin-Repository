{
  "nbformat": 4,
  "nbformat_minor": 0,
  "metadata": {
    "colab": {
      "provenance": [],
      "authorship_tag": "ABX9TyNgIeUk+GRB4EGvc/KtAQsM",
      "include_colab_link": true
    },
    "kernelspec": {
      "name": "python3",
      "display_name": "Python 3"
    },
    "language_info": {
      "name": "python"
    }
  },
  "cells": [
    {
      "cell_type": "markdown",
      "metadata": {
        "id": "view-in-github",
        "colab_type": "text"
      },
      "source": [
        "<a href=\"https://colab.research.google.com/github/JoYongJIn/YongJin-Repository/blob/main/%EC%A0%84%EC%82%B0%EC%88%98%ED%95%99_14_(%EC%A0%95%EB%A6%AC%EB%B3%B8).ipynb\" target=\"_parent\"><img src=\"https://colab.research.google.com/assets/colab-badge.svg\" alt=\"Open In Colab\"/></a>"
      ]
    },
    {
      "cell_type": "code",
      "source": [
        "# colab에서 google drive와 연결\n",
        "from google.colab import drive\n",
        "drive.mount('/content/drive')"
      ],
      "metadata": {
        "colab": {
          "base_uri": "https://localhost:8080/"
        },
        "id": "_TqnfAu-r7EN",
        "outputId": "ba5b18d5-0de3-4987-d728-990da4f0397d"
      },
      "execution_count": null,
      "outputs": [
        {
          "output_type": "stream",
          "name": "stdout",
          "text": [
            "Mounted at /content/drive\n"
          ]
        }
      ]
    },
    {
      "cell_type": "code",
      "source": [
        "# 오류(error) : ====================================================\n",
        "# a. 프로그램 실행 전에 발생하는 오류 => 구문오류 => 프로그램 자체가 실행되지 않음\n",
        "# b. 프로그램 실행 후에 발생하는 오류 => 예외(except)/런타임오류\n",
        "print('프로그램이 시작되었습니다!')\n",
        "#list_a = [1,2,3]#이렇게 넣주면 에러 해결된다.\n",
        "list_a[1]\n",
        "#예외 해결"
      ],
      "metadata": {
        "id": "nGhMj1YSCls_"
      },
      "execution_count": null,
      "outputs": []
    },
    {
      "cell_type": "code",
      "source": [
        "#======================================================\n",
        "# 예외를 처리하는 방법: 조건문을 사용 또는 try 구문 사용\n",
        "# 조건문 사용:\n",
        "#user_input = input('정수입력:')\n",
        "#num_input = int(user_input)\n",
        "#print('원의 둘레:', 2*3.14*num_input)\n",
        "\n",
        "user_input = input('정수입력:')\n",
        "if user_input.isdigit():\n",
        "  num_input = int(user_input)\n",
        "  print('원의 둘레:', 2*3.14*num_input)\n",
        "else:\n",
        "  print('정수를 입력하지 않았습니다.')"
      ],
      "metadata": {
        "colab": {
          "base_uri": "https://localhost:8080/"
        },
        "id": "B9zq7XalClvM",
        "outputId": "3de2f061-a6c6-4285-fbe1-fb1e3d7680a2"
      },
      "execution_count": null,
      "outputs": [
        {
          "output_type": "stream",
          "name": "stdout",
          "text": [
            "정수입력:4.5\n",
            "정수를 입력하지 않았습니다.\n"
          ]
        }
      ]
    },
    {
      "cell_type": "code",
      "source": [
        "#=======================================================\n",
        "# 프로그램을 작성할때 항상 예외적인 상황까지 모두 생각하는게 좋음\n",
        "# 조건문처럼 예외가 발생할 모든 상황을 예측하기 쉽지 않음\n",
        "# => try/ except 구문을 사용!\n",
        "# try:\n",
        "#   예외가 발생할 가능성이 있는 코드(실행할 코드)\n",
        "# except:\n",
        "#   예외가 발생했을 때 실행할 코드\n",
        "#========================================================\n",
        "try:\n",
        "  user_input = input('정수입력:')\n",
        "  num_input = int(user_input)\n",
        "  print('원의 둘레:', 2*3.14*num_input)\n",
        "except:\n",
        "  print('정수를 입력하지 않았습니다.')"
      ],
      "metadata": {
        "id": "LMp3axRnClxg"
      },
      "execution_count": null,
      "outputs": []
    },
    {
      "cell_type": "code",
      "source": [
        "# try:\n",
        "#   예외가 발생할 가능성이 있는 코드\n",
        "# except:\n",
        "#   예외가 발생했을 때 실행할 코드\n",
        "# else:\n",
        "#  예외가 발생하지 않았을때 실행할 코드\n",
        "try:\n",
        "  user_input = input('정수입력:')\n",
        "  num_input = int(user_input) #에러없으면 else구문으로 간다.\n",
        "except:\n",
        "  print('정수를 입력하지 않았습니다.')\n",
        "else:\n",
        "  print('원의 둘레:', 2*3.14*num_input)"
      ],
      "metadata": {
        "id": "KcHpZ2dDDHJD"
      },
      "execution_count": null,
      "outputs": []
    },
    {
      "cell_type": "code",
      "source": [
        "# try:\n",
        "#   예외가 발생할 가능성이 있는 코드\n",
        "# except:\n",
        "#   예외가 발생했을 때 실행할 코드\n",
        "# else:\n",
        "#  예외가 발생하지 않았을때 실행할 코드\n",
        "# finally:\n",
        "# 무조건 실행할 코드\n",
        "try:\n",
        "  user_input = input('정수입력:')\n",
        "  num_input = int(user_input) #에러없으면 else구문으로 간다.\n",
        "except:\n",
        "  print('정수를 입력하지 않았습니다.')\n",
        "else:\n",
        "  print('원의 둘레:', 2*3.14*num_input)\n",
        "finally:\n",
        "  print('예외이든 아니든 코딩을 마치겠음')"
      ],
      "metadata": {
        "id": "FcYhk_57DHLR"
      },
      "execution_count": null,
      "outputs": []
    },
    {
      "cell_type": "code",
      "execution_count": null,
      "metadata": {
        "id": "mL3LrB36iqry"
      },
      "outputs": [],
      "source": [
        "#Exercise======================================\n",
        "#iput함수를 써서 어떤 숫자a를 입력받고,a가 정수이면 'a^2+4'를 프린트하고,\n",
        "#정수가 아닌것을 입력하면 '정수가아닙니다'를 프린트하게끔 try/except/else구문을 써서 코딩해보자\n",
        "#Finally구을써서 '정수이든 아니든 코딩을 마치겠음'을 추가하세요\n",
        "\n",
        "try:\n",
        "  user_input = input('정수입력:')\n",
        "  num_input = int(user_input)\n",
        "except:\n",
        "  print('정수를 입력하지 않았습니다.')\n",
        "else:\n",
        "  print('출력값:', a^2+4)"
      ]
    },
    {
      "cell_type": "code",
      "source": [
        "try:\n",
        "  user_input = input('정수입력:')\n",
        "  num_input = int(user_input)\n",
        "except:\n",
        "  print('정수를 입력하지 않았습니다.')\n",
        "else:\n",
        "  print('출력값:', a**2+4)\n",
        "finally:\n",
        "  print('예외이든 아니든 코딩을 마치겠음')"
      ],
      "metadata": {
        "id": "4GMBKxcmnXam"
      },
      "execution_count": null,
      "outputs": []
    },
    {
      "cell_type": "code",
      "source": [
        "#========================================================\n",
        "# try:\n",
        "#   예외가 발생할 가능성이 있는 코드\n",
        "# except 예외의 종류 as 변수:\n",
        "#   예회가 발생했을 때 실행할 구문\n",
        "#=========================================================\n",
        "#아래와 차이알기(1번은 오류로인해 실행이 중단되는것이고 아래는 끝까지 실행되는것이다.)\n",
        "user_input = input('정수입력:')\n",
        "num_input = int(user_input)\n",
        "print('원의 둘레:', 2*3.14*num_input)"
      ],
      "metadata": {
        "id": "MUJ6joaNoy2B"
      },
      "execution_count": null,
      "outputs": []
    },
    {
      "cell_type": "code",
      "source": [
        "try:\n",
        "  user_input = input('정수입력:')\n",
        "  num_input = int(user_input)\n",
        "  print('원의 둘레:', 2*3.14*num_input)\n",
        "except Exception as e:\n",
        "  print(type(e), e)#에러 이름을 알려주고 구체적인 내용을 써준다.\n",
        "# <class 'ValueError'> invalid literal for int() with base 10: '3.4'"
      ],
      "metadata": {
        "colab": {
          "base_uri": "https://localhost:8080/"
        },
        "id": "WQujuGHdD3k7",
        "outputId": "394dbecc-b7ea-4035-f38c-fbe24b781f6e"
      },
      "execution_count": null,
      "outputs": [
        {
          "output_type": "stream",
          "name": "stdout",
          "text": [
            "정수입력:3.14\n",
            "<class 'ValueError'> invalid literal for int() with base 10: '3.14'\n"
          ]
        }
      ]
    },
    {
      "cell_type": "code",
      "source": [
        "# 예제 -----------------------\n",
        "list_num = [52, 34, 31,100]\n",
        "#num_input = int(input('정수입력:'))\n",
        "#print('{}번째 요소: {}.'.format(num_imput, list_num[num_input-1]))\n",
        "try:\n",
        "  num_input = int(input('정수입력:'))\n",
        "  print('{}번째 요소: {}'.format(num_input, list_num[num_input-1]))\n",
        "except Exception as e:\n",
        "  print(type(e), e)\n",
        "\n",
        "#정수입력:3.14\n",
        "#<class 'ValueError'> invalid literal for int() with base 10: '3.14'\n",
        "#정수입력:5\n",
        "#<class 'IndexError'> list index out of range"
      ],
      "metadata": {
        "colab": {
          "base_uri": "https://localhost:8080/"
        },
        "id": "yxfmudl-oy90",
        "outputId": "eab43b91-315c-4af0-a3ae-9b625af2a1d0"
      },
      "execution_count": null,
      "outputs": [
        {
          "output_type": "stream",
          "name": "stdout",
          "text": [
            "정수입력:1\n",
            "1번째 요소: 52\n"
          ]
        }
      ]
    },
    {
      "cell_type": "code",
      "source": [
        "list_num = [52, 34, 31,100]\n",
        "try:\n",
        "  num_input = int(input('정수입력:'))\n",
        "  print('{}번째 요소: {}'.format(num_input, list_num[num_input-1]))\n",
        "except ValueError:\n",
        "  print('정수를 다시 입력하세요')\n",
        "except IndexError:\n",
        "  print('인덱스를 벗어났어요')\n",
        "except Exception as e:\n",
        "  print(type(e),e)"
      ],
      "metadata": {
        "colab": {
          "base_uri": "https://localhost:8080/"
        },
        "id": "6fsa-KV4XsXv",
        "outputId": "e7723c63-b565-4d30-b5f4-5ccbe86c2d79"
      },
      "execution_count": null,
      "outputs": [
        {
          "output_type": "stream",
          "name": "stdout",
          "text": [
            "정수입력:4\n",
            "4번째 요소: 100\n"
          ]
        }
      ]
    },
    {
      "cell_type": "code",
      "source": [
        "#==================================\n",
        "# try except 구문 & 함수\n",
        "#==================================\n",
        "def divide_exception(a, b):\n",
        "  try:\n",
        "    print(a/b)\n",
        "  #except Exception as e:\n",
        "    #print(type(e),e)\n",
        "  except ZeroDivisionError:\n",
        "    print('0으로 나눴습니다.')\n",
        "divide_exception(1, 0) #except 실행되다.\n",
        "divide_exception(1, 1) #오류발생 안함\n"
      ],
      "metadata": {
        "colab": {
          "base_uri": "https://localhost:8080/"
        },
        "id": "tEvsAtFqpvNn",
        "outputId": "3dcbe479-8e0d-41be-a31c-114f8890fa63"
      },
      "execution_count": null,
      "outputs": [
        {
          "output_type": "stream",
          "name": "stdout",
          "text": [
            "0으로 나눴습니다.\n",
            "1.0\n"
          ]
        }
      ]
    },
    {
      "cell_type": "code",
      "source": [
        "def write_file(filename, text):\n",
        "  try:\n",
        "    f = open(filename, 'w')\n",
        "    f.write(text)\n",
        "    #except Exception as e:(어떤에러 생기는지 모를때 확인용)\n",
        "    #print(type(e),e)\n",
        "  except Exception as e:\n",
        "    print('파일이나 텍스트가 문자인지 확인하세요')\n",
        "  #else: 들어갈 조건이없다.\n",
        "  finally:\n",
        "    f.close()\n",
        "\n",
        "write_file('test.txt', 안녕하세요)"
      ],
      "metadata": {
        "id": "wMBmjAx-pvQF"
      },
      "execution_count": null,
      "outputs": []
    },
    {
      "cell_type": "code",
      "source": [
        "#---------------------------------간단히 확인하는법\n",
        "try:\n",
        "  write_file('test.txt', 안녕하세요)\n",
        "except Exception as e:\n",
        "  print(type(e),e)"
      ],
      "metadata": {
        "colab": {
          "base_uri": "https://localhost:8080/"
        },
        "id": "BFZfo8CVcFXJ",
        "outputId": "b35dff6e-f013-461f-fb1f-8314369844c9"
      },
      "execution_count": null,
      "outputs": [
        {
          "output_type": "stream",
          "name": "stdout",
          "text": [
            "<class 'NameError'> name '안녕하세요' is not defined\n"
          ]
        }
      ]
    },
    {
      "cell_type": "code",
      "source": [
        "a=int(input('정수입력:'))\n",
        "print(a)\n",
        "\n",
        "int(3.14) #두개의 차이 위는 문자열취급되어 정수화안된다."
      ],
      "metadata": {
        "id": "_XIfz2bxqQJZ"
      },
      "execution_count": null,
      "outputs": []
    },
    {
      "cell_type": "code",
      "source": [
        "#===============================================\n",
        "# try except 구문 & pass\n",
        "#===============================================\n",
        "list_input = ['52', '273', '32','스파이','103']\n",
        "\n",
        "result =[]\n",
        "for i in list_input:\n",
        "  try:\n",
        "    float(i)\n",
        "    result.append(i)\n",
        "  except:\n",
        "    pass\n",
        "print(result) # ['52', '273', '32', '103']"
      ],
      "metadata": {
        "colab": {
          "base_uri": "https://localhost:8080/"
        },
        "id": "aCJaWmKmcFZg",
        "outputId": "0a53ae0d-4092-479b-e701-e4c299dab19b"
      },
      "execution_count": null,
      "outputs": [
        {
          "output_type": "stream",
          "name": "stdout",
          "text": [
            "['52', '273', '32', '103']\n"
          ]
        }
      ]
    },
    {
      "cell_type": "code",
      "source": [
        "result =[]\n",
        "for i in list_input:\n",
        "  try:\n",
        "    float(i)\n",
        "    pass\n",
        "  except:\n",
        "    result.append(i)\n",
        "print(result)"
      ],
      "metadata": {
        "colab": {
          "base_uri": "https://localhost:8080/"
        },
        "id": "LuFY-YzIcFb2",
        "outputId": "77f5e3f9-48ba-4bbe-a630-1c63db727186"
      },
      "execution_count": null,
      "outputs": [
        {
          "output_type": "stream",
          "name": "stdout",
          "text": [
            "['스파이']\n"
          ]
        }
      ]
    },
    {
      "cell_type": "code",
      "source": [
        "a=6\n",
        "assert a%3==0"
      ],
      "metadata": {
        "id": "NcvwBbXrcFeC"
      },
      "execution_count": null,
      "outputs": []
    },
    {
      "cell_type": "code",
      "source": [
        "#----------------------------오류나오면 그냥 지나가고싶을떄\n",
        "def divide_exception(a, b):\n",
        "  try:\n",
        "    print(a/b)\n",
        "  except ZeroDivisionError:\n",
        "    pass\n",
        "\n",
        "divide_exception(1, 0)\n",
        "divide_exception(2, 1)"
      ],
      "metadata": {
        "id": "-URnwKb2qYB_"
      },
      "execution_count": null,
      "outputs": []
    },
    {
      "cell_type": "code",
      "source": [
        "#Exercise====================================== 위에 exercise와 유사문제\n",
        "#iput함수를 써서 어떤 숫자a를 입력받고,a가 3의 배수이면 'a^2+4'를 프린트하고,\n",
        "#3의 배수가 아닌것을 입력하면 '3의 배수가아닙니다'를 프린트하게끔 try/except/else구문을 써서 코딩해보자\n",
        "#Finally구을써서 '정수이든 아니든 코딩을 마치겠음'을 추가하세요\n",
        "try:\n",
        "  user_input = input('정수입력:')\n",
        "  assert num_input%3==0\n",
        "except:\n",
        "  print('3의 배수가 아닙니다.')\n",
        "else:\n",
        "  print('a^2+4:', user_input**2+4)\n",
        "finally:\n",
        "  print('예외이든 아니는 코딩을 마치겠음')"
      ],
      "metadata": {
        "id": "DVbTdRilqbqe"
      },
      "execution_count": null,
      "outputs": []
    },
    {
      "cell_type": "code",
      "source": [
        "def three_multiple():\n",
        "  input_num = float(input('3의 배수를 입력하세요'))\n",
        "  if input_num % 3 ==0:\n",
        "    print(input_num)\n",
        "  else:\n",
        "    raise Exception('3의 배수가 입력되지않았습니다.')\n",
        "try:\n",
        "  three_multiple()\n",
        "except Exception as e:\n",
        "  print(e)"
      ],
      "metadata": {
        "id": "Cbu_q_6XhiZb"
      },
      "execution_count": null,
      "outputs": []
    },
    {
      "cell_type": "code",
      "source": [
        "def three_multiple():\n",
        "  num = int(input('3의 배수를 입력하세요'))\n",
        "  if num%3 !=0:\n",
        "    raise Exception('3의 배수가 입력되지않았습니다.')\n",
        "  print(f'{num}는 3의 배수입니다.')\n",
        "\n",
        "try:\n",
        "  three_multiple()\n",
        "except Exception as e:\n",
        "  print(e)"
      ],
      "metadata": {
        "id": "u6Y4F7Eohiba"
      },
      "execution_count": null,
      "outputs": []
    },
    {
      "cell_type": "code",
      "source": [
        "#===============================================\n",
        "# 오류 일부러 발생시키기: raise 명령어 사용\n",
        "#===============================================\n",
        "def say_nick(nick):\n",
        "  if nick == '바보':\n",
        "    raise Exception\n",
        "  print(nick)\n",
        "\n",
        "try:\n",
        "  say_nick('천사')\n",
        "  say_nick('바보')\n",
        "except:\n",
        "  print('허용되지않은 별명입니다.')"
      ],
      "metadata": {
        "colab": {
          "base_uri": "https://localhost:8080/"
        },
        "id": "KN6r2rajcFgS",
        "outputId": "7d829767-b9d5-42ee-ae06-851b657d207b"
      },
      "execution_count": null,
      "outputs": [
        {
          "output_type": "stream",
          "name": "stdout",
          "text": [
            "천사\n",
            "허용되지않은 별명입니다.\n"
          ]
        }
      ]
    },
    {
      "cell_type": "code",
      "source": [
        "def say_nick(nick):\n",
        "  if nick == '바보':\n",
        "    raise Exception('바보는 별명으로 적합하지않음')\n",
        "  print(nick)\n",
        "\n",
        "try:\n",
        "  say_nick('천사')\n",
        "  say_nick('바보')\n",
        "except Exception as e:\n",
        "  print(e)"
      ],
      "metadata": {
        "colab": {
          "base_uri": "https://localhost:8080/"
        },
        "id": "B8VmXEvHhiXA",
        "outputId": "596c3483-abb9-46de-d49e-450b91f9745a"
      },
      "execution_count": null,
      "outputs": [
        {
          "output_type": "stream",
          "name": "stdout",
          "text": [
            "천사\n",
            "바보는 별명으로 적합하지않음\n"
          ]
        }
      ]
    }
  ]
}
