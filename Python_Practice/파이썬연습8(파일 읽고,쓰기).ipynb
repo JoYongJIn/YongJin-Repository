{
  "nbformat": 4,
  "nbformat_minor": 0,
  "metadata": {
    "colab": {
      "provenance": [],
      "authorship_tag": "ABX9TyN/+qGQqA2oWRDsZ8uI8N4X",
      "include_colab_link": true
    },
    "kernelspec": {
      "name": "python3",
      "display_name": "Python 3"
    },
    "language_info": {
      "name": "python"
    }
  },
  "cells": [
    {
      "cell_type": "markdown",
      "metadata": {
        "id": "view-in-github",
        "colab_type": "text"
      },
      "source": [
        "<a href=\"https://colab.research.google.com/github/JoYongJIn/YongJin-Repository/blob/main/%EC%A0%84%EC%82%B0%EC%88%98%ED%95%99_12_1_(%EC%A0%95%EB%A6%AC%EB%B3%B8).ipynb\" target=\"_parent\"><img src=\"https://colab.research.google.com/assets/colab-badge.svg\" alt=\"Open In Colab\"/></a>"
      ]
    },
    {
      "cell_type": "code",
      "source": [
        "'''\n",
        "=====================================\n",
        "구글 drive 연동 & 현재 directory 설정\n",
        "=====================================\n",
        "'''"
      ],
      "metadata": {
        "id": "pbM7jCEV9B9Y"
      },
      "execution_count": null,
      "outputs": []
    },
    {
      "cell_type": "code",
      "execution_count": null,
      "metadata": {
        "colab": {
          "base_uri": "https://localhost:8080/"
        },
        "id": "ldMf2Z3vTOg7",
        "outputId": "8b0c12e9-100b-4876-a44b-dedc2617c4c1"
      },
      "outputs": [
        {
          "output_type": "stream",
          "name": "stdout",
          "text": [
            "Drive already mounted at /content/drive; to attempt to forcibly remount, call drive.mount(\"/content/drive\", force_remount=True).\n"
          ]
        }
      ],
      "source": [
        "# colab에서 google drive와 연결\n",
        "from google.colab import drive\n",
        "drive.mount('/content/drive')\n",
        "\n",
        "#파일 만들고 내용쓰기 방법1 +(저장폴더를 변경하거나 지정하는방법)\n",
        "import os\n",
        "os.chdir(\"/content/drive/MyDrive/Colab Notebooks/\")#Change Directory(폴더와 같은말)의 약어\n",
        "\n",
        "with open('text1.txt','w') as f: #text1.txt이 파일 이름이 된다.\n",
        "  f.write('파일 생성하기') #파일에 입력할 내용이다. with이기 때문에 f.close()가 없다."
      ]
    },
    {
      "cell_type": "code",
      "source": [
        "#파일 만들고 내용쓰기 방법2 +(저장 폴더를 병경하거나 지정하는방법)\n",
        "import os\n",
        "os.mkdir('Folder')#make directory약자 폴더가 만들어진다. 위에는 폴더로 옮기는거고 이건 폴더가 만들어진다. 이미 이름이 있는 폴더명을 할경우 오류가 된다.\n",
        "file_path = \"/content/drive/MyDrive/Colab Notebooks/Folder/joyongjin\"#존재 하는 파일이름을 입력해야 오류가 안뜬다. 마지막에/폴더명/파일이름 으로 두자리수를 마추어야한다. 파일과 폴더가 이름이 동일해도되나 자리수가다르면 오류이다.\n",
        "with open(os.path.join(file_path),'w') as f:#위와 차이가 파일이름 들어가는 자리에 경로가 들어가고 경로에 파일명이 기입된다.\n",
        "  f.write('내용 들어가는 자리')"
      ],
      "metadata": {
        "id": "roPpxJxQ4WtB"
      },
      "execution_count": null,
      "outputs": []
    },
    {
      "cell_type": "code",
      "source": [
        "'''\n",
        " 코드는 Python에서 파일을 쓰기 모드('w')로 열고, 파일의 내용을 다루는 데 사용되는 구문입니다.\n",
        "\n",
        "1.os.path.join(file_path): os 모듈의 path.join 함수는 파일 경로를 안전하게 조합하거나 생성하는데 사용됩니다.\n",
        "이 함수는 운영 체제에 맞는 파일 경로 구분자를 사용하여 입력된 각 경로 부분을 결합합니다. 여기서 file_path는 열려는 파일의 경로를 나타냅니다.\n",
        "\n",
        "2.open() 함수: 이 함수는 파일을 열 때 사용되며, 첫 번째 인자는 열 파일의 이름(또는 경로)이고,\n",
        "두 번째 인자는 파일을 열 모드입니다. 'w' 모드는 '쓰기 모드'를 의미하며, 이 모드에서는 파일에 쓸 수 있습니다.\n",
        "만약 파일이 이미 존재하면, 'w' 모드에서는 기존 파일의 내용을 모두 지우고 새로운 내용을 씁니다.\n",
        "\n",
        "3.with 문: with 문은 컨텍스트 관리자라는 것을 사용하여 자원을 효과적으로 관리하는데 사용됩니다.\n",
        "이 경우에는 파일을 열어서 사용한 후, 파일을 자동으로 닫아주는 역할을 합니다.\n",
        "즉, with 문을 사용하면 f.close()를 명시적으로 호출하지 않아도 되어서 코드를 더 간결하고 안전하게 만듭니다.\n",
        "\n",
        "4.as f: 여기서 f는 열린 파일에 대한 참조입니다. 이 f를 사용해서 파일에 데이터를 쓰거나, 파일에서 데이터를 읽을 수 있습니다.\n",
        "\n",
        "따라서, 이 코드는 file_path에서 지정한 위치에 파일을 쓰기 모드로 열고, 그 파일을 f라는 이름으로 다루겠다는 것을 의미합니다.\n",
        "이후 f를 사용하여 파일에 데이터를 쓸 수 있습니다. 그리고 with 블록이 끝나면, 파일은 자동으로 닫힙니다."
      ],
      "metadata": {
        "id": "ZaiP2CSPQysU"
      },
      "execution_count": null,
      "outputs": []
    },
    {
      "cell_type": "code",
      "source": [
        "#================================\n",
        "#'r'은 읽기전용으로 파일을 오픈합니다. 읽기만 가능하고, 쓰기는 되지 않습니다.\n",
        "#'w' 는 쓰기 모드인데, 파일을 새로 만듭니다. 즉, 동일한 이름의 파일이 있으면 지우고 새로 작성합니다.\n",
        "#'a' 는 쓰기 모드인데, 'w' 와는 다르게 기존 파일에 내용을 이어서 작성합니다.\n",
        "# ===============================\n",
        "'''\n",
        "=====================================\n",
        "파일 생성하기(쓰기) 'w'\n",
        "=====================================\n",
        "'''"
      ],
      "metadata": {
        "id": "4EYfvjYo9FX_"
      },
      "execution_count": null,
      "outputs": []
    },
    {
      "cell_type": "code",
      "source": [
        "f=open('Newfile.txt','w')#\"txt\"는 일반적으로 텍스트 파일을 나타내는 확장자이다.확장자(Extension)는 파일 이름 뒤에 마침표(.)로 구분되어 나타나는 문자열입니다. 확장자는 파일의 종류나 형식을 나타낸다.\n",
        "for i in range(1,11):\n",
        "  data = '%d번째 줄입니다.\\n'%i\n",
        "  f.write(data)\n",
        "f.close()#이렇게 해도 파일이 생성된다."
      ],
      "metadata": {
        "id": "0cerSzeX9HTn"
      },
      "execution_count": null,
      "outputs": []
    },
    {
      "cell_type": "code",
      "source": [
        "import os#바로위 코드와 다르게 경로를 지정하였다.(내용 쓰고 폴더속에 저장함)\n",
        "file_path = \"/content/drive/MyDrive/Colab Notebooks/Folder/joyongjin2\"\n",
        "f=open(os.path.join(file_path),'w')\n",
        "for i in range(1,11):\n",
        "  data = '%d번째 줄입니다.\\n'%i\n",
        "  f.write(data)\n",
        "f.close()"
      ],
      "metadata": {
        "id": "XKtjhebo-QNg"
      },
      "execution_count": null,
      "outputs": []
    },
    {
      "cell_type": "code",
      "source": [
        "'''\n",
        "=====================================\n",
        "파일 읽기'r'\n",
        "=====================================\n",
        "'''"
      ],
      "metadata": {
        "id": "O1XO5mGG_M0t"
      },
      "execution_count": null,
      "outputs": []
    },
    {
      "cell_type": "code",
      "source": [
        "# readline 함수: 가장 첫번째 줄이 화면에 출력\n",
        "f = open('Newfile.txt','r') # read\n",
        "line = f.readline()\n",
        "print(line)\n",
        "f.close()"
      ],
      "metadata": {
        "id": "otZKRxDW7Svk"
      },
      "execution_count": null,
      "outputs": []
    },
    {
      "cell_type": "code",
      "source": [
        "f = open('Newfile.txt','r')\n",
        "lines = f.readlines() #f.readlines s가 붙었다\n",
        "print(lines)\n",
        "f.close()"
      ],
      "metadata": {
        "id": "fExAvy_V7Syr"
      },
      "execution_count": null,
      "outputs": []
    },
    {
      "cell_type": "code",
      "source": [
        "# readlines 함수 :\n",
        "# 파일 내용 전체를 가져와 리스트로 반환합니다. 각 줄은 문자열 형태로 리스트의 요소로 저장\n",
        "f = open('Newfile.txt','r')\n",
        "lines = f.readlines()\n",
        "#print(lines) #문자열로 구성된 리스트\n",
        "for line in lines: #한줄씩 읽고싶을때! 위와의 차이이다.\n",
        "  print(line)\n",
        "print(lines)\n",
        "f.close()"
      ],
      "metadata": {
        "id": "nPYzFqXv7S09"
      },
      "execution_count": null,
      "outputs": []
    },
    {
      "cell_type": "code",
      "source": [
        "# read 함수: 한꺼번에 읽기\n",
        "# 파일 내용 전체를 가져와 문자열로 반환/ 각각의 줄은 '\\n' 문자로 구분\n",
        "f = open('Newfile.txt','r')\n",
        "data = f.read()\n",
        "print(data)\n",
        "f.close()"
      ],
      "metadata": {
        "id": "nXn7tiid7S3G"
      },
      "execution_count": null,
      "outputs": []
    },
    {
      "cell_type": "code",
      "source": [
        "'''\n",
        "=====================================\n",
        "파일 내용 추가 'a'\n",
        "=====================================\n",
        "'''\n",
        "f = open('Newfile.txt','a') # 추가 모드\n",
        "for i in range(11,20): #10번쨰줄 아래로 11번쨰줄부터 19번째줄까지 생겼다.\n",
        "  data = '%d번째 줄입니다.\\n'%i\n",
        "  f.write(data)\n",
        "f.close()"
      ],
      "metadata": {
        "id": "f5dswktA7S5B"
      },
      "execution_count": null,
      "outputs": []
    },
    {
      "cell_type": "code",
      "source": [
        "## Exercise(random이용하여 로또번호 생성하기)========================================\n",
        "import random\n",
        "\n",
        "f = open('lotto.txt', 'a') #여기서 로또 파일이 생성되고 쓰기가 시작된다.\n",
        "num = input(\"횟수를 입력해주세요 :\")\n",
        "\n",
        "for i in range(int(num)):\n",
        "  lotto = random.sample(range(1,46),6) #number 정수형이라 문자열로 바꿔기위해 str\n",
        "  print(lotto)\n",
        "  f.write(str(lotto)+'\\n')\n",
        "f.close()\n"
      ],
      "metadata": {
        "id": "WUYTXqQ69yvo"
      },
      "execution_count": null,
      "outputs": []
    },
    {
      "cell_type": "code",
      "source": [
        "## Exercise: with 사용 (w, r, a with로 복습해보는 예제)=============================\n",
        "\n",
        "# with문 사용하여 'w'\n",
        "f = open('Newfile2.txt', 'w')\n",
        "f.write('life is beautiful.')\n",
        "f.close()\n",
        "\n",
        "\n",
        "with open('Newfile2.txt', 'w') as f: #위와 차이 close가 없어도 된다.\n",
        "  f.write('life is beautiful.\\n') #다시 실행 시켜도 이미 파일이 생성되었으면 아무일도 없다 오류는 생기지 않는다."
      ],
      "metadata": {
        "id": "jgqbcAwj-WEU"
      },
      "execution_count": null,
      "outputs": []
    },
    {
      "cell_type": "code",
      "source": [
        "# with문 사용하여 'r' #읽어 오면 파일을 실행창에 읽어준다. read 3종세트중 원하는것으로\n",
        "with open('Newfile2.txt', 'r') as f:\n",
        "  line = f.readline() #첫줄만\n",
        "  print(line)\n",
        "  lines = f.readlines() #전체\n",
        "  for line in lines:\n",
        "    print(lines)\n",
        "  date = f.read() #전체 각각\n",
        "  print(data)"
      ],
      "metadata": {
        "id": "OPe3XSAx9yyB"
      },
      "execution_count": null,
      "outputs": []
    },
    {
      "cell_type": "code",
      "source": [
        "# with문 사용하여 'a'\n",
        "with open('Newfile2.txt', 'a') as f: #파일명 원하는 파일로 잘써야하며 추가하고 다시 r로 읽어보면 확인된다.\n",
        "  f.write('enjoy you life.\\n')"
      ],
      "metadata": {
        "id": "UPRKud5_9y0K"
      },
      "execution_count": null,
      "outputs": []
    },
    {
      "cell_type": "code",
      "source": [
        "##Exercise: random으로 만든 파일 읽어들이기 예제========================================================\n",
        "# 예제: 랜덤하게 100명의 키와 몸무게 만들기\n",
        "import random\n",
        "\n",
        "hangle = list(\"가나다라마바사아자차카타파하\")\n",
        "\n",
        "with open(\"Newfile4.txt\", \"w\") as f:#파일 객체를 f로 지정하여 with 문을 사용하여 \"Newfile3.txt\" 파일을 읽기 모드(\"r\")로 엽니다\n",
        "  for i in range(10):\n",
        "    name = random.choice(hangle)+random.choice(hangle)\n",
        "    weight = random.randrange(40,100)\n",
        "    height = random.randrange(140,200)\n",
        "    f.write('{},{},{}\\n'.format(name, weight, height))\n",
        "\n",
        "\n",
        "#생성한 파일 읽어들이는 방법 ,기준으로 쪼개어 읽어들여보기 (리스트형 문자열이 'A','1','2'꼴로 쪽개짐)\n",
        "with open(\"Newfile4.txt\", \"r\") as f: #파일 객체를 f로 지정하여 with 문을 사용하여 \"Newfile3.txt\" 파일을 읽기 모드(\"r\")로 엽니다\n",
        "  for line in f: #line을 이용하여 파일을 한줄 한줄 읽어들인다.\n",
        "    (name, weight, height) = line.strip().split(',')#','기준으로 양쪽 공백을 제거한후 name, weight,height 변수 할당한다.\n",
        "    if (not name) or (not weight) or (not height):\n",
        "      continue #결측치가 있는경우 오류가 생기지않도록 if문을 만들었다.\n",
        "\n",
        "\n",
        "    bmi = int(weight)/((int(height)/100)**2) #for문안에 들어와 있어야 다출력된다. 아니면 마지막꺼만 출력된다.\n",
        "    if bmi>=25:\n",
        "      result='과체중'\n",
        "    elif bmi>=18.5:\n",
        "      result = '정상체중'\n",
        "    else:\n",
        "      result = '저체중'\n",
        "    print('\\n'.join(['이름: {}', '몸무게: {}', '키: {}', 'BMI: {}','결과: {}']).format(name,weight,height,bmi,result))\n",
        "    print()"
      ],
      "metadata": {
        "id": "rTP_4ilqHNCw"
      },
      "execution_count": null,
      "outputs": []
    }
  ]
}
