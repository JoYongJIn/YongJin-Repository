{
  "cells": [
    {
      "cell_type": "markdown",
      "metadata": {
        "id": "view-in-github",
        "colab_type": "text"
      },
      "source": [
        "<a href=\"https://colab.research.google.com/github/JoYongJIn/YongJin-Repository/blob/main/%EC%A0%84%EC%82%B0%EC%88%98%ED%95%99_12_2_(%EC%A0%95%EB%A6%AC%EB%B3%B8)_csv%ED%8C%8C%EC%9D%BC.ipynb\" target=\"_parent\"><img src=\"https://colab.research.google.com/assets/colab-badge.svg\" alt=\"Open In Colab\"/></a>"
      ]
    },
    {
      "cell_type": "code",
      "execution_count": null,
      "metadata": {
        "id": "qntIYVt57KQe"
      },
      "outputs": [],
      "source": [
        "#\n",
        "# CSV란, Comma-seperated values의 줄임말로, 쉼표로 정보가 구분되어져 있는 파일을 의미함.\n",
        "# CSV는 정보가 콤마로 구분되어져 있다는 개념 뿐이고 실제로 CSV이지만 .csv가 아닌.txt로 저장되어 있는 경우도 종종 있음.\n",
        "# 엑셀이 깔려져 있는 컴퓨터에서는 .csv파일들을 엑셀로 기본으로 보여줌\n",
        "#"
      ]
    },
    {
      "cell_type": "code",
      "execution_count": null,
      "metadata": {
        "id": "I6zL91WiIgHZ",
        "colab": {
          "base_uri": "https://localhost:8080/"
        },
        "outputId": "b47d0048-a3f2-431e-8654-082132896661"
      },
      "outputs": [
        {
          "output_type": "stream",
          "name": "stdout",
          "text": [
            "Drive already mounted at /content/drive; to attempt to forcibly remount, call drive.mount(\"/content/drive\", force_remount=True).\n"
          ]
        }
      ],
      "source": [
        "#이 코드를 해주어야 내 드라이브에 저장된것을 볼수있다. 안그럼 못본다. 코랩 노트가 새로 열릴때마다 가장먼저 실행해주어야한다.\n",
        "from google.colab import drive\n",
        "drive.mount('/content/drive')\n",
        "\n",
        "import os\n",
        "os.chdir(\"/content/drive/MyDrive/Colab Notebooks/\")"
      ]
    },
    {
      "cell_type": "code",
      "execution_count": null,
      "metadata": {
        "id": "YKqfQuL5IROI"
      },
      "outputs": [],
      "source": [
        "import csv\n",
        "\n",
        "# 파일 쓰기 ============================\n",
        "data = [#csv형태로 저장하려면 아래와같은 형태로만들어야하다.☆아래와같이 리스트가 쌓인 행렬행태로 만들어야한다.☆☆☆☆\n",
        "    ['id', 'name', 'price', 'amount'],\n",
        "    ['1', 'apple', '5000', '5'],\n",
        "    ['2', 'pencil', '500', '42'],\n",
        "    ['3', 'pineapple', '8000', '5'],\n",
        "    ['4', 'pen', '1500', '10']\n",
        "]\n",
        "\n",
        "f = open(\"data.csv\", \"w\")\n",
        "g = csv.writer(f)\n",
        "g.writerows(data)\n",
        "f.close()"
      ]
    },
    {
      "cell_type": "code",
      "execution_count": null,
      "metadata": {
        "colab": {
          "base_uri": "https://localhost:8080/"
        },
        "id": "iZzI9Zv5IRlR",
        "outputId": "4dd797c6-6c13-4c95-d2db-b1385d367c80"
      },
      "outputs": [
        {
          "output_type": "stream",
          "name": "stdout",
          "text": [
            "['id', 'name', 'price', 'amount']\n",
            "['1', 'apple', '5000', '5']\n",
            "['2', 'pencil', '500', '42']\n",
            "['3', 'pineapple', '8000', '5']\n",
            "['4', 'pen', '1500', '10']\n"
          ]
        }
      ],
      "source": [
        "# 파일 읽기 ==============================\n",
        "\n",
        "#for문으로 reader를 읽어들이면 각 행을 콤마로 구분한 리스트로 불러옴\n",
        "f = open(\"data.csv\", \"r\")\n",
        "g = csv.reader(f)\n",
        "for row in g:\n",
        "  print(row)\n",
        "f.close()"
      ]
    },
    {
      "cell_type": "code",
      "execution_count": null,
      "metadata": {
        "colab": {
          "base_uri": "https://localhost:8080/"
        },
        "id": "IRIXEgbpIRnV",
        "outputId": "6cac356b-6498-4d20-ddc6-ea6ee8080eac"
      },
      "outputs": [
        {
          "output_type": "stream",
          "name": "stdout",
          "text": [
            "[['id', 'name', 'price', 'amount'], ['1', 'apple', '5000', '5'], ['2', 'pencil', '500', '42'], ['3', 'pineapple', '8000', '5'], ['4', 'pen', '1500', '10']]\n"
          ]
        }
      ],
      "source": [
        "# data 변수에는 2차원의 리스트로 저장(행렬로 저장)\n",
        "f = open(\"data.csv\", \"r\") #이미 저장되어 있는 파일을 읽어오는것이기때문에 파일이 새로생성되지않고 파일내용만 출력된다.\n",
        "g = csv.reader(f)\n",
        "data = list(g)\n",
        "print(data)\n",
        "f.close()"
      ]
    },
    {
      "cell_type": "code",
      "execution_count": null,
      "metadata": {
        "id": "3ljxgQL-I_Li"
      },
      "outputs": [],
      "source": [
        "# 파일 csv내용 추가 ==============================\n",
        "f = open(\"data.csv\", \"a\", newline = '')\n",
        "g = csv.writer(f)\n",
        "g.writerow(['5', ' banana', '2000', '5']) #실행할떄마다 계속 추가된다.\n",
        "f.close()#read 아닌이상은 닫아야한다."
      ]
    },
    {
      "cell_type": "code",
      "source": [
        "##  dictionary 형태로 주어진 파일 쓰고 읽기 ==========================\n",
        "'''\n",
        "# 위 방법들의 단점은 각 행이 리스트로 표현되다 보니 각 행별로 뜯어서 보면 몇번째 항목이 무슨 항목을 의미하는 것인지 직관적으로 알 수 없다\n",
        "# 만약, 데이터를 알기 쉽게 딕셔너리의 형태로 제공했다면? #위 방법들은 각행들이 딕셔너리 형태이지않다. 그래서 항목이 무슨 의미인지 어렵다는것이다.\n",
        "[\n",
        "    {'id': '1', 'name': 'apple', 'price': '5000', 'amount': '5'},\n",
        "    {'id': '2', 'name': 'pencil', 'price': '500', 'amount': '42'},\n",
        "    {'id': '3', 'name': 'pineapple', 'price': '8000', 'amount': '5'},\n",
        "    {'id': '4', 'name': 'pen', 'price': '1500', 'amount': '10'}\n",
        "] #이렇게 바꾸는 방법을 알아보자\n",
        "'''"
      ],
      "metadata": {
        "id": "hPNr2H-jEvYG"
      },
      "execution_count": null,
      "outputs": []
    },
    {
      "cell_type": "code",
      "source": [
        "# 파일 쓰기 ======================================================\n",
        "# 파일을 쓸 때에도, csv.writer를 쓸 때와 비슷하지만 fieldnames를 DictWriter를 불러올 때 인자로 같이 넘겨주어야 함\n",
        "import csv\n",
        "\n",
        "keys = ['id', 'name', 'price', 'amount']\n",
        "data = [\n",
        "    {'id': '1', 'name': 'apple', 'price': '5000', 'amount': '5'},\n",
        "    {'id': '2', 'name': 'pencil', 'price': '500', 'amount': '42'},\n",
        "    {'id': '3', 'name': 'pineapple', 'price': '8000', 'amount': '5'},\n",
        "    {'id': '4', 'name': 'pen', 'price': '1500', 'amount': '10'}\n",
        "]\n",
        "\n",
        "f = open(\"data2.csv\", \"w\") #파일이름 쓰고 w로 쓰기\n",
        "g = csv.DictWriter(f, fieldnames=keys)#header 쓰기 #☆☆☆DictWriter함수 딕셔너리 형태의 데이터를 CSV 파일에 작성하는 데 사용됩니다.\n",
        "#fieldnames=keys는 열의 맨위 feature이름을 keys로 하는것이다.\n",
        "g.writeheader() #이부분을제거하면 파일을 저장할 떄 항목이름이 작성이 안됨! #g.writeheader(): csv.DictWriter 객체 g가 가리키는 CSV 파일에 헤더를 작성합니다.\n",
        "g.writerows(data) #data를 열에 맞춰서 그아래로 쭉 정렬시킨다.\n",
        "f.close()"
      ],
      "metadata": {
        "id": "OKPOvYXgEvcQ"
      },
      "execution_count": null,
      "outputs": []
    },
    {
      "cell_type": "code",
      "source": [
        "#쓰기 방법2 with이용\n",
        "with open('data3.csv', 'w') as f:\n",
        "  g = csv.DictWriter(f, fieldnames=keys)\n",
        "  g.writeheader\n",
        "  g.writerows(data)#with 하면 close안해도된다."
      ],
      "metadata": {
        "id": "GCJKbbjpQ2tT"
      },
      "execution_count": null,
      "outputs": []
    },
    {
      "cell_type": "code",
      "source": [
        "# 파일 읽기 =======================\n",
        "f = open(\"data2.csv\", \"r\")\n",
        "g = csv.reader(f)\n",
        "for row in g:\n",
        "  print(row) #한줄씩읽어서 행렬로 출력안된다."
      ],
      "metadata": {
        "colab": {
          "base_uri": "https://localhost:8080/"
        },
        "id": "xCUkj0aTRDlp",
        "outputId": "2ad5a408-f070-460b-bd94-ffc8af188222"
      },
      "execution_count": null,
      "outputs": [
        {
          "output_type": "stream",
          "name": "stdout",
          "text": [
            "['id', 'name', 'price', 'amount']\n",
            "['1', 'apple', '5000', '5']\n",
            "['2', 'pencil', '500', '42']\n",
            "['3', 'pineapple', '8000', '5']\n",
            "['4', 'pen', '1500', '10']\n"
          ]
        }
      ]
    },
    {
      "cell_type": "code",
      "source": [
        "#읽기 방법2 with이용하여 행렬로 출력\n",
        "with open('data2.csv','r') as f:\n",
        "  g = csv.reader(f)\n",
        "  result = list(g)#행렬로만들었다.\n",
        "  print(result) #행렬형태로 출력된다."
      ],
      "metadata": {
        "colab": {
          "base_uri": "https://localhost:8080/"
        },
        "id": "D8aBIJgYHM6I",
        "outputId": "d3e15ab0-3111-49e5-f6fd-3d111584b07d"
      },
      "execution_count": null,
      "outputs": [
        {
          "output_type": "stream",
          "name": "stdout",
          "text": [
            "[['id', 'name', 'price', 'amount'], ['1', 'apple', '5000', '5'], ['2', 'pencil', '500', '42'], ['3', 'pineapple', '8000', '5'], ['4', 'pen', '1500', '10']]\n"
          ]
        }
      ]
    },
    {
      "cell_type": "code",
      "source": [
        "# 파일 추가  =======================\n",
        "f = open(\"data2.csv\", \"a\") #내용을 추가하고싶은 파일 이름넣기\n",
        "g = csv.DictWriter(f, fieldnames=keys)\n",
        "g.writerows([{'id': '5', 'name': 'banana', 'price': '1000', 'amount': '4'},{'id': '6', 'name': 'banana', 'price': '1000', 'amount': '7'}])\n",
        "f.close()"
      ],
      "metadata": {
        "id": "qAzO6DZ4RYKx"
      },
      "execution_count": null,
      "outputs": []
    },
    {
      "cell_type": "code",
      "execution_count": null,
      "metadata": {
        "id": "3RghszfBI_Nt",
        "colab": {
          "base_uri": "https://localhost:8080/"
        },
        "outputId": "80100f80-6866-43e3-aaf6-1bd1e463905c"
      },
      "outputs": [
        {
          "output_type": "stream",
          "name": "stdout",
          "text": [
            "{'id': '1', 'kor': '80', 'eng': '90', 'math': '95'}\n",
            "{'id': '2', 'kor': '50', 'eng': '80', 'math': '92'}\n",
            "{'id': '3', 'kor': '70', 'eng': '80', 'math': '85'}\n",
            "{'id': '4', 'kor': '90', 'eng': '90', 'math': '90'}\n"
          ]
        }
      ],
      "source": [
        "## Exercise ====================================== #잘보기 과제였음\n",
        "import csv\n",
        "\n",
        "keys = ['id', 'kor', 'eng', 'math']\n",
        "data = [\n",
        "    {'id': '1', 'kor': '80', 'eng': '90', 'math': '95'},\n",
        "    {'id': '2', 'kor': '50', 'eng': '80', 'math': '92'},\n",
        "    {'id': '3', 'kor': '70', 'eng': '80', 'math': '85'},\n",
        "    {'id': '4', 'kor': '90', 'eng': '90', 'math': '90'}\n",
        "]\n",
        "\n",
        "\n",
        "#완성해서 제출하기\n",
        "#(1) data4.csv 파일 만들기/읽기\n",
        "with open(\"data4.csv\", \"w\", newline=\"\") as f:\n",
        "    g = csv.DictWriter(f, fieldnames=keys)\n",
        "    g.writeheader()\n",
        "    g.writerows(data)\n",
        "\n",
        "with open('data4.csv', 'r') as f:\n",
        "    reader = csv.DictReader(f)\n",
        "    data = list(reader)\n",
        "    for row in data:\n",
        "        print(row)\n",
        "\n",
        "#(2) average추가해서  파일 업데이트 시키기\n",
        "for row in data:\n",
        "    average = (float(row['kor']) + float(row['eng']) + float(row['math'])) / 3\n",
        "    row['average'] = str(round(average, 2))\n",
        "\n",
        "#(3)data4.csv 파일을 다시쓰기\n",
        "keys.append('average')\n",
        "with open('data4.csv', 'w', newline='') as f:\n",
        "    g = csv.DictWriter(f, fieldnames=keys)\n",
        "    g.writeheader()\n",
        "    g.writerows(data)"
      ]
    },
    {
      "cell_type": "code",
      "execution_count": null,
      "metadata": {
        "id": "P7MkQwh1I_P9",
        "colab": {
          "base_uri": "https://localhost:8080/"
        },
        "outputId": "10256358-b21f-4ced-e3a3-590d6f80e12f"
      },
      "outputs": [
        {
          "output_type": "stream",
          "name": "stdout",
          "text": [
            "[{'id': '1', 'kor': '80', 'eng': '90', 'math': '95', 'average': 90.0}, {'id': '2', 'kor': '50', 'eng': '80', 'math': '92', 'average': 90.0}, {'id': '3', 'kor': '70', 'eng': '80', 'math': '85', 'average': 90.0}, {'id': '4', 'kor': '90', 'eng': '90', 'math': '90', 'average': 90.0}]\n"
          ]
        }
      ],
      "source": [
        "# 쓰기, 읽기 방법2\n",
        "with open(\"data5.csv\", \"w\") as f:\n",
        "    g = csv.DictWriter(f, fieldnames=keys)\n",
        "    g.writeheader()\n",
        "    g.writerows(data)\n",
        "\n",
        "with open(\"data5.csv\", \"r\") as f:\n",
        "    g = csv.DictReader(f)\n",
        "    data2 = data\n",
        "    i=0\n",
        "    for dict1 in g:\n",
        "      average = (float(row['kor']) + float(row['eng']) + float(row['math'])) / 3\n",
        "      data2[i]['average'] = round(average,2) #평균 반올림하기\n",
        "      i += 1 #다음행의 평균을 반올림하는 식으로 for문 반복\n",
        "\n",
        "print(data2)\n",
        "\n",
        "keys = ['id', 'kor', 'eng', 'math','average']\n",
        "with open('data5.csv', 'w') as f:\n",
        "    g = csv.DictWriter(f, fieldnames=keys)\n",
        "    g.writeheader()\n",
        "    g.writerows(data)"
      ]
    }
  ],
  "metadata": {
    "colab": {
      "provenance": [],
      "authorship_tag": "ABX9TyMOtLogwq0QbDsZK1A8iU5X",
      "include_colab_link": true
    },
    "kernelspec": {
      "display_name": "Python 3",
      "name": "python3"
    },
    "language_info": {
      "name": "python"
    }
  },
  "nbformat": 4,
  "nbformat_minor": 0
}
