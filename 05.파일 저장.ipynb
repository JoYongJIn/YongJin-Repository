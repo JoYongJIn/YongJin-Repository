{
 "cells": [
  {
   "cell_type": "markdown",
   "id": "77e46a0e",
   "metadata": {},
   "source": [
    "# 5. 파일 저장"
   ]
  },
  {
   "cell_type": "markdown",
   "id": "58c144a0",
   "metadata": {},
   "source": [
    "## 이미지 저장"
   ]
  },
  {
   "cell_type": "code",
   "execution_count": 3,
   "id": "a5b006c1",
   "metadata": {},
   "outputs": [
    {
     "name": "stdout",
     "output_type": "stream",
     "text": [
      "True\n"
     ]
    }
   ],
   "source": [
    "import cv2\n",
    "img = cv2.imread('img.jpg', cv2.IMREAD_GRAYSCALE) #흑백으로 이미지 불러오기\n",
    "cv2.imshow('img', img)\n",
    "cv2.waitKey(0)\n",
    "cv2.destroyAllWindows()\n",
    "\n",
    "result = cv2.imwrite('img_save.jpg', img)\n",
    "print(result)"
   ]
  },
  {
   "cell_type": "markdown",
   "id": "4d783ee8",
   "metadata": {},
   "source": [
    "## 저장 포맷(jpg, png)"
   ]
  },
  {
   "cell_type": "code",
   "execution_count": 4,
   "id": "0f179bd8",
   "metadata": {},
   "outputs": [
    {
     "name": "stdout",
     "output_type": "stream",
     "text": [
      "True\n"
     ]
    }
   ],
   "source": [
    "import cv2\n",
    "img = cv2.imread('img.jpg', cv2.IMREAD_GRAYSCALE) #흑백으로 이미지 불러오기\n",
    "cv2.imshow('img', img)\n",
    "cv2.waitKey(0)\n",
    "cv2.destroyAllWindows() #이렇게 아래 세줄은 이미지 보여주고 창을끄는건데 저장만 하려면 필요없다\n",
    "\n",
    "result = cv2.imwrite('img_save.png', img)\n",
    "print(result)"
   ]
  },
  {
   "cell_type": "code",
   "execution_count": 13,
   "id": "19bde171",
   "metadata": {},
   "outputs": [
    {
     "name": "stdout",
     "output_type": "stream",
     "text": [
      "True\n"
     ]
    }
   ],
   "source": [
    "import cv2\n",
    "YongJin = cv2.imread('YongJin.jpeg', cv2.IMREAD_COLOR) #흑백으로 이미지 불러오기\n",
    "cv2.imshow('JoYongJin', YongJin)\n",
    "cv2.waitKey(0)\n",
    "cv2.destroyAllWindows()\n",
    "\n",
    "result = cv2.imwrite('JoYongJin.jpeg', YongJin)\n",
    "print(result)"
   ]
  },
  {
   "cell_type": "markdown",
   "id": "2016849f",
   "metadata": {},
   "source": [
    "##  동영상 저장"
   ]
  },
  {
   "cell_type": "code",
   "execution_count": 2,
   "id": "12bd79c6",
   "metadata": {},
   "outputs": [],
   "source": [
    "import cv2\n",
    "cap = cv2.VideoCapture('video.mp4')\n",
    "\n",
    "# 코덱 정의\n",
    "fourcc = cv2.VideoWriter_fourcc(*'DIVX') # *로 여러인자로 떨어트려서 반환해준다. 'D','I'...이런식으로\n",
    "\n",
    "# 프레임 크기, FPS\n",
    "width = round(cap.get(cv2.CAP_PROP_FRAME_WIDTH))\n",
    "height = round(cap.get(cv2.CAP_PROP_FRAME_HEIGHT))\n",
    "fps = cap.get(cv2.CAP_PROP_FPS) * 2 #영상 재생 속도가 2배\n",
    "\n",
    "out = cv2.VideoWriter('output_fast.avi', fourcc, fps, (width, height))\n",
    "# 저장 파일명, 코덱, FPS, 크기 (width, height)\n",
    "\n",
    "while cap.isOpened():\n",
    "    ret, frame = cap.read()\n",
    "    \n",
    "    if not ret:\n",
    "        break\n",
    "    \n",
    "    out.write(frame) #영상 데이터만 저장 (소리 X)\n",
    "    cv2.imshow('video', frame)\n",
    "    if cv2.waitKey(1) == ord('q'):\n",
    "        break\n",
    "\n",
    "out.release() # 자원 해제\n",
    "cap.release()\n",
    "cv2.destroyAllWindows() # 저장했는데 MacOs에 동영상 제생파일이 지원되지않아 재생은 못시켜봤다"
   ]
  },
  {
   "cell_type": "markdown",
   "id": "1f6ffa11",
   "metadata": {},
   "source": [
    "### 코덱\n",
    "> 코덱(codec)은 'COder-DECoder' 또는 'COmpressor-DECompressor'의 약어로,\n",
    "디지털 데이터 스트림 또는 신호를 인코딩(압축)하거나 디코딩(압축 해제)하는 장치 또는 소프트웨어를 말합니다."
   ]
  },
  {
   "cell_type": "markdown",
   "id": "99156bd7",
   "metadata": {},
   "source": [
    "### FPS\n",
    "> FPS는 'Frames Per Second'의 약어로, 초당 프레임 수를 의미합니다.\n",
    "이는 동영상, 애니메이션, 게임 등에서 화면이 갱신되는 속도를 나타내며, FPS 값이 높을수록 화면이 부드럽게 보입니다.\n",
    "반면에 FPS 값이 낮으면 화면이 끊기는 것처럼 보일 수 있습니다."
   ]
  },
  {
   "cell_type": "markdown",
   "id": "f0feed0e",
   "metadata": {},
   "source": [
    "### 자원 해제\n",
    "> 프로그램이 동작하면서 메모리를 할당받아 데이터를 저장하거나, 파일을 열어 데이터를 읽거나 쓰고, 네트워크를 통해 데이터를 주고받는 등의 작업을 수행합니다.\n",
    "이러한 작업들은 시스템의 한정된 자원을 사용하게 되는데, 작업이 끝난 후에는 이러한 자원을 시스템에 반납해야 합니다. 이 과정을 \"자원 해제\"라고 합니다.\n",
    "\n",
    "> 자원을 적절하게 해제하지 않으면, 프로그램이 계속해서 해당 자원을 점유하게 되어, 다른 프로그램이나 시스템이 해당 자원을 사용할 수 없게 됩니다.\n",
    "이는 메모리 누수나 파일 누수, 소켓 누수 등의 문제를 일으킬 수 있습니다. 이러한 문제를 예방하기 위해 프로그램에서는 사용한 자원을 적절하게 해제하는 작업이 중요합니다."
   ]
  },
  {
   "cell_type": "code",
   "execution_count": 1,
   "id": "472cf4e1",
   "metadata": {},
   "outputs": [],
   "source": [
    "import cv2\n",
    "cap = cv2.VideoCapture('video.mp4')\n",
    "\n",
    "# 코덱 정의\n",
    "fourcc = cv2.VideoWriter_fourcc(*'DIVX') #*로 여러인자로 떨어트려서 반환해준다. 'D','I'...이런식으로\n",
    "\n",
    "# 프레임 크기, FPS\n",
    "width = round(cap.get(cv2.CAP_PROP_FRAME_WIDTH))\n",
    "height = round(cap.get(cv2.CAP_PROP_FRAME_HEIGHT))\n",
    "fps = cap.get(cv2.CAP_PROP_FPS)\n",
    "\n",
    "out = cv2.VideoWriter('output.avi', fourcc, fps, (width, height))\n",
    "# 저장 파일명, 코덱, FPS, 크기 (width, height)\n",
    "\n",
    "while cap.isOpened():\n",
    "    ret, frame = cap.read()\n",
    "    \n",
    "    if not ret:\n",
    "        break\n",
    "    \n",
    "    out.write(frame) #영상 데이터만 저장 (소리 X)\n",
    "    cv2.imshow('video', frame)\n",
    "    if cv2.waitKey(1) == ord('q'):\n",
    "        break\n",
    "\n",
    "out.release() # 자원 해제\n",
    "cap.release()\n",
    "cv2.destroyAllWindows() # 저장했는데 MacOs에 동영상 제생파일이 지원되지않아 재생은 못시켜봤다(VLC 다운받아서 우클릭해서 VLC로 열수있도록했다.)"
   ]
  }
 ],
 "metadata": {
  "kernelspec": {
   "display_name": "Python 3 (ipykernel)",
   "language": "python",
   "name": "python3"
  },
  "language_info": {
   "codemirror_mode": {
    "name": "ipython",
    "version": 3
   },
   "file_extension": ".py",
   "mimetype": "text/x-python",
   "name": "python",
   "nbconvert_exporter": "python",
   "pygments_lexer": "ipython3",
   "version": "3.10.9"
  }
 },
 "nbformat": 4,
 "nbformat_minor": 5
}
