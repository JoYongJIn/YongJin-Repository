{
 "cells": [
  {
   "cell_type": "markdown",
   "id": "e5b7b9b2",
   "metadata": {},
   "source": [
    "# 16. 이미지 변환 (열림 & 닫힘)"
   ]
  },
  {
   "cell_type": "markdown",
   "id": "a1a7c45d",
   "metadata": {},
   "source": [
    "## 열림(Opening) : 침식 후 팽창. 깎아서 노이즈 제거 후 살 찌움\n",
    "> dilate(erode(image))\n",
    "- 이렇게하면 noise를 제거하느라 변했던 이미지가 원상복구되며 완전해진다\n",
    "- 여기서 커널(kernel)은 작업을 수행할 때 이미지 위를 움직이는 작은 창(window)입니다. 3x3(그래서 3,5,7 같은 홀수였구나 가운데에 정사각형(픽셀) 깔끔히 남도록) 커널을 사용하여 각 픽셀에 대해 3x3 픽셀 영역 내에서 erosion 및 dilation을 수행합니다. iterations 매개변수는 이 연산을 몇 번 반복할 것인지를 결정하며, iterations=3은 이 연산을 3회 반복하겠다는 의미입니다."
   ]
  },
  {
   "cell_type": "code",
   "execution_count": 1,
   "id": "71d13742",
   "metadata": {},
   "outputs": [],
   "source": [
    "import cv2\n",
    "import numpy as np\n",
    "kernel = np.ones((3,3), dtype=np.uint8)\n",
    "\n",
    "img = cv2.imread('erode.png', cv2.IMREAD_GRAYSCALE)\n",
    "\n",
    "erode = cv2.erode(img, kernel, iterations=6)\n",
    "dilate = cv2.dilate(erode, kernel, iterations=6)\n",
    "\n",
    "cv2.imshow('img', img)\n",
    "cv2.imshow('erode', erode)\n",
    "cv2.imshow('dilate', dilate)\n",
    "cv2.waitKey(0)\n",
    "cv2.destroyAllWindows()"
   ]
  },
  {
   "cell_type": "markdown",
   "id": "3d739153",
   "metadata": {},
   "source": [
    "## 닫힘 (Closing) : 팽창 후 침식. 구멍을 메운 후 다시 깎음\n",
    "> erode(dilate(image))"
   ]
  },
  {
   "cell_type": "code",
   "execution_count": 5,
   "id": "2cb144dd",
   "metadata": {},
   "outputs": [],
   "source": [
    "import cv2\n",
    "import numpy as np\n",
    "kernel = np.ones((3,3), dtype=np.uint8)\n",
    "\n",
    "img = cv2.imread('dilate.png', cv2.IMREAD_GRAYSCALE)\n",
    "\n",
    "dilate = cv2.dilate(img, kernel, iterations=6)\n",
    "erode = cv2.erode(dilate, kernel, iterations=6)\n",
    "\n",
    "cv2.imshow('img', img)\n",
    "cv2.imshow('erode', erode)\n",
    "cv2.imshow('dilate', dilate)\n",
    "cv2.waitKey(0)\n",
    "cv2.destroyAllWindows()"
   ]
  }
 ],
 "metadata": {
  "kernelspec": {
   "display_name": "Python 3 (ipykernel)",
   "language": "python",
   "name": "python3"
  },
  "language_info": {
   "codemirror_mode": {
    "name": "ipython",
    "version": 3
   },
   "file_extension": ".py",
   "mimetype": "text/x-python",
   "name": "python",
   "nbconvert_exporter": "python",
   "pygments_lexer": "ipython3",
   "version": "3.10.9"
  }
 },
 "nbformat": 4,
 "nbformat_minor": 5
}
