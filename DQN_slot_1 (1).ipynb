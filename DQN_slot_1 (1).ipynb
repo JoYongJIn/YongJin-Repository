{
 "cells": [
  {
   "cell_type": "markdown",
   "id": "5d1b0c2b",
   "metadata": {},
   "source": [
    "# 필요한 라이브러리 설치 및 불러오기"
   ]
  },
  {
   "cell_type": "code",
   "execution_count": null,
   "id": "47d1c5ab",
   "metadata": {},
   "outputs": [],
   "source": [
    "import numpy as np\n",
    "import random\n",
    "from collections import deque\n",
    "from keras.models import Sequential\n",
    "from keras.layers import Dense\n",
    "from keras.optimizers import Adam"
   ]
  },
  {
   "cell_type": "markdown",
   "id": "9bd0ba61",
   "metadata": {},
   "source": [
    "# 강화학습 환경 및 에이전트 설정"
   ]
  },
  {
   "cell_type": "code",
   "execution_count": null,
   "id": "23a9584c",
   "metadata": {},
   "outputs": [],
   "source": [
    "class LotteryEnv:\n",
    "    def __init__(self, win_prob=1/125):\n",
    "        self.win_prob = win_prob\n",
    "        self.reset()\n",
    "\n",
    "    def reset(self):\n",
    "        self.attempts = 0\n",
    "        return self.attempts\n",
    "\n",
    "    def step(self, action):\n",
    "        reward = 0\n",
    "        done = False\n",
    "\n",
    "        if action == 1:  # 시도를 선택\n",
    "            self.attempts += 1\n",
    "            if np.random.rand() < self.win_prob:\n",
    "                reward = 1  # 당첨\n",
    "                done = True\n",
    "            else:\n",
    "                reward = -0.01  # 비당첨\n",
    "        return self.attempts, reward, done\n",
    "\n",
    "class DQNAgent:\n",
    "    def __init__(self, state_size, action_size):\n",
    "        self.state_size = state_size\n",
    "        self.action_size = action_size\n",
    "        self.memory = deque(maxlen=2000)\n",
    "        self.gamma = 0.95    # 할인율\n",
    "        self.epsilon = 1.0   # 탐험률\n",
    "        self.epsilon_min = 0.01\n",
    "        self.epsilon_decay = 0.995\n",
    "        self.learning_rate = 0.001\n",
    "        self.model = self._build_model()\n",
    "\n",
    "    def _build_model(self):\n",
    "        model = Sequential()\n",
    "        model.add(Dense(24, input_dim=self.state_size, activation='relu'))\n",
    "        model.add(Dense(24, activation='relu'))\n",
    "        model.add(Dense(self.action_size, activation='linear'))\n",
    "        model.compile(loss='mse', optimizer=Adam(lr=self.learning_rate))\n",
    "        return model\n",
    "\n",
    "    def remember(self, state, action, reward, next_state, done):\n",
    "        self.memory.append((state, action, reward, next_state, done))\n",
    "\n",
    "    def act(self, state):\n",
    "        if np.random.rand() <= self.epsilon:\n",
    "            return random.randrange(self.action_size)\n",
    "        act_values = self.model.predict(state)\n",
    "        return np.argmax(act_values[0])\n",
    "\n",
    "    def replay(self, batch_size):\n",
    "        minibatch = random.sample(self.memory, batch_size)\n",
    "        for state, action, reward, next_state, done in minibatch:\n",
    "            target = reward\n",
    "            if not done:\n",
    "                target = reward + self.gamma * np.amax(self.model.predict(next_state)[0])\n",
    "            target_f = self.model.predict(state)\n",
    "            target_f[0][action] = target\n",
    "            self.model.fit(state, target_f, epochs=1, verbose=0)\n",
    "        if self.epsilon > self.epsilon_min:\n",
    "            self.epsilon *= self.epsilon_decay\n"
   ]
  },
  {
   "cell_type": "markdown",
   "id": "4f50fe44",
   "metadata": {},
   "source": [
    "# 모델 학습"
   ]
  },
  {
   "cell_type": "code",
   "execution_count": null,
   "id": "72c9f387",
   "metadata": {},
   "outputs": [],
   "source": [
    "env = LotteryEnv()\n",
    "agent = DQNAgent(state_size=1, action_size=2)  # 상태 크기: 1, 행동 크기: 2 (시도 or 중단)\n",
    "\n",
    "episodes = 1000  # 총 에피소드 수\n",
    "\n",
    "for e in range(episodes):\n",
    "    state = env.reset()\n",
    "    state = np.reshape(state, [1, 1])\n",
    "\n",
    "    for time in range(500):\n",
    "        action = agent.act(state)\n",
    "        next_state, reward, done = env.step(action)\n",
    "        next_state = np.reshape(next_state, [1, 1])\n",
    "        agent.remember(state, action, reward, next_state, done)\n",
    "        state = next_state\n",
    "\n",
    "        if done:\n",
    "            if isinstance(reward, int):\n",
    "                print(\"에피소드: {}/{}, 시도: {}, 보상: {}\".format(e, episodes, time, reward))\n",
    "            else:\n",
    "                print(\"에피소드: {}/{}, 시도: {}, 보상: {:.2f}\".format(e, episodes, time, reward))\n",
    "            break\n",
    "\n",
    "    if len(agent.memory) > 32:\n",
    "        agent.replay(32)\n"
   ]
  },
  {
   "cell_type": "code",
   "execution_count": null,
   "id": "c1dd0530",
   "metadata": {},
   "outputs": [],
   "source": [
    "def test_agent(agent, env, n_tests):\n",
    "    total_rewards = 0\n",
    "    for _ in range(n_tests):\n",
    "        state = env.reset()\n",
    "        state = np.reshape(state, [1, 1])\n",
    "        done = False\n",
    "        while not done:\n",
    "            action = agent.act(state)\n",
    "            next_state, reward, done = env.step(action)\n",
    "            next_state = np.reshape(next_state, [1, 1])\n",
    "            state = next_state\n",
    "            if done:\n",
    "                total_rewards += reward\n",
    "\n",
    "    average_reward = total_rewards / n_tests\n",
    "    print(f\"평균 보상: {average_reward:.2f}\")\n",
    "\n",
    "# 테스트 환경 설정\n",
    "n_tests = 100  # 테스트할 게임 수\n",
    "test_agent(agent, env, n_tests)\n"
   ]
  },
  {
   "cell_type": "code",
   "execution_count": null,
   "id": "662f0bdb",
   "metadata": {},
   "outputs": [],
   "source": []
  }
 ],
 "metadata": {
  "kernelspec": {
   "display_name": "Python 3 (ipykernel)",
   "language": "python",
   "name": "python3"
  },
  "language_info": {
   "codemirror_mode": {
    "name": "ipython",
    "version": 3
   },
   "file_extension": ".py",
   "mimetype": "text/x-python",
   "name": "python",
   "nbconvert_exporter": "python",
   "pygments_lexer": "ipython3",
   "version": "3.10.9"
  }
 },
 "nbformat": 4,
 "nbformat_minor": 5
}
