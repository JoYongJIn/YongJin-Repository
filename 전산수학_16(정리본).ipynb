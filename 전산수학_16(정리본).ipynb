{
  "nbformat": 4,
  "nbformat_minor": 0,
  "metadata": {
    "colab": {
      "provenance": [],
      "authorship_tag": "ABX9TyOBkZyeagm5J3fVbPtJ6RvA",
      "include_colab_link": true
    },
    "kernelspec": {
      "name": "python3",
      "display_name": "Python 3"
    },
    "language_info": {
      "name": "python"
    }
  },
  "cells": [
    {
      "cell_type": "markdown",
      "metadata": {
        "id": "view-in-github",
        "colab_type": "text"
      },
      "source": [
        "<a href=\"https://colab.research.google.com/github/JoYongJIn/YongJin-Repository/blob/main/%EC%A0%84%EC%82%B0%EC%88%98%ED%95%99_16(%EC%A0%95%EB%A6%AC%EB%B3%B8).ipynb\" target=\"_parent\"><img src=\"https://colab.research.google.com/assets/colab-badge.svg\" alt=\"Open In Colab\"/></a>"
      ]
    },
    {
      "cell_type": "code",
      "source": [
        "## 용어정리 ===============================================================\n",
        "# 객체(object) 속성을 가질 수 있는 모든 것\n",
        "# 클래스(class) 객체를 쉽고 편리하게 생성하기 위해 만들어진 구문 #class 'int' 예시\n",
        "# 인스턴스 (instance) 클래스를 기반으로 생성한 객체\n",
        "# 생성자(constructor) 클래스 이름과 같은 인스턴스를 생성할 때 사용하는 함수\n",
        "# 메소드(method) 클래스가 가진 함수\n",
        "#==========================================================================\n",
        "\n",
        "# . 은 그 클래스안에 들어가서 접근한다는뜻"
      ],
      "metadata": {
        "id": "j-SRTt7Axqul"
      },
      "execution_count": null,
      "outputs": []
    },
    {
      "cell_type": "code",
      "source": [
        "'''\n",
        "클래스 = 제품의 설계도\n",
        "객체 = 설계도로 만든 제품\n",
        "속성 = 클래스안의 변수\n",
        "메서드 = 클래스안의 함수\n",
        "생성자 = 객체를 만들 때 실행되는 함수\n",
        "인스턴스 = 메모리에 살아있는 객체\n",
        "'''\n",
        "# 인스턴스가 객체에 포함되어있습니다.\n",
        "# 함수안에 메서드가 포함되어있습니다."
      ],
      "metadata": {
        "id": "V1M9mTNCLlUD"
      },
      "execution_count": null,
      "outputs": []
    },
    {
      "cell_type": "code",
      "execution_count": null,
      "metadata": {
        "id": "pm4-DGlXmuMq",
        "colab": {
          "base_uri": "https://localhost:8080/"
        },
        "outputId": "b777470b-eb72-4644-dd51-ff88d3637b72"
      },
      "outputs": [
        {
          "output_type": "stream",
          "name": "stdout",
          "text": [
            "True\n"
          ]
        }
      ],
      "source": [
        "#===========================\n",
        "# isinstance(인스턴스,클래스) 함수\n",
        "#===========================\n",
        "class Student:\n",
        "    def __init__(self):\n",
        "        pass\n",
        "\n",
        "a = Student() #instance(객체)\n",
        "print(isinstance(a, Student)) #True"
      ]
    },
    {
      "cell_type": "code",
      "source": [
        "# 클래스의 상속 =================\n",
        "class Human: # 부모클래스\n",
        "    def __init__(self):\n",
        "        pass\n",
        "\n",
        "class Student(Human):# 자식클래스\n",
        "    def __init__(self):\n",
        "        pass\n",
        "\n",
        "a = Student()\n",
        "print(isinstance(a, Human)) #True 자식이지만 부모의 것도 가지고있기 때문이다.\n",
        "print(isinstance(a, Student))"
      ],
      "metadata": {
        "id": "_MhA4jwCpeZu",
        "colab": {
          "base_uri": "https://localhost:8080/"
        },
        "outputId": "5044936b-0b84-48a8-de76-6669d5286719"
      },
      "execution_count": 1,
      "outputs": [
        {
          "output_type": "stream",
          "name": "stdout",
          "text": [
            "True\n",
            "True\n"
          ]
        }
      ]
    },
    {
      "cell_type": "code",
      "source": [
        "# 예제 ==========================\n",
        "class Student:\n",
        "    def study(self):\n",
        "        print(\"공부를 합니다\")\n",
        "class Teacher:\n",
        "    def teach(self):\n",
        "        print(\"학생을 가르칩니다\")\n",
        "\n",
        "classroom = [Student(), Student(), Teacher()] #객체(인스턴스) 모아놓은 리스트\n",
        "\n",
        "for person in classroom:\n",
        "  if isinstance(person, Student):\n",
        "    person.study() #study를 실행하고싶을떄 객체 쓰고 함수이름\n",
        "  elif isinstance(person, Teacher):\n",
        "    person.teach()"
      ],
      "metadata": {
        "colab": {
          "base_uri": "https://localhost:8080/"
        },
        "id": "9fNVHS_nqMr-",
        "outputId": "ffb4fc22-9ad1-43c7-f2d0-a845fc7c2357"
      },
      "execution_count": null,
      "outputs": [
        {
          "output_type": "stream",
          "name": "stdout",
          "text": [
            "공부를 합니다\n",
            "공부를 합니다\n",
            "학생을 가르칩니다\n"
          ]
        }
      ]
    },
    {
      "cell_type": "code",
      "source": [
        "a = 1\n",
        "print(type(a))\n",
        "\n",
        "print(isinstance(1,int)) #1이 int의 객체가 되느냐 물어보는 코드"
      ],
      "metadata": {
        "colab": {
          "base_uri": "https://localhost:8080/"
        },
        "id": "jHaw8D7MqTHh",
        "outputId": "db5be67a-7818-4392-ad8e-defbc2354611"
      },
      "execution_count": null,
      "outputs": [
        {
          "output_type": "stream",
          "name": "stdout",
          "text": [
            "<class 'int'>\n",
            "True\n"
          ]
        }
      ]
    },
    {
      "cell_type": "code",
      "source": [
        "#isinstance는 주로 객체의 자료형을 판단할 때 사용 ===================\n",
        "def factorial(n):\n",
        "\n",
        "  if not isinstance(n, int) or n<0: #isinstance활용방법\n",
        "    return None\n",
        "\n",
        "  if n==1:\n",
        "    return 1\n",
        "\n",
        "  return n*factorial(n-1)\n"
      ],
      "metadata": {
        "id": "h_w-geArqTKN"
      },
      "execution_count": null,
      "outputs": []
    },
    {
      "cell_type": "code",
      "source": [
        "##=============================================\n",
        "## __이름__() 함수: 특수한 상황에 자동으로 호출\n",
        "##=============================================\n",
        "## 예제\n",
        "class Student:\n",
        "    def __init__(self, name, korean, math, english, science): #self는 객체를 만들었을때 그 객체가 된다.\n",
        "        self.name = name\n",
        "        self.korean = korean\n",
        "        self.math = math\n",
        "        self.english = english\n",
        "        self.science = science\n",
        "\n",
        "    def get_sum(self): #self하면 점수 다가져온다.\n",
        "      return sum([self.korean, self.math, self.english, self.science])\n",
        "    def get_average(self):\n",
        "      return self.get_sum()/4\n",
        "    def to_string(self):\n",
        "      return '{}\\t{}\\t{}'.format(self.name, self.get_sum(), self.get_average())\n",
        "\n",
        "students = [Student(\"홍길동\", 90, 87, 92, 88),\n",
        "            Student(\"가나다\", 100, 84, 89, 95)] #객체들의 리스트\n",
        "\n",
        "## 실행\n",
        "print('이름', '총점', '평균', sep='\\t') #마지막 것이 없으면 쭉 붙어서 출력\n",
        "for person in students:\n",
        "  print(person.to_string())"
      ],
      "metadata": {
        "colab": {
          "base_uri": "https://localhost:8080/"
        },
        "id": "ukv61NiLrtLk",
        "outputId": "2a04f9f0-9efd-4691-8a18-03afc86dba84"
      },
      "execution_count": null,
      "outputs": [
        {
          "output_type": "stream",
          "name": "stdout",
          "text": [
            "이름\t총점\t평균\n",
            "홍길동\t357\t89.25\n",
            "가나다\t368\t92.0\n"
          ]
        }
      ]
    },
    {
      "cell_type": "code",
      "source": [
        "#=================================================\n",
        "## __이름__() 함수: 특수한 상황에 자동으로 호출 #위와의 차이점은 __이름__()사용하여 바꾼것이다.\n",
        "#=================================================\n",
        "\n",
        "class Student:\n",
        "    def __init__(self, name, korean, math, english, science): #self는 객체를 만들었을때 그 객체가 된다.\n",
        "        self.name = name\n",
        "        self.korean = korean\n",
        "        self.math = math\n",
        "        self.english = english\n",
        "        self.science = science\n",
        "\n",
        "    def get_sum(self): #self하면 점수 다가져온다.\n",
        "      return sum([self.korean, self.math, self.english, self.science])\n",
        "    def get_average(self):\n",
        "      return self.get_sum()/4\n",
        "    def __str__(self):\n",
        "      return '{}\\t{}\\t{}'.format(self.name, self.get_sum(), self.get_average())\n",
        "\n",
        "students = [Student(\"홍길동\", 90, 87, 92, 88),\n",
        "            Student(\"가나다\", 100, 84, 89, 95)] #객체들의 리스트\n",
        "\n",
        "print('이름', '총점', '평균', sep='\\t') #마지막 것이 없으면 쭉 붙어서 출력\n",
        "for person in students:\n",
        "  print(str(person)) #str하고 객체이름만 넣으면 실행된다."
      ],
      "metadata": {
        "id": "k7HsOBSNt0F4"
      },
      "execution_count": null,
      "outputs": []
    },
    {
      "cell_type": "code",
      "source": [
        "## 클래스 변수 vs 인스턴스 변수 =======================================================\n",
        "class Student:\n",
        "    count = 0 # 클래스 변수\n",
        "\n",
        "    def __init__(self, name, korean, math, english, science):\n",
        "        self.name = name # 얘네가 instance변수이다.\n",
        "        self.korean = korean\n",
        "        self.math = math\n",
        "        self.english = english\n",
        "        self.science = science\n",
        "\n",
        "        # 클래스 변수 설정:=> 호출시  클래스이름.변수이름 사용\n",
        "        Student.count += 1\n",
        "\n",
        "\n",
        "students = [Student(\"홍길동\", 90, 87, 92, 88),\n",
        "            Student(\"다라마\", 100, 84, 89, 95),\n",
        "            Student(\"가나다\", 100, 84, 89, 95)] #객체\n",
        "\n",
        "print(Student.count)#그냥 count라고 쓰면 안된다. 변수가 global변수가 아니기때문에 클래스 안에서 불러와야한다."
      ],
      "metadata": {
        "colab": {
          "base_uri": "https://localhost:8080/"
        },
        "id": "g2yAgyEyt0K9",
        "outputId": "babf115a-6bb9-4c10-efdb-05de9c3869bc"
      },
      "execution_count": null,
      "outputs": [
        {
          "output_type": "stream",
          "name": "stdout",
          "text": [
            "3\n"
          ]
        }
      ]
    },
    {
      "cell_type": "code",
      "source": [
        "## 클래스메서드(클래스함수) ====================================================\n",
        "# (@classmethod : 데코레이터(Decorator) => (@)옆에 괄호 없는것이다.\n",
        "# class 클래스 이름:\n",
        "#     (@classmethod\n",
        "#     def 클래스함수(cls, 매개변수);\n",
        "#           pass\n",
        "# => 호출시: 클래스이름.함수이름(매개변수)"
      ],
      "metadata": {
        "id": "KuMTQfqg5xgQ"
      },
      "execution_count": null,
      "outputs": []
    },
    {
      "cell_type": "code",
      "source": [
        "class Student:\n",
        "\n",
        "    # 클래스 변수\n",
        "    count = 0\n",
        "    students = [] #클래스변수\n",
        "\n",
        "    # 클래스 메서드/함수\n",
        "    @classmethod\n",
        "    def print(cls): #cls = class(student class)\n",
        "      print('이름', '총점', '평균', sep='\\t')\n",
        "\n",
        "      for person in cls.students:\n",
        "        print(str(person))\n",
        "\n",
        "\n",
        "    # 인스턴스 메서드/함수\n",
        "    def __init__(self, name, korean, math, english, science): #instance메서드는 전부 self를 변수로 받아야한다.\n",
        "        self.name = name # self붙은 인스턴스 변수들\n",
        "        self.korean = korean\n",
        "        self.math = math\n",
        "        self.english = english\n",
        "        self.science = science\n",
        "    #클래스변수\n",
        "        Student.count +=1\n",
        "        Student.students.append(self) #students리스트에 추가\n",
        "\n",
        "    def get_sum(self):\n",
        "      return sum([self.korean, self.math, self.english, self.science])\n",
        "    def get_average(self): #여기를__이름__꼴로 바꾸면 아래 코드에서 slef.get_sum을 실행할수없다.\n",
        "      return self.get_sum()/4\n",
        "    def __str__(self): #여기가 바뀐다.\n",
        "      return '{}\\t{}\\t{}'.format(self.name, self.get_sum(), self.get_average())\n",
        "\n",
        "\n",
        "\n",
        "# 학생추가\n",
        "Student(\"홍길동\", 90, 87, 92, 88)\n",
        "Student(\"가나다\", 100, 84, 89, 95)\n",
        "\n",
        "Student.print()"
      ],
      "metadata": {
        "colab": {
          "base_uri": "https://localhost:8080/"
        },
        "id": "BlMlL2xwrtOF",
        "outputId": "7fd4a7fa-e0de-4194-f471-a185c19f96a4"
      },
      "execution_count": null,
      "outputs": [
        {
          "output_type": "stream",
          "name": "stdout",
          "text": [
            "이름\t총점\t평균\n",
            "홍길동\t357\t89.25\n",
            "가나다\t368\t92.0\n"
          ]
        }
      ]
    },
    {
      "cell_type": "code",
      "source": [
        "## Staticmethod(정적메서드) ======================================================\n",
        "#인스턴스 메서드가 객체의 인스턴스 필드를 self를 통해 엑세스할 수 있는 반면,\n",
        "#정적 메서드는 이러한 self 파라미터를 갖지 않고 인스턴스 변수에 엑세스할 수 없다.\n",
        "#따라서, 정적 메서드는 보통 객체 필드와 독립적이지만 로직상 클래스내에 포함되는 메서드에 사용된다.\n",
        "#정적 메서드는 메서드 앞에 @staticmethod 라는 Decorator를 표시하여 해당 메서드가 정적 메서드임을 표시\n",
        "#==================================================================================\n",
        "#위 개념들 예제이다.\n",
        "\n",
        "class Rectangle:\n",
        "    count = 0  # 클래스 변수\n",
        "\n",
        "    def __init__(self, width, height):\n",
        "      self.width = width\n",
        "      self.height = height\n",
        "      Rectangle.count += 1\n",
        "\n",
        "\n",
        "    # 인스턴스 메서드/함수\n",
        "    def Area(self):\n",
        "      return self.width*self.height\n",
        "\n",
        "\n",
        "    # 정적 메서드/함수 #정적 메서드는 따로실행되는것이다. 인스턴스와 클래스와 별개\n",
        "    @staticmethod\n",
        "    def isSquare(recWidth, recHeight):\n",
        "      return recWidth == recHeight\n",
        "\n",
        "\n",
        "    # 클래스 메서드/함수\n",
        "    @classmethod\n",
        "    def printCount(cls):\n",
        "      print(cls.count) #class 이름 대신 cls\n",
        "\n",
        "#인스턴스 함수 실행\n",
        "#인스턴스 메서드 실행하려면 객체 이름 있어야한다.(이해하는데 도움됨 중요)\n",
        "a = Rectangle(4,3)\n",
        "print(a.Area())\n",
        "\n",
        "#클래스 함수 실행\n",
        "Rectangle.printCount() #인스턴스 실행과 다르게 그냥 함수이름쓰고 실행하면된다.\n",
        "b = Rectangle(5,5) #또는 b.printCount()해도 실행된다.\n",
        "\n",
        "Rectangle.printCount()\n",
        "b.printCount()"
      ],
      "metadata": {
        "colab": {
          "base_uri": "https://localhost:8080/"
        },
        "id": "7aIMXNI4iz2c",
        "outputId": "d987f725-ef7b-4a2f-9db7-cb4b9ad5ccdb"
      },
      "execution_count": null,
      "outputs": [
        {
          "output_type": "stream",
          "name": "stdout",
          "text": [
            "12\n",
            "1\n",
            "2\n",
            "2\n"
          ]
        }
      ]
    },
    {
      "cell_type": "code",
      "source": [
        "# 테스트\n",
        "\n",
        "#정적메서드 실행 #인스턴스와 클래스와 별개\n",
        "print(Rectangle.isSquare(4,3))\n",
        "print(Rectangle.isSquare(5,5))\n",
        "\n",
        "#쉽게 구분해서 self가 들어가면 인스턴스 cls들어가면 class, 썡뚱맞은 변수가 들어가면 정적메서드"
      ],
      "metadata": {
        "id": "zOxExlpE61FV"
      },
      "execution_count": null,
      "outputs": []
    }
  ]
}