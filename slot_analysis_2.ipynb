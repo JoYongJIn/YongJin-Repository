{
  "nbformat": 4,
  "nbformat_minor": 0,
  "metadata": {
    "colab": {
      "provenance": [],
      "authorship_tag": "ABX9TyNOXQ/sOVCFLbLbE4SmO5cx",
      "include_colab_link": true
    },
    "kernelspec": {
      "name": "python3",
      "display_name": "Python 3"
    },
    "language_info": {
      "name": "python"
    }
  },
  "cells": [
    {
      "cell_type": "markdown",
      "metadata": {
        "id": "view-in-github",
        "colab_type": "text"
      },
      "source": [
        "<a href=\"https://colab.research.google.com/github/JoYongJIn/YongJin-Repository/blob/main/slot_analysis_2.ipynb\" target=\"_parent\"><img src=\"https://colab.research.google.com/assets/colab-badge.svg\" alt=\"Open In Colab\"/></a>"
      ]
    },
    {
      "cell_type": "code",
      "execution_count": null,
      "metadata": {
        "id": "sOIxlzmqTkDC"
      },
      "outputs": [],
      "source": [
        "# 한번씩 실제라고 생각하고 바꿔가며 수익보자(한판에 8분)\n",
        "import random\n",
        "total_net_profit = 0\n",
        "w,l = 0,0\n",
        "games = 0\n",
        "while True:\n",
        "    s = input(\"어떤 전략을 택하시겠습니까?\")\n",
        "    if s == '1':\n",
        "        k1, k2, k3, k4, k5, k6 = 50, 50, 100, 100, 50, 50\n",
        "    elif s == '2':\n",
        "        k1, k2, k3, k4, k5, k6 = 50, 100, 200, 300, 200, 100\n",
        "    elif s == '3': #강력(model2임)\n",
        "        k1, k2, k3, k4, k5, k6 = 100, 200, 300, 500, 200, 100\n",
        "    elif s == '4':\n",
        "        k1, k2, k3, k4, k5, k6 = 10, 10, 50, 100, 10, 10\n",
        "\n",
        "    for k in range(0,1): # 이 횟수가 잭팟이 당첨될때까지 게임하는 횟수다(보통 40번)\n",
        "        def draw_lottery():\n",
        "            number = random.randint(1, 125)\n",
        "            if number == 1:\n",
        "                return True\n",
        "            else:\n",
        "                return False\n",
        "        def machine():\n",
        "            i = 0\n",
        "            a, b, c, d, e, f, g = 0, 0, 0, 0, 0, 0, 0\n",
        "            profit = 0\n",
        "            while not draw_lottery():\n",
        "                if 0 <= i < 20:\n",
        "                    a += 1\n",
        "                    profit = k1 * 110\n",
        "                elif 19 < i < 40:\n",
        "                    b += 1\n",
        "                    profit = k2 * 110\n",
        "                elif 39 < i < 63:\n",
        "                    c += 1\n",
        "                    profit = k3 * 110\n",
        "                elif 62 < i < 75:\n",
        "                    d += 1\n",
        "                    profit = k4 * 110\n",
        "                elif 74 < i < 108:\n",
        "                    e += 1\n",
        "                    profit = k5 * 110\n",
        "                elif 107 < i < 130:\n",
        "                    f += 1\n",
        "                    profit = k6 * 110\n",
        "                elif 129 < i :\n",
        "                    g += 1\n",
        "                    profit = 10 * 110\n",
        "                i += 1\n",
        "            expenditure = k1*a + k2*b + k3*c + k4*d + k5*e + k6*f + 10*g # 배팅 바꾸기\n",
        "            net_profit = profit - expenditure\n",
        "            print(f\"{i}번 만에 당첨되었습니다.\")\n",
        "            print(f\"수익은 {profit}, 지출은 {-expenditure}, 순수익은 {net_profit}입니다.\")\n",
        "            return  net_profit, i\n",
        "        net_profit, i = machine()\n",
        "    if i < 130:\n",
        "        w += 1\n",
        "    else:\n",
        "        l += 1\n",
        "    total_net_profit += net_profit\n",
        "    games += 1\n",
        "    print(f\"현재 {games}판 진행중이며 누적순수익은 {total_net_profit}입니다. W:{w} L:{l}\")\n",
        "    print(\"\\n\")\n"
      ]
    },
    {
      "cell_type": "code",
      "source": [
        "a,b,c,d,e,f = 500,1,1,1,1,1\n",
        "\n",
        "win = 0.2558*(110*a - 25*a/2) + 0.2119*(110*a - (25*a+25*b+25*a)/2) + 0.20526*(110*c - (25*a+25*b+30*c+25*a+25*b)/2) + 0.16167*(110*d - (25*a+25*b+30*c+30*d+25*a+25*b+30*c)/2) + 0.0872*(110*e - (25*a+25*b+30*c+30*d+20*e+25*a+25*b+30*c+30*d)/2) + 0.0751*(110*f - (25*a+25*b+30*c+30*d+20*e+20*f+25*a+25*b+30*c+30*d+20*e)/2)\n",
        "lose = 25*a + 25*b + 30*c + 30*d + 20*e +20*f\n",
        "final_result = ((lose/2) - win)/(lose/2)\n",
        "\n",
        "print(f'모델성능은 {final_result}입니다.')"
      ],
      "metadata": {
        "colab": {
          "base_uri": "https://localhost:8080/"
        },
        "id": "eDmvLLtXquTa",
        "outputId": "5d25899d-6d15-48a1-cb99-28e1b3ea2e6a"
      },
      "execution_count": null,
      "outputs": [
        {
          "output_type": "stream",
          "name": "stdout",
          "text": [
            "모델성능은 -1.3571871287128712입니다.\n"
          ]
        }
      ]
    },
    {
      "cell_type": "code",
      "source": [
        "i,j,k,l,m,n = 500,1,1,1,1,1\n",
        "\n",
        "win = 0.2558*(110*i - 25*i/2) + 0.2119*(110*j - (25*i+25*j+25*i)/2) + 0.20526*(110*k - (25*i+25*j+30*k+25*i+25*j)/2) + 0.16167*(110*l - (25*i+25*j+30*k+30*l+25*i+25*j+30*k)/2) + 0.0872*(110*m - (25*i+25*j+30*k+30*l+20*m+25*i+25*j+30*k+30*l)/2) + 0.0751*(110*n - (25*i+25*j+30*k+30*l+20*m+20*n+25*i+25*j+30*k+30*l+20*m)/2)\n",
        "lose = 25*i + 25*j + 30*k + 30*l + 20*m +20*n\n",
        "final_result = ((lose/2) - win)/(lose/2)\n",
        "\n",
        "print(f'모델성능은 {final_result}입니다.')"
      ],
      "metadata": {
        "colab": {
          "base_uri": "https://localhost:8080/"
        },
        "id": "nSLLPPfIqxM1",
        "outputId": "a54dcfe1-faa3-4682-c626-e325d1c1be93"
      },
      "execution_count": null,
      "outputs": [
        {
          "output_type": "stream",
          "name": "stdout",
          "text": [
            "모델성능은 0.4853777821782177입니다.\n"
          ]
        }
      ]
    },
    {
      "cell_type": "code",
      "source": [
        "# 내가 만든 최적의 배팅금 찾아주는 모델\n",
        "\n",
        "i_list = [1, 10, 50, 100, 200, 300, 500]\n",
        "j_list = [1, 10, 50, 100, 200, 300, 500]\n",
        "k_list = [1, 10, 50, 100, 200, 300, 500]\n",
        "l_list = [1, 10, 50, 100, 200, 300, 500]\n",
        "m_list = [1, 10, 50, 100, 200, 300, 500]\n",
        "n_list = [1, 10, 50, 100, 200, 300, 500]\n",
        "\n",
        "final_result = float('inf')\n",
        "final_i = 0\n",
        "final_j = 0\n",
        "final_k = 0\n",
        "final_l = 0\n",
        "final_m = 0\n",
        "final_n = 0\n",
        "\n",
        "for i in i_list:\n",
        "    for j in j_list:\n",
        "        for k in k_list:\n",
        "            for l in l_list:\n",
        "                for m in m_list:\n",
        "                    for n in n_list:\n",
        "                        win = 0.2558*(110*i - 25*i/2) + 0.2119*(110*j - (25*i+25*j+25*i)/2) + 0.20526*(110*k - (25*i+25*j+30*k+25*i+25*j)/2) + 0.16167*(110*l - (25*i+25*j+30*k+30*l+25*i+25*j+30*k)/2) + 0.0872*(110*m - (25*i+25*j+30*k+30*l+20*m+25*i+25*j+30*k+30*l)/2) + 0.0751*(110*n - (25*i+25*j+30*k+30*l+20*m+20*n+25*i+25*j+30*k+30*l+20*m)/2)\n",
        "                        lose = 25*i + 25*j + 30*k + 30*l + 20*m +20*n\n",
        "                        current_result = ((lose/2) - win)/(lose/2)\n",
        "                        if current_result < final_result:\n",
        "                            final_result = current_result\n",
        "                            final_i = i\n",
        "                            final_j = j\n",
        "                            final_k = k\n",
        "                            final_l = l\n",
        "                            final_m = m\n",
        "                            final_n = n\n",
        "\n",
        "print(f'모델성능의 최솟값은 {final_result}이고 그때의 배팅은 a={final_i} b={final_j} c={final_k} d={final_l} e={final_m} f={final_n}')\n"
      ],
      "metadata": {
        "colab": {
          "base_uri": "https://localhost:8080/"
        },
        "id": "1fttcW1M4oHL",
        "outputId": "bb1ed549-6df9-482c-beb1-3a00ebdbb6aa"
      },
      "execution_count": null,
      "outputs": [
        {
          "output_type": "stream",
          "name": "stdout",
          "text": [
            "모델성능의 최솟값은 0.2504777887462981이고 그때의 배팅은 a=1 b=1 c=1 d=1 e=1 f=500\n"
          ]
        }
      ]
    },
    {
      "cell_type": "code",
      "source": [
        "# 내가 만든 최적의 배팅금 찾아주는 모델\n",
        "\n",
        "a_list = [1, 10, 50, 100, 200, 300, 500]\n",
        "b_list = [1, 10, 50, 100, 200, 300, 500]\n",
        "c_list = [1, 10, 50, 100, 200, 300, 500]\n",
        "d_list = [1, 10, 50, 100, 200, 300, 500]\n",
        "e_list = [1, 10, 50, 100, 200, 300, 500]\n",
        "f_list = [1, 10, 50, 100, 200, 300, 500]\n",
        "\n",
        "final_result = float('inf')\n",
        "final_a = 0\n",
        "final_b = 0\n",
        "final_c = 0\n",
        "final_d = 0\n",
        "final_e = 0\n",
        "final_f = 0\n",
        "\n",
        "for a in a_list:\n",
        "    for b in b_list:\n",
        "        for c in c_list:\n",
        "            for d in d_list:\n",
        "                for e in e_list:\n",
        "                    for f in f_list:\n",
        "                        win = 0.2558*(110*a - 25*a/2) + 0.2119*(110*a - (25*a+25*b+25*a)/2) + 0.20526*(110*c - (25*a+25*b+30*c+25*a+25*b)/2) + 0.16167*(110*d - (25*a+25*b+30*c+30*d+25*a+25*b+30*c)/2) + 0.0872*(110*e - (25*a+25*b+30*c+30*d+20*e+25*a+25*b+30*c+30*d)/2) + 0.0751*(110*f - (25*a+25*b+30*c+30*d+20*e+20*f+25*a+25*b+30*c+30*d+20*e)/2)\n",
        "                        lose = 25*a + 25*b + 30*c + 30*d + 20*e +20*f\n",
        "                        current_result = ((lose/2) - win)/(lose/2)\n",
        "                        if current_result < final_result:\n",
        "                            final_result = current_result\n",
        "                            final_a = a\n",
        "                            final_b = b\n",
        "                            final_c = c\n",
        "                            final_d = d\n",
        "                            final_e = e\n",
        "                            final_f = f\n",
        "\n",
        "print(f'모델성능의 최솟값은 {final_result}이고 그때의 배팅은 a={final_a} b={final_b} c={final_c} d={final_d} e={final_e} f={final_f}')\n"
      ],
      "metadata": {
        "colab": {
          "base_uri": "https://localhost:8080/"
        },
        "id": "K_BHl5Om5dPe",
        "outputId": "4201c837-ad56-4bea-80b4-dea0a1bf0e76"
      },
      "execution_count": null,
      "outputs": [
        {
          "output_type": "stream",
          "name": "stdout",
          "text": [
            "모델성능의 최솟값은 -1.3571871287128712이고 그때의 배팅은 a=500 b=1 c=1 d=1 e=1 f=1\n"
          ]
        }
      ]
    },
    {
      "cell_type": "code",
      "source": [
        "# 모델 성능 계산기\n",
        "\n",
        "i,j,k,l,m,n = 10,10,100,200,300,500\n",
        "\n",
        "win = 0.2558*(110*i - 25*i/2) + 0.2119*(110*j - (25*i+25*j+25*i)/2) + 0.20526*(110*k - (25*i+25*j+30*k+25*i+25*j)/2) + 0.16167*(110*l - (25*i+25*j+30*k+30*l+25*i+25*j+30*k)/2) + 0.0872*(110*m - (25*i+25*j+30*k+30*l+20*m+25*i+25*j+30*k+30*l)/2) + 0.0751*(110*n - (25*i+25*j+30*k+30*l+20*m+20*n+25*i+25*j+30*k+30*l+20*m)/2)\n",
        "lose = 25*i + 25*j + 30*k + 30*l + 20*m +20*n\n",
        "final_result = ((lose/2) - win)/(lose/2)\n",
        "\n",
        "print(f'모델성능은 {final_result}입니다.')\n",
        "\n",
        "# 성능검사를 해보니 그동안 손계산으로 계산실수안하고 성능계산 잘했으며 내가 만든 how_to_bet모델도 델잘만들었다.\n"
      ],
      "metadata": {
        "colab": {
          "base_uri": "https://localhost:8080/"
        },
        "id": "xfPdCOnjq43m",
        "outputId": "d6ed5f98-2e47-4cb2-b895-eeb81041e28b"
      },
      "execution_count": null,
      "outputs": [
        {
          "output_type": "stream",
          "name": "stdout",
          "text": [
            "모델성능은 0.28354450980392165입니다.\n"
          ]
        }
      ]
    },
    {
      "cell_type": "code",
      "source": [
        "# 모델 성능 계산기\n",
        "\n",
        "i,j,k,l,m,n = 10,10,100,200,300,500\n",
        "\n",
        "win = 0.2558*(110*i - 25*i/2) + 0.2119*(110*j - (25*i+25*j+25*i)/2) + 0.20526*(110*k - (25*i+25*j+30*k+25*i+25*j)/2) + 0.16167*(110*l - (25*i+25*j+30*k+30*l+25*i+25*j+30*k)/2) + 0.0872*(110*m - (25*i+25*j+30*k+30*l+20*m+25*i+25*j+30*k+30*l)/2) + 0.0751*(110*n - (25*i+25*j+30*k+30*l+20*m+20*n+25*i+25*j+30*k+30*l+20*m)/2)\n",
        "lose = 25*i + 25*j + 30*k + 30*l + 20*m +20*n\n",
        "final_result = ((lose/2) - win)/(lose/2)\n",
        "\n",
        "print(f'모델성능은 {final_result}입니다.')\n",
        "\n",
        "# 성능검사를 해보니 그동안 손계산으로 계산실수안하고 성능계산 잘했으며 내가 만든 how_to_bet모델도 델잘만들었다.\n"
      ],
      "metadata": {
        "colab": {
          "base_uri": "https://localhost:8080/"
        },
        "id": "AGZ5Sy1Bq5Mf",
        "outputId": "ed71606d-1162-43be-effb-6d6c44e56828"
      },
      "execution_count": null,
      "outputs": [
        {
          "output_type": "stream",
          "name": "stdout",
          "text": [
            "모델성능은 0.28354450980392165입니다.\n"
          ]
        }
      ]
    },
    {
      "cell_type": "code",
      "source": [
        "i,j,k,l,m,n = 1,1,1,1,1,500\n",
        "\n",
        "win = 0.2558*(110*i - 25*i/2) + 0.2119*(110*j - (25*i+25*j+25*i)/2) + 0.20526*(110*k - (25*i+25*j+30*k+25*i+25*j)/2) + 0.16167*(110*l - (25*i+25*j+30*k+30*l+25*i+25*j+30*k)/2) + 0.0872*(110*m - (25*i+25*j+30*k+30*l+20*m+25*i+25*j+30*k+30*l)/2) + 0.0751*(110*n - (25*i+25*j+30*k+30*l+20*m+20*n+25*i+25*j+30*k+30*l+20*m)/2)\n",
        "lose = 25*i + 25*j + 30*k + 30*l + 20*m +20*n\n",
        "final_result = ((lose/2) - win)/(lose/2)\n",
        "\n",
        "print(f'모델성능은 {final_result}입니다.')"
      ],
      "metadata": {
        "colab": {
          "base_uri": "https://localhost:8080/"
        },
        "id": "ujfeDAX0XnYO",
        "outputId": "a3277b0b-aa31-4393-b76e-80ac12ff1590"
      },
      "execution_count": null,
      "outputs": [
        {
          "output_type": "stream",
          "name": "stdout",
          "text": [
            "모델성능은 0.2504777887462981입니다.\n"
          ]
        }
      ]
    },
    {
      "cell_type": "code",
      "source": [
        "while True:\n",
        "    def draw_lottery():\n",
        "        number = random.randint(1, 125)\n",
        "        if number == 1:\n",
        "            return True\n",
        "        else:\n",
        "            return False\n",
        "        i = input(\"얼마를 배팅 하시겠습니까?\")\n",
        "        t = input(\"몇번 배팅 하시겠습니까?\")\n",
        "        if i == '1':\n",
        "            bet = 1\n",
        "            number += 1\n",
        "        elif i == '10':\n",
        "            bet = 10\n",
        "            number += 1\n",
        "        elif i == '50':\n",
        "            bet = 50\n",
        "            number += 1\n",
        "        elif i == '100':\n",
        "            bet = 100\n",
        "            number += 1\n",
        "        elif i == '200':\n",
        "            bet = 200\n",
        "            number += 1\n",
        "        elif i == '300':\n",
        "            bet = 300\n",
        "            number += 1\n",
        "        elif i == '500':\n",
        "            bet = 500\n",
        "            number += 1\n",
        "        else:\n",
        "            print(\"배팅할수없는 금액입니다.\")\n",
        "\n",
        "    def machine():\n",
        "        total = 0\n",
        "        while not draw_lottery():\n",
        "            number+=1\n",
        "            print(f\"{number}번 시행\"}\n",
        "\n",
        "        while draw_lottery():\n",
        "            원래대로 돌아가서 다시 추첨돌리고 total 0으로 초기화"
      ],
      "metadata": {
        "colab": {
          "base_uri": "https://localhost:8080/",
          "height": 144
        },
        "id": "vrCklOFVjrIb",
        "outputId": "73551854-2eba-4ac4-9566-c471954258f0"
      },
      "execution_count": null,
      "outputs": [
        {
          "output_type": "error",
          "ename": "SyntaxError",
          "evalue": "ignored",
          "traceback": [
            "\u001b[0;36m  File \u001b[0;32m\"<ipython-input-1-868936c6dc36>\"\u001b[0;36m, line \u001b[0;32m38\u001b[0m\n\u001b[0;31m    print(f\"{number}번 시행\"}\u001b[0m\n\u001b[0m                         ^\u001b[0m\n\u001b[0;31mSyntaxError\u001b[0m\u001b[0;31m:\u001b[0m closing parenthesis '}' does not match opening parenthesis '('\n"
          ]
        }
      ]
    },
    {
      "cell_type": "code",
      "source": [
        "import random\n",
        "\n",
        "# 외부에서 사용할 리스트 정의\n",
        "attempt_counts = []\n",
        "\n",
        "def add_count_until_one(attempt_list):\n",
        "    count = 0\n",
        "    while True:\n",
        "        count += 1\n",
        "        if random.randint(1, 125) == 1:\n",
        "            break\n",
        "    attempt_list.append(count)\n",
        "\n",
        "# 함수를 여러 번 호출하여 결과를 리스트에 추가\n",
        "for _ in range(10):  # 예시로 10번 반복해보겠습니다.\n",
        "    add_count_until_one(attempt_counts)\n",
        "\n",
        "print(attempt_counts)\n"
      ],
      "metadata": {
        "id": "edZLBKua_u2_"
      },
      "execution_count": null,
      "outputs": []
    },
    {
      "cell_type": "code",
      "source": [
        "import random\n",
        "\n",
        "def repeat_until_one():\n",
        "    count_list = []\n",
        "    while True:\n",
        "        count = 0\n",
        "        while True:\n",
        "            count += 1\n",
        "            if random.randint(1, 125) == 1:\n",
        "                break\n",
        "        count_list.append(count)\n",
        "        print(f\"1이 나올 때까지의 시도 횟수: {count}\")\n",
        "\n",
        "        # 여기서 사용자가 원하는 대로 루프를 중단할 수 있는 조건을 추가할 수 있습니다.\n",
        "        # 예를 들어, 사용자가 입력을 통해 계속 진행할지 여부를 결정하게 할 수 있습니다.\n",
        "        # 다음은 그 예시입니다.\n",
        "\n",
        "        user_input = input(\"계속 진행하시겠습니까? (y/n): \")\n",
        "        if user_input.lower() != 'y':\n",
        "            break\n",
        "\n",
        "    return count_list\n",
        "\n",
        "# 함수를 실행합니다.\n",
        "counts = repeat_until_one()/Users/pc/Desktop/PythonProject/NaverFinance/market_cap.py\n",
        "print(\"전체 시도 횟수 리스트:\", counts)y"
      ],
      "metadata": {
        "id": "o0shEBxz_1m1"
      },
      "execution_count": null,
      "outputs": []
    },
    {
      "cell_type": "code",
      "source": [
        "import random\n",
        "\n",
        "total = int(input(\"얼마를 충전하시겠습니까? \"))\n",
        "\n",
        "# 잭팟 번호 리스트를 전역 변수로 관리합니다.\n",
        "jackpot_num_list = []\n",
        "\n",
        "def slot_machine():\n",
        "    global total  # 전역 변수 total를 사용하겠다고 선언합니다.\n",
        "    jackpot_num = random.randint(1, 125)\n",
        "    play_num = 0  # 게임 횟수를 저장하는 변수입니다.\n",
        "\n",
        "    while True:\n",
        "        betting = int(input(\"얼마를 배팅 하시겠습니까? \"))  # 사용자로부터 배팅 금액을 입력 받습니다.\n",
        "\n",
        "        if betting > total:\n",
        "            print(\"배팅 금액이 잔액을 초과합니다.\")\n",
        "            continue  # 잔액을 초과하면 배팅을 다시 합니다.\n",
        "\n",
        "        play_num += 1\n",
        "        total -= betting  # 배팅 금액만큼 잔액에서 차감합니다.\n",
        "        print(f\"잔액: {total}\")\n",
        "\n",
        "        if play_num == jackpot_num:\n",
        "            total += betting * 110  # 잭팟일 때 배팅 금액의 110배를 잔액에 추가합니다.\n",
        "            print(f\"축하합니다! 잭팟입니다! 현재 잔액: {total}\")\n",
        "            jackpot_num_list.append(jackpot_num)  # 잭팟 번호를 리스트에 추가합니다.\n",
        "            break  # 게임 종료\n",
        "\n",
        "while True:\n",
        "    print(f\"이전 잭팟까지의 횟수 = {jackpot_num_list}\")\n",
        "    slot_machine()  # 슬롯머신 게임을 실행합니다.\n",
        "    # 게임이 끝난 후, 계속할\n"
      ],
      "metadata": {
        "id": "SsUWqfVgQ3TQ"
      },
      "execution_count": null,
      "outputs": []
    }
  ]
}