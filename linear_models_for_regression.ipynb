{
  "nbformat": 4,
  "nbformat_minor": 0,
  "metadata": {
    "colab": {
      "provenance": [],
      "authorship_tag": "ABX9TyMa+ZtwtevAMS6fchgLRyDd",
      "include_colab_link": true
    },
    "kernelspec": {
      "name": "python3",
      "display_name": "Python 3"
    },
    "language_info": {
      "name": "python"
    }
  },
  "cells": [
    {
      "cell_type": "markdown",
      "metadata": {
        "id": "view-in-github",
        "colab_type": "text"
      },
      "source": [
        "<a href=\"https://colab.research.google.com/github/JoYongJIn/YongJin-Repository/blob/main/linear_models_for_regression.ipynb\" target=\"_parent\"><img src=\"https://colab.research.google.com/assets/colab-badge.svg\" alt=\"Open In Colab\"/></a>"
      ]
    },
    {
      "cell_type": "code",
      "execution_count": 2,
      "metadata": {
        "colab": {
          "base_uri": "https://localhost:8080/"
        },
        "id": "nJXqTvn6yDPt",
        "outputId": "84d3a832-2eb4-4ba9-9333-324dfc86f74e"
      },
      "outputs": [
        {
          "output_type": "stream",
          "name": "stdout",
          "text": [
            "Mounted at /content/drive\n"
          ]
        }
      ],
      "source": [
        "from google.colab import drive\n",
        "drive.mount('/content/drive')\n",
        "\n",
        "import os\n",
        "os.chdir(\"/content/drive/MyDrive/Colab Notebooks/\")"
      ]
    },
    {
      "cell_type": "code",
      "source": [
        "import pandas as pd\n",
        "import numpy as np\n",
        "import matplotlib.pyplot as plt\n",
        "import seaborn as sns\n",
        "\n",
        "df = pd.read_csv(\"/content/drive/MyDrive/Colab Notebooks/auto-mpg .csv\",sep = \",\")\n",
        "df.head()"
      ],
      "metadata": {
        "id": "S2G5n1XqyJTm"
      },
      "execution_count": null,
      "outputs": []
    },
    {
      "cell_type": "code",
      "source": [
        "df.info()"
      ],
      "metadata": {
        "id": "bpafFwDqyKgg"
      },
      "execution_count": null,
      "outputs": []
    },
    {
      "cell_type": "code",
      "source": [
        "print(df.dtypes)"
      ],
      "metadata": {
        "colab": {
          "base_uri": "https://localhost:8080/"
        },
        "id": "CVzfWYHoyMiL",
        "outputId": "00604b00-9b1c-4654-e38e-e0083b9b3b18"
      },
      "execution_count": 37,
      "outputs": [
        {
          "output_type": "stream",
          "name": "stdout",
          "text": [
            "mpg             float64\n",
            "cylinders         int64\n",
            "displacement    float64\n",
            "horsepower       object\n",
            "weight            int64\n",
            "acceleration    float64\n",
            "model year        int64\n",
            "origin            int64\n",
            "car name         object\n",
            "dtype: object\n"
          ]
        }
      ]
    },
    {
      "cell_type": "code",
      "source": [
        "#이상치가 존재하여 standardization으로 스케일링 하는게좋겠다.\n",
        "df['horsepower'] = pd.to_numeric(df['horsepower'], errors= 'coerce')\n",
        "\n",
        "sns.boxplot(data=df[['cylinders', 'displacement', 'horsepower', 'weight', 'acceleration', 'model year', 'origin']])\n",
        "plt.show()"
      ],
      "metadata": {
        "colab": {
          "base_uri": "https://localhost:8080/",
          "height": 430
        },
        "id": "sN3JwogNyMkb",
        "outputId": "3ea65ae2-ffe5-431c-dee3-c2ce2de1026b"
      },
      "execution_count": 38,
      "outputs": [
        {
          "output_type": "display_data",
          "data": {
            "text/plain": [
              "<Figure size 640x480 with 1 Axes>"
            ],
            "image/png": "[encoded data removed]"
          },
          "metadata": {}
        }
      ]
    },
    {
      "cell_type": "code",
      "source": [
        "#타깃값이 연속형인 회귀문제이므로 타깃값도 같이 스케일링해주도록한다.\n",
        "\n",
        "from sklearn.preprocessing import StandardScaler\n",
        "\n",
        "# 문자열과 결측치 제외한 데이터프레임 생성\n",
        "df_numeric = df.select_dtypes(include=[np.number]).dropna()\n",
        "\n",
        "#표준화 객체 생성\n",
        "scaler = StandardScaler() #특정 column만 지정하지않고 전부 스케일링하는 코드이다.\n",
        "\n",
        "# 표준화 수행(마지막 괄호부분에 결측치가 제외된 데이터프레임을 입력해야한다.)\n",
        "scaled_data = scaler.fit_transform(df_numeric)\n",
        "\n",
        "# 스케일링된 데이터를 데이터프레임으로 변환(여기도 마지막에 numeric으로 해야함)\n",
        "scaled_df = pd.DataFrame(scaled_data, columns=df_numeric.columns)\n",
        "\n",
        "# 결과 출력\n",
        "print(scaled_df)"
      ],
      "metadata": {
        "id": "4Bd4GCTdyMmv"
      },
      "execution_count": null,
      "outputs": []
    },
    {
      "cell_type": "code",
      "source": [
        "#스케일링한 데이터 결측치 처리\n",
        "from sklearn.neighbors import NearestNeighbors\n",
        "\n",
        "# 결측치를 제외한 데이터만 선택\n",
        "X = scaled_df.dropna()\n",
        "\n",
        "# NearestNeighbors 객체 생성 (맨하탄 거리 사용)\n",
        "knn = NearestNeighbors(n_neighbors=5, metric='manhattan')\n",
        "knn.fit(X)\n",
        "\n",
        "# 결측치를 보간할 데이터 선택\n",
        "missing_data = scaled_df[scaled_df.isnull().any(axis=1)]\n",
        "\n",
        "# 결측치를 보간\n",
        "for i, row in missing_data.iterrows():\n",
        "    query = row.dropna().values.reshape(1, -1)\n",
        "    _, indices = knn.kneighbors(query)\n",
        "    nearest_values = X.iloc[indices[0]].values\n",
        "    imputed_values = np.nanmean(nearest_values, axis=0)\n",
        "    scaled_df.loc[i, scaled_df.columns] = imputed_values\n",
        "\n",
        "# 결과 출력\n",
        "print(scaled_df)"
      ],
      "metadata": {
        "id": "r5CsUyHVyMss"
      },
      "execution_count": null,
      "outputs": []
    },
    {
      "cell_type": "code",
      "source": [
        "# 피처와 타겟 분리: 머신러닝 모델에게 학습을 위한 피처들과 예측하려는 타겟(라벨)을 분리해야 합니다.\n",
        "\n",
        "X = scaled_df[['cylinders', 'displacement', 'horsepower', 'weight', 'acceleration', 'model year', 'origin']]  # features\n",
        "y = scaled_df['mpg']  # target variable"
      ],
      "metadata": {
        "id": "r7Hd4PpPJ0QO"
      },
      "execution_count": 45,
      "outputs": []
    },
    {
      "cell_type": "code",
      "source": [
        "#데이터 분할: 데이터를 훈련 세트와 테스트 세트로 분할합니다. 이는 모델의 일반화 성능을 평가하기 위함입니다.\n",
        "\n",
        "from sklearn.model_selection import train_test_split\n",
        "\n",
        "X_train, X_test, y_train, y_test = train_test_split(X, y, test_size=0.2, random_state=42)"
      ],
      "metadata": {
        "id": "dB5lS6LqJ0X8"
      },
      "execution_count": 46,
      "outputs": []
    },
    {
      "cell_type": "code",
      "source": [
        "#모델 학습\n",
        "from sklearn.linear_model import LinearRegression\n",
        "\n",
        "model = LinearRegression()\n",
        "model.fit(X_train, y_train)"
      ],
      "metadata": {
        "id": "pEftcQjzLmNC"
      },
      "execution_count": null,
      "outputs": []
    },
    {
      "cell_type": "code",
      "source": [
        "from sklearn.model_selection import cross_val_score\n",
        "from sklearn.linear_model import LinearRegression\n",
        "\n",
        "# 모델 정의\n",
        "model = LinearRegression()\n",
        "\n",
        "# k-fold 교차 검증 수행\n",
        "scores = cross_val_score(model, X, y, cv=5, scoring='neg_mean_squared_error')  # scoring 매개변수를 설정합니다.\n",
        "\n",
        "# 평균 MSE 계산\n",
        "mean_mse = -scores.mean()  # 음수 값을 다시 양수로 변환합니다.\n",
        "\n",
        "print(\"Mean MSE:\", mean_mse)"
      ],
      "metadata": {
        "colab": {
          "base_uri": "https://localhost:8080/"
        },
        "id": "6I3AELnmN4L6",
        "outputId": "64e6811f-e5a0-4557-d8f7-0713b9f27201"
      },
      "execution_count": 47,
      "outputs": [
        {
          "output_type": "stream",
          "name": "stdout",
          "text": [
            "Mean MSE: 0.24786327396876126\n"
          ]
        }
      ]
    },
    {
      "cell_type": "code",
      "source": [
        "#1차부터 5차까지 linear regression 해보며 성능확인하기\n",
        "from sklearn.preprocessing import PolynomialFeatures\n",
        "from sklearn.linear_model import LinearRegression\n",
        "from sklearn.metrics import mean_squared_error\n",
        "\n",
        "degrees = [1, 2, 3, 4, 5]  # 다항식의 차수 리스트\n",
        "\n",
        "for degree in degrees:\n",
        "    # 다항식 변환\n",
        "    poly_features = PolynomialFeatures(degree=degree)\n",
        "    X_poly = poly_features.fit_transform(X_train)  # X_train은 입력 변수 데이터\n",
        "\n",
        "    # 다항 회귀 모델 훈련\n",
        "    model = LinearRegression()\n",
        "    model.fit(X_poly, y_train)  # y_train은 타겟 변수 데이터\n",
        "\n",
        "    # 테스트 데이터에 대한 예측\n",
        "    X_poly_test = poly_features.transform(X_test)  # X_test는 테스트 데이터\n",
        "    y_pred = model.predict(X_poly_test)\n",
        "\n",
        "    # 모델 평가\n",
        "    mse = mean_squared_error(y_test, y_pred)\n",
        "    print(f\"Degree {degree}: MSE = {mse}\")\n",
        "\n",
        "#성능은 2차일때가 가장좋다."
      ],
      "metadata": {
        "colab": {
          "base_uri": "https://localhost:8080/"
        },
        "id": "5NwnW0_DN4OY",
        "outputId": "a87680fe-4244-46d6-bbb4-0e1cc65c4002"
      },
      "execution_count": 48,
      "outputs": [
        {
          "output_type": "stream",
          "name": "stdout",
          "text": [
            "Degree 1: MSE = 0.1762735632628969\n",
            "Degree 2: MSE = 0.11778202802496222\n",
            "Degree 3: MSE = 0.28745820466948485\n",
            "Degree 4: MSE = 328.5861023641374\n",
            "Degree 5: MSE = 18.525535436443526\n"
          ]
        }
      ]
    },
    {
      "cell_type": "code",
      "source": [
        "from sklearn.preprocessing import PolynomialFeatures\n",
        "from sklearn.linear_model import Ridge\n",
        "from sklearn.model_selection import GridSearchCV\n",
        "from sklearn.pipeline import make_pipeline\n",
        "from sklearn.metrics import mean_squared_error\n",
        "\n",
        "# 다항식 변환\n",
        "poly_features = PolynomialFeatures(degree=3)\n",
        "X_poly = poly_features.fit_transform(X_train)  # X_train은 입력 변수 데이터\n",
        "\n",
        "# Ridge 회귀 모델 정의\n",
        "ridge = Ridge()\n",
        "\n",
        "# Grid Search에 사용할 매개변수 그리드\n",
        "param_grid = {'alpha': [0.1, 0.5, 1.0, 2.0, 5.0]}\n",
        "\n",
        "# Grid Search 수행\n",
        "grid_search = GridSearchCV(ridge, param_grid, cv=5, scoring='neg_mean_squared_error')\n",
        "grid_search.fit(X_poly, y_train)\n",
        "\n",
        "# 최적의 alpha 값 및 모델 출력\n",
        "best_alpha = grid_search.best_params_['alpha']\n",
        "print(\"Best Alpha:\", best_alpha)\n",
        "\n",
        "# 최적의 alpha 값으로 Ridge 회귀 모델 재훈련\n",
        "model = make_pipeline(poly_features, Ridge(alpha=best_alpha))\n",
        "model.fit(X_train, y_train)\n",
        "\n",
        "# 테스트 데이터에 대한 예측\n",
        "y_pred = model.predict(X_test)\n",
        "\n",
        "# 모델 평가\n",
        "mse = mean_squared_error(y_test, y_pred)\n",
        "print(\"MSE:\", mse)\n",
        "\n",
        "#파라미터가 최적화되어 MSE가 아주작아진것을 보면 성능이 향상되었음을 알수있다."
      ],
      "metadata": {
        "colab": {
          "base_uri": "https://localhost:8080/"
        },
        "id": "M6WSg5BUQGlq",
        "outputId": "b43cb3d1-c2a3-4042-b7ea-5ce7ec7c3196"
      },
      "execution_count": 50,
      "outputs": [
        {
          "output_type": "stream",
          "name": "stdout",
          "text": [
            "Best Alpha: 5.0\n",
            "MSE: 0.11338239348417391\n"
          ]
        }
      ]
    }
  ]
}