{
  "nbformat": 4,
  "nbformat_minor": 0,
  "metadata": {
    "colab": {
      "provenance": [],
      "authorship_tag": "ABX9TyMHO8/BBiR1438Kc0zGjRTg",
      "include_colab_link": true
    },
    "kernelspec": {
      "name": "python3",
      "display_name": "Python 3"
    },
    "language_info": {
      "name": "python"
    }
  },
  "cells": [
    {
      "cell_type": "markdown",
      "metadata": {
        "id": "view-in-github",
        "colab_type": "text"
      },
      "source": [
        "<a href=\"https://colab.research.google.com/github/JoYongJIn/YongJin-Repository/blob/main/%EC%A0%84%EC%82%B0%EC%88%98%ED%95%99_11_(%EC%A0%95%EB%A6%AC%EB%B3%B8).ipynb\" target=\"_parent\"><img src=\"https://colab.research.google.com/assets/colab-badge.svg\" alt=\"Open In Colab\"/></a>"
      ]
    },
    {
      "cell_type": "code",
      "source": [
        "# 행렬 ============================================\n",
        "A = [[2,7], [3,4], [6,1]]\n",
        "print(len(A))#행의개수(m)\n",
        "print(len(A[0]))#열의개수(n)"
      ],
      "metadata": {
        "id": "x0vm6qIv-8Aj"
      },
      "execution_count": null,
      "outputs": []
    },
    {
      "cell_type": "code",
      "source": [
        "# 행렬의 원소곱\n",
        "A = [[2,7], [3,4], [6,1]]\n",
        "B = [[1,4], [4,-1], [2,5]]\n",
        "\n",
        "def element_product(A,B):\n",
        "  C = []\n",
        "  m = len(A)\n",
        "  n = len(A[0])\n",
        "  for i in range(m):\n",
        "    D = []\n",
        "    for j in range(n):\n",
        "      value = A[i][j]*B[i][j]\n",
        "      D.append(value)\n",
        "    C.append(D)\n",
        "  return C\n",
        "\n",
        "C = element_product(A,B)\n",
        "print(C)"
      ],
      "metadata": {
        "colab": {
          "base_uri": "https://localhost:8080/"
        },
        "id": "sds-fBhp-9Es",
        "outputId": "eca37d79-59b9-4fff-de85-4fcbb8face8a"
      },
      "execution_count": null,
      "outputs": [
        {
          "output_type": "stream",
          "name": "stdout",
          "text": [
            "[[2, 28], [12, -4], [12, 5]]\n"
          ]
        }
      ]
    },
    {
      "cell_type": "code",
      "source": [
        "## 행렬곱\n",
        "A = [[2,7], [3,4], [6,1]] #i*k행렬\n",
        "B = [[3,-3,5],[-1,2,-1]] #k*j행렬\n",
        "print(len(A))\n",
        "print(len(A[0]))\n",
        "print(len(B[0]))\n",
        "\n",
        "def matrix_mul(A,B):\n",
        "  C = [] #m*n matrix\n",
        "  m = len(A) #3\n",
        "  p = len(A[0]) #2\n",
        "  n = len(B[0]) #3\n",
        "  for i in range(m):\n",
        "    D = [] #1,2,3행\n",
        "    for j in range(n):\n",
        "      sum_k = 0\n",
        "      for k in range(p):\n",
        "        sum_k += A[i][k]*B[k][j]\n",
        "      D.append(sum_k)#행들을 먼저 만들어서 하나하나 아래에 추가한다.\n",
        "    C.append(D)\n",
        "  return C\n",
        "\n",
        "C=matrix_mul(A,B)\n",
        "print(C)"
      ],
      "metadata": {
        "id": "ONchWCSjb9X6"
      },
      "execution_count": null,
      "outputs": []
    },
    {
      "cell_type": "code",
      "source": [
        "#=================================================\n",
        "# Ax=b 풀기 #가우스소거법(Gaussian elimination) #가우스 조던 소거법과는 다른것이다.\n",
        "#=================================================\n",
        "\n",
        "A = [[1, -1, 2, 1],#4*4행렬 i*k matrix\n",
        "     [5, 8, 6, 3],\n",
        "     [4, 2, 5, 3],\n",
        "     [3, 2, 1, 4]]\n",
        "b = [2, 10, 3, 1]\n",
        "x = list(range(0,4))\n",
        "\n",
        "# forward elimination (upper triangular matrix)\n",
        "for k in range(0,3):\n",
        "  for i in range(k+1,4):\n",
        "    mult = A[i][k]/A[k][k]\n",
        "    for j in range(k,4):\n",
        "      A[i][j] = A[i][j] - mult*A[k][j]\n",
        "    b[i] = b[i] - mult*b[k]#까지가 upper triangular matrix\n",
        "x[3] = b[3]/A[3][3]\n",
        "for i in range(2,-1,-1):#역순으로 계산해 올라간다.\n",
        "  sum_j = 0\n",
        "  for j in range(i+1,4):\n",
        "    sum_j += A[i][j]*x[j]\n",
        "  x[i] = (b[i] - sum_j)/A[i][i]#까지가 Back substitution\n",
        "\n",
        "print(A)\n",
        "print(b)\n",
        "print('x=', x)"
      ],
      "metadata": {
        "id": "REgckX5jZ3dy",
        "colab": {
          "base_uri": "https://localhost:8080/"
        },
        "outputId": "76d7e2fb-84b1-47e7-bd65-c4d051f79932"
      },
      "execution_count": null,
      "outputs": [
        {
          "output_type": "stream",
          "name": "stdout",
          "text": [
            "[[1, -1, 2, 1], [0.0, 13.0, -4.0, -2.0], [0.0, 0.0, -1.1538461538461537, -0.07692307692307687], [0.0, 0.0, 0.0, 1.9999999999999998]]\n",
            "[2, 0.0, -5.0, 10.000000000000002]\n",
            "x= [-9.000000000000004, 2.0000000000000004, 4.000000000000001, 5.000000000000002]\n"
          ]
        }
      ]
    },
    {
      "cell_type": "code",
      "source": [
        "#n*n행렬로 일반화하기(upper triangular matrix)\n",
        "A = [[1, -1, 2],\n",
        "    [5, 8, 6],\n",
        "    [4, 2, 5]]\n",
        "b = [2, 10, 3]\n",
        "n=len(A)\n",
        "x = list(range(0,n))\n",
        "\n",
        "def sol_n_by_n(A,b):\n",
        "  n=len(A)\n",
        "  for k in range(0,n-1):\n",
        "    for i in range(k+1,n):\n",
        "      mult = A[i][k]/A[k][k]\n",
        "      for j in range(k,n):\n",
        "        A[i][j] = A[i][j] - mult*A[k][j]\n",
        "      b[i] = b[i] - mult*b[k]#까지가 upper triangular matrix\n",
        "  x[n-1] = b[n-1]/A[n-1][n-1]\n",
        "  for i in range(n-2,-1,-1):\n",
        "    sum_j = 0\n",
        "    for j in range(i+1,n):\n",
        "      sum_j += A[i][j]*x[j]\n",
        "    x[i] = (b[i] - sum_j)/A[i][i]#까지가 Back substitution\n",
        "  return A,x\n",
        "\n",
        "sol_n_by_n(A,b)\n",
        "print(A)\n",
        "print(b)\n",
        "print('x=', x)"
      ],
      "metadata": {
        "colab": {
          "base_uri": "https://localhost:8080/"
        },
        "id": "IR7Ce5j5S_tp",
        "outputId": "ed7a5936-b8aa-458e-e07c-f4c750f2b6c6"
      },
      "execution_count": null,
      "outputs": [
        {
          "output_type": "stream",
          "name": "stdout",
          "text": [
            "[[1, -1, 2], [0.0, 13.0, -4.0], [0.0, 0.0, -1.1538461538461537]]\n",
            "[2, 0.0, -5.0]\n",
            "x= [-5.333333333333334, 1.3333333333333335, 4.333333333333334]\n"
          ]
        }
      ]
    },
    {
      "cell_type": "code",
      "source": [
        "#과제 backward elimination (lower triangular matrix)\n",
        "A = [[1, -1, 2, 1],#4*4행렬 i*k matrix\n",
        "     [5, 8, 6, 3],\n",
        "     [4, 2, 5, 3],\n",
        "     [3, 2, 1, 4]]\n",
        "b = [2, 10, 3, 1]\n",
        "x = list(range(0,4))\n",
        "\n",
        "# backward elimination (lower triangular matrix)\n",
        "for k in range(3,0,-1):\n",
        "  for i in range(k-1,-1,-1):\n",
        "    mult = A[i][k]/A[k][k]\n",
        "    for j in range(k,-1,-1):\n",
        "      A[i][j] = A[i][j] - mult*A[k][j]\n",
        "    b[i] = b[i] - mult*b[k]#까지가 upper triangular matrix\n",
        "x[0] = b[0]/A[0][0]\n",
        "for i in range(1,4):#위에서 아래로 x를 구해 내려간다.\n",
        "  sum_j = 0\n",
        "  for j in range(i-1,-1,-1):\n",
        "    sum_j += A[i][j]*x[j]\n",
        "  x[i] = (b[i] - sum_j)/A[i][i]#까지가 front substitution\n",
        "\n",
        "print(A)\n",
        "print(b)\n",
        "print('x=', x)"
      ],
      "metadata": {
        "colab": {
          "base_uri": "https://localhost:8080/"
        },
        "id": "hb9DuoQ-aC1N",
        "outputId": "b959a931-68ef-468f-bd98-9f030078a40d"
      },
      "execution_count": null,
      "outputs": [
        {
          "output_type": "stream",
          "name": "stdout",
          "text": [
            "[[-0.3000000000000001, 0.0, 0.0, 0.0], [0.5882352941176467, 5.882352941176471, 0.0, 0.0], [1.75, 0.5, 4.25, 0.0], [3, 2, 1, 4]]\n",
            "[2.7, 6.470588235294118, 2.25, 1]\n",
            "x= [-8.999999999999998, 1.9999999999999993, 3.999999999999999, 4.999999999999998]\n"
          ]
        }
      ]
    },
    {
      "cell_type": "code",
      "source": [
        "#과제 n*n행렬로 일반화하기(lower triangular matrix)\n",
        "A = [[1, -1, 2],\n",
        "    [5, 8, 6],\n",
        "    [4, 2, 5]]\n",
        "b = [2, 10, 3]\n",
        "n=len(A)\n",
        "x = list(range(0,n))\n",
        "\n",
        "def sol_n_by_n_lower(A,b):\n",
        "  n=len(A)\n",
        "  for k in range(n-1,0,-1):\n",
        "    for i in range(k-1,-1,-1):\n",
        "      mult = A[i][k]/A[k][k]\n",
        "      for j in range(k,-1,-1):\n",
        "        A[i][j] = A[i][j] - mult*A[k][j]\n",
        "      b[i] = b[i] - mult*b[k]#까지가 lower triangular matrix\n",
        "  x[0] = b[0]/A[0][0]\n",
        "  for i in range(1,n):\n",
        "    sum_j = 0\n",
        "    for j in range(i-1,-1,-1):\n",
        "      sum_j += A[i][j]*x[j]\n",
        "    x[i] = (b[i] - sum_j)/A[i][i]#까지가 front substitution\n",
        "  return A,x\n",
        "\n",
        "sol_n_by_n_lower(A,b)\n",
        "print(A)\n",
        "print(b)\n",
        "print('x=', x)"
      ],
      "metadata": {
        "colab": {
          "base_uri": "https://localhost:8080/"
        },
        "id": "r5tAXEahiBky",
        "outputId": "7b70fb42-b788-49f8-f07d-5d32754c46dd"
      },
      "execution_count": null,
      "outputs": [
        {
          "output_type": "stream",
          "name": "stdout",
          "text": [
            "[[-0.5357142857142857, 0.0, 0.0], [0.20000000000000018, 5.6, 0.0], [4, 2, 5]]\n",
            "[2.857142857142857, 6.4, 3]\n",
            "x= [-5.333333333333334, 1.3333333333333337, 4.333333333333334]\n"
          ]
        }
      ]
    },
    {
      "cell_type": "code",
      "source": [
        "## np.array 이용하여 행렬 계산하기 ===============================\n",
        "import numpy as np\n",
        "\n",
        "A = np.array([[2,7], [3,4], [6,1]])\n",
        "B = np.array([[1,4], [4,-1], [2,5]])\n",
        "m = len(A)\n",
        "n = len(A[0])"
      ],
      "metadata": {
        "id": "QSc1Ecw7EJUs"
      },
      "execution_count": null,
      "outputs": []
    },
    {
      "cell_type": "code",
      "source": [
        "# 행렬 덧셈, 뺄셈, 곱셈, 스칼라곱, 원소곱, 행렬곱\n",
        "print(A+B)\n",
        "print(A-B)\n",
        "print(2*A)"
      ],
      "metadata": {
        "id": "Bo-LQ-9TEdxk"
      },
      "execution_count": null,
      "outputs": []
    },
    {
      "cell_type": "code",
      "source": [
        "C = np.multiply(A,B) #원소곱\n",
        "print(C)"
      ],
      "metadata": {
        "id": "Xr4cazeKE7KZ"
      },
      "execution_count": null,
      "outputs": []
    },
    {
      "cell_type": "code",
      "source": [
        "A = np.array([[2,7], [3,4], [6,1]]) #3*2\n",
        "B = np.array([[3,-3,5],[-1,2,-1]]) #2*3\n",
        "C = np.matmul(A,B) #행렬곱\n",
        "print(C)"
      ],
      "metadata": {
        "id": "f_DMzCMMFsrf"
      },
      "execution_count": null,
      "outputs": []
    },
    {
      "cell_type": "code",
      "source": [
        "# transpose A^T\n",
        "A = np.array([[3,-3,5],[-1,2,-1],[2, 4, 5]])\n",
        "At = np.transpose(A)\n",
        "print(At)"
      ],
      "metadata": {
        "id": "j8p7a0nVFstb"
      },
      "execution_count": null,
      "outputs": []
    },
    {
      "cell_type": "code",
      "source": [
        "# diagonal matrix\n",
        "D = np.diag(A) #diagonal elements => array\n",
        "print(D)\n",
        "D2 = np.diag(np.diag(A)) #한번더 실행하면 diagonal matrix 생성\n",
        "print(D2)"
      ],
      "metadata": {
        "id": "zWh4i3a5Fsvf"
      },
      "execution_count": null,
      "outputs": []
    },
    {
      "cell_type": "code",
      "source": [
        "# identity matrix\n",
        "I = np.identity(3)\n",
        "print(I)"
      ],
      "metadata": {
        "id": "jzK1kFRAFsxV"
      },
      "execution_count": null,
      "outputs": []
    },
    {
      "cell_type": "code",
      "source": [
        "# Upper/lower trianglur matrix\n",
        "A = np.array([[3,-3,5],[-1,2,-1],[2, 4, 5]])\n",
        "U = np.triu(A)\n",
        "print(U)\n",
        "L = np.tril(A)\n",
        "print(L)"
      ],
      "metadata": {
        "id": "UVkT6-kVFsza"
      },
      "execution_count": null,
      "outputs": []
    },
    {
      "cell_type": "code",
      "source": [
        "# determinant/ inverse / x=A^-1*b\n",
        "A = np.array([[1.0, -1.0, 2.0],\n",
        "     [5.0, 8.0, 6.0],\n",
        "     [4.0, 2.0, 5.0]])\n",
        "\n",
        "D = np.linalg.det(A) #determinant of A\n",
        "print(D)\n",
        "\n",
        "Ainv = np.linalg.inv(A) #inverse of A = A^-1\n",
        "print(Ainv)"
      ],
      "metadata": {
        "id": "5jyWFZTMGUKa"
      },
      "execution_count": null,
      "outputs": []
    },
    {
      "cell_type": "code",
      "source": [
        "#Ax=b => x=A^-1*b\n",
        "b = np.array([2, 10, 2])\n",
        "Ainv = np.linalg.inv(A)\n",
        "x = np.matmul(Ainv, b)\n",
        "print(x)"
      ],
      "metadata": {
        "id": "c7swJV9eGUMu"
      },
      "execution_count": null,
      "outputs": []
    }
  ]
}