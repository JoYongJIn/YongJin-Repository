{
  "nbformat": 4,
  "nbformat_minor": 0,
  "metadata": {
    "colab": {
      "provenance": [],
      "authorship_tag": "ABX9TyNeunU0B9mcVya/8c9L/tg8",
      "include_colab_link": true
    },
    "kernelspec": {
      "name": "python3",
      "display_name": "Python 3"
    },
    "language_info": {
      "name": "python"
    }
  },
  "cells": [
    {
      "cell_type": "markdown",
      "metadata": {
        "id": "view-in-github",
        "colab_type": "text"
      },
      "source": [
        "<a href=\"https://colab.research.google.com/github/JoYongJIn/YongJin-Repository/blob/main/%08crawling.ipynb\" target=\"_parent\"><img src=\"https://colab.research.google.com/assets/colab-badge.svg\" alt=\"Open In Colab\"/></a>"
      ]
    },
    {
      "cell_type": "code",
      "execution_count": null,
      "metadata": {
        "id": "XZUNw6y9Wvm3"
      },
      "outputs": [],
      "source": [
        "!pip install selenium\n",
        "\n",
        "import pandas as pd\n",
        "from selenium import webdriver\n",
        "from selenium.webdriver.common.by import By\n",
        "\n",
        "url = 'https://finance.naver.com/sise/sise_market_sum.naver?&page='\n",
        "\n",
        "browser = webdriver.Chrome()"
      ]
    },
    {
      "cell_type": "code",
      "source": [
        "# BeautifluSoup ==========================================\n",
        "## Beautiful Soup is a Python library for pulling data\n",
        "## out of HTML and XML files.\n",
        "\n",
        "#Beautiful Soup은 파이썬의 외부 라이브러리로, HTML 또는 XML 문서를 파싱하고 데이터를 추출하기 위한 도구입니다.\n",
        "#Beautiful Soup을 사용하면 웹 스크래핑(web scraping)이나 데이터 마이닝(data mining)과 같은 작업을 쉽게 수행할 수 있습니다.\n",
        "from urllib import request\n",
        "from bs4 import BeautifulSoup #BeautifulSoup4의 약자\n",
        "\n",
        "# urlopen() 함수로 주식정보 읽기\n",
        "target = request.urlopen('https://finance.naver.com/sise/sise_market_sum.naver?&page=')\n",
        "# BeautifulSoup을 사용해 웹 페이지를 분석 (parser: 문장의 구조 분석·오류 점검 프로그램)\n",
        "soup = BeautifulSoup(target, 'html.parser')\n",
        "#'html.parser'는 파서(parser)의 종류를 지정합니다.\n",
        "#'html.parser'는 BeautifulSoup 라이브러리에 내장된 HTML 파서를 사용한다는 것을 의미합니다.\n",
        "#이 파서는 일반적인 HTML 문서를 처리하는 데 적합한 파서입니다.\n",
        "\n",
        "#파서(Parser)는 특정 형식의 문서를 분석하고 해석하는 소프트웨어 또는 라이브러리입니다.\n",
        "#문서 파싱은 문서의 구조와 내용을 이해하고 원하는 정보를 추출하기 위해 필요한 과정입니다.\n",
        "\n",
        "#print(target)\n",
        "#print(soup)#굉장히 많이 출력된다.\n"
      ],
      "metadata": {
        "id": "_uAmcAU-M1e_"
      },
      "execution_count": null,
      "outputs": []
    },
    {
      "cell_type": "code",
      "source": [
        "for stock in soup.select('stock'):\n",
        "  print('종목명:', stock.select_one('fieldIds').string)\n",
        "  print('현재가:', stock.select_one('checkbox').string)\n",
        "  #print('시간:', location.select_one('tmEf').string)\n",
        "  print('전일비:', stock.select_one('sales_increasing_rate').string)\n"
      ],
      "metadata": {
        "id": "y3EKVaPcNAIJ"
      },
      "execution_count": null,
      "outputs": []
    },
    {
      "cell_type": "markdown",
      "source": [
        "# 다른 방법으로 주식정보 csv로 저장하기"
      ],
      "metadata": {
        "id": "0GkXMC1iMNZy"
      }
    },
    {
      "cell_type": "code",
      "source": [
        "import pandas_datareader as pdr\n",
        "\n",
        "# 야후 파이낸스에서 애플의 주식 데이터를 가져옵니다.\n",
        "df = pdr.get_data_yahoo('AAPL')\n",
        "\n",
        "# 데이터를 CSV 파일로 저장합니다.\n",
        "df.to_csv('AAPL.csv')"
      ],
      "metadata": {
        "id": "FwQvR555L4Nm"
      },
      "execution_count": null,
      "outputs": []
    }
  ]
}