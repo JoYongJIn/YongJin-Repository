{
  "nbformat": 4,
  "nbformat_minor": 0,
  "metadata": {
    "colab": {
      "provenance": [],
      "authorship_tag": "ABX9TyOG4U5mYyf3ZpUoZyNQ+hpd",
      "include_colab_link": true
    },
    "kernelspec": {
      "name": "python3",
      "display_name": "Python 3"
    },
    "language_info": {
      "name": "python"
    }
  },
  "cells": [
    {
      "cell_type": "markdown",
      "metadata": {
        "id": "view-in-github",
        "colab_type": "text"
      },
      "source": [
        "<a href=\"https://colab.research.google.com/github/JoYongJIn/YongJin-Repository/blob/main/%EC%A0%84%EC%82%B0%EC%88%98%ED%95%99_Class2.ipynb\" target=\"_parent\"><img src=\"https://colab.research.google.com/assets/colab-badge.svg\" alt=\"Open In Colab\"/></a>"
      ]
    },
    {
      "cell_type": "code",
      "execution_count": null,
      "metadata": {
        "colab": {
          "base_uri": "https://localhost:8080/",
          "height": 154
        },
        "id": "xA36hPrHGcT4",
        "outputId": "09102494-20c5-4c67-b8f3-cd26f9cfcdbb"
      },
      "outputs": [
        {
          "output_type": "stream",
          "name": "stdout",
          "text": [
            "[1, 2, 3, 4, 5, 6]\n",
            "[4, 5, 6, 1, 2, 3]\n",
            "[1, 2, 3, 4, 5, 6]\n",
            "[1, 2, 3, 4, 5, 6, 7, 8]\n",
            "[1, 2, 3, 4, 5, 6, 7, 8, 1, 2, 3, 4, 5, 6, 7, 8, 1, 2, 3, 4, 5, 6, 7, 8]\n",
            "8\n",
            "1\n"
          ]
        },
        {
          "output_type": "execute_result",
          "data": {
            "text/plain": [
              "'3hi'"
            ],
            "application/vnd.google.colaboratory.intrinsic+json": {
              "type": "string"
            }
          },
          "metadata": {},
          "execution_count": 1
        }
      ],
      "source": [
        "''''\n",
        "=======================================\n",
        "자료형:리스트\n",
        "=======================================\n",
        "'''\n",
        "\n",
        "# 대괄호 이용\n",
        "a=[]\n",
        "b=[1, 2, 3]\n",
        "c=['life','is','too','beautiful']\n",
        "d=[1, 2, 'life', 'is']\n",
        "e=[1, 2,['life','is']]\n",
        "\n",
        "# 인덱싱\n",
        "a = [1, 2, 3, 4, 5]\n",
        "a[0]\n",
        "a[0]+a[2]\n",
        "a[-1] # 제일 마지막 요소\n",
        "a[0:2] # 1,2\n",
        "a[:2] # 1,2\n",
        "a[2:] # 3, 4, 5\n",
        "\n",
        "a=[1,2,3,['a','b','c']] #이중 리스트\n",
        "a[3]\n",
        "a[3][0] #'a'\n",
        "a[-1][0] # 'a'\n",
        "a[3][:2] #['a', 'b']\n",
        "\n",
        "a=[1,2,['a','b',['life','is']]] #삼중 리스트\n",
        "a[2][2][0] # 'life'\n",
        "\n",
        "\n",
        "# 리스트 연산 ============================\n",
        "a = [1, 2, 3]\n",
        "b = [4, 5, 6]\n",
        "print(a+b)\n",
        "print(b+a)\n",
        "a.extend(b) #[1, 2, 3, 4, 5, 6]\n",
        "print(a)\n",
        "a.extend([7,8]) #[1, 2, 3, 4, 5, 6, 7, 8] #a.extend(b)리스트를 연장하는것이다.\n",
        "print(a)\n",
        "\n",
        "print(a*3)\n",
        "print(len(a))\n",
        "print(a.count(1)) #1 #리스트에 있는 1의 개수를 알고싶을떄\n",
        "\n",
        "# a=\n",
        "str(a[2])+'hi' #2hi\n"
      ]
    },
    {
      "cell_type": "code",
      "source": [
        "# 리스트 수정, 삭제, 삽입, 추가, 정렬, 뒤집기, 인덱스 찾기\n",
        "a=[1,2,3,4,5,6,7,8]\n",
        "a[2] = 4; # 2번째 요소를 4로 변경\n",
        "print(a) #[1, 2, 4, 4, 5, 6, 7, 8]\n",
        "\n",
        "del a[1] #두번째 요소를 삭제\n",
        "print(a) #[1, 4, 4, 5, 6, 7, 8]\n",
        "\n",
        "a.remove(4) #4를 삭제하는데 제일 첫번째것만 삭제\n",
        "print(a) #[1, 4, 5, 6, 7, 8]\n",
        "\n",
        "a.pop() #[1, 4, 5, 6, 7] 리스트 맨뒤의 항목을 뺸다\n",
        "print(a)\n",
        "\n",
        "a.pop(2) # [1, 4, 6, 7] 3번째 요소를 꺼내서 삭제\n",
        "print(a)\n",
        "\n",
        "a.insert(1,2) #[1, 2, 4, 6, 7] 두번째 요소(자리)에 2를 삽입\n",
        "print(a)\n",
        "\n",
        "a.append(9) #추가 [1, 2, 4, 6, 7, 9]\n",
        "print(a)\n",
        "a.append([5,6]) #[1, 2, 4, 6, 7, 9, [5, 6]]\n",
        "print(a)\n",
        "\n",
        "a=[1,4,3,2]\n",
        "a.sort() #크기 순으로 정렬\n",
        "print(a)\n",
        "\n",
        "a=['b','c','a']\n",
        "a.sort()\n",
        "print(a)\n",
        "\n",
        "a.reverse() #뒤집기\n",
        "print(a)\n",
        "\n",
        "a=[1,4,3,2]\n",
        "a.index(3) #2\n",
        "\n",
        "a=[1,4,3,2]\n",
        "print('3의 값의 위치 : %d'%a.index(3))"
      ],
      "metadata": {
        "colab": {
          "base_uri": "https://localhost:8080/"
        },
        "id": "IMZgMBThJCU5",
        "outputId": "f02a2a2d-042b-444f-8f42-245141e44a96"
      },
      "execution_count": null,
      "outputs": [
        {
          "output_type": "stream",
          "name": "stdout",
          "text": [
            "[1, 2, 4, 4, 5, 6, 7, 8]\n",
            "[1, 4, 4, 5, 6, 7, 8]\n",
            "[1, 4, 5, 6, 7, 8]\n",
            "[1, 4, 5, 6, 7]\n",
            "[1, 4, 6, 7]\n",
            "[1, 2, 4, 6, 7]\n",
            "[1, 2, 4, 6, 7, 9]\n",
            "[1, 2, 4, 6, 7, 9, [5, 6]]\n",
            "[1, 2, 3, 4]\n",
            "['a', 'b', 'c']\n",
            "['c', 'b', 'a']\n"
          ]
        },
        {
          "output_type": "execute_result",
          "data": {
            "text/plain": [
              "2"
            ]
          },
          "metadata": {},
          "execution_count": 1
        }
      ]
    },
    {
      "cell_type": "code",
      "source": [
        "#1.[1,3,5,4,2]를 [5,4,3,2,1]로 출력\n",
        "a=[1,3,5,4,2]\n",
        "a.sort()\n",
        "a.reverse()\n",
        "print(a)\n",
        "\n",
        "#2. ['life','is','too','beautiful']리스트를 life is too beautiful 문자열로 출력하기\n",
        "a=['life','is','too','beautiful']\n",
        "print(' '.join(a))\n",
        "print(a[0],a[1],a[2],a[3])\n"
      ],
      "metadata": {
        "colab": {
          "base_uri": "https://localhost:8080/"
        },
        "id": "OGO8Mh9QMCdM",
        "outputId": "cf34a10b-9ca0-4f9a-9803-6510101274fc"
      },
      "execution_count": null,
      "outputs": [
        {
          "output_type": "stream",
          "name": "stdout",
          "text": [
            "[5, 4, 3, 2, 1]\n",
            "life is too beautiful\n"
          ]
        }
      ]
    },
    {
      "cell_type": "code",
      "source": [
        "#3.\n",
        "a=int((input('교환할 돈은 얼마인가요?')))\n",
        "print('입력받은 돈은',a,'입니다.')\n",
        "b=(a//500)\n",
        "print('500원짜리=',b,'개')\n",
        "c=(a%500)\n",
        "d=(c//100)\n",
        "print('100원짜리=',d,'개')\n",
        "e=(c%100)\n",
        "f=(e//50)\n",
        "print('50원짜리=',f,'개')\n",
        "g=(e%50)\n",
        "h=(g//10)\n",
        "print('10원짜리=',h,'개')\n",
        "i=(g%10)\n",
        "print('바꾸지 못한 잔돈=',i,'원')"
      ],
      "metadata": {
        "colab": {
          "base_uri": "https://localhost:8080/"
        },
        "id": "TaJ8QDADN24t",
        "outputId": "eee2aec6-7355-46e9-dbb4-cb8e94c8738d"
      },
      "execution_count": null,
      "outputs": [
        {
          "output_type": "stream",
          "name": "stdout",
          "text": [
            "교환할 돈은 얼마인가요?12345\n",
            "입력받은 돈은 12345 입니다.\n",
            "500원짜리= 24 개\n",
            "100원짜리= 3 개\n",
            "50원짜리= 0 개\n",
            "10원짜리= 4 개\n",
            "바꾸지 못한 잔돈= 5 원\n"
          ]
        }
      ]
    },
    {
      "cell_type": "code",
      "source": [
        "a=int((input('교환할 돈은 얼마인가요?')))\n",
        "print('입력받은 돈은',a,'입니다.')\n",
        "b=(a//500)\n",
        "print('500원짜리=',b,'개')\n",
        "d=(a%500//100)\n",
        "print('100원짜리=',d,'개')\n",
        "f=(a%500%100//50)\n",
        "print('50원짜리=',f,'개')\n",
        "h=(a%500%100%50//10)\n",
        "print('10원짜리=',h,'개')\n",
        "i=(a%500%100%50%10)\n",
        "print('바꾸지 못한 잔돈=',i,'원')"
      ],
      "metadata": {
        "colab": {
          "base_uri": "https://localhost:8080/"
        },
        "id": "mQSMFe7HA4i9",
        "outputId": "30ec6033-1783-42a9-ca33-9199c107c4b7"
      },
      "execution_count": null,
      "outputs": [
        {
          "output_type": "stream",
          "name": "stdout",
          "text": [
            "교환할 돈은 얼마인가요?12345\n",
            "입력받은 돈은 12345 입니다.\n",
            "500원짜리= 24 개\n",
            "100원짜리= 3 개\n",
            "50원짜리= 0 개\n",
            "10원짜리= 4 개\n",
            "바꾸지 못한 잔돈= 5 원\n"
          ]
        }
      ]
    }
  ]
}