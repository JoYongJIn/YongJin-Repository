{
 "cells": [
  {
   "cell_type": "markdown",
   "id": "30512468",
   "metadata": {},
   "source": [
    "이미지 예제만 해볼것이지만 동영상에도 똑같이 적용 가능하다"
   ]
  },
  {
   "cell_type": "markdown",
   "id": "ea53348c",
   "metadata": {},
   "source": [
    "# 7. 이미지 자르기"
   ]
  },
  {
   "cell_type": "markdown",
   "id": "e77250ab",
   "metadata": {},
   "source": [
    "영역을 잘라서 새로운 윈도우(창)에 표시"
   ]
  },
  {
   "cell_type": "code",
   "execution_count": 1,
   "id": "0e6c5111",
   "metadata": {},
   "outputs": [],
   "source": [
    "import cv2\n",
    "img = cv2.imread('img.jpg')\n",
    "# img.shape(이미지 크기 보는법) : (390, 460 ,3) (세로크기, 가로크기, 이미지컬러채널수)\n",
    "\n",
    "crop = img[100:200, 200:400] # 세로 기준 100:200, 가로 기준 200 :400 까지 자름\n",
    "\n",
    "cv2.imshow('img', img) # 원본 이미지\n",
    "cv2.imshow('crop', crop) # 잘린 이미지\n",
    "cv2.waitKey(0)\n",
    "cv2.destroyAllWindows()"
   ]
  },
  {
   "cell_type": "markdown",
   "id": "f0298927",
   "metadata": {},
   "source": [
    "영역을 잘라서 기존 윈도우에 표시"
   ]
  },
  {
   "cell_type": "code",
   "execution_count": null,
   "id": "5cb8c4f3",
   "metadata": {},
   "outputs": [],
   "source": [
    "import cv2\n",
    "img = cv2.imread('img.jpg')\n",
    "\n",
    "crop = img[100:200, 200:400] # 세로 기준 100:200, 가로 기준 200 :400 까지 자름\n",
    "img[100:200, 400:600] = crop # 자른 이미지를 원본에 지정된 위치에 하나의 이미지로 같이 띄워준다\n",
    "\n",
    "cv2.imshow('img', img) # 원본 이미지\n",
    "cv2.waitKey(0)\n",
    "cv2.destroyAllWindows()"
   ]
  }
 ],
 "metadata": {
  "kernelspec": {
   "display_name": "Python 3 (ipykernel)",
   "language": "python",
   "name": "python3"
  },
  "language_info": {
   "codemirror_mode": {
    "name": "ipython",
    "version": 3
   },
   "file_extension": ".py",
   "mimetype": "text/x-python",
   "name": "python",
   "nbconvert_exporter": "python",
   "pygments_lexer": "ipython3",
   "version": "3.10.9"
  }
 },
 "nbformat": 4,
 "nbformat_minor": 5
}
