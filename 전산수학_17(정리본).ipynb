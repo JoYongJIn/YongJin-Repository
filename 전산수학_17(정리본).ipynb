{
  "nbformat": 4,
  "nbformat_minor": 0,
  "metadata": {
    "colab": {
      "provenance": [],
      "authorship_tag": "ABX9TyPF4FzQoUfNOe/ieCQK3eoE",
      "include_colab_link": true
    },
    "kernelspec": {
      "name": "python3",
      "display_name": "Python 3"
    },
    "language_info": {
      "name": "python"
    }
  },
  "cells": [
    {
      "cell_type": "markdown",
      "metadata": {
        "id": "view-in-github",
        "colab_type": "text"
      },
      "source": [
        "<a href=\"https://colab.research.google.com/github/JoYongJIn/YongJin-Repository/blob/main/%EC%A0%84%EC%82%B0%EC%88%98%ED%95%99_17(%EC%A0%95%EB%A6%AC%EB%B3%B8).ipynb\" target=\"_parent\"><img src=\"https://colab.research.google.com/assets/colab-badge.svg\" alt=\"Open In Colab\"/></a>"
      ]
    },
    {
      "cell_type": "code",
      "source": [
        "'''\n",
        "==========================\n",
        "Module (모듈): 함수, 변수, 클래스를 모아 놓은 파일\n",
        "==========================\n",
        "'''\n",
        "# colab에서 google drive와 연결\n",
        "\n",
        "from google.colab import drive\n",
        "drive.mount('/content/drive')#구글 드라이브를 마운트한다는 것은 구글 드라이브를 컴퓨터 시스템의 파일 시스템에 연결하여 사용할 수 있도록 만드는 것을 의미한다.\n",
        "\n",
        "#방법1\n",
        "import os\n",
        "os.chdir(\"/content/drive/MyDrive/Colab Notebooks/\") #디렉토리 위치 변경\n",
        "#위에 저거 해주어야한다.\n",
        "\n",
        "\n",
        "#================================================\n",
        "# import 모듈이름\n",
        "import module1 #경로를 안하면 오류뜬다 구글드라이브 디렉토리 위치면경을 해주어야한다.\n",
        "\n",
        "print(module1.add(4,3))\n",
        "print(module1.sub(4,3))\n",
        "\n",
        "# from 모듈이름 import 모듈함수\n",
        "from module1 import add, sub\n",
        "\n",
        "print(add(4,3))\n",
        "print(sub(4,3))\n",
        "\n",
        "from module1 import* # 모든 함수 불러오기\n",
        "\n",
        "print(add(4,3))\n",
        "print(sub(4,3))"
      ],
      "metadata": {
        "colab": {
          "base_uri": "https://localhost:8080/"
        },
        "id": "T1zf7V4fokHD",
        "outputId": "99571407-7ff6-458a-f82f-e46293afdc61"
      },
      "execution_count": null,
      "outputs": [
        {
          "output_type": "stream",
          "name": "stdout",
          "text": [
            "Drive already mounted at /content/drive; to attempt to forcibly remount, call drive.mount(\"/content/drive\", force_remount=True).\n",
            "7\n",
            "1\n",
            "7\n",
            "1\n",
            "7\n",
            "1\n"
          ]
        }
      ]
    },
    {
      "cell_type": "code",
      "source": [
        "#클래스안 인스턴스함수 불러오는 방법\n",
        "import module2\n",
        "\n",
        "a = module2.Math() #객체\n",
        "a.solv(2)"
      ],
      "metadata": {
        "colab": {
          "base_uri": "https://localhost:8080/"
        },
        "id": "NkJOeEl-oopv",
        "outputId": "9348dec4-ccf5-444f-814b-b746d35fc8f4"
      },
      "execution_count": null,
      "outputs": [
        {
          "output_type": "execute_result",
          "data": {
            "text/plain": [
              "12.566368"
            ]
          },
          "metadata": {},
          "execution_count": 8
        }
      ]
    },
    {
      "cell_type": "code",
      "source": [
        "import module12"
      ],
      "metadata": {
        "colab": {
          "base_uri": "https://localhost:8080/"
        },
        "id": "uiYLgFL2ouVh",
        "outputId": "c1456288-9416-4ba1-9135-c9149d27595d"
      },
      "execution_count": null,
      "outputs": [
        {
          "output_type": "stream",
          "name": "stdout",
          "text": [
            "5\n",
            "6\n"
          ]
        }
      ]
    }
  ]
}