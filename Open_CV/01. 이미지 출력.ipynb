{
 "cells": [
  {
   "cell_type": "markdown",
   "id": "702557d9",
   "metadata": {},
   "source": [
    "# 환경 설정\n",
    "Anaconda prompt 에서 다음 명령 수행\n",
    "> pip install opencv-python"
   ]
  },
  {
   "cell_type": "code",
   "execution_count": 1,
   "id": "8bc90c05",
   "metadata": {},
   "outputs": [
    {
     "data": {
      "text/plain": [
       "'4.8.0'"
      ]
     },
     "execution_count": 1,
     "metadata": {},
     "output_type": "execute_result"
    }
   ],
   "source": [
    "import cv2\n",
    "cv2.__version__"
   ]
  },
  {
   "cell_type": "markdown",
   "id": "6ce8c1c9",
   "metadata": {},
   "source": [
    "# OpenCV(Computer Vision)\n",
    "다양한 영상(이미지)/동영상 처리에 사용되는 오픈소스 라이브러리"
   ]
  },
  {
   "cell_type": "markdown",
   "id": "56fabd28",
   "metadata": {},
   "source": [
    "# 1. 이미지 출력\n",
    "> pixel에서 이미지 무료로 가져옴"
   ]
  },
  {
   "cell_type": "code",
   "execution_count": 1,
   "id": "c3eb0b41",
   "metadata": {
    "scrolled": false
   },
   "outputs": [
    {
     "name": "stdout",
     "output_type": "stream",
     "text": [
      "27\n"
     ]
    }
   ],
   "source": [
    "import cv2\n",
    "img = cv2.imread('img.jpg') #해당 경로의 파일 읽어오기\n",
    "cv2.imshow('img', img) # img 라는 이름의 창에 img를 표시\n",
    "key = cv2.waitKey(0) # 지정된 시간(ms) 동안 사용자 키 입력 대기\n",
    "print(key)\n",
    "cv2.destroyAllWindows() # 모든 창 닫기"
   ]
  },
  {
   "cell_type": "markdown",
   "id": "5aeb2cdc",
   "metadata": {},
   "source": [
    "## 읽기 옵션\n",
    "> 이미지 이용할때 이용할 이미지 workspace(openCV폴더)에 저장 시킨후 이용할수있다\n",
    "1. cv2.IMREAD_COLOR : 컬러 이미지 투명 영역은 무시 (기본값)\n",
    "1. cv2.IMREAD_GRAYSCALE : 흑백 이미지\n",
    "1. cv2.IMREAD_UNCHANGED : 투명 영역까지 포함"
   ]
  },
  {
   "cell_type": "code",
   "execution_count": 7,
   "id": "e4230c22",
   "metadata": {},
   "outputs": [],
   "source": [
    "import cv2\n",
    "img_color = cv2.imread('img.jpg', cv2.IMREAD_COLOR)\n",
    "img_gray = cv2.imread('img.jpg', cv2.IMREAD_GRAYSCALE)\n",
    "img_unchanged = cv2.imread('img.jpg', cv2.IMREAD_UNCHANGED)\n",
    "\n",
    "cv2.imshow('img_color', img_color)\n",
    "cv2.imshow('img_gray', img_gray)\n",
    "cv2.imshow('img_unchanged', img_unchanged)\n",
    "\n",
    "cv2.waitKey(0)\n",
    "cv2.destroyAllWindows()"
   ]
  },
  {
   "cell_type": "markdown",
   "id": "2b2ffc1f",
   "metadata": {},
   "source": [
    "## Shape\n",
    "이미지의 height, width, channel정보"
   ]
  },
  {
   "cell_type": "code",
   "execution_count": 8,
   "id": "bade0a62",
   "metadata": {},
   "outputs": [
    {
     "data": {
      "text/plain": [
       "(391, 640, 3)"
      ]
     },
     "execution_count": 8,
     "metadata": {},
     "output_type": "execute_result"
    }
   ],
   "source": [
    "import cv2\n",
    "img = cv2.imread('img.jpg')\n",
    "img.shape # 세로, 가로, Channel(색깔종류)"
   ]
  }
 ],
 "metadata": {
  "kernelspec": {
   "display_name": "Python 3 (ipykernel)",
   "language": "python",
   "name": "python3"
  },
  "language_info": {
   "codemirror_mode": {
    "name": "ipython",
    "version": 3
   },
   "file_extension": ".py",
   "mimetype": "text/x-python",
   "name": "python",
   "nbconvert_exporter": "python",
   "pygments_lexer": "ipython3",
   "version": "3.10.9"
  }
 },
 "nbformat": 4,
 "nbformat_minor": 5
}
