{
 "cells": [
  {
   "cell_type": "markdown",
   "id": "29bb93d2",
   "metadata": {},
   "source": [
    "# 18. 이미지 검출 (윤곽선)"
   ]
  },
  {
   "cell_type": "markdown",
   "id": "f999b6c5",
   "metadata": {},
   "source": [
    "윤곽선 검출과 경계선 검출은 이미지 처리에서 중요한 개념이며, 종종 같은 의미로 사용되기도 합니다. 하지만 미묘한 차이가 존재합니다.\n",
    "\n",
    "- 윤곽선 검출(Contour detection): 이미지에서 객체의 경계를 찾는 것을 의미합니다. 윤곽선 검출은 이미지에서 물체의 형상을 추출하거나, 구조를 이해하는 데 도움이 되며, 주로 이진 이미지에서 사용됩니다. OpenCV의 findContours 함수는 이미지의 윤곽선을 찾는데 사용되며, 이 결과로 각각의 윤곽선은 객체의 경계를 나타내는 점들의 리스트로 표현됩니다.\n",
    "\n",
    "- 경계선 검출(Edge detection): 이미지에서 색상이나 밝기가 급격하게 변하는 부분, 즉 '경계선'을 찾는 것을 의미합니다. 경계선 검출은 주로 그레이스케일 이미지나 색상 이미지에서 사용됩니다. 대표적인 경계선 검출 알고리즘으로는 Sobel, Prewitt, Roberts, Canny 등이 있습니다.\n",
    "\n",
    "윤곽선 검출은 객체의 경계를 찾아내며, 이 객체는 닫힌 영역(즉, 시작점과 끝점이 이어진 영역)을 갖습니다. 반면, 경계선 검출은 닫힌 영역이 아닌, 이미지에서 색상이나 밝기가 변하는 모든 곳에서 경계를 찾아냅니다.\n",
    "윤곽선 검출은 주로 이진 이미지에 사용되며, 경계선 검출은 그레이스케일이나 컬러 이미지에 사용됩니다.\n",
    "요약하면, 윤곽선 검출은 객체의 외형을, 경계선 검출은 이미지의 각종 변화를 찾아내는 데 각각 사용됩니다. 이 두 기술은 서로 보완적으로 사용될 수 있으며, 이미지 분석의 다양한 문제를 해결하는 데 활용됩니다."
   ]
  },
  {
   "cell_type": "markdown",
   "id": "268e7ce1",
   "metadata": {},
   "source": [
    "## 윤곽선 (Countour) : 경계선을 연결한 선"
   ]
  },
  {
   "cell_type": "code",
   "execution_count": 2,
   "id": "16bbb84a",
   "metadata": {},
   "outputs": [],
   "source": [
    "import cv2\n",
    "img = cv2.imread('card.png')\n",
    "target_img = img.copy() # 사본 이미지(원본 이미지를 직접 수정해버리는 함수(contours())가 있어서 사본이미지를 생성하여 작업한다)\n",
    "\n",
    "gray = cv2.cvtColor(img, cv2.COLOR_BGR2GRAY)\n",
    "ret, otsu = cv2.threshold(gray, -1, 255, cv2.THRESH_BINARY | cv2.THRESH_OTSU)\n",
    "\n",
    "contours, hierarchy = cv2.findContours(otsu, cv2.RETR_LIST, cv2.CHAIN_APPROX_NONE)\n",
    "# 윤곽선 정보, 계층 구조\n",
    "# 이미지, 윤곽선 찾는 모드 (mode), 윤곽선 찾을때 사용하는 근사치 방법 (method) : CHAIN_APPOX_NONE, CHAIN_APPOX_SIMPLE\n",
    "\n",
    "COLOR = (0, 200, 0) # 녹색\n",
    "cv2.drawContours(target_img, contours, -1, COLOR, 2) # 윤곽선 그리기\n",
    "# 대상 이미지, 윤곽선 정보, 인덱스(-1 이면 전체 윤곽선 그린다), 색깔, 두께\n",
    "\n",
    "cv2.imshow('img', img)\n",
    "cv2.imshow('gray', gray)\n",
    "cv2.imshow('otsu', otsu)\n",
    "cv2.imshow('contour', target_img)\n",
    "\n",
    "cv2.waitKey(0)\n",
    "cv2.destroyAllWindows()"
   ]
  },
  {
   "cell_type": "markdown",
   "id": "930c5ac3",
   "metadata": {},
   "source": [
    "## CHAIN_APPOX_NONE, CHAIN_APPOX_SIMPLE의 차이\n",
    "\n",
    "OpenCV의 cv2.findContours 함수는 이미지에서 윤곽선을 찾는 함수이며, 이 때 반환되는 윤곽선 정보의 수준을 정의하기 위해 CHAIN_APPROX_NONE과 CHAIN_APPROX_SIMPLE 같은 플래그를 사용합니다.\n",
    "\n",
    "- cv2.CHAIN_APPROX_NONE: 이 설정은 윤곽선을 구성하는 모든 점을 반환합니다(좌표들을 리스트의 리스트로 반환한다). 즉, 윤곽선 상의 모든 점들을 저장하게 됩니다. 따라서 더 많은 메모리를 사용하며, 더 세밀한 정보를 제공합니다.\n",
    "\n",
    "- cv2.CHAIN_APPROX_SIMPLE: 이 설정은 윤곽선을 구성하는 점들 중에서 수평, 수직, 대각선 방향의 선분을 압축하여 끝점만 반환합니다. 예를 들어, 만약 윤곽선이 수평선을 이루는 점들로 구성되어 있다면, 시작점과 끝점만 반환하고 그 사이의 점들은 반환하지 않습니다. 이렇게 하면 윤곽선 표현을 위한 메모리 사용량이 크게 줄어듭니다.\n",
    "\n",
    "따라서 어떤 설정을 사용할지는 상황과 요구사항에 따라 결정하면 됩니다. 간단한 윤곽선 정보만 필요하다면 cv2.CHAIN_APPROX_SIMPLE를, 더욱 세밀한 윤곽선 정보가 필요하다면 cv2.CHAIN_APPROX_NONE을 사용하면 됩니다."
   ]
  },
  {
   "cell_type": "markdown",
   "id": "da5ee0f5",
   "metadata": {},
   "source": [
    "Countour()함수를 이용하여 윤곽선을 찾기 전에 흑백화와 이분화가 선행되어야한다.\n",
    "\n",
    "OpenCV에서 제공하는 findContours와 같은 __윤곽선 검출 함수는 보통 이진화된 이미지를 대상으로 합니다. 즉, 이미지가 흑백화(그레이스케일)된 후, 이분화(이미지를 흑과 백 두 가지 값으로만 이루어지게 만드는 과정)가 수행된 후에 윤곽선을 찾는 것이 일반적입니다.__\n",
    "\n",
    "그 이유는, 윤곽선 검출 알고리즘은 픽셀 값의 급격한 변화를 찾는 데, 이진화된 이미지에서는 이러한 변화가 명확하기 때문입니다. 이는 물체의 경계에서 픽셀 값이 급격하게 변하므로, 윤곽선을 정확하게 찾아내기 위해 그레이스케일 이미지를 이진화하는 것이 필요합니다.\n",
    "\n",
    "그러므로, cv2.cvtColor로 이미지를 그레이스케일로 변환하고, cv2.threshold 또는 cv2.adaptiveThreshold 등을 사용하여 이진화를 수행한 후 cv2.findContours를 사용하여 윤곽선을 찾는 것이 일반적인 순서입니다."
   ]
  },
  {
   "cell_type": "markdown",
   "id": "b7084b2d",
   "metadata": {},
   "source": [
    "### 윤곽선 찾기 모드\n",
    "1. cv2.RETR_EXTERNAL : 가장 외곽의 윤곽선만 찾음\n",
    "1. cv2.RETR_LIST : 모든 윤곽선 찾음 (계층 정보 없음)\n",
    "1. cv2.RETR_TREE : 모든 윤곽선 찾음 (계층 정보를 트리 구조로 생성)"
   ]
  },
  {
   "cell_type": "markdown",
   "id": "49c23cff",
   "metadata": {},
   "source": [
    "- 계층 정보 예시로 설명 __cv2.RETR_TREE__\n",
    "<img src=\"스크린샷 2023-07-05 오전 1.08.04.png\" width=\"500\" height=\"600\"/>\n",
    "\n",
    "- 할아버지 아버지 동생 할머니 외할아버지 누나 어머니 외할머니 이런식이 계층정보없이 모든 윤곽선 찾는 __RETR_LIST__"
   ]
  },
  {
   "cell_type": "markdown",
   "id": "ed454aa9",
   "metadata": {},
   "source": [
    "### cv2.RETR_EXTERNAL : 가장 외곽의 윤곽선만 찾음"
   ]
  },
  {
   "cell_type": "code",
   "execution_count": 3,
   "id": "7c79b5b7",
   "metadata": {},
   "outputs": [],
   "source": [
    "import cv2\n",
    "img = cv2.imread('card.png')\n",
    "target_img = img.copy()\n",
    "\n",
    "gray = cv2.cvtColor(img, cv2.COLOR_BGR2GRAY)\n",
    "ret, otsu = cv2.threshold(gray, -1, 255, cv2.THRESH_BINARY | cv2.THRESH_OTSU)\n",
    "\n",
    "# contours, hierarchy = cv2.findContours(otsu, cv2.RETR_LIST, cv2.CHAIN_APPROX_NONE)\n",
    "contours, hierarchy = cv2.findContours(otsu, cv2.RETR_EXTERNAL, cv2.CHAIN_APPROX_NONE)\n",
    "\n",
    "\n",
    "COLOR = (0, 200, 0)\n",
    "cv2.drawContours(target_img, contours, -1, COLOR, 2)\n",
    "\n",
    "\n",
    "cv2.imshow('img', img)\n",
    "cv2.imshow('gray', gray)\n",
    "cv2.imshow('otsu', otsu)\n",
    "cv2.imshow('contour', target_img)\n",
    "\n",
    "cv2.waitKey(0)\n",
    "cv2.destroyAllWindows()"
   ]
  },
  {
   "cell_type": "markdown",
   "id": "d4bed730",
   "metadata": {},
   "source": [
    "### cv2.RETR_TREE : 모든 윤곽선 찾음 (계층 정보를 트리 구조로 생성)"
   ]
  },
  {
   "cell_type": "code",
   "execution_count": 5,
   "id": "1d6d4106",
   "metadata": {},
   "outputs": [
    {
     "name": "stdout",
     "output_type": "stream",
     "text": [
      "[[[ 1 -1 -1 -1]\n",
      "  [ 2  0 -1 -1]\n",
      "  [10  1  3 -1]\n",
      "  [ 5 -1  4  2]\n",
      "  [-1 -1 -1  3]\n",
      "  [ 6  3 -1  2]\n",
      "  [ 7  5 -1  2]\n",
      "  [ 8  6 -1  2]\n",
      "  [-1  7  9  2]\n",
      "  [-1 -1 -1  8]\n",
      "  [18  2 11 -1]\n",
      "  [13 -1 12 10]\n",
      "  [-1 -1 -1 11]\n",
      "  [14 11 -1 10]\n",
      "  [15 13 -1 10]\n",
      "  [16 14 -1 10]\n",
      "  [-1 15 17 10]\n",
      "  [-1 -1 -1 16]\n",
      "  [26 10 19 -1]\n",
      "  [21 -1 20 18]\n",
      "  [-1 -1 -1 19]\n",
      "  [22 19 -1 18]\n",
      "  [23 21 -1 18]\n",
      "  [24 22 -1 18]\n",
      "  [-1 23 25 18]\n",
      "  [-1 -1 -1 24]\n",
      "  [34 18 27 -1]\n",
      "  [29 -1 28 26]\n",
      "  [-1 -1 -1 27]\n",
      "  [30 27 -1 26]\n",
      "  [31 29 -1 26]\n",
      "  [32 30 -1 26]\n",
      "  [-1 31 33 26]\n",
      "  [-1 -1 -1 32]\n",
      "  [35 26 -1 -1]\n",
      "  [-1 34 -1 -1]]]\n",
      "총 발견 개수 : 36\n"
     ]
    }
   ],
   "source": [
    "import cv2\n",
    "img = cv2.imread('card.png')\n",
    "target_img = img.copy()\n",
    "\n",
    "gray = cv2.cvtColor(img, cv2.COLOR_BGR2GRAY)\n",
    "ret, otsu = cv2.threshold(gray, -1, 255, cv2.THRESH_BINARY | cv2.THRESH_OTSU)\n",
    "\n",
    "# contours, hierarchy = cv2.findContours(otsu, cv2.RETR_LIST, cv2.CHAIN_APPROX_NONE)\n",
    "contours, hierarchy = cv2.findContours(otsu, cv2.RETR_TREE, cv2.CHAIN_APPROX_NONE)\n",
    "print(hierarchy)\n",
    "print(f'총 발견 개수 : {len(contours)}')\n",
    "\n",
    "COLOR = (0, 200, 0)\n",
    "cv2.drawContours(target_img, contours, -1, COLOR, 2)\n",
    "\n",
    "\n",
    "cv2.imshow('img', img)\n",
    "cv2.imshow('gray', gray)\n",
    "cv2.imshow('otsu', otsu)\n",
    "cv2.imshow('contour', target_img)\n",
    "\n",
    "cv2.waitKey(0)\n",
    "cv2.destroyAllWindows()"
   ]
  },
  {
   "cell_type": "markdown",
   "id": "9485cdc1",
   "metadata": {},
   "source": [
    "## 경계 사각형\n",
    "윤곽선의 경계면을 둘러싸는 사각형\n",
    "> boundingRect()"
   ]
  },
  {
   "cell_type": "code",
   "execution_count": 6,
   "id": "aa2280ec",
   "metadata": {},
   "outputs": [],
   "source": [
    "import cv2\n",
    "img = cv2.imread('card.png')\n",
    "target_img = img.copy()\n",
    "\n",
    "gray = cv2.cvtColor(img, cv2.COLOR_BGR2GRAY)\n",
    "ret, otsu = cv2.threshold(gray, -1, 255, cv2.THRESH_BINARY | cv2.THRESH_OTSU)\n",
    "contours, hierarchy = cv2.findContours(otsu, cv2.RETR_LIST, cv2.CHAIN_APPROX_NONE)\n",
    "\n",
    "COLOR = (0, 200, 0)\n",
    "# cv2.drawContours(target_img, contours, -1, COLOR, 2)\n",
    "\n",
    "for cnt in contours:\n",
    "    x, y, width, height = cv2.boundingRect(cnt) # 이렇게 하면 윤곽선을 둘러싸고 있는 사각형 정보를 x, y, 가로크기, 세로크기를 반환해준다.\n",
    "    cv2.rectangle(target_img, (x, y), (x + width, y + height), COLOR, 2) # 사각형 그림\n",
    "\n",
    "    \n",
    "cv2.imshow('img', img)\n",
    "cv2.imshow('gray', gray)\n",
    "cv2.imshow('otsu', otsu)\n",
    "cv2.imshow('contour', target_img)\n",
    "\n",
    "cv2.waitKey(0)\n",
    "cv2.destroyAllWindows()"
   ]
  },
  {
   "cell_type": "markdown",
   "id": "cd0b81bc",
   "metadata": {},
   "source": [
    "## 면적\n",
    "> contourArea()"
   ]
  },
  {
   "cell_type": "code",
   "execution_count": 7,
   "id": "994364e5",
   "metadata": {},
   "outputs": [],
   "source": [
    "import cv2\n",
    "img = cv2.imread('card.png')\n",
    "target_img = img.copy()\n",
    "\n",
    "gray = cv2.cvtColor(img, cv2.COLOR_BGR2GRAY)\n",
    "ret, otsu = cv2.threshold(gray, -1, 255, cv2.THRESH_BINARY | cv2.THRESH_OTSU)\n",
    "contours, hierarchy = cv2.findContours(otsu, cv2.RETR_LIST, cv2.CHAIN_APPROX_NONE)\n",
    "\n",
    "COLOR = (0, 200, 0)\n",
    "\n",
    "for cnt in contours:\n",
    "    if cv2.contourArea(cnt) > 25000:\n",
    "        x, y, width, height = cv2.boundingRect(cnt)\n",
    "        cv2.rectangle(target_img, (x, y), (x + width, y + height), COLOR, 2)\n",
    "        \n",
    "cv2.imshow('img', img)\n",
    "cv2.imshow('contour', target_img)\n",
    "\n",
    "cv2.waitKey(0)\n",
    "cv2.destroyAllWindows()"
   ]
  },
  {
   "cell_type": "markdown",
   "id": "421c518f",
   "metadata": {},
   "source": [
    "## 미니 프로젝트 : 개별 카드 추출해서 파일 저장"
   ]
  },
  {
   "cell_type": "code",
   "execution_count": 8,
   "id": "a1ff6a6f",
   "metadata": {},
   "outputs": [],
   "source": [
    "import cv2\n",
    "img = cv2.imread('card.png')\n",
    "target_img = img.copy()\n",
    "\n",
    "gray = cv2.cvtColor(img, cv2.COLOR_BGR2GRAY)\n",
    "ret, otsu = cv2.threshold(gray, -1, 255, cv2.THRESH_BINARY | cv2.THRESH_OTSU)\n",
    "contours, hierarchy = cv2.findContours(otsu, cv2.RETR_LIST, cv2.CHAIN_APPROX_NONE)\n",
    "\n",
    "COLOR = (0, 200, 0)\n",
    "\n",
    "idx = 1\n",
    "for cnt in contours:\n",
    "    if cv2.contourArea(cnt) > 25000:\n",
    "        x, y, width, height = cv2.boundingRect(cnt)\n",
    "        cv2.rectangle(target_img, (x, y), (x + width, y + height), COLOR, 2)\n",
    "        \n",
    "        crop = img[y:y+height, x:x+width]\n",
    "        cv2.imshow(f'card_crop_{idx}', crop)\n",
    "        cv2.imwrite(f'card_crop_{idx}.png', crop) # 파일 저장\n",
    "        idx += 1\n",
    "        \n",
    "cv2.imshow('img', img)\n",
    "cv2.imshow('contour', target_img)\n",
    "\n",
    "cv2.waitKey(0)\n",
    "cv2.destroyAllWindows()"
   ]
  }
 ],
 "metadata": {
  "kernelspec": {
   "display_name": "Python 3 (ipykernel)",
   "language": "python",
   "name": "python3"
  },
  "language_info": {
   "codemirror_mode": {
    "name": "ipython",
    "version": 3
   },
   "file_extension": ".py",
   "mimetype": "text/x-python",
   "name": "python",
   "nbconvert_exporter": "python",
   "pygments_lexer": "ipython3",
   "version": "3.10.9"
  }
 },
 "nbformat": 4,
 "nbformat_minor": 5
}
