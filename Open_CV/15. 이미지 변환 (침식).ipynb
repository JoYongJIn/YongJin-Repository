{
 "cells": [
  {
   "cell_type": "markdown",
   "id": "96a20e09",
   "metadata": {},
   "source": [
    "# 15. 이미지 변환 (침식)"
   ]
  },
  {
   "cell_type": "markdown",
   "id": "bd9d1215",
   "metadata": {},
   "source": [
    "## 이미지를 깎아서 노이즈 제거\n",
    "흰색 영역의 외곽 픽셀을 검은색으로 변경"
   ]
  },
  {
   "cell_type": "code",
   "execution_count": 6,
   "id": "14606053",
   "metadata": {},
   "outputs": [],
   "source": [
    "import cv2\n",
    "import numpy as np\n",
    "kernel = np.ones((3, 3), dtype=np.uint)\n",
    "\n",
    "img = cv2.imread('erode.png', cv2.IMREAD_GRAYSCALE)\n",
    "erode1 = cv2.erode(img, kernel, iterations=1) # 침식 1회 반복\n",
    "erode2 = cv2.erode(img, kernel, iterations=3)\n",
    "erode3 = cv2.erode(img, kernel, iterations=5)\n",
    "\n",
    "cv2.imshow('gray', img)\n",
    "cv2.imshow('erode1', erode1)\n",
    "cv2.imshow('erode3', erode3)\n",
    "cv2.imshow('erode5', erode5)\n",
    "cv2.waitKey(0)\n",
    "cv2.destroyAllWindows()"
   ]
  }
 ],
 "metadata": {
  "kernelspec": {
   "display_name": "Python 3 (ipykernel)",
   "language": "python",
   "name": "python3"
  },
  "language_info": {
   "codemirror_mode": {
    "name": "ipython",
    "version": 3
   },
   "file_extension": ".py",
   "mimetype": "text/x-python",
   "name": "python",
   "nbconvert_exporter": "python",
   "pygments_lexer": "ipython3",
   "version": "3.10.9"
  }
 },
 "nbformat": 4,
 "nbformat_minor": 5
}
