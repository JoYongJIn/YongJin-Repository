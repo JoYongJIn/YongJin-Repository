{
 "cells": [
  {
   "cell_type": "markdown",
   "id": "4d90b25e",
   "metadata": {},
   "source": [
    "# 13. 이미지 변형 (이진화)"
   ]
  },
  {
   "cell_type": "markdown",
   "id": "9d2d91ad",
   "metadata": {},
   "source": [
    "- 기준 = Threshold (= 임계값)\n",
    "- 이미지 편집 https://pixlr.com/kr/e/\n",
    "- 이미지 편집 프로그램 https://pixlr.com/kr/"
   ]
  },
  {
   "cell_type": "markdown",
   "id": "24d9e6a9",
   "metadata": {},
   "source": [
    "## Threshold"
   ]
  },
  {
   "cell_type": "code",
   "execution_count": 20,
   "id": "3ed830f2",
   "metadata": {},
   "outputs": [],
   "source": [
    "import cv2\n",
    "\n",
    "img = cv2.imread('book.jpg', cv2.IMREAD_GRAYSCALE)\n",
    "\n",
    "ret, binary = cv2.threshold(img, 127, 255, cv2.THRESH_BINARY)\n",
    "\n",
    "cv2.imshow('img', img)\n",
    "cv2.imshow('binary', binary)\n",
    "cv2.waitKey(0)\n",
    "cv2.destroyAllWindows()"
   ]
  },
  {
   "cell_type": "markdown",
   "id": "b32ad77e",
   "metadata": {},
   "source": [
    "## Trackbar (값 변화에 따른 변형 확인)"
   ]
  },
  {
   "cell_type": "code",
   "execution_count": 21,
   "id": "6030f393",
   "metadata": {},
   "outputs": [
    {
     "ename": "KeyboardInterrupt",
     "evalue": "",
     "output_type": "error",
     "traceback": [
      "\u001b[0;31m---------------------------------------------------------------------------\u001b[0m",
      "\u001b[0;31mKeyboardInterrupt\u001b[0m                         Traceback (most recent call last)",
      "Cell \u001b[0;32mIn[21], line 22\u001b[0m\n\u001b[1;32m     19\u001b[0m         \u001b[38;5;28;01mbreak\u001b[39;00m\n\u001b[1;32m     21\u001b[0m     cv2\u001b[38;5;241m.\u001b[39mimshow(name, binary)\n\u001b[0;32m---> 22\u001b[0m     \u001b[38;5;28;01mif\u001b[39;00m \u001b[43mcv2\u001b[49m\u001b[38;5;241;43m.\u001b[39;49m\u001b[43mwaitKey\u001b[49m\u001b[43m(\u001b[49m\u001b[38;5;241;43m1\u001b[39;49m\u001b[43m)\u001b[49m \u001b[38;5;241m==\u001b[39m \u001b[38;5;28mord\u001b[39m(\u001b[38;5;124m'\u001b[39m\u001b[38;5;124mq\u001b[39m\u001b[38;5;124m'\u001b[39m):\n\u001b[1;32m     23\u001b[0m         \u001b[38;5;28;01mbreak\u001b[39;00m\n\u001b[1;32m     25\u001b[0m cv2\u001b[38;5;241m.\u001b[39mdestroyAllWindows()\n",
      "\u001b[0;31mKeyboardInterrupt\u001b[0m: "
     ]
    }
   ],
   "source": [
    "import cv2\n",
    "\n",
    "def empty(pos):\n",
    "#     print(pos)\n",
    "    pass\n",
    "\n",
    "img = cv2.imread('book.jpg', cv2.IMREAD_GRAYSCALE)\n",
    "\n",
    "name = 'Trackbar'\n",
    "cv2.namedWindow(name)\n",
    "\n",
    "cv2.createTrackbar('threshold', name, 127, 255, empty) # bar 이름, 창의 이름, 초기값, 최대값, 이벤트 처리\n",
    "\n",
    "while True:\n",
    "    thresh = cv2.getTrackbarPos('threshold', name) # bar 이름, 창의 이름\n",
    "    ret, binary = cv2.threshold(img, thresh, 255, cv2.THRESH_BINARY)\n",
    "    \n",
    "    if not ret:\n",
    "        break\n",
    "        \n",
    "    cv2.imshow(name, binary)\n",
    "    if cv2.waitKey(1) == ord('q'):\n",
    "        break\n",
    "        \n",
    "cv2.destroyAllWindows()"
   ]
  },
  {
   "cell_type": "markdown",
   "id": "0e55f10e",
   "metadata": {},
   "source": [
    "### 그림판에서 제작한 이미지로 확인"
   ]
  },
  {
   "cell_type": "code",
   "execution_count": null,
   "id": "44ae784e",
   "metadata": {},
   "outputs": [],
   "source": [
    "import cv2\n",
    "\n",
    "def empty(pos):\n",
    "#     print(pos)\n",
    "    pass\n",
    "\n",
    "img = cv2.imread('threshold.png', cv2.IMREAD_GRAYSCALE)\n",
    "\n",
    "name = 'Trackbar'\n",
    "cv2.namedWindow(name)\n",
    "\n",
    "cv2.createTrackbar('threshold', name, 127, 255, empty) # bar 이름, 창의 이름, 초기값, 최대값, 이벤트 처리\n",
    "\n",
    "while True:\n",
    "    thresh = cv2.getTrackbarPos('threshold', name) # bar 이름, 창의 이름\n",
    "    ret, binary = cv2.threshold(img, thresh, 255, cv2.THRESH_BINARY)\n",
    "    \n",
    "    if not ret:\n",
    "        break\n",
    "        \n",
    "    cv2.imshow(name, binary)\n",
    "    if cv2.waitKey(1) == ord('q'):\n",
    "        break\n",
    "        \n",
    "cv2.destroyAllWindows()"
   ]
  },
  {
   "cell_type": "code",
   "execution_count": 9,
   "id": "dfb6dea4",
   "metadata": {},
   "outputs": [],
   "source": [
    "import cv2\n",
    "img = cv2.imread('threshold.png', cv2.IMREAD_GRAYSCALE)\n",
    "\n",
    "ret, binary1 = cv2.threshold(img, 0, 255, cv2.THRESH_BINARY) # 진한 회색, 밝은 회색, 흰색\n",
    "ret, binary2 = cv2.threshold(img, 127, 255, cv2.THRESH_BINARY) # 밝은 회색, 흰색\n",
    "ret, binary3 = cv2.threshold(img, 195, 255, cv2.THRESH_BINARY) # 흰색\n",
    "\n",
    "cv2.imshow('img', img)\n",
    "cv2.imshow('binary1', binary1)\n",
    "cv2.imshow('binary2', binary2)\n",
    "cv2.imshow('binary3', binary3)\n",
    "cv2.waitKey(0)\n",
    "cv2.destroyAllWindows()"
   ]
  },
  {
   "cell_type": "markdown",
   "id": "b5d2308d",
   "metadata": {},
   "source": [
    "## Adaptive Threshold\n",
    "> 그냥 Threshold는 이미지 전체에서 임계치 기준으로 흰색 검은색으로 처리 하지만 Adaptive Threshold의 경우 이미지를 작은 영역으로 나누어 임계치 적용\n",
    "- Adaptive Mean Thresholding: 임계값을 현재 픽셀의 이웃 영역의 평균값으로 설정합니다.\n",
    "- Gaussian Adaptive Thresholding: 임계값을 가우시안 윈도우의 가중치 합으로 설정합니다. 이것은 주변 픽셀의 가중치를 더 많이 준다는 것을 의미합니다.\n",
    "\n",
    "> 즉, 이미지의 모든 부분에 대해 단일한 임계값을 적용하는 것이 아니라 이미지의 다른 영역에 따라 다른 임계값을 적용하므로서, 다양한 조명 조건이나 배경 노이즈가 있는 이미지에서도 좋은 결과를 얻을 수 있게 됩니다. 이러한 방법을 통해 이미지의 지역적인 특성에 따라 다르게 임계값을 설정하게 되므로, 이미지의 조명 변화에 대해 더 유연하게 대응할 수 있습니다."
   ]
  },
  {
   "cell_type": "code",
   "execution_count": 18,
   "id": "d4608f90",
   "metadata": {},
   "outputs": [],
   "source": [
    "import cv2\n",
    "\n",
    "def empty(pos):\n",
    "#     print(pos)\n",
    "    pass\n",
    "\n",
    "img = cv2.imread('book.jpg', cv2.IMREAD_GRAYSCALE)\n",
    "\n",
    "name = 'Trackbar'\n",
    "cv2.namedWindow(name)\n",
    "\n",
    "\n",
    "cv2.createTrackbar('block_size', name, 127, 255, empty) # block_size는 홀수만 가능, 1보다는 큰 값\n",
    "cv2.createTrackbar('c', name, 3, 10, empty) # 일반적으로 양수의 값을 사용\n",
    "\n",
    "while True:\n",
    "    block_size = cv2.getTrackbarPos('block_size', name) # bar 이름, 창의 이름\n",
    "    c = cv2.getTrackbarPos('c', name)\n",
    "    \n",
    "    if block_size <= 1: # 1 이하면 3 으로\n",
    "        block_size = 3\n",
    "    \n",
    "    if block_size % 2 == 0: # 짝수이면 홀수로\n",
    "        block_size += 1\n",
    "    \n",
    "    binary = cv2.adaptiveThreshold(img, 255, cv2.ADAPTIVE_THRESH_MEAN_C, cv2.THRESH_BINARY, block_size, c)\n",
    "    \n",
    "    cv2.imshow(name, binary)\n",
    "    if cv2.waitKey(1) == ord('q'):\n",
    "        break\n",
    "        \n",
    "cv2.destroyAllWindows()"
   ]
  },
  {
   "cell_type": "markdown",
   "id": "1752e827",
   "metadata": {},
   "source": [
    "## 오츠 알고리즘\n",
    "> 모든 이미지에 대해서 최적의 임계치를 찾는 것은 아니고 오츠 알고리즘은 이미지 형태가 Bimodal Image의 임계치를 잘찾아준다"
   ]
  },
  {
   "cell_type": "code",
   "execution_count": 19,
   "id": "4d401508",
   "metadata": {},
   "outputs": [
    {
     "name": "stdout",
     "output_type": "stream",
     "text": [
      "otsu threshold 123.0\n"
     ]
    }
   ],
   "source": [
    "import cv2\n",
    "img = cv2.imread('book.jpg', cv2.IMREAD_GRAYSCALE)\n",
    "\n",
    "ret, binary = cv2.threshold(img, 127, 255, cv2.THRESH_BINARY) # 이부분의 최적의 임계치를 오츠가 자동으로 찾아주는 것이다\n",
    "ret, otsu = cv2.threshold(img, -1, 255, cv2.THRESH_BINARY | cv2.THRESH_OTSU)\n",
    "print('otsu threshold', ret)\n",
    "\n",
    "cv2.imshow('img', img)\n",
    "cv2.imshow('binary', binary)\n",
    "cv2.imshow('otsu', otsu)\n",
    "cv2.waitKey(0)\n",
    "cv2.destroyAllWindows()"
   ]
  }
 ],
 "metadata": {
  "kernelspec": {
   "display_name": "Python 3 (ipykernel)",
   "language": "python",
   "name": "python3"
  },
  "language_info": {
   "codemirror_mode": {
    "name": "ipython",
    "version": 3
   },
   "file_extension": ".py",
   "mimetype": "text/x-python",
   "name": "python",
   "nbconvert_exporter": "python",
   "pygments_lexer": "ipython3",
   "version": "3.10.9"
  }
 },
 "nbformat": 4,
 "nbformat_minor": 5
}
