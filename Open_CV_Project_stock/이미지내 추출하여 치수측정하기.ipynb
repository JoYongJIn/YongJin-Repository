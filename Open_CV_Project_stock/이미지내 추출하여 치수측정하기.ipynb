{
 "cells": [
  {
   "cell_type": "code",
   "execution_count": 4,
   "id": "2719ed5b",
   "metadata": {},
   "outputs": [],
   "source": [
    "import cv2\n",
    "img = cv2.imread('chart.jpeg') #해당 경로의 파일 읽어오기\n",
    "cv2.imshow('img', img) # img 라는 이름의 창에 img를 표시\n",
    "key = cv2.waitKey(0) # 지정된 시간(ms) 동안 사용자 키 입력 대기\n",
    "cv2.destroyAllWindows()"
   ]
  },
  {
   "cell_type": "code",
   "execution_count": 46,
   "id": "dc8c94e7",
   "metadata": {},
   "outputs": [
    {
     "name": "stdout",
     "output_type": "stream",
     "text": [
      "[[[   1   -1   -1   -1]\n",
      "  [   2    0   -1   -1]\n",
      "  [   3    1   -1   -1]\n",
      "  ...\n",
      "  [1461 1457 1460   -1]\n",
      "  [  -1   -1   -1 1459]\n",
      "  [  -1 1459   -1   -1]]]\n",
      "총 발견 개수 : 1462\n"
     ]
    }
   ],
   "source": [
    "import cv2\n",
    "img = cv2.imread('chart.jpeg')\n",
    "target_img = img.copy()\n",
    "\n",
    "gray = cv2.cvtColor(img, cv2.COLOR_BGR2GRAY) # 이진화를 하기전에 그레이스케일로\n",
    "ret, otsu = cv2.threshold(gray, -1, 255, cv2.THRESH_BINARY | cv2.THRESH_OTSU)\n",
    "\n",
    "# contours, hierarchy = cv2.findContours(otsu, cv2.RETR_LIST, cv2.CHAIN_APPROX_NONE)\n",
    "contours, hierarchy = cv2.findContours(otsu, cv2.RETR_TREE, cv2.CHAIN_APPROX_NONE)\n",
    "print(hierarchy)\n",
    "print(f'총 발견 개수 : {len(contours)}')\n",
    "\n",
    "COLOR = (0, 200, 0)\n",
    "cv2.drawContours(target_img, contours, -1, COLOR, 2)\n",
    "\n",
    "\n",
    "cv2.imshow('img', img)\n",
    "cv2.imshow('gray', gray)\n",
    "cv2.imshow('otsu', otsu)\n",
    "cv2.imshow('contour', target_img)\n",
    "\n",
    "cv2.waitKey(0)\n",
    "cv2.destroyAllWindows()"
   ]
  },
  {
   "cell_type": "markdown",
   "id": "fb2eafe4",
   "metadata": {},
   "source": [
    "주식 차트의 봉의 길이와 꼬리의 길이를 추출하려면 이미지 처리와 컴퓨터 비전 기법을 사용해야 합니다. 이는 일반적으로 이미지에서 각 주식 봉을 찾고, 봉의 높이와 꼬리의 길이를 측정하는 과정을 포함합니다.\n",
    "\n",
    "Python에서는 OpenCV와 같은 라이브러리를 사용하여 이를 수행할 수 있습니다. 또한 PIL (Python Image Library) 나 Matplotlib와 같은 라이브러리를 사용하여 이미지를 읽고 처리할 수 있습니다.\n",
    "\n",
    "다음은 가볍게 어떻게 시작할 수 있는지에 대한 개요입니다:\n",
    "\n",
    "이미지 로드: 먼저 이미지를 로드합니다. 이는 OpenCV의 cv2.imread() 또는 PIL의 Image.open() 함수를 사용하여 수행할 수 있습니다.\n",
    "\n",
    "이미지 처리: 봉을 추출하기 위해 이미지를 처리해야 합니다. 이는 보통 이진화, 엣지 검출, 세그멘테이션 등의 기법을 포함합니다. OpenCV의 cv2.threshold(), cv2.Canny(), cv2.findContours() 등의 함수를 사용할 수 있습니다.\n",
    "\n",
    "봉 추출: 이미지 처리 후, 각 봉을 구성하는 픽셀을 추출하고, 봉의 높이와 꼬리의 길이를 계산합니다. 이는 OpenCV의 cv2.boundingRect() 함수를 사용하여 수행할 수 있습니다.\n",
    "\n",
    "데이터 프레임 생성: 추출된 봉의 높이와 꼬리의 길이 데이터를 사용하여 pandas DataFrame을 생성합니다.\n",
    "\n",
    "이 프로세스는 이미지의 복잡성, 차트의 형식, 봉의 크기와 배치 등에 따라 크게 달라질 수 있습니다. 이와 같은 작업에는 컴퓨터 비전, 이미지 처리에 대한 이해가 필요하며, 알고리즘은 특정 이미지와 작업에 맞게 조정해야 합니다."
   ]
  },
  {
   "cell_type": "markdown",
   "id": "06dd6b3c",
   "metadata": {},
   "source": [
    "## cv2.findcontours"
   ]
  },
  {
   "cell_type": "code",
   "execution_count": 22,
   "id": "329fee76",
   "metadata": {},
   "outputs": [],
   "source": [
    "import cv2\n",
    "import numpy as np\n",
    "\n",
    "# 이미지 불러오기\n",
    "image = cv2.imread('chart.jpeg')\n",
    "\n",
    "# 이미지를 그레이스케일로 변환\n",
    "gray = cv2.cvtColor(image, cv2.COLOR_BGR2GRAY)\n",
    "\n",
    "# 이미지 이진화 - Otsu's thresholding\n",
    "ret, thresh = cv2.threshold(gray, 0, 255, cv2.THRESH_BINARY_INV + cv2.THRESH_OTSU)\n",
    "\n",
    "# findContours 함수를 사용해 윤곽선 찾기\n",
    "contours, hierarchy = cv2.findContours(thresh, cv2.RETR_TREE, cv2.CHAIN_APPROX_SIMPLE)\n",
    "\n",
    "# 모든 윤곽선을 빨간색으로 그리기\n",
    "cv2.drawContours(image, contours, -1, (0, 200, 0), 2)\n",
    "\n",
    "# 윤곽선이 그려진 이미지 보기\n",
    "cv2.imshow('Image with contours', image)\n",
    "cv2.waitKey(0)\n",
    "cv2.destroyAllWindows()\n"
   ]
  },
  {
   "cell_type": "markdown",
   "id": "c84f3408",
   "metadata": {},
   "source": [
    "## 윤곽선의 세로길이 계산하기(cv2.boundingRect)"
   ]
  },
  {
   "cell_type": "code",
   "execution_count": 42,
   "id": "6076e95f",
   "metadata": {},
   "outputs": [
    {
     "name": "stdout",
     "output_type": "stream",
     "text": [
      "The vertical length of the first contour is: 6\n"
     ]
    }
   ],
   "source": [
    "import cv2\n",
    "import numpy as np\n",
    "\n",
    "# 이미지 읽기\n",
    "img = cv2.imread('chart.jpeg', cv2.IMREAD_GRAYSCALE)\n",
    "\n",
    "# 임계값 처리로 이진화 이미지로 변환\n",
    "_, thresholded = cv2.threshold(img, 127, 255, cv2.THRESH_BINARY)\n",
    "\n",
    "# findContours로 윤곽선 찾기\n",
    "contours, _ = cv2.findContours(thresholded, cv2.RETR_TREE, cv2.CHAIN_APPROX_SIMPLE)\n",
    "\n",
    "# 첫 번째 윤곽선에 대한 바운딩 박스 계산\n",
    "x, y, w, h = cv2.boundingRect(contours[0])\n",
    "\n",
    "# 세로 길이 출력\n",
    "print(f'The vertical length of the first contour is: {h}')"
   ]
  },
  {
   "cell_type": "code",
   "execution_count": 43,
   "id": "d66af5dd",
   "metadata": {},
   "outputs": [
    {
     "name": "stdout",
     "output_type": "stream",
     "text": [
      "The vertical length of the first contour is: 6\n",
      "The length of the first contour is: 667.6568541526794\n"
     ]
    }
   ],
   "source": [
    "import cv2\n",
    "import numpy as np\n",
    "\n",
    "# 이미지 읽기\n",
    "img = cv2.imread('chart.jpeg', cv2.IMREAD_GRAYSCALE)\n",
    "\n",
    "# 원본 이미지 복사(윤곽선 그리기 위함)\n",
    "img_color = cv2.cvtColor(img, cv2.COLOR_GRAY2BGR)\n",
    "\n",
    "# 임계값 처리로 이진화 이미지로 변환\n",
    "_, thresholded = cv2.threshold(img, 127, 255, cv2.THRESH_BINARY)\n",
    "\n",
    "# findContours로 윤곽선 찾기\n",
    "contours, _ = cv2.findContours(thresholded, cv2.RETR_TREE, cv2.CHAIN_APPROX_SIMPLE)\n",
    "\n",
    "# 첫 번째 윤곽선에 대한 바운딩 박스 계산\n",
    "x, y, w, h = cv2.boundingRect(contours[0])\n",
    "\n",
    "# 윤곽선 그리기\n",
    "cv2.drawContours(img_color, contours, 0, (0, 255, 0), 3)  # 첫 번째 윤곽선에 녹색으로 그리기\n",
    "\n",
    "# 세로 길이 출력\n",
    "print(f'The vertical length of the first contour is: {h}')\n",
    "\n",
    "# 첫 번째 윤곽선의 길이(퍼리미터) 계산\n",
    "contour_length = cv2.arcLength(contours[0], True)  # True는 윤곽선이 닫힌 윤곽선임을 나타냄\n",
    "\n",
    "print(f'The length of the first contour is: {contour_length}')\n",
    "\n",
    "# 결과 이미지 보여주기\n",
    "cv2.imshow('Image with Contour', img_color)\n",
    "cv2.waitKey(0)\n",
    "cv2.destroyAllWindows()\n"
   ]
  },
  {
   "cell_type": "code",
   "execution_count": 32,
   "id": "e86bdccc",
   "metadata": {},
   "outputs": [
    {
     "name": "stdout",
     "output_type": "stream",
     "text": [
      "The vertical length of the first contour is: 66\n",
      "The length of the first contour is: 306.02438521385193\n"
     ]
    }
   ],
   "source": [
    "import cv2\n",
    "import numpy as np\n",
    "\n",
    "# 이미지 읽기\n",
    "img = cv2.imread('chart.jpeg', cv2.IMREAD_GRAYSCALE)\n",
    "\n",
    "# 원본 이미지 복사(윤곽선 그리기 위함)\n",
    "img_color = cv2.cvtColor(img, cv2.COLOR_GRAY2BGR)\n",
    "\n",
    "# 임계값 처리로 이진화 이미지로 변환\n",
    "_, thresholded = cv2.threshold(img, 127, 255, cv2.THRESH_BINARY)\n",
    "\n",
    "# findContours로 윤곽선 찾기\n",
    "contours, _ = cv2.findContours(thresholded, cv2.RETR_TREE, cv2.CHAIN_APPROX_SIMPLE)\n",
    "\n",
    "# 너비가 일정 범위에 속하는 윤곽선 찾기\n",
    "WIDTH_RANGE = (50, 100)  # 예시로 설정한 너비 범위. 실제 상황에 맞게 조정해야 합니다.\n",
    "selected_contours = [cnt for cnt in contours if WIDTH_RANGE[0] <= cv2.boundingRect(cnt)[2] <= WIDTH_RANGE[1]]\n",
    "\n",
    "# 해당하는 윤곽선이 있을 경우\n",
    "if selected_contours:\n",
    "    # 첫 번째 윤곽선에 대한 바운딩 박스 계산\n",
    "    x, y, w, h = cv2.boundingRect(selected_contours[0])\n",
    "\n",
    "    # 윤곽선 그리기\n",
    "    cv2.drawContours(img_color, selected_contours, 0, (0, 255, 0), 3)  # 첫 번째 윤곽선에 녹색으로 그리기\n",
    "\n",
    "    # 세로 길이 출력\n",
    "    print(f'The vertical length of the first contour is: {h}')\n",
    "\n",
    "    # 첫 번째 윤곽선의 길이(퍼리미터) 계산\n",
    "    contour_length = cv2.arcLength(selected_contours[0], True)  # True는 윤곽선이 닫힌 윤곽선임을 나타냄\n",
    "\n",
    "    print(f'The length of the first contour is: {contour_length}')\n",
    "\n",
    "    # 결과 이미지 보여주기\n",
    "    cv2.imshow('Image with Contour', img_color)\n",
    "    cv2.waitKey(0)\n",
    "    cv2.destroyAllWindows()\n",
    "\n",
    "else:\n",
    "    print('No contour in the specified width range.')\n"
   ]
  },
  {
   "cell_type": "code",
   "execution_count": 48,
   "id": "1898d7b0",
   "metadata": {},
   "outputs": [
    {
     "name": "stdout",
     "output_type": "stream",
     "text": [
      "The vertical length of the first contour is: 6\n",
      "The length of the first contour is: 54.24264061450958\n"
     ]
    }
   ],
   "source": [
    "import cv2\n",
    "import numpy as np\n",
    "\n",
    "# 이미지 읽기\n",
    "img = cv2.imread('chart.jpeg', cv2.IMREAD_GRAYSCALE)\n",
    "\n",
    "# 원본 이미지 복사(윤곽선 그리기 위함)\n",
    "img_color = cv2.cvtColor(img, cv2.COLOR_GRAY2BGR)\n",
    "\n",
    "# 임계값 처리로 이진화 이미지로 변환\n",
    "_, thresholded = cv2.threshold(img, 127, 255, cv2.THRESH_BINARY)\n",
    "\n",
    "# findContours로 윤곽선 찾기\n",
    "contours, _ = cv2.findContours(thresholded, cv2.RETR_TREE, cv2.CHAIN_APPROX_SIMPLE)\n",
    "\n",
    "# 너비가 일정 범위에 속하는 윤곽선 찾기\n",
    "WIDTH_RANGE = (20, 50)\n",
    "selected_contours = []\n",
    "\n",
    "# 모든 윤곽선을 검사하며 너비가 WIDTH_RANGE에 해당하는 윤곽선만 selected_contours에 추가\n",
    "for cnt in contours:\n",
    "    x, y, w, h = cv2.boundingRect(cnt)\n",
    "    if WIDTH_RANGE[0] <= w <= WIDTH_RANGE[1]:\n",
    "        selected_contours.append(cnt)\n",
    "\n",
    "# selected_contours에 윤곽선이 추가된 경우\n",
    "if selected_contours:\n",
    "    # 첫 번째 윤곽선에 대한 바운딩 박스 계산\n",
    "    x, y, w, h = cv2.boundingRect(selected_contours[0])\n",
    "\n",
    "    # 모든 윤곽선 그리기\n",
    "    for i in range(len(selected_contours)):\n",
    "        cv2.drawContours(img_color, selected_contours, i, (0, 255, 0), 3)\n",
    "\n",
    "    # 세로 길이 출력\n",
    "    print(f'The vertical length of the first contour is: {h}')\n",
    "\n",
    "    # 첫 번째 윤곽선의 길이(퍼리미터) 계산\n",
    "    contour_length = cv2.arcLength(selected_contours[0], True)  # True는 윤곽선이 닫힌 윤곽선임을 나타냄\n",
    "\n",
    "    print(f'The length of the first contour is: {contour_length}')\n",
    "\n",
    "    # 결과 이미지 보여주기\n",
    "    cv2.imshow('Image with Contour', img_color)\n",
    "    cv2.waitKey(0)\n",
    "    cv2.destroyAllWindows()\n",
    "\n",
    "# WIDTH_RANGE에 해당하는 윤곽선이 없는 경우\n",
    "else:\n",
    "    print('No contour in the specified width range.')"
   ]
  },
  {
   "cell_type": "code",
   "execution_count": null,
   "id": "825195bc",
   "metadata": {},
   "outputs": [],
   "source": []
  },
  {
   "cell_type": "code",
   "execution_count": null,
   "id": "5761ea60",
   "metadata": {},
   "outputs": [],
   "source": []
  },
  {
   "cell_type": "code",
   "execution_count": null,
   "id": "81641023",
   "metadata": {},
   "outputs": [],
   "source": []
  },
  {
   "cell_type": "code",
   "execution_count": null,
   "id": "a631e2f3",
   "metadata": {},
   "outputs": [],
   "source": []
  }
 ],
 "metadata": {
  "kernelspec": {
   "display_name": "Python 3 (ipykernel)",
   "language": "python",
   "name": "python3"
  },
  "language_info": {
   "codemirror_mode": {
    "name": "ipython",
    "version": 3
   },
   "file_extension": ".py",
   "mimetype": "text/x-python",
   "name": "python",
   "nbconvert_exporter": "python",
   "pygments_lexer": "ipython3",
   "version": "3.10.9"
  }
 },
 "nbformat": 4,
 "nbformat_minor": 5
}
