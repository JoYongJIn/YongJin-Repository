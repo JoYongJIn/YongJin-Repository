{
  "nbformat": 4,
  "nbformat_minor": 0,
  "metadata": {
    "colab": {
      "provenance": [],
      "authorship_tag": "ABX9TyP1fgCFYcvNbOPyd2A4/Gri",
      "include_colab_link": true
    },
    "kernelspec": {
      "name": "python3",
      "display_name": "Python 3"
    },
    "language_info": {
      "name": "python"
    }
  },
  "cells": [
    {
      "cell_type": "markdown",
      "metadata": {
        "id": "view-in-github",
        "colab_type": "text"
      },
      "source": [
        "<a href=\"https://colab.research.google.com/github/JoYongJIn/YongJin-Repository/blob/main/ANN_selfstudy.ipynb\" target=\"_parent\"><img src=\"https://colab.research.google.com/assets/colab-badge.svg\" alt=\"Open In Colab\"/></a>"
      ]
    },
    {
      "cell_type": "code",
      "source": [
        "#ANN 이중분류모델"
      ],
      "metadata": {
        "id": "Y5o-cza2WPU7"
      },
      "execution_count": null,
      "outputs": []
    },
    {
      "cell_type": "code",
      "execution_count": null,
      "metadata": {
        "colab": {
          "base_uri": "https://localhost:8080/"
        },
        "id": "KmZvDdSuy4cz",
        "outputId": "a9bccc50-b837-4a6f-e3cb-553a11586c55"
      },
      "outputs": [
        {
          "output_type": "stream",
          "name": "stdout",
          "text": [
            "Mounted at /content/drive\n"
          ]
        }
      ],
      "source": [
        "from google.colab import drive #구글과 코랩 연결(mount)\n",
        "drive.mount('/content/drive')"
      ]
    },
    {
      "cell_type": "code",
      "source": [
        "import pandas as pd\n",
        "import numpy as np\n",
        "import matplotlib.pyplot as plt\n",
        "import seaborn as sns\n",
        "from sklearn.metrics import confusion_matrix, accuracy_score, f1_score #필요한 모듈들\n",
        "\n",
        "df = pd.read_csv(\"/content/drive/MyDrive/Colab_Notebooks/diabetes_prediction_dataset.csv\",sep = \",\")\n",
        "df.head()#csv파일 읽어들인후 위에 5개 샘플 출력"
      ],
      "metadata": {
        "colab": {
          "base_uri": "https://localhost:8080/",
          "height": 270
        },
        "id": "jlM6UJS6FqBZ",
        "outputId": "9697d9ac-c85d-4f98-efc3-dbf441cfa3be"
      },
      "execution_count": null,
      "outputs": [
        {
          "output_type": "execute_result",
          "data": {
            "text/plain": [
              "   gender   age  hypertension  heart_disease smoking_history    bmi  \\\n",
              "0  Female  80.0             0              1           never  25.19   \n",
              "1  Female  54.0             0              0         No Info  27.32   \n",
              "2    Male  28.0             0              0           never  27.32   \n",
              "3  Female  36.0             0              0         current  23.45   \n",
              "4    Male  76.0             1              1         current  20.14   \n",
              "\n",
              "   HbA1c_level  blood_glucose_level  diabetes  \n",
              "0          6.6                  140         0  \n",
              "1          6.6                   80         0  \n",
              "2          5.7                  158         0  \n",
              "3          5.0                  155         0  \n",
              "4          4.8                  155         0  "
            ],
            "text/html": [
              "\n",
              "  <div id=\"df-f3601562-3996-4faa-9fca-a12b5d021c1c\">\n",
              "    <div class=\"colab-df-container\">\n",
              "      <div>\n",
              "<style scoped>\n",
              "    .dataframe tbody tr th:only-of-type {\n",
              "        vertical-align: middle;\n",
              "    }\n",
              "\n",
              "    .dataframe tbody tr th {\n",
              "        vertical-align: top;\n",
              "    }\n",
              "\n",
              "    .dataframe thead th {\n",
              "        text-align: right;\n",
              "    }\n",
              "</style>\n",
              "<table border=\"1\" class=\"dataframe\">\n",
              "  <thead>\n",
              "    <tr style=\"text-align: right;\">\n",
              "      <th></th>\n",
              "      <th>gender</th>\n",
              "      <th>age</th>\n",
              "      <th>hypertension</th>\n",
              "      <th>heart_disease</th>\n",
              "      <th>smoking_history</th>\n",
              "      <th>bmi</th>\n",
              "      <th>HbA1c_level</th>\n",
              "      <th>blood_glucose_level</th>\n",
              "      <th>diabetes</th>\n",
              "    </tr>\n",
              "  </thead>\n",
              "  <tbody>\n",
              "    <tr>\n",
              "      <th>0</th>\n",
              "      <td>Female</td>\n",
              "      <td>80.0</td>\n",
              "      <td>0</td>\n",
              "      <td>1</td>\n",
              "      <td>never</td>\n",
              "      <td>25.19</td>\n",
              "      <td>6.6</td>\n",
              "      <td>140</td>\n",
              "      <td>0</td>\n",
              "    </tr>\n",
              "    <tr>\n",
              "      <th>1</th>\n",
              "      <td>Female</td>\n",
              "      <td>54.0</td>\n",
              "      <td>0</td>\n",
              "      <td>0</td>\n",
              "      <td>No Info</td>\n",
              "      <td>27.32</td>\n",
              "      <td>6.6</td>\n",
              "      <td>80</td>\n",
              "      <td>0</td>\n",
              "    </tr>\n",
              "    <tr>\n",
              "      <th>2</th>\n",
              "      <td>Male</td>\n",
              "      <td>28.0</td>\n",
              "      <td>0</td>\n",
              "      <td>0</td>\n",
              "      <td>never</td>\n",
              "      <td>27.32</td>\n",
              "      <td>5.7</td>\n",
              "      <td>158</td>\n",
              "      <td>0</td>\n",
              "    </tr>\n",
              "    <tr>\n",
              "      <th>3</th>\n",
              "      <td>Female</td>\n",
              "      <td>36.0</td>\n",
              "      <td>0</td>\n",
              "      <td>0</td>\n",
              "      <td>current</td>\n",
              "      <td>23.45</td>\n",
              "      <td>5.0</td>\n",
              "      <td>155</td>\n",
              "      <td>0</td>\n",
              "    </tr>\n",
              "    <tr>\n",
              "      <th>4</th>\n",
              "      <td>Male</td>\n",
              "      <td>76.0</td>\n",
              "      <td>1</td>\n",
              "      <td>1</td>\n",
              "      <td>current</td>\n",
              "      <td>20.14</td>\n",
              "      <td>4.8</td>\n",
              "      <td>155</td>\n",
              "      <td>0</td>\n",
              "    </tr>\n",
              "  </tbody>\n",
              "</table>\n",
              "</div>\n",
              "      <button class=\"colab-df-convert\" onclick=\"convertToInteractive('df-f3601562-3996-4faa-9fca-a12b5d021c1c')\"\n",
              "              title=\"Convert this dataframe to an interactive table.\"\n",
              "              style=\"display:none;\">\n",
              "        \n",
              "  <svg xmlns=\"http://www.w3.org/2000/svg\" height=\"24px\"viewBox=\"0 0 24 24\"\n",
              "       width=\"24px\">\n",
              "    <path d=\"M0 0h24v24H0V0z\" fill=\"none\"/>\n",
              "    <path d=\"M18.56 5.44l.94 2.06.94-2.06 2.06-.94-2.06-.94-.94-2.06-.94 2.06-2.06.94zm-11 1L8.5 8.5l.94-2.06 2.06-.94-2.06-.94L8.5 2.5l-.94 2.06-2.06.94zm10 10l.94 2.06.94-2.06 2.06-.94-2.06-.94-.94-2.06-.94 2.06-2.06.94z\"/><path d=\"M17.41 7.96l-1.37-1.37c-.4-.4-.92-.59-1.43-.59-.52 0-1.04.2-1.43.59L10.3 9.45l-7.72 7.72c-.78.78-.78 2.05 0 2.83L4 21.41c.39.39.9.59 1.41.59.51 0 1.02-.2 1.41-.59l7.78-7.78 2.81-2.81c.8-.78.8-2.07 0-2.86zM5.41 20L4 18.59l7.72-7.72 1.47 1.35L5.41 20z\"/>\n",
              "  </svg>\n",
              "      </button>\n",
              "      \n",
              "  <style>\n",
              "    .colab-df-container {\n",
              "      display:flex;\n",
              "      flex-wrap:wrap;\n",
              "      gap: 12px;\n",
              "    }\n",
              "\n",
              "    .colab-df-convert {\n",
              "      background-color: #E8F0FE;\n",
              "      border: none;\n",
              "      border-radius: 50%;\n",
              "      cursor: pointer;\n",
              "      display: none;\n",
              "      fill: #1967D2;\n",
              "      height: 32px;\n",
              "      padding: 0 0 0 0;\n",
              "      width: 32px;\n",
              "    }\n",
              "\n",
              "    .colab-df-convert:hover {\n",
              "      background-color: #E2EBFA;\n",
              "      box-shadow: 0px 1px 2px rgba(60, 64, 67, 0.3), 0px 1px 3px 1px rgba(60, 64, 67, 0.15);\n",
              "      fill: #174EA6;\n",
              "    }\n",
              "\n",
              "    [theme=dark] .colab-df-convert {\n",
              "      background-color: #3B4455;\n",
              "      fill: #D2E3FC;\n",
              "    }\n",
              "\n",
              "    [theme=dark] .colab-df-convert:hover {\n",
              "      background-color: #434B5C;\n",
              "      box-shadow: 0px 1px 3px 1px rgba(0, 0, 0, 0.15);\n",
              "      filter: drop-shadow(0px 1px 2px rgba(0, 0, 0, 0.3));\n",
              "      fill: #FFFFFF;\n",
              "    }\n",
              "  </style>\n",
              "\n",
              "      <script>\n",
              "        const buttonEl =\n",
              "          document.querySelector('#df-f3601562-3996-4faa-9fca-a12b5d021c1c button.colab-df-convert');\n",
              "        buttonEl.style.display =\n",
              "          google.colab.kernel.accessAllowed ? 'block' : 'none';\n",
              "\n",
              "        async function convertToInteractive(key) {\n",
              "          const element = document.querySelector('#df-f3601562-3996-4faa-9fca-a12b5d021c1c');\n",
              "          const dataTable =\n",
              "            await google.colab.kernel.invokeFunction('convertToInteractive',\n",
              "                                                     [key], {});\n",
              "          if (!dataTable) return;\n",
              "\n",
              "          const docLinkHtml = 'Like what you see? Visit the ' +\n",
              "            '<a target=\"_blank\" href=https://colab.research.google.com/notebooks/data_table.ipynb>data table notebook</a>'\n",
              "            + ' to learn more about interactive tables.';\n",
              "          element.innerHTML = '';\n",
              "          dataTable['output_type'] = 'display_data';\n",
              "          await google.colab.output.renderOutput(dataTable, element);\n",
              "          const docLink = document.createElement('div');\n",
              "          docLink.innerHTML = docLinkHtml;\n",
              "          element.appendChild(docLink);\n",
              "        }\n",
              "      </script>\n",
              "    </div>\n",
              "  </div>\n",
              "  "
            ]
          },
          "metadata": {},
          "execution_count": 3
        }
      ]
    },
    {
      "cell_type": "code",
      "source": [
        "#전처리 및 EDA(Exploratory Data Analysis)과정 : 데이터 분석의 초기단계 데이터 탐색 하고 특성 패턴 관계등 통계적 방법이용"
      ],
      "metadata": {
        "id": "w56FLMhOVoRa"
      },
      "execution_count": null,
      "outputs": []
    },
    {
      "cell_type": "code",
      "source": [
        "df.describe() #Df의 기술적 통계정보 제공 #10만개의 batch(=sample)"
      ],
      "metadata": {
        "colab": {
          "base_uri": "https://localhost:8080/",
          "height": 364
        },
        "id": "S9jJ5eSjTkCa",
        "outputId": "dbf563d0-aac2-46d7-984e-c5b3324efc38"
      },
      "execution_count": null,
      "outputs": [
        {
          "output_type": "execute_result",
          "data": {
            "text/plain": [
              "                 age  hypertension  heart_disease            bmi  \\\n",
              "count  100000.000000  100000.00000  100000.000000  100000.000000   \n",
              "mean       41.885856       0.07485       0.039420      27.320767   \n",
              "std        22.516840       0.26315       0.194593       6.636783   \n",
              "min         0.080000       0.00000       0.000000      10.010000   \n",
              "25%        24.000000       0.00000       0.000000      23.630000   \n",
              "50%        43.000000       0.00000       0.000000      27.320000   \n",
              "75%        60.000000       0.00000       0.000000      29.580000   \n",
              "max        80.000000       1.00000       1.000000      95.690000   \n",
              "\n",
              "         HbA1c_level  blood_glucose_level       diabetes  \n",
              "count  100000.000000        100000.000000  100000.000000  \n",
              "mean        5.527507           138.058060       0.085000  \n",
              "std         1.070672            40.708136       0.278883  \n",
              "min         3.500000            80.000000       0.000000  \n",
              "25%         4.800000           100.000000       0.000000  \n",
              "50%         5.800000           140.000000       0.000000  \n",
              "75%         6.200000           159.000000       0.000000  \n",
              "max         9.000000           300.000000       1.000000  "
            ],
            "text/html": [
              "\n",
              "  <div id=\"df-3f56e1b8-77dc-4df7-aea8-c7fcd1665b8d\">\n",
              "    <div class=\"colab-df-container\">\n",
              "      <div>\n",
              "<style scoped>\n",
              "    .dataframe tbody tr th:only-of-type {\n",
              "        vertical-align: middle;\n",
              "    }\n",
              "\n",
              "    .dataframe tbody tr th {\n",
              "        vertical-align: top;\n",
              "    }\n",
              "\n",
              "    .dataframe thead th {\n",
              "        text-align: right;\n",
              "    }\n",
              "</style>\n",
              "<table border=\"1\" class=\"dataframe\">\n",
              "  <thead>\n",
              "    <tr style=\"text-align: right;\">\n",
              "      <th></th>\n",
              "      <th>age</th>\n",
              "      <th>hypertension</th>\n",
              "      <th>heart_disease</th>\n",
              "      <th>bmi</th>\n",
              "      <th>HbA1c_level</th>\n",
              "      <th>blood_glucose_level</th>\n",
              "      <th>diabetes</th>\n",
              "    </tr>\n",
              "  </thead>\n",
              "  <tbody>\n",
              "    <tr>\n",
              "      <th>count</th>\n",
              "      <td>100000.000000</td>\n",
              "      <td>100000.00000</td>\n",
              "      <td>100000.000000</td>\n",
              "      <td>100000.000000</td>\n",
              "      <td>100000.000000</td>\n",
              "      <td>100000.000000</td>\n",
              "      <td>100000.000000</td>\n",
              "    </tr>\n",
              "    <tr>\n",
              "      <th>mean</th>\n",
              "      <td>41.885856</td>\n",
              "      <td>0.07485</td>\n",
              "      <td>0.039420</td>\n",
              "      <td>27.320767</td>\n",
              "      <td>5.527507</td>\n",
              "      <td>138.058060</td>\n",
              "      <td>0.085000</td>\n",
              "    </tr>\n",
              "    <tr>\n",
              "      <th>std</th>\n",
              "      <td>22.516840</td>\n",
              "      <td>0.26315</td>\n",
              "      <td>0.194593</td>\n",
              "      <td>6.636783</td>\n",
              "      <td>1.070672</td>\n",
              "      <td>40.708136</td>\n",
              "      <td>0.278883</td>\n",
              "    </tr>\n",
              "    <tr>\n",
              "      <th>min</th>\n",
              "      <td>0.080000</td>\n",
              "      <td>0.00000</td>\n",
              "      <td>0.000000</td>\n",
              "      <td>10.010000</td>\n",
              "      <td>3.500000</td>\n",
              "      <td>80.000000</td>\n",
              "      <td>0.000000</td>\n",
              "    </tr>\n",
              "    <tr>\n",
              "      <th>25%</th>\n",
              "      <td>24.000000</td>\n",
              "      <td>0.00000</td>\n",
              "      <td>0.000000</td>\n",
              "      <td>23.630000</td>\n",
              "      <td>4.800000</td>\n",
              "      <td>100.000000</td>\n",
              "      <td>0.000000</td>\n",
              "    </tr>\n",
              "    <tr>\n",
              "      <th>50%</th>\n",
              "      <td>43.000000</td>\n",
              "      <td>0.00000</td>\n",
              "      <td>0.000000</td>\n",
              "      <td>27.320000</td>\n",
              "      <td>5.800000</td>\n",
              "      <td>140.000000</td>\n",
              "      <td>0.000000</td>\n",
              "    </tr>\n",
              "    <tr>\n",
              "      <th>75%</th>\n",
              "      <td>60.000000</td>\n",
              "      <td>0.00000</td>\n",
              "      <td>0.000000</td>\n",
              "      <td>29.580000</td>\n",
              "      <td>6.200000</td>\n",
              "      <td>159.000000</td>\n",
              "      <td>0.000000</td>\n",
              "    </tr>\n",
              "    <tr>\n",
              "      <th>max</th>\n",
              "      <td>80.000000</td>\n",
              "      <td>1.00000</td>\n",
              "      <td>1.000000</td>\n",
              "      <td>95.690000</td>\n",
              "      <td>9.000000</td>\n",
              "      <td>300.000000</td>\n",
              "      <td>1.000000</td>\n",
              "    </tr>\n",
              "  </tbody>\n",
              "</table>\n",
              "</div>\n",
              "      <button class=\"colab-df-convert\" onclick=\"convertToInteractive('df-3f56e1b8-77dc-4df7-aea8-c7fcd1665b8d')\"\n",
              "              title=\"Convert this dataframe to an interactive table.\"\n",
              "              style=\"display:none;\">\n",
              "        \n",
              "  <svg xmlns=\"http://www.w3.org/2000/svg\" height=\"24px\"viewBox=\"0 0 24 24\"\n",
              "       width=\"24px\">\n",
              "    <path d=\"M0 0h24v24H0V0z\" fill=\"none\"/>\n",
              "    <path d=\"M18.56 5.44l.94 2.06.94-2.06 2.06-.94-2.06-.94-.94-2.06-.94 2.06-2.06.94zm-11 1L8.5 8.5l.94-2.06 2.06-.94-2.06-.94L8.5 2.5l-.94 2.06-2.06.94zm10 10l.94 2.06.94-2.06 2.06-.94-2.06-.94-.94-2.06-.94 2.06-2.06.94z\"/><path d=\"M17.41 7.96l-1.37-1.37c-.4-.4-.92-.59-1.43-.59-.52 0-1.04.2-1.43.59L10.3 9.45l-7.72 7.72c-.78.78-.78 2.05 0 2.83L4 21.41c.39.39.9.59 1.41.59.51 0 1.02-.2 1.41-.59l7.78-7.78 2.81-2.81c.8-.78.8-2.07 0-2.86zM5.41 20L4 18.59l7.72-7.72 1.47 1.35L5.41 20z\"/>\n",
              "  </svg>\n",
              "      </button>\n",
              "      \n",
              "  <style>\n",
              "    .colab-df-container {\n",
              "      display:flex;\n",
              "      flex-wrap:wrap;\n",
              "      gap: 12px;\n",
              "    }\n",
              "\n",
              "    .colab-df-convert {\n",
              "      background-color: #E8F0FE;\n",
              "      border: none;\n",
              "      border-radius: 50%;\n",
              "      cursor: pointer;\n",
              "      display: none;\n",
              "      fill: #1967D2;\n",
              "      height: 32px;\n",
              "      padding: 0 0 0 0;\n",
              "      width: 32px;\n",
              "    }\n",
              "\n",
              "    .colab-df-convert:hover {\n",
              "      background-color: #E2EBFA;\n",
              "      box-shadow: 0px 1px 2px rgba(60, 64, 67, 0.3), 0px 1px 3px 1px rgba(60, 64, 67, 0.15);\n",
              "      fill: #174EA6;\n",
              "    }\n",
              "\n",
              "    [theme=dark] .colab-df-convert {\n",
              "      background-color: #3B4455;\n",
              "      fill: #D2E3FC;\n",
              "    }\n",
              "\n",
              "    [theme=dark] .colab-df-convert:hover {\n",
              "      background-color: #434B5C;\n",
              "      box-shadow: 0px 1px 3px 1px rgba(0, 0, 0, 0.15);\n",
              "      filter: drop-shadow(0px 1px 2px rgba(0, 0, 0, 0.3));\n",
              "      fill: #FFFFFF;\n",
              "    }\n",
              "  </style>\n",
              "\n",
              "      <script>\n",
              "        const buttonEl =\n",
              "          document.querySelector('#df-3f56e1b8-77dc-4df7-aea8-c7fcd1665b8d button.colab-df-convert');\n",
              "        buttonEl.style.display =\n",
              "          google.colab.kernel.accessAllowed ? 'block' : 'none';\n",
              "\n",
              "        async function convertToInteractive(key) {\n",
              "          const element = document.querySelector('#df-3f56e1b8-77dc-4df7-aea8-c7fcd1665b8d');\n",
              "          const dataTable =\n",
              "            await google.colab.kernel.invokeFunction('convertToInteractive',\n",
              "                                                     [key], {});\n",
              "          if (!dataTable) return;\n",
              "\n",
              "          const docLinkHtml = 'Like what you see? Visit the ' +\n",
              "            '<a target=\"_blank\" href=https://colab.research.google.com/notebooks/data_table.ipynb>data table notebook</a>'\n",
              "            + ' to learn more about interactive tables.';\n",
              "          element.innerHTML = '';\n",
              "          dataTable['output_type'] = 'display_data';\n",
              "          await google.colab.output.renderOutput(dataTable, element);\n",
              "          const docLink = document.createElement('div');\n",
              "          docLink.innerHTML = docLinkHtml;\n",
              "          element.appendChild(docLink);\n",
              "        }\n",
              "      </script>\n",
              "    </div>\n",
              "  </div>\n",
              "  "
            ]
          },
          "metadata": {},
          "execution_count": 148
        }
      ]
    },
    {
      "cell_type": "code",
      "source": [
        "df.info() #데이터 정보 #결측치없다. #feature(특성) 탐색"
      ],
      "metadata": {
        "colab": {
          "base_uri": "https://localhost:8080/"
        },
        "id": "fD4pTwYFUEW4",
        "outputId": "95d89d76-3cc7-4200-de45-3cf1e5b8d688"
      },
      "execution_count": null,
      "outputs": [
        {
          "output_type": "stream",
          "name": "stdout",
          "text": [
            "<class 'pandas.core.frame.DataFrame'>\n",
            "RangeIndex: 100000 entries, 0 to 99999\n",
            "Data columns (total 9 columns):\n",
            " #   Column               Non-Null Count   Dtype  \n",
            "---  ------               --------------   -----  \n",
            " 0   gender               100000 non-null  object \n",
            " 1   age                  100000 non-null  float64\n",
            " 2   hypertension         100000 non-null  int64  \n",
            " 3   heart_disease        100000 non-null  int64  \n",
            " 4   smoking_history      100000 non-null  object \n",
            " 5   bmi                  100000 non-null  float64\n",
            " 6   HbA1c_level          100000 non-null  float64\n",
            " 7   blood_glucose_level  100000 non-null  int64  \n",
            " 8   diabetes             100000 non-null  int64  \n",
            "dtypes: float64(3), int64(4), object(2)\n",
            "memory usage: 6.9+ MB\n"
          ]
        }
      ]
    },
    {
      "cell_type": "code",
      "source": [
        "df.isnull().sum() #결측치 없음 확인 완료"
      ],
      "metadata": {
        "colab": {
          "base_uri": "https://localhost:8080/"
        },
        "id": "e9cMJDKHUEYT",
        "outputId": "99b47efc-3685-4d76-ffa3-23bc09b93b80"
      },
      "execution_count": null,
      "outputs": [
        {
          "output_type": "execute_result",
          "data": {
            "text/plain": [
              "gender                 0\n",
              "age                    0\n",
              "hypertension           0\n",
              "heart_disease          0\n",
              "smoking_history        0\n",
              "bmi                    0\n",
              "HbA1c_level            0\n",
              "blood_glucose_level    0\n",
              "diabetes               0\n",
              "dtype: int64"
            ]
          },
          "metadata": {},
          "execution_count": 109
        }
      ]
    },
    {
      "cell_type": "code",
      "source": [
        "df.diabetes.value_counts(normalize = True).mul(100) #class분포 확인(발병자 데이터가 적다.)\n",
        "#mul(100)은 백분율 100으로 나타내는것이다."
      ],
      "metadata": {
        "colab": {
          "base_uri": "https://localhost:8080/"
        },
        "id": "mk6KYODUVRor",
        "outputId": "0d629919-628f-4db5-d65c-ba5cb4cf7e47"
      },
      "execution_count": null,
      "outputs": [
        {
          "output_type": "execute_result",
          "data": {
            "text/plain": [
              "0    91.5\n",
              "1     8.5\n",
              "Name: diabetes, dtype: float64"
            ]
          },
          "metadata": {},
          "execution_count": 110
        }
      ]
    },
    {
      "cell_type": "code",
      "source": [
        "pd.crosstab(df.gender, df.diabetes, margins = True) #변수상관 관계 분석"
      ],
      "metadata": {
        "colab": {
          "base_uri": "https://localhost:8080/",
          "height": 206
        },
        "id": "VzCY_DKwWN9-",
        "outputId": "df0af2b9-0921-4cdb-d202-faad7d5d8591"
      },
      "execution_count": null,
      "outputs": [
        {
          "output_type": "execute_result",
          "data": {
            "text/plain": [
              "diabetes      0     1     All\n",
              "gender                       \n",
              "Female    54091  4461   58552\n",
              "Male      37391  4039   41430\n",
              "Other        18     0      18\n",
              "All       91500  8500  100000"
            ],
            "text/html": [
              "\n",
              "  <div id=\"df-da43c621-aef9-4760-9cba-39c1a4565a2c\">\n",
              "    <div class=\"colab-df-container\">\n",
              "      <div>\n",
              "<style scoped>\n",
              "    .dataframe tbody tr th:only-of-type {\n",
              "        vertical-align: middle;\n",
              "    }\n",
              "\n",
              "    .dataframe tbody tr th {\n",
              "        vertical-align: top;\n",
              "    }\n",
              "\n",
              "    .dataframe thead th {\n",
              "        text-align: right;\n",
              "    }\n",
              "</style>\n",
              "<table border=\"1\" class=\"dataframe\">\n",
              "  <thead>\n",
              "    <tr style=\"text-align: right;\">\n",
              "      <th>diabetes</th>\n",
              "      <th>0</th>\n",
              "      <th>1</th>\n",
              "      <th>All</th>\n",
              "    </tr>\n",
              "    <tr>\n",
              "      <th>gender</th>\n",
              "      <th></th>\n",
              "      <th></th>\n",
              "      <th></th>\n",
              "    </tr>\n",
              "  </thead>\n",
              "  <tbody>\n",
              "    <tr>\n",
              "      <th>Female</th>\n",
              "      <td>54091</td>\n",
              "      <td>4461</td>\n",
              "      <td>58552</td>\n",
              "    </tr>\n",
              "    <tr>\n",
              "      <th>Male</th>\n",
              "      <td>37391</td>\n",
              "      <td>4039</td>\n",
              "      <td>41430</td>\n",
              "    </tr>\n",
              "    <tr>\n",
              "      <th>Other</th>\n",
              "      <td>18</td>\n",
              "      <td>0</td>\n",
              "      <td>18</td>\n",
              "    </tr>\n",
              "    <tr>\n",
              "      <th>All</th>\n",
              "      <td>91500</td>\n",
              "      <td>8500</td>\n",
              "      <td>100000</td>\n",
              "    </tr>\n",
              "  </tbody>\n",
              "</table>\n",
              "</div>\n",
              "      <button class=\"colab-df-convert\" onclick=\"convertToInteractive('df-da43c621-aef9-4760-9cba-39c1a4565a2c')\"\n",
              "              title=\"Convert this dataframe to an interactive table.\"\n",
              "              style=\"display:none;\">\n",
              "        \n",
              "  <svg xmlns=\"http://www.w3.org/2000/svg\" height=\"24px\"viewBox=\"0 0 24 24\"\n",
              "       width=\"24px\">\n",
              "    <path d=\"M0 0h24v24H0V0z\" fill=\"none\"/>\n",
              "    <path d=\"M18.56 5.44l.94 2.06.94-2.06 2.06-.94-2.06-.94-.94-2.06-.94 2.06-2.06.94zm-11 1L8.5 8.5l.94-2.06 2.06-.94-2.06-.94L8.5 2.5l-.94 2.06-2.06.94zm10 10l.94 2.06.94-2.06 2.06-.94-2.06-.94-.94-2.06-.94 2.06-2.06.94z\"/><path d=\"M17.41 7.96l-1.37-1.37c-.4-.4-.92-.59-1.43-.59-.52 0-1.04.2-1.43.59L10.3 9.45l-7.72 7.72c-.78.78-.78 2.05 0 2.83L4 21.41c.39.39.9.59 1.41.59.51 0 1.02-.2 1.41-.59l7.78-7.78 2.81-2.81c.8-.78.8-2.07 0-2.86zM5.41 20L4 18.59l7.72-7.72 1.47 1.35L5.41 20z\"/>\n",
              "  </svg>\n",
              "      </button>\n",
              "      \n",
              "  <style>\n",
              "    .colab-df-container {\n",
              "      display:flex;\n",
              "      flex-wrap:wrap;\n",
              "      gap: 12px;\n",
              "    }\n",
              "\n",
              "    .colab-df-convert {\n",
              "      background-color: #E8F0FE;\n",
              "      border: none;\n",
              "      border-radius: 50%;\n",
              "      cursor: pointer;\n",
              "      display: none;\n",
              "      fill: #1967D2;\n",
              "      height: 32px;\n",
              "      padding: 0 0 0 0;\n",
              "      width: 32px;\n",
              "    }\n",
              "\n",
              "    .colab-df-convert:hover {\n",
              "      background-color: #E2EBFA;\n",
              "      box-shadow: 0px 1px 2px rgba(60, 64, 67, 0.3), 0px 1px 3px 1px rgba(60, 64, 67, 0.15);\n",
              "      fill: #174EA6;\n",
              "    }\n",
              "\n",
              "    [theme=dark] .colab-df-convert {\n",
              "      background-color: #3B4455;\n",
              "      fill: #D2E3FC;\n",
              "    }\n",
              "\n",
              "    [theme=dark] .colab-df-convert:hover {\n",
              "      background-color: #434B5C;\n",
              "      box-shadow: 0px 1px 3px 1px rgba(0, 0, 0, 0.15);\n",
              "      filter: drop-shadow(0px 1px 2px rgba(0, 0, 0, 0.3));\n",
              "      fill: #FFFFFF;\n",
              "    }\n",
              "  </style>\n",
              "\n",
              "      <script>\n",
              "        const buttonEl =\n",
              "          document.querySelector('#df-da43c621-aef9-4760-9cba-39c1a4565a2c button.colab-df-convert');\n",
              "        buttonEl.style.display =\n",
              "          google.colab.kernel.accessAllowed ? 'block' : 'none';\n",
              "\n",
              "        async function convertToInteractive(key) {\n",
              "          const element = document.querySelector('#df-da43c621-aef9-4760-9cba-39c1a4565a2c');\n",
              "          const dataTable =\n",
              "            await google.colab.kernel.invokeFunction('convertToInteractive',\n",
              "                                                     [key], {});\n",
              "          if (!dataTable) return;\n",
              "\n",
              "          const docLinkHtml = 'Like what you see? Visit the ' +\n",
              "            '<a target=\"_blank\" href=https://colab.research.google.com/notebooks/data_table.ipynb>data table notebook</a>'\n",
              "            + ' to learn more about interactive tables.';\n",
              "          element.innerHTML = '';\n",
              "          dataTable['output_type'] = 'display_data';\n",
              "          await google.colab.output.renderOutput(dataTable, element);\n",
              "          const docLink = document.createElement('div');\n",
              "          docLink.innerHTML = docLinkHtml;\n",
              "          element.appendChild(docLink);\n",
              "        }\n",
              "      </script>\n",
              "    </div>\n",
              "  </div>\n",
              "  "
            ]
          },
          "metadata": {},
          "execution_count": 111
        }
      ]
    },
    {
      "cell_type": "code",
      "source": [
        "fig = plt.figure(figsize=(13, 7)) #변수 상관관계 분석하는 차트\n",
        "subgroups = [('Male', 0), ('Female', 0), ('Male', 1), ('Female', 1)]\n",
        "\n",
        "colors = sns.color_palette(\"crest\", 3)\n",
        "\n",
        "for i, subgroup in enumerate(subgroups):\n",
        "    gender, diabetes = subgroup\n",
        "    ax = plt.subplot(2, 2, i + 1)\n",
        "    data = df[(df['gender'] == gender) & (df['diabetes'] == diabetes)]\n",
        "    wedgeprops = {'linewidth': 1, 'edgecolor': 'black'}\n",
        "    textprops = {'color': 'white', 'fontsize': 12, 'fontweight': 'bold'}\n",
        "    data['hypertension'].value_counts().plot(kind='pie', colors=colors, wedgeprops=wedgeprops, textprops=textprops, autopct='%1.1f%%')\n",
        "\n",
        "    plt.title(f'{gender} with Diabetes Status {diabetes}')\n",
        "    plt.legend()\n",
        "\n",
        "fig.suptitle(\"Gender VS. Diabetes VS. Hypertension\", fontsize=14, fontweight='bold')\n",
        "plt.tight_layout()\n",
        "plt.show()"
      ],
      "metadata": {
        "colab": {
          "base_uri": "https://localhost:8080/",
          "height": 600
        },
        "id": "hbGj5EzhWOGi",
        "outputId": "8b61f70b-3c67-485c-a14c-36c85b51300f"
      },
      "execution_count": null,
      "outputs": [
        {
          "output_type": "display_data",
          "data": {
            "text/plain": [
              "<Figure size 1300x700 with 4 Axes>"
            ],
            "image/png": "[encoded data removed]"
          },
          "metadata": {}
        }
      ]
    },
    {
      "cell_type": "code",
      "source": [
        "cat_cols = [x for x in df.dtypes.index if df.dtypes[x] == 'object'] #EDA 과정\n",
        "\n",
        "for col in cat_cols:\n",
        "    print(f\"\\n{col}:\")\n",
        "    print(df[col].value_counts())"
      ],
      "metadata": {
        "colab": {
          "base_uri": "https://localhost:8080/"
        },
        "id": "V5aeiW8S1W9K",
        "outputId": "bbb9f956-77a6-4f27-ab8b-19f9fe3427be"
      },
      "execution_count": null,
      "outputs": [
        {
          "output_type": "stream",
          "name": "stdout",
          "text": [
            "\n",
            "gender:\n",
            "Female    58552\n",
            "Male      41430\n",
            "Other        18\n",
            "Name: gender, dtype: int64\n",
            "\n",
            "smoking_history:\n",
            "No Info        35816\n",
            "never          35095\n",
            "former          9352\n",
            "current         9286\n",
            "not current     6447\n",
            "ever            4004\n",
            "Name: smoking_history, dtype: int64\n"
          ]
        }
      ]
    },
    {
      "cell_type": "code",
      "source": [
        "#EDA과정 상관과계 분석\n",
        "con_cols = [x for x in df.dtypes.index if df.dtypes[x] != 'object']\n",
        "\n",
        "plt.figure(figsize = (12,7))\n",
        "sns.heatmap(df[con_cols].corr(), annot = True, cmap = 'coolwarm')\n",
        "plt.title(\"Correlation Heatmap For Numerical Data\", fontsize = '14', fontweight= 'bold')\n",
        "plt.show()"
      ],
      "metadata": {
        "colab": {
          "base_uri": "https://localhost:8080/",
          "height": 545
        },
        "id": "Srv8d-S6W4eK",
        "outputId": "8e7cd4fe-dd88-413a-81ee-38ff0956429b"
      },
      "execution_count": null,
      "outputs": [
        {
          "output_type": "display_data",
          "data": {
            "text/plain": [
              "<Figure size 1200x700 with 2 Axes>"
            ],
            "image/png": "[encoded data removed]"
          },
          "metadata": {}
        }
      ]
    },
    {
      "cell_type": "code",
      "source": [
        "df['smoking_history'].value_counts() #흡연경력 feature EDA"
      ],
      "metadata": {
        "colab": {
          "base_uri": "https://localhost:8080/"
        },
        "id": "FZnIiegGujfg",
        "outputId": "b58a5155-da70-4a40-d096-2755c212c6d3"
      },
      "execution_count": null,
      "outputs": [
        {
          "output_type": "execute_result",
          "data": {
            "text/plain": [
              "No Info        35816\n",
              "never          35095\n",
              "former          9352\n",
              "current         9286\n",
              "not current     6447\n",
              "ever            4004\n",
              "Name: smoking_history, dtype: int64"
            ]
          },
          "metadata": {},
          "execution_count": 149
        }
      ]
    },
    {
      "cell_type": "code",
      "source": [
        "df['gender'].value_counts()"
      ],
      "metadata": {
        "colab": {
          "base_uri": "https://localhost:8080/"
        },
        "id": "M3tWP6ITwMiz",
        "outputId": "896c2ed6-a903-4ce8-cb6c-f58f32d77f31"
      },
      "execution_count": null,
      "outputs": [
        {
          "output_type": "execute_result",
          "data": {
            "text/plain": [
              "Female    58552\n",
              "Male      41430\n",
              "Other        18\n",
              "Name: gender, dtype: int64"
            ]
          },
          "metadata": {},
          "execution_count": 150
        }
      ]
    },
    {
      "cell_type": "code",
      "source": [
        "#성별(범주형자료) 0과 1로 one-hotencoding\n",
        "from sklearn import preprocessing\n",
        "label_encoder = preprocessing.LabelEncoder()\n",
        "df['gender'] = label_encoder.fit_transform(df['gender'])\n",
        "df"
      ],
      "metadata": {
        "colab": {
          "base_uri": "https://localhost:8080/",
          "height": 488
        },
        "id": "_7f9CNSGwX2l",
        "outputId": "ffb11fbc-60a9-4f87-9c84-50bac3fa95c6"
      },
      "execution_count": null,
      "outputs": [
        {
          "output_type": "execute_result",
          "data": {
            "text/plain": [
              "       gender   age  hypertension  heart_disease smoking_history    bmi  \\\n",
              "0           0  80.0             0              1           never  25.19   \n",
              "1           0  54.0             0              0         No Info  27.32   \n",
              "2           1  28.0             0              0           never  27.32   \n",
              "3           0  36.0             0              0         current  23.45   \n",
              "4           1  76.0             1              1         current  20.14   \n",
              "...       ...   ...           ...            ...             ...    ...   \n",
              "99995       0  80.0             0              0         No Info  27.32   \n",
              "99996       0   2.0             0              0         No Info  17.37   \n",
              "99997       1  66.0             0              0          former  27.83   \n",
              "99998       0  24.0             0              0           never  35.42   \n",
              "99999       0  57.0             0              0         current  22.43   \n",
              "\n",
              "       HbA1c_level  blood_glucose_level  diabetes  \n",
              "0              6.6                  140         0  \n",
              "1              6.6                   80         0  \n",
              "2              5.7                  158         0  \n",
              "3              5.0                  155         0  \n",
              "4              4.8                  155         0  \n",
              "...            ...                  ...       ...  \n",
              "99995          6.2                   90         0  \n",
              "99996          6.5                  100         0  \n",
              "99997          5.7                  155         0  \n",
              "99998          4.0                  100         0  \n",
              "99999          6.6                   90         0  \n",
              "\n",
              "[100000 rows x 9 columns]"
            ],
            "text/html": [
              "\n",
              "  <div id=\"df-30897013-2b15-403c-9139-5690c1394f0c\">\n",
              "    <div class=\"colab-df-container\">\n",
              "      <div>\n",
              "<style scoped>\n",
              "    .dataframe tbody tr th:only-of-type {\n",
              "        vertical-align: middle;\n",
              "    }\n",
              "\n",
              "    .dataframe tbody tr th {\n",
              "        vertical-align: top;\n",
              "    }\n",
              "\n",
              "    .dataframe thead th {\n",
              "        text-align: right;\n",
              "    }\n",
              "</style>\n",
              "<table border=\"1\" class=\"dataframe\">\n",
              "  <thead>\n",
              "    <tr style=\"text-align: right;\">\n",
              "      <th></th>\n",
              "      <th>gender</th>\n",
              "      <th>age</th>\n",
              "      <th>hypertension</th>\n",
              "      <th>heart_disease</th>\n",
              "      <th>smoking_history</th>\n",
              "      <th>bmi</th>\n",
              "      <th>HbA1c_level</th>\n",
              "      <th>blood_glucose_level</th>\n",
              "      <th>diabetes</th>\n",
              "    </tr>\n",
              "  </thead>\n",
              "  <tbody>\n",
              "    <tr>\n",
              "      <th>0</th>\n",
              "      <td>0</td>\n",
              "      <td>80.0</td>\n",
              "      <td>0</td>\n",
              "      <td>1</td>\n",
              "      <td>never</td>\n",
              "      <td>25.19</td>\n",
              "      <td>6.6</td>\n",
              "      <td>140</td>\n",
              "      <td>0</td>\n",
              "    </tr>\n",
              "    <tr>\n",
              "      <th>1</th>\n",
              "      <td>0</td>\n",
              "      <td>54.0</td>\n",
              "      <td>0</td>\n",
              "      <td>0</td>\n",
              "      <td>No Info</td>\n",
              "      <td>27.32</td>\n",
              "      <td>6.6</td>\n",
              "      <td>80</td>\n",
              "      <td>0</td>\n",
              "    </tr>\n",
              "    <tr>\n",
              "      <th>2</th>\n",
              "      <td>1</td>\n",
              "      <td>28.0</td>\n",
              "      <td>0</td>\n",
              "      <td>0</td>\n",
              "      <td>never</td>\n",
              "      <td>27.32</td>\n",
              "      <td>5.7</td>\n",
              "      <td>158</td>\n",
              "      <td>0</td>\n",
              "    </tr>\n",
              "    <tr>\n",
              "      <th>3</th>\n",
              "      <td>0</td>\n",
              "      <td>36.0</td>\n",
              "      <td>0</td>\n",
              "      <td>0</td>\n",
              "      <td>current</td>\n",
              "      <td>23.45</td>\n",
              "      <td>5.0</td>\n",
              "      <td>155</td>\n",
              "      <td>0</td>\n",
              "    </tr>\n",
              "    <tr>\n",
              "      <th>4</th>\n",
              "      <td>1</td>\n",
              "      <td>76.0</td>\n",
              "      <td>1</td>\n",
              "      <td>1</td>\n",
              "      <td>current</td>\n",
              "      <td>20.14</td>\n",
              "      <td>4.8</td>\n",
              "      <td>155</td>\n",
              "      <td>0</td>\n",
              "    </tr>\n",
              "    <tr>\n",
              "      <th>...</th>\n",
              "      <td>...</td>\n",
              "      <td>...</td>\n",
              "      <td>...</td>\n",
              "      <td>...</td>\n",
              "      <td>...</td>\n",
              "      <td>...</td>\n",
              "      <td>...</td>\n",
              "      <td>...</td>\n",
              "      <td>...</td>\n",
              "    </tr>\n",
              "    <tr>\n",
              "      <th>99995</th>\n",
              "      <td>0</td>\n",
              "      <td>80.0</td>\n",
              "      <td>0</td>\n",
              "      <td>0</td>\n",
              "      <td>No Info</td>\n",
              "      <td>27.32</td>\n",
              "      <td>6.2</td>\n",
              "      <td>90</td>\n",
              "      <td>0</td>\n",
              "    </tr>\n",
              "    <tr>\n",
              "      <th>99996</th>\n",
              "      <td>0</td>\n",
              "      <td>2.0</td>\n",
              "      <td>0</td>\n",
              "      <td>0</td>\n",
              "      <td>No Info</td>\n",
              "      <td>17.37</td>\n",
              "      <td>6.5</td>\n",
              "      <td>100</td>\n",
              "      <td>0</td>\n",
              "    </tr>\n",
              "    <tr>\n",
              "      <th>99997</th>\n",
              "      <td>1</td>\n",
              "      <td>66.0</td>\n",
              "      <td>0</td>\n",
              "      <td>0</td>\n",
              "      <td>former</td>\n",
              "      <td>27.83</td>\n",
              "      <td>5.7</td>\n",
              "      <td>155</td>\n",
              "      <td>0</td>\n",
              "    </tr>\n",
              "    <tr>\n",
              "      <th>99998</th>\n",
              "      <td>0</td>\n",
              "      <td>24.0</td>\n",
              "      <td>0</td>\n",
              "      <td>0</td>\n",
              "      <td>never</td>\n",
              "      <td>35.42</td>\n",
              "      <td>4.0</td>\n",
              "      <td>100</td>\n",
              "      <td>0</td>\n",
              "    </tr>\n",
              "    <tr>\n",
              "      <th>99999</th>\n",
              "      <td>0</td>\n",
              "      <td>57.0</td>\n",
              "      <td>0</td>\n",
              "      <td>0</td>\n",
              "      <td>current</td>\n",
              "      <td>22.43</td>\n",
              "      <td>6.6</td>\n",
              "      <td>90</td>\n",
              "      <td>0</td>\n",
              "    </tr>\n",
              "  </tbody>\n",
              "</table>\n",
              "<p>100000 rows × 9 columns</p>\n",
              "</div>\n",
              "      <button class=\"colab-df-convert\" onclick=\"convertToInteractive('df-30897013-2b15-403c-9139-5690c1394f0c')\"\n",
              "              title=\"Convert this dataframe to an interactive table.\"\n",
              "              style=\"display:none;\">\n",
              "        \n",
              "  <svg xmlns=\"http://www.w3.org/2000/svg\" height=\"24px\"viewBox=\"0 0 24 24\"\n",
              "       width=\"24px\">\n",
              "    <path d=\"M0 0h24v24H0V0z\" fill=\"none\"/>\n",
              "    <path d=\"M18.56 5.44l.94 2.06.94-2.06 2.06-.94-2.06-.94-.94-2.06-.94 2.06-2.06.94zm-11 1L8.5 8.5l.94-2.06 2.06-.94-2.06-.94L8.5 2.5l-.94 2.06-2.06.94zm10 10l.94 2.06.94-2.06 2.06-.94-2.06-.94-.94-2.06-.94 2.06-2.06.94z\"/><path d=\"M17.41 7.96l-1.37-1.37c-.4-.4-.92-.59-1.43-.59-.52 0-1.04.2-1.43.59L10.3 9.45l-7.72 7.72c-.78.78-.78 2.05 0 2.83L4 21.41c.39.39.9.59 1.41.59.51 0 1.02-.2 1.41-.59l7.78-7.78 2.81-2.81c.8-.78.8-2.07 0-2.86zM5.41 20L4 18.59l7.72-7.72 1.47 1.35L5.41 20z\"/>\n",
              "  </svg>\n",
              "      </button>\n",
              "      \n",
              "  <style>\n",
              "    .colab-df-container {\n",
              "      display:flex;\n",
              "      flex-wrap:wrap;\n",
              "      gap: 12px;\n",
              "    }\n",
              "\n",
              "    .colab-df-convert {\n",
              "      background-color: #E8F0FE;\n",
              "      border: none;\n",
              "      border-radius: 50%;\n",
              "      cursor: pointer;\n",
              "      display: none;\n",
              "      fill: #1967D2;\n",
              "      height: 32px;\n",
              "      padding: 0 0 0 0;\n",
              "      width: 32px;\n",
              "    }\n",
              "\n",
              "    .colab-df-convert:hover {\n",
              "      background-color: #E2EBFA;\n",
              "      box-shadow: 0px 1px 2px rgba(60, 64, 67, 0.3), 0px 1px 3px 1px rgba(60, 64, 67, 0.15);\n",
              "      fill: #174EA6;\n",
              "    }\n",
              "\n",
              "    [theme=dark] .colab-df-convert {\n",
              "      background-color: #3B4455;\n",
              "      fill: #D2E3FC;\n",
              "    }\n",
              "\n",
              "    [theme=dark] .colab-df-convert:hover {\n",
              "      background-color: #434B5C;\n",
              "      box-shadow: 0px 1px 3px 1px rgba(0, 0, 0, 0.15);\n",
              "      filter: drop-shadow(0px 1px 2px rgba(0, 0, 0, 0.3));\n",
              "      fill: #FFFFFF;\n",
              "    }\n",
              "  </style>\n",
              "\n",
              "      <script>\n",
              "        const buttonEl =\n",
              "          document.querySelector('#df-30897013-2b15-403c-9139-5690c1394f0c button.colab-df-convert');\n",
              "        buttonEl.style.display =\n",
              "          google.colab.kernel.accessAllowed ? 'block' : 'none';\n",
              "\n",
              "        async function convertToInteractive(key) {\n",
              "          const element = document.querySelector('#df-30897013-2b15-403c-9139-5690c1394f0c');\n",
              "          const dataTable =\n",
              "            await google.colab.kernel.invokeFunction('convertToInteractive',\n",
              "                                                     [key], {});\n",
              "          if (!dataTable) return;\n",
              "\n",
              "          const docLinkHtml = 'Like what you see? Visit the ' +\n",
              "            '<a target=\"_blank\" href=https://colab.research.google.com/notebooks/data_table.ipynb>data table notebook</a>'\n",
              "            + ' to learn more about interactive tables.';\n",
              "          element.innerHTML = '';\n",
              "          dataTable['output_type'] = 'display_data';\n",
              "          await google.colab.output.renderOutput(dataTable, element);\n",
              "          const docLink = document.createElement('div');\n",
              "          docLink.innerHTML = docLinkHtml;\n",
              "          element.appendChild(docLink);\n",
              "        }\n",
              "      </script>\n",
              "    </div>\n",
              "  </div>\n",
              "  "
            ]
          },
          "metadata": {},
          "execution_count": 151
        }
      ]
    },
    {
      "cell_type": "code",
      "source": [
        "# 흡연경력을 숫자형식으로 변경하였다.\n",
        "smoking_history_mapping = {'never': 0, 'No Info': -1, 'current': 2, 'former': 1, 'ever': 2, 'not current': 0}\n",
        "df['smoking_history'] = df['smoking_history'].map(smoking_history_mapping)\n",
        "\n",
        "df.describe()"
      ],
      "metadata": {
        "colab": {
          "base_uri": "https://localhost:8080/",
          "height": 364
        },
        "id": "bFMHUQg1vHLn",
        "outputId": "0c8b0ebc-00ac-46b9-a407-b630c2d42caf"
      },
      "execution_count": null,
      "outputs": [
        {
          "output_type": "execute_result",
          "data": {
            "text/plain": [
              "              gender            age  hypertension  heart_disease  \\\n",
              "count  100000.000000  100000.000000  100000.00000  100000.000000   \n",
              "mean        0.414660      41.885856       0.07485       0.039420   \n",
              "std         0.493031      22.516840       0.26315       0.194593   \n",
              "min         0.000000       0.080000       0.00000       0.000000   \n",
              "25%         0.000000      24.000000       0.00000       0.000000   \n",
              "50%         0.000000      43.000000       0.00000       0.000000   \n",
              "75%         1.000000      60.000000       0.00000       0.000000   \n",
              "max         2.000000      80.000000       1.00000       1.000000   \n",
              "\n",
              "       smoking_history            bmi    HbA1c_level  blood_glucose_level  \\\n",
              "count    100000.000000  100000.000000  100000.000000        100000.000000   \n",
              "mean          0.001160      27.320767       5.527507           138.058060   \n",
              "std           0.991609       6.636783       1.070672            40.708136   \n",
              "min          -1.000000      10.010000       3.500000            80.000000   \n",
              "25%          -1.000000      23.630000       4.800000           100.000000   \n",
              "50%           0.000000      27.320000       5.800000           140.000000   \n",
              "75%           0.000000      29.580000       6.200000           159.000000   \n",
              "max           2.000000      95.690000       9.000000           300.000000   \n",
              "\n",
              "            diabetes  \n",
              "count  100000.000000  \n",
              "mean        0.085000  \n",
              "std         0.278883  \n",
              "min         0.000000  \n",
              "25%         0.000000  \n",
              "50%         0.000000  \n",
              "75%         0.000000  \n",
              "max         1.000000  "
            ],
            "text/html": [
              "\n",
              "  <div id=\"df-e8bd9899-0306-46db-b24f-589c737efca6\">\n",
              "    <div class=\"colab-df-container\">\n",
              "      <div>\n",
              "<style scoped>\n",
              "    .dataframe tbody tr th:only-of-type {\n",
              "        vertical-align: middle;\n",
              "    }\n",
              "\n",
              "    .dataframe tbody tr th {\n",
              "        vertical-align: top;\n",
              "    }\n",
              "\n",
              "    .dataframe thead th {\n",
              "        text-align: right;\n",
              "    }\n",
              "</style>\n",
              "<table border=\"1\" class=\"dataframe\">\n",
              "  <thead>\n",
              "    <tr style=\"text-align: right;\">\n",
              "      <th></th>\n",
              "      <th>gender</th>\n",
              "      <th>age</th>\n",
              "      <th>hypertension</th>\n",
              "      <th>heart_disease</th>\n",
              "      <th>smoking_history</th>\n",
              "      <th>bmi</th>\n",
              "      <th>HbA1c_level</th>\n",
              "      <th>blood_glucose_level</th>\n",
              "      <th>diabetes</th>\n",
              "    </tr>\n",
              "  </thead>\n",
              "  <tbody>\n",
              "    <tr>\n",
              "      <th>count</th>\n",
              "      <td>100000.000000</td>\n",
              "      <td>100000.000000</td>\n",
              "      <td>100000.00000</td>\n",
              "      <td>100000.000000</td>\n",
              "      <td>100000.000000</td>\n",
              "      <td>100000.000000</td>\n",
              "      <td>100000.000000</td>\n",
              "      <td>100000.000000</td>\n",
              "      <td>100000.000000</td>\n",
              "    </tr>\n",
              "    <tr>\n",
              "      <th>mean</th>\n",
              "      <td>0.414660</td>\n",
              "      <td>41.885856</td>\n",
              "      <td>0.07485</td>\n",
              "      <td>0.039420</td>\n",
              "      <td>0.001160</td>\n",
              "      <td>27.320767</td>\n",
              "      <td>5.527507</td>\n",
              "      <td>138.058060</td>\n",
              "      <td>0.085000</td>\n",
              "    </tr>\n",
              "    <tr>\n",
              "      <th>std</th>\n",
              "      <td>0.493031</td>\n",
              "      <td>22.516840</td>\n",
              "      <td>0.26315</td>\n",
              "      <td>0.194593</td>\n",
              "      <td>0.991609</td>\n",
              "      <td>6.636783</td>\n",
              "      <td>1.070672</td>\n",
              "      <td>40.708136</td>\n",
              "      <td>0.278883</td>\n",
              "    </tr>\n",
              "    <tr>\n",
              "      <th>min</th>\n",
              "      <td>0.000000</td>\n",
              "      <td>0.080000</td>\n",
              "      <td>0.00000</td>\n",
              "      <td>0.000000</td>\n",
              "      <td>-1.000000</td>\n",
              "      <td>10.010000</td>\n",
              "      <td>3.500000</td>\n",
              "      <td>80.000000</td>\n",
              "      <td>0.000000</td>\n",
              "    </tr>\n",
              "    <tr>\n",
              "      <th>25%</th>\n",
              "      <td>0.000000</td>\n",
              "      <td>24.000000</td>\n",
              "      <td>0.00000</td>\n",
              "      <td>0.000000</td>\n",
              "      <td>-1.000000</td>\n",
              "      <td>23.630000</td>\n",
              "      <td>4.800000</td>\n",
              "      <td>100.000000</td>\n",
              "      <td>0.000000</td>\n",
              "    </tr>\n",
              "    <tr>\n",
              "      <th>50%</th>\n",
              "      <td>0.000000</td>\n",
              "      <td>43.000000</td>\n",
              "      <td>0.00000</td>\n",
              "      <td>0.000000</td>\n",
              "      <td>0.000000</td>\n",
              "      <td>27.320000</td>\n",
              "      <td>5.800000</td>\n",
              "      <td>140.000000</td>\n",
              "      <td>0.000000</td>\n",
              "    </tr>\n",
              "    <tr>\n",
              "      <th>75%</th>\n",
              "      <td>1.000000</td>\n",
              "      <td>60.000000</td>\n",
              "      <td>0.00000</td>\n",
              "      <td>0.000000</td>\n",
              "      <td>0.000000</td>\n",
              "      <td>29.580000</td>\n",
              "      <td>6.200000</td>\n",
              "      <td>159.000000</td>\n",
              "      <td>0.000000</td>\n",
              "    </tr>\n",
              "    <tr>\n",
              "      <th>max</th>\n",
              "      <td>2.000000</td>\n",
              "      <td>80.000000</td>\n",
              "      <td>1.00000</td>\n",
              "      <td>1.000000</td>\n",
              "      <td>2.000000</td>\n",
              "      <td>95.690000</td>\n",
              "      <td>9.000000</td>\n",
              "      <td>300.000000</td>\n",
              "      <td>1.000000</td>\n",
              "    </tr>\n",
              "  </tbody>\n",
              "</table>\n",
              "</div>\n",
              "      <button class=\"colab-df-convert\" onclick=\"convertToInteractive('df-e8bd9899-0306-46db-b24f-589c737efca6')\"\n",
              "              title=\"Convert this dataframe to an interactive table.\"\n",
              "              style=\"display:none;\">\n",
              "        \n",
              "  <svg xmlns=\"http://www.w3.org/2000/svg\" height=\"24px\"viewBox=\"0 0 24 24\"\n",
              "       width=\"24px\">\n",
              "    <path d=\"M0 0h24v24H0V0z\" fill=\"none\"/>\n",
              "    <path d=\"M18.56 5.44l.94 2.06.94-2.06 2.06-.94-2.06-.94-.94-2.06-.94 2.06-2.06.94zm-11 1L8.5 8.5l.94-2.06 2.06-.94-2.06-.94L8.5 2.5l-.94 2.06-2.06.94zm10 10l.94 2.06.94-2.06 2.06-.94-2.06-.94-.94-2.06-.94 2.06-2.06.94z\"/><path d=\"M17.41 7.96l-1.37-1.37c-.4-.4-.92-.59-1.43-.59-.52 0-1.04.2-1.43.59L10.3 9.45l-7.72 7.72c-.78.78-.78 2.05 0 2.83L4 21.41c.39.39.9.59 1.41.59.51 0 1.02-.2 1.41-.59l7.78-7.78 2.81-2.81c.8-.78.8-2.07 0-2.86zM5.41 20L4 18.59l7.72-7.72 1.47 1.35L5.41 20z\"/>\n",
              "  </svg>\n",
              "      </button>\n",
              "      \n",
              "  <style>\n",
              "    .colab-df-container {\n",
              "      display:flex;\n",
              "      flex-wrap:wrap;\n",
              "      gap: 12px;\n",
              "    }\n",
              "\n",
              "    .colab-df-convert {\n",
              "      background-color: #E8F0FE;\n",
              "      border: none;\n",
              "      border-radius: 50%;\n",
              "      cursor: pointer;\n",
              "      display: none;\n",
              "      fill: #1967D2;\n",
              "      height: 32px;\n",
              "      padding: 0 0 0 0;\n",
              "      width: 32px;\n",
              "    }\n",
              "\n",
              "    .colab-df-convert:hover {\n",
              "      background-color: #E2EBFA;\n",
              "      box-shadow: 0px 1px 2px rgba(60, 64, 67, 0.3), 0px 1px 3px 1px rgba(60, 64, 67, 0.15);\n",
              "      fill: #174EA6;\n",
              "    }\n",
              "\n",
              "    [theme=dark] .colab-df-convert {\n",
              "      background-color: #3B4455;\n",
              "      fill: #D2E3FC;\n",
              "    }\n",
              "\n",
              "    [theme=dark] .colab-df-convert:hover {\n",
              "      background-color: #434B5C;\n",
              "      box-shadow: 0px 1px 3px 1px rgba(0, 0, 0, 0.15);\n",
              "      filter: drop-shadow(0px 1px 2px rgba(0, 0, 0, 0.3));\n",
              "      fill: #FFFFFF;\n",
              "    }\n",
              "  </style>\n",
              "\n",
              "      <script>\n",
              "        const buttonEl =\n",
              "          document.querySelector('#df-e8bd9899-0306-46db-b24f-589c737efca6 button.colab-df-convert');\n",
              "        buttonEl.style.display =\n",
              "          google.colab.kernel.accessAllowed ? 'block' : 'none';\n",
              "\n",
              "        async function convertToInteractive(key) {\n",
              "          const element = document.querySelector('#df-e8bd9899-0306-46db-b24f-589c737efca6');\n",
              "          const dataTable =\n",
              "            await google.colab.kernel.invokeFunction('convertToInteractive',\n",
              "                                                     [key], {});\n",
              "          if (!dataTable) return;\n",
              "\n",
              "          const docLinkHtml = 'Like what you see? Visit the ' +\n",
              "            '<a target=\"_blank\" href=https://colab.research.google.com/notebooks/data_table.ipynb>data table notebook</a>'\n",
              "            + ' to learn more about interactive tables.';\n",
              "          element.innerHTML = '';\n",
              "          dataTable['output_type'] = 'display_data';\n",
              "          await google.colab.output.renderOutput(dataTable, element);\n",
              "          const docLink = document.createElement('div');\n",
              "          docLink.innerHTML = docLinkHtml;\n",
              "          element.appendChild(docLink);\n",
              "        }\n",
              "      </script>\n",
              "    </div>\n",
              "  </div>\n",
              "  "
            ]
          },
          "metadata": {},
          "execution_count": 152
        }
      ]
    },
    {
      "cell_type": "code",
      "source": [
        "#ANN을 통한 학습"
      ],
      "metadata": {
        "id": "gjUGYA8W9r9S"
      },
      "execution_count": null,
      "outputs": []
    },
    {
      "cell_type": "code",
      "source": [
        "#data를 df로 바꾸지 않아 계속 오류가 나왔다.\n",
        "X = df.iloc[:,:-1].values\n",
        "y = df.iloc[:,-1].values"
      ],
      "metadata": {
        "id": "4O7qUUKe-h9N"
      },
      "execution_count": null,
      "outputs": []
    },
    {
      "cell_type": "code",
      "source": [
        "from sklearn.model_selection import train_test_split\n",
        "X_train, X_test, y_train, y_test = train_test_split(X, y, train_size=0.8, random_state=42)"
      ],
      "metadata": {
        "id": "6ssg9k3G-iIE"
      },
      "execution_count": null,
      "outputs": []
    },
    {
      "cell_type": "code",
      "source": [
        "from sklearn import preprocessing #표준화하기(전처리)\n",
        "stand = preprocessing.StandardScaler()\n",
        "X_train = stand.fit_transform(X_train)\n",
        "X_test = stand.transform(X_test)"
      ],
      "metadata": {
        "id": "lbhF1dI6-iKp"
      },
      "execution_count": null,
      "outputs": []
    },
    {
      "cell_type": "code",
      "source": [
        "import tensorflow as tf\n",
        "from tensorflow.keras.callbacks import EarlyStopping #enarlystopping을 통해\n",
        "#과접합방지, 효율적인 시간과 자원사용, 일반화 성능개선"
      ],
      "metadata": {
        "id": "LBkrD2a99ErR"
      },
      "execution_count": null,
      "outputs": []
    },
    {
      "cell_type": "code",
      "source": [
        "ann = tf.keras.models.Sequential()"
      ],
      "metadata": {
        "id": "nQ9ixy4G9EtX"
      },
      "execution_count": null,
      "outputs": []
    },
    {
      "cell_type": "code",
      "source": [
        "#활성함수 세개 중 하나만 사용하면된다.\n",
        "ann.add(tf.keras.layers.Dense(units = 6, activation = 'relu'))\n",
        "ann.add(tf.keras.layers.Dense(units = 6, activation = 'relu'))\n",
        "ann.add(tf.keras.layers.Dense(units = 1, activation = 'sigmoid'))"
      ],
      "metadata": {
        "id": "GqRHlLvR9qlQ"
      },
      "execution_count": null,
      "outputs": []
    },
    {
      "cell_type": "code",
      "source": [
        "ann.compile(optimizer = 'adam', loss = 'binary_crossentropy', metrics = ['accuracy'])\n",
        "#딥러닝 모델을 학습하기 전에 컴퓨터가 모델을 효율적으로 실행할 수 있도록 준비하는 과정을 \"컴파일(Compile)\"이라고 합니다.\n",
        "#컴파일은 모델의 최적화 알고리즘, 손실 함수, 성능 지표 등을 설정하여 모델을 구성하는 단계입니다.\n",
        "#1.최적화 알고리즘(optimizer): 모델의 가중치를 업데이트하는 최적화 알고리즘을 선택합니다.\n",
        "#일반적인 옵션으로는 'adam','sgd' 등이 있습니다. 각각의 최적화 알고리즘은 모델의 학습 속도와 성능에 영향을 미칠 수 있습니다.\n",
        "\n",
        "#2.손실 함수(loss function): 모델이 예측한 값과 실제 타깃값 사이의 차이를 측정하는 함수를 선택합니다.\n",
        "#손실 함수는 모델이 얼마나 정확한 예측을 하는지 평가하는데 사용됩니다. 분류 문제에서는 'binary_crossentropy'나\n",
        "#'categorical_crossentropy' 'mean_squared_error'와 같은 함수가 일반적으로 사용됩니다.\n",
        "\n",
        "#3.성능 지표(metrics): 모델의 성능을 평가하기 위한 지표를 선택합니다.\n",
        "#일반적으로는 'accuracy', 'precision', 'recall' 등이 사용됩니다.\n",
        "#성능 지표는 모델의 성능을 측정하고 모니터링하는데 사용됩니다."
      ],
      "metadata": {
        "id": "2aB3T63v953q"
      },
      "execution_count": null,
      "outputs": []
    },
    {
      "cell_type": "code",
      "source": [
        "early_stop = EarlyStopping(monitor='val_loss', patience=3, verbose=1)\n",
        "deep_history = ann.fit(X_train, y_train, epochs=100,\n",
        "                              validation_data = (X_test, y_test),\n",
        "                              callbacks=[early_stop])"
      ],
      "metadata": {
        "colab": {
          "base_uri": "https://localhost:8080/"
        },
        "id": "ne58ls_-958i",
        "outputId": "1e2b6475-748d-4fe5-af1f-0cefd0b7e5af"
      },
      "execution_count": null,
      "outputs": [
        {
          "output_type": "stream",
          "name": "stdout",
          "text": [
            "Epoch 1/100\n",
            "2500/2500 [==============================] - 7s 2ms/step - loss: 0.1624 - accuracy: 0.9503 - val_loss: 0.1174 - val_accuracy: 0.9578\n",
            "Epoch 2/100\n",
            "2500/2500 [==============================] - 6s 3ms/step - loss: 0.1146 - accuracy: 0.9597 - val_loss: 0.1147 - val_accuracy: 0.9591\n",
            "Epoch 3/100\n",
            "2500/2500 [==============================] - 6s 3ms/step - loss: 0.1128 - accuracy: 0.9607 - val_loss: 0.1139 - val_accuracy: 0.9593\n",
            "Epoch 4/100\n",
            "2500/2500 [==============================] - 7s 3ms/step - loss: 0.1120 - accuracy: 0.9608 - val_loss: 0.1142 - val_accuracy: 0.9592\n",
            "Epoch 5/100\n",
            "2500/2500 [==============================] - 6s 3ms/step - loss: 0.1112 - accuracy: 0.9612 - val_loss: 0.1127 - val_accuracy: 0.9601\n",
            "Epoch 6/100\n",
            "2500/2500 [==============================] - 6s 3ms/step - loss: 0.1105 - accuracy: 0.9610 - val_loss: 0.1118 - val_accuracy: 0.9599\n",
            "Epoch 7/100\n",
            "2500/2500 [==============================] - 5s 2ms/step - loss: 0.1096 - accuracy: 0.9614 - val_loss: 0.1104 - val_accuracy: 0.9602\n",
            "Epoch 8/100\n",
            "2500/2500 [==============================] - 6s 2ms/step - loss: 0.1078 - accuracy: 0.9622 - val_loss: 0.1089 - val_accuracy: 0.9617\n",
            "Epoch 9/100\n",
            "2500/2500 [==============================] - 6s 2ms/step - loss: 0.1062 - accuracy: 0.9629 - val_loss: 0.1070 - val_accuracy: 0.9628\n",
            "Epoch 10/100\n",
            "2500/2500 [==============================] - 6s 2ms/step - loss: 0.1048 - accuracy: 0.9637 - val_loss: 0.1055 - val_accuracy: 0.9628\n",
            "Epoch 11/100\n",
            "2500/2500 [==============================] - 7s 3ms/step - loss: 0.1036 - accuracy: 0.9644 - val_loss: 0.1041 - val_accuracy: 0.9630\n",
            "Epoch 12/100\n",
            "2500/2500 [==============================] - 5s 2ms/step - loss: 0.1024 - accuracy: 0.9647 - val_loss: 0.1034 - val_accuracy: 0.9633\n",
            "Epoch 13/100\n",
            "2500/2500 [==============================] - 6s 2ms/step - loss: 0.1016 - accuracy: 0.9651 - val_loss: 0.1023 - val_accuracy: 0.9636\n",
            "Epoch 14/100\n",
            "2500/2500 [==============================] - 6s 2ms/step - loss: 0.1010 - accuracy: 0.9652 - val_loss: 0.1021 - val_accuracy: 0.9640\n",
            "Epoch 15/100\n",
            "2500/2500 [==============================] - 5s 2ms/step - loss: 0.1007 - accuracy: 0.9653 - val_loss: 0.1016 - val_accuracy: 0.9647\n",
            "Epoch 16/100\n",
            "2500/2500 [==============================] - 6s 3ms/step - loss: 0.1003 - accuracy: 0.9654 - val_loss: 0.1005 - val_accuracy: 0.9652\n",
            "Epoch 17/100\n",
            "2500/2500 [==============================] - 5s 2ms/step - loss: 0.0997 - accuracy: 0.9654 - val_loss: 0.1013 - val_accuracy: 0.9645\n",
            "Epoch 18/100\n",
            "2500/2500 [==============================] - 6s 2ms/step - loss: 0.0993 - accuracy: 0.9653 - val_loss: 0.0994 - val_accuracy: 0.9649\n",
            "Epoch 19/100\n",
            "2500/2500 [==============================] - 6s 3ms/step - loss: 0.0991 - accuracy: 0.9654 - val_loss: 0.0993 - val_accuracy: 0.9656\n",
            "Epoch 20/100\n",
            "2500/2500 [==============================] - 6s 2ms/step - loss: 0.0989 - accuracy: 0.9655 - val_loss: 0.0991 - val_accuracy: 0.9647\n",
            "Epoch 21/100\n",
            "2500/2500 [==============================] - 6s 2ms/step - loss: 0.0985 - accuracy: 0.9658 - val_loss: 0.0992 - val_accuracy: 0.9651\n",
            "Epoch 22/100\n",
            "2500/2500 [==============================] - 5s 2ms/step - loss: 0.0984 - accuracy: 0.9658 - val_loss: 0.0997 - val_accuracy: 0.9646\n",
            "Epoch 23/100\n",
            "2500/2500 [==============================] - 6s 2ms/step - loss: 0.0982 - accuracy: 0.9655 - val_loss: 0.0990 - val_accuracy: 0.9651\n",
            "Epoch 24/100\n",
            "2500/2500 [==============================] - 6s 2ms/step - loss: 0.0983 - accuracy: 0.9660 - val_loss: 0.0989 - val_accuracy: 0.9657\n",
            "Epoch 25/100\n",
            "2500/2500 [==============================] - 6s 2ms/step - loss: 0.0983 - accuracy: 0.9660 - val_loss: 0.0986 - val_accuracy: 0.9654\n",
            "Epoch 26/100\n",
            "2500/2500 [==============================] - 7s 3ms/step - loss: 0.0978 - accuracy: 0.9659 - val_loss: 0.0983 - val_accuracy: 0.9656\n",
            "Epoch 27/100\n",
            "2500/2500 [==============================] - 6s 2ms/step - loss: 0.0980 - accuracy: 0.9660 - val_loss: 0.0984 - val_accuracy: 0.9651\n",
            "Epoch 28/100\n",
            "2500/2500 [==============================] - 6s 2ms/step - loss: 0.0978 - accuracy: 0.9658 - val_loss: 0.0986 - val_accuracy: 0.9656\n",
            "Epoch 29/100\n",
            "2500/2500 [==============================] - 6s 2ms/step - loss: 0.0977 - accuracy: 0.9661 - val_loss: 0.0983 - val_accuracy: 0.9653\n",
            "Epoch 30/100\n",
            "2500/2500 [==============================] - 6s 2ms/step - loss: 0.0977 - accuracy: 0.9661 - val_loss: 0.0989 - val_accuracy: 0.9650\n",
            "Epoch 31/100\n",
            "2500/2500 [==============================] - 6s 3ms/step - loss: 0.0977 - accuracy: 0.9662 - val_loss: 0.0991 - val_accuracy: 0.9656\n",
            "Epoch 32/100\n",
            "2500/2500 [==============================] - 6s 2ms/step - loss: 0.0974 - accuracy: 0.9664 - val_loss: 0.0979 - val_accuracy: 0.9661\n",
            "Epoch 33/100\n",
            "2500/2500 [==============================] - 6s 2ms/step - loss: 0.0973 - accuracy: 0.9664 - val_loss: 0.0977 - val_accuracy: 0.9660\n",
            "Epoch 34/100\n",
            "2500/2500 [==============================] - 6s 2ms/step - loss: 0.0970 - accuracy: 0.9665 - val_loss: 0.0975 - val_accuracy: 0.9661\n",
            "Epoch 35/100\n",
            "2500/2500 [==============================] - 5s 2ms/step - loss: 0.0962 - accuracy: 0.9668 - val_loss: 0.0971 - val_accuracy: 0.9661\n",
            "Epoch 36/100\n",
            "2500/2500 [==============================] - 7s 3ms/step - loss: 0.0954 - accuracy: 0.9669 - val_loss: 0.0963 - val_accuracy: 0.9669\n",
            "Epoch 37/100\n",
            "2500/2500 [==============================] - 6s 2ms/step - loss: 0.0947 - accuracy: 0.9675 - val_loss: 0.0955 - val_accuracy: 0.9668\n",
            "Epoch 38/100\n",
            "2500/2500 [==============================] - 6s 2ms/step - loss: 0.0942 - accuracy: 0.9681 - val_loss: 0.0951 - val_accuracy: 0.9671\n",
            "Epoch 39/100\n",
            "2500/2500 [==============================] - 5s 2ms/step - loss: 0.0931 - accuracy: 0.9686 - val_loss: 0.0934 - val_accuracy: 0.9683\n",
            "Epoch 40/100\n",
            "2500/2500 [==============================] - 5s 2ms/step - loss: 0.0923 - accuracy: 0.9688 - val_loss: 0.0920 - val_accuracy: 0.9691\n",
            "Epoch 41/100\n",
            "2500/2500 [==============================] - 6s 3ms/step - loss: 0.0916 - accuracy: 0.9692 - val_loss: 0.0910 - val_accuracy: 0.9696\n",
            "Epoch 42/100\n",
            "2500/2500 [==============================] - 5s 2ms/step - loss: 0.0909 - accuracy: 0.9692 - val_loss: 0.0905 - val_accuracy: 0.9689\n",
            "Epoch 43/100\n",
            "2500/2500 [==============================] - 6s 2ms/step - loss: 0.0905 - accuracy: 0.9694 - val_loss: 0.0903 - val_accuracy: 0.9695\n",
            "Epoch 44/100\n",
            "2500/2500 [==============================] - 6s 2ms/step - loss: 0.0899 - accuracy: 0.9694 - val_loss: 0.0902 - val_accuracy: 0.9694\n",
            "Epoch 45/100\n",
            "2500/2500 [==============================] - 5s 2ms/step - loss: 0.0898 - accuracy: 0.9697 - val_loss: 0.0891 - val_accuracy: 0.9696\n",
            "Epoch 46/100\n",
            "2500/2500 [==============================] - 7s 3ms/step - loss: 0.0895 - accuracy: 0.9696 - val_loss: 0.0887 - val_accuracy: 0.9704\n",
            "Epoch 47/100\n",
            "2500/2500 [==============================] - 5s 2ms/step - loss: 0.0891 - accuracy: 0.9697 - val_loss: 0.0878 - val_accuracy: 0.9705\n",
            "Epoch 48/100\n",
            "2500/2500 [==============================] - 5s 2ms/step - loss: 0.0886 - accuracy: 0.9699 - val_loss: 0.0927 - val_accuracy: 0.9675\n",
            "Epoch 49/100\n",
            "2500/2500 [==============================] - 7s 3ms/step - loss: 0.0884 - accuracy: 0.9699 - val_loss: 0.0874 - val_accuracy: 0.9700\n",
            "Epoch 50/100\n",
            "2500/2500 [==============================] - 6s 2ms/step - loss: 0.0881 - accuracy: 0.9700 - val_loss: 0.0872 - val_accuracy: 0.9700\n",
            "Epoch 51/100\n",
            "2500/2500 [==============================] - 6s 3ms/step - loss: 0.0877 - accuracy: 0.9702 - val_loss: 0.0874 - val_accuracy: 0.9698\n",
            "Epoch 52/100\n",
            "2500/2500 [==============================] - 6s 2ms/step - loss: 0.0878 - accuracy: 0.9702 - val_loss: 0.0865 - val_accuracy: 0.9704\n",
            "Epoch 53/100\n",
            "2500/2500 [==============================] - 5s 2ms/step - loss: 0.0876 - accuracy: 0.9703 - val_loss: 0.0864 - val_accuracy: 0.9704\n",
            "Epoch 54/100\n",
            "2500/2500 [==============================] - 6s 3ms/step - loss: 0.0873 - accuracy: 0.9702 - val_loss: 0.0862 - val_accuracy: 0.9707\n",
            "Epoch 55/100\n",
            "2500/2500 [==============================] - 6s 2ms/step - loss: 0.0870 - accuracy: 0.9703 - val_loss: 0.0865 - val_accuracy: 0.9706\n",
            "Epoch 56/100\n",
            "2500/2500 [==============================] - 7s 3ms/step - loss: 0.0869 - accuracy: 0.9705 - val_loss: 0.0856 - val_accuracy: 0.9708\n",
            "Epoch 57/100\n",
            "2500/2500 [==============================] - 6s 2ms/step - loss: 0.0866 - accuracy: 0.9706 - val_loss: 0.0859 - val_accuracy: 0.9708\n",
            "Epoch 58/100\n",
            "2500/2500 [==============================] - 5s 2ms/step - loss: 0.0866 - accuracy: 0.9706 - val_loss: 0.0858 - val_accuracy: 0.9710\n",
            "Epoch 59/100\n",
            "2500/2500 [==============================] - 6s 2ms/step - loss: 0.0863 - accuracy: 0.9707 - val_loss: 0.0851 - val_accuracy: 0.9715\n",
            "Epoch 60/100\n",
            "2500/2500 [==============================] - 5s 2ms/step - loss: 0.0862 - accuracy: 0.9708 - val_loss: 0.0850 - val_accuracy: 0.9715\n",
            "Epoch 61/100\n",
            "2500/2500 [==============================] - 6s 2ms/step - loss: 0.0861 - accuracy: 0.9708 - val_loss: 0.0852 - val_accuracy: 0.9716\n",
            "Epoch 62/100\n",
            "2500/2500 [==============================] - 6s 2ms/step - loss: 0.0860 - accuracy: 0.9708 - val_loss: 0.0845 - val_accuracy: 0.9714\n",
            "Epoch 63/100\n",
            "2500/2500 [==============================] - 5s 2ms/step - loss: 0.0857 - accuracy: 0.9711 - val_loss: 0.0854 - val_accuracy: 0.9711\n",
            "Epoch 64/100\n",
            "2500/2500 [==============================] - 7s 3ms/step - loss: 0.0858 - accuracy: 0.9710 - val_loss: 0.0845 - val_accuracy: 0.9715\n",
            "Epoch 65/100\n",
            "2500/2500 [==============================] - 5s 2ms/step - loss: 0.0857 - accuracy: 0.9711 - val_loss: 0.0849 - val_accuracy: 0.9714\n",
            "Epoch 66/100\n",
            "2500/2500 [==============================] - 6s 2ms/step - loss: 0.0857 - accuracy: 0.9710 - val_loss: 0.0841 - val_accuracy: 0.9715\n",
            "Epoch 67/100\n",
            "2500/2500 [==============================] - 6s 2ms/step - loss: 0.0855 - accuracy: 0.9711 - val_loss: 0.0844 - val_accuracy: 0.9714\n",
            "Epoch 68/100\n",
            "2500/2500 [==============================] - 6s 2ms/step - loss: 0.0853 - accuracy: 0.9710 - val_loss: 0.0841 - val_accuracy: 0.9714\n",
            "Epoch 69/100\n",
            "2500/2500 [==============================] - 6s 3ms/step - loss: 0.0853 - accuracy: 0.9710 - val_loss: 0.0845 - val_accuracy: 0.9715\n",
            "Epoch 70/100\n",
            "2500/2500 [==============================] - 5s 2ms/step - loss: 0.0852 - accuracy: 0.9711 - val_loss: 0.0841 - val_accuracy: 0.9715\n",
            "Epoch 71/100\n",
            "2500/2500 [==============================] - 6s 2ms/step - loss: 0.0852 - accuracy: 0.9711 - val_loss: 0.0840 - val_accuracy: 0.9714\n",
            "Epoch 72/100\n",
            "2500/2500 [==============================] - 6s 2ms/step - loss: 0.0851 - accuracy: 0.9711 - val_loss: 0.0839 - val_accuracy: 0.9716\n",
            "Epoch 73/100\n",
            "2500/2500 [==============================] - 6s 2ms/step - loss: 0.0849 - accuracy: 0.9712 - val_loss: 0.0839 - val_accuracy: 0.9715\n",
            "Epoch 74/100\n",
            "2500/2500 [==============================] - 6s 2ms/step - loss: 0.0849 - accuracy: 0.9712 - val_loss: 0.0842 - val_accuracy: 0.9714\n",
            "Epoch 75/100\n",
            "2500/2500 [==============================] - 5s 2ms/step - loss: 0.0850 - accuracy: 0.9712 - val_loss: 0.0844 - val_accuracy: 0.9715\n",
            "Epoch 75: early stopping\n"
          ]
        }
      ]
    },
    {
      "cell_type": "code",
      "source": [
        "#epoch가 진행됨에따라 loss값의 변화를 볼수있는 그래프 작성\n",
        "import matplotlib.pyplot as plt\n",
        "\n",
        "# 모델 학습을 위해 저장된 loss 값 추출\n",
        "loss = deep_history.history['loss']\n",
        "val_loss = deep_history.history['val_loss']\n",
        "\n",
        "# epoch에 따른 loss 그래프 작성\n",
        "plt.plot(range(1, len(loss) + 1), loss, label='Training Loss')\n",
        "plt.plot(range(1, len(val_loss) + 1), val_loss, label='Validation Loss')\n",
        "plt.title('Training and Validation Loss')\n",
        "plt.xlabel('Epochs')\n",
        "plt.ylabel('Loss')\n",
        "plt.legend()\n",
        "plt.show()\n"
      ],
      "metadata": {
        "colab": {
          "base_uri": "https://localhost:8080/",
          "height": 472
        },
        "id": "lwTjt0A7dbjK",
        "outputId": "3d8a3776-9908-4acd-d1c6-629b6a1e4255"
      },
      "execution_count": null,
      "outputs": [
        {
          "output_type": "display_data",
          "data": {
            "text/plain": [
              "<Figure size 640x480 with 1 Axes>"
            ],
            "image/png": "[encoded data removed]"
          },
          "metadata": {}
        }
      ]
    },
    {
      "cell_type": "code",
      "source": [
        "#모델의 accuracy는 직접적으로 알수없는 클래스 분류값\n",
        "y_pred_ann = ann.predict(X_test) #테스트세트에 대한 예측결과이다.\n",
        "y_pred_ann = (y_pred_ann>0.5) #0.5를 넘으면 양성(True)이라고한다.\n",
        "print(y_pred_ann) #0.5는 가중치들이 곱해진 후 활성화 함수를 통과한 결과값을 나타낸다."
      ],
      "metadata": {
        "colab": {
          "base_uri": "https://localhost:8080/"
        },
        "id": "GAF9OvUo95-5",
        "outputId": "0ce872ea-80b6-49a6-b53e-685b8d83fd3b"
      },
      "execution_count": null,
      "outputs": [
        {
          "output_type": "stream",
          "name": "stdout",
          "text": [
            "625/625 [==============================] - 1s 2ms/step\n",
            "[[False]\n",
            " [False]\n",
            " [False]\n",
            " ...\n",
            " [False]\n",
            " [False]\n",
            " [False]]\n"
          ]
        }
      ]
    },
    {
      "cell_type": "code",
      "source": [
        "import numpy as np\n",
        "from sklearn.model_selection import KFold\n",
        "from sklearn.metrics import accuracy_score\n",
        "\n",
        "# 입력 데이터와 타겟 변수 준비\n",
        "X_a = df[['gender', 'age', 'hypertension', 'heart_disease', 'smoking_history', 'bmi', 'HbA1c_level', 'blood_glucose_level']].values  # 입력 데이터 (feature들)\n",
        "y = df['diabetes']  # 타겟 변수\n",
        "\n",
        "import pandas as pd\n",
        "\n",
        "X = pd.DataFrame(X_a, columns=['gender', 'age', 'hypertension', 'heart_disease', 'smoking_history', 'bmi', 'HbA1c_level', 'blood_glucose_level'])\n",
        "\n",
        "\n",
        "# K-fold 교차 검증을 위한 K 값 설정\n",
        "k = 5\n",
        "\n",
        "# K-fold 객체 생성\n",
        "kf = KFold(n_splits=k)\n",
        "\n",
        "# 결과 저장을 위한 리스트\n",
        "accuracy_scores = []\n",
        "\n",
        "# K-fold 교차 검증 실행\n",
        "for train_index, test_index in kf.split(X):\n",
        "    # 훈련 데이터와 검증 데이터 분할\n",
        "    X_train, X_test = X.iloc[train_index], X.iloc[test_index]\n",
        "    y_train, y_test = y.iloc[train_index], y.iloc[test_index]\n",
        "\n",
        "    # ANN 모델 학습 및 예측\n",
        "    ann.fit(X_train, y_train)\n",
        "    y_pred = ann.predict(X_test)\n",
        "    y_pred = (y_pred > 0.5)\n",
        "\n",
        "    # 정확도 평가 및 결과 저장\n",
        "    accuracy = accuracy_score(y_test, y_pred)\n",
        "    accuracy_scores.append(accuracy)\n",
        "\n",
        "# K-fold 교차 검증 결과 출력\n",
        "print(\"Accuracy scores:\", accuracy_scores)\n",
        "print(\"Mean accuracy:\", np.mean(accuracy_scores))\n",
        "print(\"Standard deviation:\", np.std(accuracy_scores))\n"
      ],
      "metadata": {
        "colab": {
          "base_uri": "https://localhost:8080/",
          "height": 241
        },
        "id": "7NDEHOZMkgNZ",
        "outputId": "ce6b9d5f-4784-4c3d-967e-9f5e6f55f5d8"
      },
      "execution_count": null,
      "outputs": [
        {
          "output_type": "error",
          "ename": "NameError",
          "evalue": "ignored",
          "traceback": [
            "\u001b[0;31m---------------------------------------------------------------------------\u001b[0m",
            "\u001b[0;31mNameError\u001b[0m                                 Traceback (most recent call last)",
            "\u001b[0;32m<ipython-input-8-5fc9bb40d5fa>\u001b[0m in \u001b[0;36m<cell line: 24>\u001b[0;34m()\u001b[0m\n\u001b[1;32m     28\u001b[0m \u001b[0;34m\u001b[0m\u001b[0m\n\u001b[1;32m     29\u001b[0m     \u001b[0;31m# ANN 모델 학습 및 예측\u001b[0m\u001b[0;34m\u001b[0m\u001b[0;34m\u001b[0m\u001b[0m\n\u001b[0;32m---> 30\u001b[0;31m     \u001b[0mann\u001b[0m\u001b[0;34m.\u001b[0m\u001b[0mfit\u001b[0m\u001b[0;34m(\u001b[0m\u001b[0mX_train\u001b[0m\u001b[0;34m,\u001b[0m \u001b[0my_train\u001b[0m\u001b[0;34m)\u001b[0m\u001b[0;34m\u001b[0m\u001b[0;34m\u001b[0m\u001b[0m\n\u001b[0m\u001b[1;32m     31\u001b[0m     \u001b[0my_pred\u001b[0m \u001b[0;34m=\u001b[0m \u001b[0mann\u001b[0m\u001b[0;34m.\u001b[0m\u001b[0mpredict\u001b[0m\u001b[0;34m(\u001b[0m\u001b[0mX_test\u001b[0m\u001b[0;34m)\u001b[0m\u001b[0;34m\u001b[0m\u001b[0;34m\u001b[0m\u001b[0m\n\u001b[1;32m     32\u001b[0m     \u001b[0my_pred\u001b[0m \u001b[0;34m=\u001b[0m \u001b[0;34m(\u001b[0m\u001b[0my_pred\u001b[0m \u001b[0;34m>\u001b[0m \u001b[0;36m0.5\u001b[0m\u001b[0;34m)\u001b[0m\u001b[0;34m\u001b[0m\u001b[0;34m\u001b[0m\u001b[0m\n",
            "\u001b[0;31mNameError\u001b[0m: name 'ann' is not defined"
          ]
        }
      ]
    },
    {
      "cell_type": "code",
      "source": [
        "#Apply SMOTE Technique to balance the data"
      ],
      "metadata": {
        "id": "8KBSBKleDfZN"
      },
      "execution_count": null,
      "outputs": []
    },
    {
      "cell_type": "code",
      "source": [
        "from sklearn.model_selection import train_test_split\n",
        "(X_sample, y_sample) = train_test_split(df, train_size=0.8, stratify = y)"
      ],
      "metadata": {
        "id": "bo1iKDu096Aj"
      },
      "execution_count": null,
      "outputs": []
    },
    {
      "cell_type": "code",
      "source": [
        "X_train = X_sample.iloc[:,:-1].values\n",
        "y_train = X_sample.iloc[:,-1].values\n",
        "X_test_smote = y_sample.iloc[:,:-1].values\n",
        "y_test_smote = y_sample.iloc[:,-1].values"
      ],
      "metadata": {
        "id": "Bmmaw5wEDjip"
      },
      "execution_count": null,
      "outputs": []
    },
    {
      "cell_type": "code",
      "source": [
        "from imblearn.over_sampling import SMOTE\n",
        "smote = SMOTE()\n",
        "X_train_smote, y_train_smote = smote.fit_resample(X_train, y_train)"
      ],
      "metadata": {
        "id": "VAKFtxYQDlyq"
      },
      "execution_count": null,
      "outputs": []
    },
    {
      "cell_type": "code",
      "source": [
        "#활성함수 세개 중 하나만 사용하면된다.\n",
        "ann = tf.keras.models.Sequential()\n",
        "ann.add(tf.keras.layers.Dense(units = 6, activation = 'relu'))\n",
        "ann.add(tf.keras.layers.Dense(units = 6, activation = 'relu'))\n",
        "ann.add(tf.keras.layers.Dense(units = 1, activation = 'sigmoid'))"
      ],
      "metadata": {
        "id": "n7TXw37tDl0w"
      },
      "execution_count": null,
      "outputs": []
    },
    {
      "cell_type": "code",
      "source": [
        "ann.compile(optimizer = 'adam', loss='binary_crossentropy', metrics = ['accuracy'])\n"
      ],
      "metadata": {
        "id": "-LFiChmhDl3F"
      },
      "execution_count": null,
      "outputs": []
    },
    {
      "cell_type": "code",
      "source": [
        "early_stop = EarlyStopping(monitor='val_loss', patience=3, verbose=1)\n",
        "deep_history = ann.fit(X_train_smote, y_train_smote, epochs=100,\n",
        "                              validation_data = (X_test_smote, y_test_smote),\n",
        "                              callbacks=[early_stop])"
      ],
      "metadata": {
        "colab": {
          "base_uri": "https://localhost:8080/"
        },
        "id": "ohlLxzI6Dl4q",
        "outputId": "d30ce850-bbb8-4122-83b8-eed3683fb786"
      },
      "execution_count": null,
      "outputs": [
        {
          "output_type": "stream",
          "name": "stdout",
          "text": [
            "Epoch 1/100\n",
            "4575/4575 [==============================] - 11s 2ms/step - loss: 0.6105 - accuracy: 0.7197 - val_loss: 0.4062 - val_accuracy: 0.8190\n",
            "Epoch 2/100\n",
            "4575/4575 [==============================] - 10s 2ms/step - loss: 0.3651 - accuracy: 0.8504 - val_loss: 0.3591 - val_accuracy: 0.8350\n",
            "Epoch 3/100\n",
            "4575/4575 [==============================] - 9s 2ms/step - loss: 0.2779 - accuracy: 0.8897 - val_loss: 0.3661 - val_accuracy: 0.8213\n",
            "Epoch 4/100\n",
            "4575/4575 [==============================] - 9s 2ms/step - loss: 0.2476 - accuracy: 0.8955 - val_loss: 0.2275 - val_accuracy: 0.8997\n",
            "Epoch 5/100\n",
            "4575/4575 [==============================] - 10s 2ms/step - loss: 0.2365 - accuracy: 0.8964 - val_loss: 0.2999 - val_accuracy: 0.8558\n",
            "Epoch 6/100\n",
            "4575/4575 [==============================] - 10s 2ms/step - loss: 0.2308 - accuracy: 0.8980 - val_loss: 0.2495 - val_accuracy: 0.8821\n",
            "Epoch 7/100\n",
            "4575/4575 [==============================] - 9s 2ms/step - loss: 0.2277 - accuracy: 0.8987 - val_loss: 0.2061 - val_accuracy: 0.9075\n",
            "Epoch 8/100\n",
            "4575/4575 [==============================] - 10s 2ms/step - loss: 0.2244 - accuracy: 0.9000 - val_loss: 0.2671 - val_accuracy: 0.8734\n",
            "Epoch 9/100\n",
            "4575/4575 [==============================] - 11s 2ms/step - loss: 0.2233 - accuracy: 0.8997 - val_loss: 0.2895 - val_accuracy: 0.8626\n",
            "Epoch 10/100\n",
            "4575/4575 [==============================] - 9s 2ms/step - loss: 0.2223 - accuracy: 0.9000 - val_loss: 0.2413 - val_accuracy: 0.8863\n",
            "Epoch 10: early stopping\n"
          ]
        }
      ]
    },
    {
      "cell_type": "code",
      "source": [
        "y_pred_ann_smote = ann.predict(X_test_smote)\n",
        "y_pred_ann_smote = (y_pred_ann_smote>0.5)"
      ],
      "metadata": {
        "colab": {
          "base_uri": "https://localhost:8080/"
        },
        "id": "mfzNqqKbEKAB",
        "outputId": "b1949d10-2fec-4531-ac54-58d8e6d079f1"
      },
      "execution_count": null,
      "outputs": [
        {
          "output_type": "stream",
          "name": "stdout",
          "text": [
            "625/625 [==============================] - 1s 1ms/step\n"
          ]
        }
      ]
    },
    {
      "cell_type": "code",
      "source": [
        "print(confusion_matrix(y_test, y_pred_ann).ravel()[3])\n",
        "\n",
        "#이와같은 혼동행렬 생성\n",
        "'''\n",
        "[[True Negative (TN), False Positive (FP)]\n",
        " [False Negative (FN), True Positive (TP)]]\n",
        " '''"
      ],
      "metadata": {
        "colab": {
          "base_uri": "https://localhost:8080/",
          "height": 72
        },
        "id": "OVDVH4MoEKCc",
        "outputId": "f0824bbe-87ec-41d9-b169-60009ed62e45"
      },
      "execution_count": null,
      "outputs": [
        {
          "output_type": "stream",
          "name": "stdout",
          "text": [
            "968\n"
          ]
        },
        {
          "output_type": "execute_result",
          "data": {
            "text/plain": [
              "'\\n[[True Negative (TN), False Positive (FP)]\\n [False Negative (FN), True Positive (TP)]]\\n '"
            ],
            "application/vnd.google.colaboratory.intrinsic+json": {
              "type": "string"
            }
          },
          "metadata": {},
          "execution_count": 139
        }
      ]
    },
    {
      "cell_type": "code",
      "source": [
        "df_2 = pd.DataFrame({\n",
        "    'Before/After SMOTE': ['Before','After'],\n",
        "    'Model Name': ['ANN', 'ANN'],\n",
        "    'True Negative': [confusion_matrix(y_test, y_pred_ann).ravel()[0], confusion_matrix(y_test_smote, y_pred_ann_smote).ravel()[0]],\n",
        "    'False Positive': [confusion_matrix(y_test, y_pred_ann).ravel()[1], confusion_matrix(y_test_smote, y_pred_ann_smote).ravel()[1]],\n",
        "    'False Negative': [confusion_matrix(y_test, y_pred_ann).ravel()[2], confusion_matrix(y_test_smote, y_pred_ann_smote).ravel()[2]],\n",
        "    'True Positive': [confusion_matrix(y_test, y_pred_ann).ravel()[3], confusion_matrix(y_test_smote, y_pred_ann_smote).ravel()[3]],\n",
        "    'Accuracy Score': [accuracy_score(y_test, y_pred_ann), accuracy_score(y_test_smote, y_pred_ann_smote)],\n",
        "    'F1 Score': [f1_score(y_test, y_pred_ann), f1_score(y_test_smote, y_pred_ann_smote)],\n",
        "})\n",
        "\n",
        "print(df_2)"
      ],
      "metadata": {
        "colab": {
          "base_uri": "https://localhost:8080/"
        },
        "id": "vTxIeifeEKJv",
        "outputId": "7051c91e-0b66-4d0b-e4bd-6b3b8d99ba8f"
      },
      "execution_count": null,
      "outputs": [
        {
          "output_type": "stream",
          "name": "stdout",
          "text": [
            "  Before/After SMOTE Model Name  True Negative  False Positive  \\\n",
            "0             Before        ANN          18232              60   \n",
            "1              After        ANN          16202            2098   \n",
            "\n",
            "   False Negative  True Positive  Accuracy Score  F1 Score  \n",
            "0             740            968          0.9600  0.707602  \n",
            "1             176           1524          0.8863  0.572717  \n"
          ]
        }
      ]
    },
    {
      "cell_type": "code",
      "source": [
        "from tensorflow.keras.models import Sequential\n",
        "from tensorflow.keras.layers import Dense\n",
        "from tensorflow.keras import regularizers\n",
        "\n",
        "# 신경망 모델 생성\n",
        "ann = Sequential()\n",
        "ann.add(Dense(64, activation='relu', input_dim=7, kernel_regularizer=regularizers.l1(0.01)))\n",
        "ann.add(Dense(1, activation='sigmoid'))\n",
        "\n",
        "# 모델 컴파일 및 학습\n",
        "ann.compile(optimizer='adam', loss='binary_crossentropy', metrics=['accuracy'])\n",
        "ann.fit(X_train, y_train, epochs=10, batch_size=32)\n"
      ],
      "metadata": {
        "colab": {
          "base_uri": "https://localhost:8080/",
          "height": 390
        },
        "id": "Y6ILyZQMvxgU",
        "outputId": "4268e324-d11a-4e2f-ead6-7309f41e7f1c"
      },
      "execution_count": null,
      "outputs": [
        {
          "output_type": "error",
          "ename": "ValueError",
          "evalue": "ignored",
          "traceback": [
            "\u001b[0;31m---------------------------------------------------------------------------\u001b[0m",
            "\u001b[0;31mValueError\u001b[0m                                Traceback (most recent call last)",
            "\u001b[0;32m<ipython-input-9-f0f7372323c8>\u001b[0m in \u001b[0;36m<cell line: 12>\u001b[0;34m()\u001b[0m\n\u001b[1;32m     10\u001b[0m \u001b[0;31m# 모델 컴파일 및 학습\u001b[0m\u001b[0;34m\u001b[0m\u001b[0;34m\u001b[0m\u001b[0m\n\u001b[1;32m     11\u001b[0m \u001b[0mann\u001b[0m\u001b[0;34m.\u001b[0m\u001b[0mcompile\u001b[0m\u001b[0;34m(\u001b[0m\u001b[0moptimizer\u001b[0m\u001b[0;34m=\u001b[0m\u001b[0;34m'adam'\u001b[0m\u001b[0;34m,\u001b[0m \u001b[0mloss\u001b[0m\u001b[0;34m=\u001b[0m\u001b[0;34m'binary_crossentropy'\u001b[0m\u001b[0;34m,\u001b[0m \u001b[0mmetrics\u001b[0m\u001b[0;34m=\u001b[0m\u001b[0;34m[\u001b[0m\u001b[0;34m'accuracy'\u001b[0m\u001b[0;34m]\u001b[0m\u001b[0;34m)\u001b[0m\u001b[0;34m\u001b[0m\u001b[0;34m\u001b[0m\u001b[0m\n\u001b[0;32m---> 12\u001b[0;31m \u001b[0mann\u001b[0m\u001b[0;34m.\u001b[0m\u001b[0mfit\u001b[0m\u001b[0;34m(\u001b[0m\u001b[0mX_train\u001b[0m\u001b[0;34m,\u001b[0m \u001b[0my_train\u001b[0m\u001b[0;34m,\u001b[0m \u001b[0mepochs\u001b[0m\u001b[0;34m=\u001b[0m\u001b[0;36m10\u001b[0m\u001b[0;34m,\u001b[0m \u001b[0mbatch_size\u001b[0m\u001b[0;34m=\u001b[0m\u001b[0;36m32\u001b[0m\u001b[0;34m)\u001b[0m\u001b[0;34m\u001b[0m\u001b[0;34m\u001b[0m\u001b[0m\n\u001b[0m",
            "\u001b[0;32m/usr/local/lib/python3.10/dist-packages/keras/utils/traceback_utils.py\u001b[0m in \u001b[0;36merror_handler\u001b[0;34m(*args, **kwargs)\u001b[0m\n\u001b[1;32m     68\u001b[0m             \u001b[0;31m# To get the full stack trace, call:\u001b[0m\u001b[0;34m\u001b[0m\u001b[0;34m\u001b[0m\u001b[0m\n\u001b[1;32m     69\u001b[0m             \u001b[0;31m# `tf.debugging.disable_traceback_filtering()`\u001b[0m\u001b[0;34m\u001b[0m\u001b[0;34m\u001b[0m\u001b[0m\n\u001b[0;32m---> 70\u001b[0;31m             \u001b[0;32mraise\u001b[0m \u001b[0me\u001b[0m\u001b[0;34m.\u001b[0m\u001b[0mwith_traceback\u001b[0m\u001b[0;34m(\u001b[0m\u001b[0mfiltered_tb\u001b[0m\u001b[0;34m)\u001b[0m \u001b[0;32mfrom\u001b[0m \u001b[0;32mNone\u001b[0m\u001b[0;34m\u001b[0m\u001b[0;34m\u001b[0m\u001b[0m\n\u001b[0m\u001b[1;32m     71\u001b[0m         \u001b[0;32mfinally\u001b[0m\u001b[0;34m:\u001b[0m\u001b[0;34m\u001b[0m\u001b[0;34m\u001b[0m\u001b[0m\n\u001b[1;32m     72\u001b[0m             \u001b[0;32mdel\u001b[0m \u001b[0mfiltered_tb\u001b[0m\u001b[0;34m\u001b[0m\u001b[0;34m\u001b[0m\u001b[0m\n",
            "\u001b[0;32m/usr/local/lib/python3.10/dist-packages/tensorflow/python/framework/constant_op.py\u001b[0m in \u001b[0;36mconvert_to_eager_tensor\u001b[0;34m(value, ctx, dtype)\u001b[0m\n\u001b[1;32m    101\u001b[0m       \u001b[0mdtype\u001b[0m \u001b[0;34m=\u001b[0m \u001b[0mdtypes\u001b[0m\u001b[0;34m.\u001b[0m\u001b[0mas_dtype\u001b[0m\u001b[0;34m(\u001b[0m\u001b[0mdtype\u001b[0m\u001b[0;34m)\u001b[0m\u001b[0;34m.\u001b[0m\u001b[0mas_datatype_enum\u001b[0m\u001b[0;34m\u001b[0m\u001b[0;34m\u001b[0m\u001b[0m\n\u001b[1;32m    102\u001b[0m   \u001b[0mctx\u001b[0m\u001b[0;34m.\u001b[0m\u001b[0mensure_initialized\u001b[0m\u001b[0;34m(\u001b[0m\u001b[0;34m)\u001b[0m\u001b[0;34m\u001b[0m\u001b[0;34m\u001b[0m\u001b[0m\n\u001b[0;32m--> 103\u001b[0;31m   \u001b[0;32mreturn\u001b[0m \u001b[0mops\u001b[0m\u001b[0;34m.\u001b[0m\u001b[0mEagerTensor\u001b[0m\u001b[0;34m(\u001b[0m\u001b[0mvalue\u001b[0m\u001b[0;34m,\u001b[0m \u001b[0mctx\u001b[0m\u001b[0;34m.\u001b[0m\u001b[0mdevice_name\u001b[0m\u001b[0;34m,\u001b[0m \u001b[0mdtype\u001b[0m\u001b[0;34m)\u001b[0m\u001b[0;34m\u001b[0m\u001b[0;34m\u001b[0m\u001b[0m\n\u001b[0m\u001b[1;32m    104\u001b[0m \u001b[0;34m\u001b[0m\u001b[0m\n\u001b[1;32m    105\u001b[0m \u001b[0;34m\u001b[0m\u001b[0m\n",
            "\u001b[0;31mValueError\u001b[0m: Failed to convert a NumPy array to a Tensor (Unsupported object type float)."
          ]
        }
      ]
    }
  ]
}
