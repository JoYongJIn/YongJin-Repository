{
  "nbformat": 4,
  "nbformat_minor": 0,
  "metadata": {
    "colab": {
      "provenance": [],
      "authorship_tag": "ABX9TyOZtWhtE1O0W+KkLi+wnV8B",
      "include_colab_link": true
    },
    "kernelspec": {
      "name": "python3",
      "display_name": "Python 3"
    },
    "language_info": {
      "name": "python"
    }
  },
  "cells": [
    {
      "cell_type": "markdown",
      "metadata": {
        "id": "view-in-github",
        "colab_type": "text"
      },
      "source": [
        "<a href=\"https://colab.research.google.com/github/JoYongJIn/YongJin-Repository/blob/main/%EC%A0%84%EC%82%B0%EC%88%98%ED%95%99_class4.ipynb\" target=\"_parent\"><img src=\"https://colab.research.google.com/assets/colab-badge.svg\" alt=\"Open In Colab\"/></a>"
      ]
    },
    {
      "cell_type": "code",
      "execution_count": null,
      "metadata": {
        "id": "HI-Wjxxr4J_H"
      },
      "outputs": [],
      "source": [
        "'''\n",
        "================================\n",
        "집합  자료형: 중복 불허용, 순서가 없음\n",
        "================================\n",
        "'''\n",
        "# 리스트, 튜플, 문자열 => 집합\n",
        "s1 = set([1,2,3]) #set 하면 집합된다.\n",
        "print(s1)\n",
        "s2 = set('hello') #{'e', 'l', 'h', 'o'}\n",
        "print(s2)\n",
        "\n",
        "# set => 리스트/튜플 (집합을 리스트나 튜플로 바꾸기)\n",
        "l1= list(s1)\n",
        "print(l1)\n",
        "t1 = tuple(s1)\n",
        "print(t1)\n",
        "\n",
        "# 교집합, 합집합, 차집합\n",
        "s1 = set([1,2,3,4,5,6,7])\n",
        "s2 = set([4,5,6,7,8,9])\n",
        "print(s1&s2) # 교집합 기호 (&)\n",
        "print(s1.intersection(s2)) #{4, 5, 6, 7}\n",
        "\n",
        "print(s1| s2) #합집합 shift+역슬레쉬 or에 해당함\n",
        "print(s1.union(s2)) #{1, 2, 3, 4, 5, 6, 7, 8, 9}\n",
        "\n",
        "print(s1-s2) #차집합 {1, 2, 3}\n",
        "print(s2-s1) #{8, 9}\n",
        "print(s1.difference(s2))\n",
        "print(s2.difference(s1))\n",
        "\n",
        "# 추가/제거\n",
        "s1 = set([1,2,3])\n",
        "s1.add(4) #요소 하나만 추가할때는 add vs 여러개를 추가하고시플때 update\n",
        "print(s1)\n",
        "\n",
        "s1.update([4,5]) #(),{},[]모든기호로 가능 기호상관없다.\n",
        "print(s1)\n",
        "s1.remove(2)\n",
        "print(s1)\n",
        "## Exercise===================\n",
        "# 1. a={'A':90, 'B':80, 'C':70}에서 'B'에 해당하는 값 추출하기 ->딕셔너리문제\n",
        "a={'A':90, 'B':80, 'C':70}\n",
        "b=a['B']\n",
        "# 2. a=[1, 1, 1, 2, 2, 3, 3, 3, 4, 4, 5]에서 중복 숫자 제거하고 출력하기\n",
        "a=[1, 1, 1, 2, 2, 3, 3, 3, 4, 4, 5]\n",
        "s1=set([1, 1, 1, 2, 2, 3, 3, 3, 4, 4, 5])\n",
        "print(s1)\n",
        "l1=list(s1)\n",
        "print(l1)\n",
        "l1.reverse()\n",
        "print(l1)\n",
        "\n",
        "\n",
        "'''\n",
        "================================\n",
        "변수를 만드는 여러가지 방법\n",
        "================================\n",
        "'''\n",
        "a, b =('python', 'life')\n"
      ]
    },
    {
      "cell_type": "code",
      "source": [
        "'''\n",
        "================================\n",
        "불  자료형: 참(true), 거짓(false)\n",
        "================================\n",
        "'''\n",
        "print(1==1) #1과1이 같은가\n",
        "print(2>1)\n",
        "print(2<1)\n",
        "\n",
        "a=[1,2,3,4] #트루인 동안에만 실행된다.\n",
        "while a:\n",
        "  a.pop()\n",
        "  print(a)\n",
        "\n",
        "if [1,2,3]: #공집합이아니므로 true\n",
        "  print('true')\n",
        "else:\n",
        "  print('false')\n",
        "\n",
        "if []: #공집합이아니므로 true 이것은은false이므로 else를 실행한다.\n",
        "  print('true')\n",
        "else:\n",
        "  print('false')"
      ],
      "metadata": {
        "id": "psD_i84s9sMe"
      },
      "execution_count": null,
      "outputs": []
    },
    {
      "cell_type": "code",
      "source": [
        "'''\n",
        "================================\n",
        "변수를 만드는 여러가지 방법\n",
        "================================\n",
        "'''\n",
        "a, b =('python', 'life')\n",
        "a, b ='python', 'life'\n",
        "(a,b) ='python', 'life'\n",
        "[a,b] = ['python', 'life']\n",
        "\n",
        "a=b='python'\n",
        "print(a)\n",
        "\n",
        "a,b,c,d,e=2,4,'hi','a',5 #하나하나대응된다\n",
        "\n",
        "a=3;b=5\n",
        "a,b=b,a\n",
        "print(a)"
      ],
      "metadata": {
        "id": "nTGIs6z1--KK",
        "colab": {
          "base_uri": "https://localhost:8080/"
        },
        "outputId": "514cfb5e-af25-4ddf-e749-b2ba1f94118b"
      },
      "execution_count": null,
      "outputs": [
        {
          "output_type": "stream",
          "name": "stdout",
          "text": [
            "python\n",
            "5\n"
          ]
        }
      ]
    }
  ]
}